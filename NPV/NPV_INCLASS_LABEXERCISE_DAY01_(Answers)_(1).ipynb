{
  "nbformat": 4,
  "nbformat_minor": 0,
  "metadata": {
    "kernelspec": {
      "display_name": "Python 3",
      "language": "python",
      "name": "python3"
    },
    "language_info": {
      "codemirror_mode": {
        "name": "ipython",
        "version": 3
      },
      "file_extension": ".py",
      "mimetype": "text/x-python",
      "name": "python",
      "nbconvert_exporter": "python",
      "pygments_lexer": "ipython3",
      "version": "3.7.3"
    },
    "colab": {
      "name": "NPV_INCLASS_LABEXERCISE_DAY01-(Answers) (1).ipynb",
      "provenance": [],
      "collapsed_sections": [
        "LSgebFH8doQF",
        "sKffqqLgdoQY",
        "foqHNHNhdoQj",
        "GKRrSgZIdoQy",
        "ovhbwIBpdoQ9",
        "_PHFg6bJdoRL",
        "GnoU_QsOdoRW",
        "_puZu84odoRk",
        "KFMd_zN1doRz",
        "CcDqCvjqdoSB",
        "LXtu8i9UdoST"
      ]
    }
  },
  "cells": [
    {
      "cell_type": "markdown",
      "metadata": {
        "id": "kkoJ8te7doMO",
        "colab_type": "text"
      },
      "source": [
        "# IN CLASS LAB EXERCISES - 01"
      ]
    },
    {
      "cell_type": "markdown",
      "metadata": {
        "id": "2a6GmEkFdoMc",
        "colab_type": "text"
      },
      "source": [
        "#### Import NumPy package as np"
      ]
    },
    {
      "cell_type": "code",
      "metadata": {
        "id": "Ni_9LLCHdoMl",
        "colab_type": "code",
        "colab": {}
      },
      "source": [
        "import numpy as np"
      ],
      "execution_count": 0,
      "outputs": []
    },
    {
      "cell_type": "markdown",
      "metadata": {
        "id": "q65GtqGKdoM_",
        "colab_type": "text"
      },
      "source": [
        "####  01.  Create an empty array of 20 0's and replace the 4th object with the number 5"
      ]
    },
    {
      "cell_type": "code",
      "metadata": {
        "id": "iXmgtzTmdoND",
        "colab_type": "code",
        "colab": {
          "base_uri": "https://localhost:8080/",
          "height": 51
        },
        "outputId": "9068e8a3-cb31-45c9-de16-11ec45164560"
      },
      "source": [
        "emp_array = np.zeros(20)\n",
        "emp_array[4]=5\n",
        "emp_array"
      ],
      "execution_count": 5,
      "outputs": [
        {
          "output_type": "execute_result",
          "data": {
            "text/plain": [
              "array([0., 0., 0., 0., 5., 0., 0., 0., 0., 0., 0., 0., 0., 0., 0., 0., 0.,\n",
              "       0., 0., 0.])"
            ]
          },
          "metadata": {
            "tags": []
          },
          "execution_count": 5
        }
      ]
    },
    {
      "cell_type": "markdown",
      "metadata": {
        "id": "F2dj5n5kdoNR",
        "colab_type": "text"
      },
      "source": [
        "--------"
      ]
    },
    {
      "cell_type": "markdown",
      "metadata": {
        "id": "NLqTgzjkdoNV",
        "colab_type": "text"
      },
      "source": [
        "#### 02. Create an array of 20 1's and store it as a variable named array_master. Copy the same array into another variable named array_copy"
      ]
    },
    {
      "cell_type": "code",
      "metadata": {
        "id": "buV2xd2RdoNa",
        "colab_type": "code",
        "colab": {
          "base_uri": "https://localhost:8080/",
          "height": 51
        },
        "outputId": "20bef2bf-a6d6-4e39-a9b2-351f21da3361"
      },
      "source": [
        "array_master = np.ones(20)\n",
        "array_copy = array_master\n",
        "array_copy"
      ],
      "execution_count": 7,
      "outputs": [
        {
          "output_type": "execute_result",
          "data": {
            "text/plain": [
              "array([1., 1., 1., 1., 1., 1., 1., 1., 1., 1., 1., 1., 1., 1., 1., 1., 1.,\n",
              "       1., 1., 1.])"
            ]
          },
          "metadata": {
            "tags": []
          },
          "execution_count": 7
        }
      ]
    },
    {
      "cell_type": "markdown",
      "metadata": {
        "id": "RGYP5JMYdoNm",
        "colab_type": "text"
      },
      "source": [
        "--------"
      ]
    },
    {
      "cell_type": "markdown",
      "metadata": {
        "id": "jmSAjGmUdoNq",
        "colab_type": "text"
      },
      "source": [
        "#### 03.Create an array containing 30 1's and broadcast all the one's to the value 100"
      ]
    },
    {
      "cell_type": "code",
      "metadata": {
        "id": "VyOIyDjcdoNu",
        "colab_type": "code",
        "colab": {
          "base_uri": "https://localhost:8080/",
          "height": 68
        },
        "outputId": "e867a47d-22ff-4689-9980-2825e3404712"
      },
      "source": [
        "arr = np.ones(30)\n",
        "arr[:]=100\n",
        "arr"
      ],
      "execution_count": 11,
      "outputs": [
        {
          "output_type": "execute_result",
          "data": {
            "text/plain": [
              "array([100., 100., 100., 100., 100., 100., 100., 100., 100., 100., 100.,\n",
              "       100., 100., 100., 100., 100., 100., 100., 100., 100., 100., 100.,\n",
              "       100., 100., 100., 100., 100., 100., 100., 100.])"
            ]
          },
          "metadata": {
            "tags": []
          },
          "execution_count": 11
        }
      ]
    },
    {
      "cell_type": "markdown",
      "metadata": {
        "id": "4Tia108rdoN8",
        "colab_type": "text"
      },
      "source": [
        "----------------------------------------------------"
      ]
    },
    {
      "cell_type": "markdown",
      "metadata": {
        "id": "3oyCroZGdoN_",
        "colab_type": "text"
      },
      "source": [
        "#### 04. Create an array of integers starting from 21 until 31 and name it as array1\n",
        "\n",
        "####  ---     Create an array of integers starting from 11 until 21 and name it array2\n",
        "\n",
        "####  ---    Calculate the difference between array1 and array2"
      ]
    },
    {
      "cell_type": "code",
      "metadata": {
        "id": "JgAN8CdndoOD",
        "colab_type": "code",
        "colab": {}
      },
      "source": [
        "array1= np.arange(21,31)\n",
        "array2"
      ],
      "execution_count": 0,
      "outputs": []
    },
    {
      "cell_type": "markdown",
      "metadata": {
        "id": "-qBM9sHddoOO",
        "colab_type": "text"
      },
      "source": [
        "---------------------------------------------"
      ]
    },
    {
      "cell_type": "markdown",
      "metadata": {
        "id": "moMNMiNxdoOT",
        "colab_type": "text"
      },
      "source": [
        "#### 05. Create an array of all even integers from 2 to 10 and name it a1\n",
        "\n",
        "#### --   Create an array of all even integers from 22 to 30 and name it a2\n",
        "\n",
        "####    a) Use the 2 arrays as rows and create a matrix [ Hint - Use stack function from numpy ]"
      ]
    },
    {
      "cell_type": "code",
      "metadata": {
        "id": "5Utq6z2EdoOZ",
        "colab_type": "code",
        "colab": {
          "base_uri": "https://localhost:8080/",
          "height": 34
        },
        "outputId": "d642fe40-8e52-4276-8937-4bd61469c7c0"
      },
      "source": [
        "import numpy as np\n",
        "a1 = np.arange(2,10,2)\n",
        "a2 = np.arange(22,30,2)\n",
        "\n",
        "a = np.hstack([a1,a2])\n",
        "a"
      ],
      "execution_count": 33,
      "outputs": [
        {
          "output_type": "execute_result",
          "data": {
            "text/plain": [
              "array([ 2,  4,  6,  8, 22, 24, 26, 28])"
            ]
          },
          "metadata": {
            "tags": []
          },
          "execution_count": 33
        }
      ]
    },
    {
      "cell_type": "markdown",
      "metadata": {
        "id": "yw8_PBUBdoOi",
        "colab_type": "text"
      },
      "source": [
        "-----------------------"
      ]
    },
    {
      "cell_type": "markdown",
      "metadata": {
        "id": "SYmgsoRbdoOm",
        "colab_type": "text"
      },
      "source": [
        "####  b) Use the 2 arrays as columns and create a matrix [ Hint - Use column_stack function from numpy ]"
      ]
    },
    {
      "cell_type": "code",
      "metadata": {
        "id": "COnGFv4ZdoOp",
        "colab_type": "code",
        "colab": {}
      },
      "source": [
        "a = np.vstack([a1,a2])"
      ],
      "execution_count": 0,
      "outputs": []
    },
    {
      "cell_type": "markdown",
      "metadata": {
        "id": "ln-SmpwOdoOz",
        "colab_type": "text"
      },
      "source": [
        "--------------"
      ]
    },
    {
      "cell_type": "markdown",
      "metadata": {
        "id": "W1JDh8S1doO2",
        "colab_type": "text"
      },
      "source": [
        "#### 06. Create a 5x6 matrix with values ranging from 0 to 29 and retrieve the value intersecting at 2nd row and 3rd column"
      ]
    },
    {
      "cell_type": "code",
      "metadata": {
        "id": "uE-8UYPvdoO5",
        "colab_type": "code",
        "colab": {
          "base_uri": "https://localhost:8080/",
          "height": 34
        },
        "outputId": "90d05a12-0f3d-44f8-bfff-0e62420d0b1c"
      },
      "source": [
        "a = np.arange(30).reshape(5,6)\n",
        "a[2][3]"
      ],
      "execution_count": 45,
      "outputs": [
        {
          "output_type": "execute_result",
          "data": {
            "text/plain": [
              "15"
            ]
          },
          "metadata": {
            "tags": []
          },
          "execution_count": 45
        }
      ]
    },
    {
      "cell_type": "markdown",
      "metadata": {
        "id": "5umyOthkdoPA",
        "colab_type": "text"
      },
      "source": [
        "--------------------"
      ]
    },
    {
      "cell_type": "markdown",
      "metadata": {
        "id": "Ba_rcdV3doPD",
        "colab_type": "text"
      },
      "source": [
        "#### 07. Create an identity matrix of shape 10x10 and replace the 0's with the value 21"
      ]
    },
    {
      "cell_type": "code",
      "metadata": {
        "id": "sc-MYbGYdoPG",
        "colab_type": "code",
        "colab": {
          "base_uri": "https://localhost:8080/",
          "height": 187
        },
        "outputId": "16604405-0995-44e3-b48c-7083c82ec82d"
      },
      "source": [
        "a = np.ones([10,10])*21\n",
        "for i in range(len(a)):\n",
        "  for j in range(len(a)):\n",
        "    if (i==j):\n",
        "      a[i][j]=1\n",
        "a"
      ],
      "execution_count": 23,
      "outputs": [
        {
          "output_type": "execute_result",
          "data": {
            "text/plain": [
              "array([[ 1., 21., 21., 21., 21., 21., 21., 21., 21., 21.],\n",
              "       [21.,  1., 21., 21., 21., 21., 21., 21., 21., 21.],\n",
              "       [21., 21.,  1., 21., 21., 21., 21., 21., 21., 21.],\n",
              "       [21., 21., 21.,  1., 21., 21., 21., 21., 21., 21.],\n",
              "       [21., 21., 21., 21.,  1., 21., 21., 21., 21., 21.],\n",
              "       [21., 21., 21., 21., 21.,  1., 21., 21., 21., 21.],\n",
              "       [21., 21., 21., 21., 21., 21.,  1., 21., 21., 21.],\n",
              "       [21., 21., 21., 21., 21., 21., 21.,  1., 21., 21.],\n",
              "       [21., 21., 21., 21., 21., 21., 21., 21.,  1., 21.],\n",
              "       [21., 21., 21., 21., 21., 21., 21., 21., 21.,  1.]])"
            ]
          },
          "metadata": {
            "tags": []
          },
          "execution_count": 23
        }
      ]
    },
    {
      "cell_type": "markdown",
      "metadata": {
        "id": "JYJqw_QedoPN",
        "colab_type": "text"
      },
      "source": [
        "--------------------"
      ]
    },
    {
      "cell_type": "markdown",
      "metadata": {
        "id": "Urq4g3WGdoPP",
        "colab_type": "text"
      },
      "source": [
        "#### Use NumPy to generate a random set of 10 numbers between 0 and 1\n",
        "\n",
        "#### 08. Display a boolean array output where all values > 0.2 are True, rest are marked as False"
      ]
    },
    {
      "cell_type": "code",
      "metadata": {
        "id": "7_61goFndoPS",
        "colab_type": "code",
        "colab": {
          "base_uri": "https://localhost:8080/",
          "height": 51
        },
        "outputId": "70d41825-8510-41ee-d243-034bef886ab8"
      },
      "source": [
        "a= np.random.rand(10)\n",
        "a >0.2"
      ],
      "execution_count": 59,
      "outputs": [
        {
          "output_type": "execute_result",
          "data": {
            "text/plain": [
              "array([ True, False,  True,  True, False, False, False,  True, False,\n",
              "        True])"
            ]
          },
          "metadata": {
            "tags": []
          },
          "execution_count": 59
        }
      ]
    },
    {
      "cell_type": "markdown",
      "metadata": {
        "id": "m7Z1NUnldoPa",
        "colab_type": "text"
      },
      "source": [
        "-------------------"
      ]
    },
    {
      "cell_type": "markdown",
      "metadata": {
        "id": "zhYmyiendoPc",
        "colab_type": "text"
      },
      "source": [
        "\n",
        "#### 09. Use NumPy to generate an array matrix of 5x2 random numbers sampled from a standard normal distribution"
      ]
    },
    {
      "cell_type": "code",
      "metadata": {
        "id": "Zi2TN4mldoPf",
        "colab_type": "code",
        "colab": {
          "base_uri": "https://localhost:8080/",
          "height": 102
        },
        "outputId": "b5899acf-f15f-49e1-c05c-c836588ed175"
      },
      "source": [
        "a= np.random.randn(10).reshape(5,2)\n",
        "a"
      ],
      "execution_count": 62,
      "outputs": [
        {
          "output_type": "execute_result",
          "data": {
            "text/plain": [
              "array([[-1.27086737, -1.18934817],\n",
              "       [-0.94309622, -0.67984847],\n",
              "       [ 0.4269053 , -1.051624  ],\n",
              "       [-0.89181942,  0.36686785],\n",
              "       [-0.19388634, -0.58500565]])"
            ]
          },
          "metadata": {
            "tags": []
          },
          "execution_count": 62
        }
      ]
    },
    {
      "cell_type": "markdown",
      "metadata": {
        "id": "CGFQ9vLJdoPm",
        "colab_type": "text"
      },
      "source": [
        "-----------------------------"
      ]
    },
    {
      "cell_type": "markdown",
      "metadata": {
        "id": "mYJxQ6ltdoPp",
        "colab_type": "text"
      },
      "source": [
        "#### 10. Create an array of 30 linearly spaced points between 0 and 100:"
      ]
    },
    {
      "cell_type": "code",
      "metadata": {
        "id": "owFR9QH6doPr",
        "colab_type": "code",
        "colab": {
          "base_uri": "https://localhost:8080/",
          "height": 153
        },
        "outputId": "1bb5c421-46a3-4840-dbd7-89ca950e1b74"
      },
      "source": [
        "a = np.arange(100)\n",
        "np.linspace(0,100,30)"
      ],
      "execution_count": 66,
      "outputs": [
        {
          "output_type": "execute_result",
          "data": {
            "text/plain": [
              "array([  0.        ,   3.44827586,   6.89655172,  10.34482759,\n",
              "        13.79310345,  17.24137931,  20.68965517,  24.13793103,\n",
              "        27.5862069 ,  31.03448276,  34.48275862,  37.93103448,\n",
              "        41.37931034,  44.82758621,  48.27586207,  51.72413793,\n",
              "        55.17241379,  58.62068966,  62.06896552,  65.51724138,\n",
              "        68.96551724,  72.4137931 ,  75.86206897,  79.31034483,\n",
              "        82.75862069,  86.20689655,  89.65517241,  93.10344828,\n",
              "        96.55172414, 100.        ])"
            ]
          },
          "metadata": {
            "tags": []
          },
          "execution_count": 66
        }
      ]
    },
    {
      "cell_type": "markdown",
      "metadata": {
        "id": "SHNS1bHNdoPy",
        "colab_type": "text"
      },
      "source": [
        "---------------------------"
      ]
    },
    {
      "cell_type": "markdown",
      "metadata": {
        "id": "Hg5m_g5VdoP2",
        "colab_type": "text"
      },
      "source": [
        "## Numpy Indexing and Selections\n",
        "\n",
        "#### 11. Using the below given Matrix, generate the output for the below questions."
      ]
    },
    {
      "cell_type": "code",
      "metadata": {
        "id": "UnfNp31idoP4",
        "colab_type": "code",
        "colab": {}
      },
      "source": [
        ""
      ],
      "execution_count": 0,
      "outputs": []
    },
    {
      "cell_type": "markdown",
      "metadata": {
        "id": "uhMRD1oMdoQC",
        "colab_type": "text"
      },
      "source": [
        "----------------"
      ]
    },
    {
      "cell_type": "markdown",
      "metadata": {
        "collapsed": true,
        "id": "LSgebFH8doQF",
        "colab_type": "text"
      },
      "source": [
        "#### a) Retrieve the last 2 rows and first 3 column values of the above matrix using index & selection technique"
      ]
    },
    {
      "cell_type": "code",
      "metadata": {
        "id": "tVfmKYdfdoQJ",
        "colab_type": "code",
        "colab": {}
      },
      "source": [
        ""
      ],
      "execution_count": 0,
      "outputs": []
    },
    {
      "cell_type": "markdown",
      "metadata": {
        "id": "lDv1NRabdoQV",
        "colab_type": "text"
      },
      "source": [
        "------"
      ]
    },
    {
      "cell_type": "markdown",
      "metadata": {
        "collapsed": true,
        "id": "sKffqqLgdoQY",
        "colab_type": "text"
      },
      "source": [
        "#### b) Retrieve the value 55 from the above matrix using index & selection technique"
      ]
    },
    {
      "cell_type": "code",
      "metadata": {
        "id": "SoTxwD5OdoQa",
        "colab_type": "code",
        "colab": {}
      },
      "source": [
        ""
      ],
      "execution_count": 0,
      "outputs": []
    },
    {
      "cell_type": "markdown",
      "metadata": {
        "id": "J4QqjVAodoQh",
        "colab_type": "text"
      },
      "source": [
        "--------------"
      ]
    },
    {
      "cell_type": "markdown",
      "metadata": {
        "collapsed": true,
        "id": "foqHNHNhdoQj",
        "colab_type": "text"
      },
      "source": [
        "#### c) Retrieve the values from the 3rd column in the above matrix"
      ]
    },
    {
      "cell_type": "code",
      "metadata": {
        "id": "p5iw3zhDdoQm",
        "colab_type": "code",
        "colab": {}
      },
      "source": [
        ""
      ],
      "execution_count": 0,
      "outputs": []
    },
    {
      "cell_type": "markdown",
      "metadata": {
        "id": "jvlk69fzdoQv",
        "colab_type": "text"
      },
      "source": [
        "---------------"
      ]
    },
    {
      "cell_type": "markdown",
      "metadata": {
        "collapsed": true,
        "id": "GKRrSgZIdoQy",
        "colab_type": "text"
      },
      "source": [
        "#### d) Retrieve the values from the 4th row in the above matrix"
      ]
    },
    {
      "cell_type": "code",
      "metadata": {
        "id": "gHGXSwmidoQ0",
        "colab_type": "code",
        "colab": {}
      },
      "source": [
        ""
      ],
      "execution_count": 0,
      "outputs": []
    },
    {
      "cell_type": "markdown",
      "metadata": {
        "id": "12POKW7YdoQ7",
        "colab_type": "text"
      },
      "source": [
        "-----------------"
      ]
    },
    {
      "cell_type": "markdown",
      "metadata": {
        "collapsed": true,
        "id": "ovhbwIBpdoQ9",
        "colab_type": "text"
      },
      "source": [
        "#### e) Retrieve values from the 2nd & 4th rows in the above matrix"
      ]
    },
    {
      "cell_type": "code",
      "metadata": {
        "id": "1_i2sD8bdoQ_",
        "colab_type": "code",
        "colab": {}
      },
      "source": [
        ""
      ],
      "execution_count": 0,
      "outputs": []
    },
    {
      "cell_type": "markdown",
      "metadata": {
        "id": "1spdvrzrdoRG",
        "colab_type": "text"
      },
      "source": [
        "--------------"
      ]
    },
    {
      "cell_type": "markdown",
      "metadata": {
        "id": "qomYvYcUdoRJ",
        "colab_type": "text"
      },
      "source": [
        "### Calculate the following values for the given matrix"
      ]
    },
    {
      "cell_type": "markdown",
      "metadata": {
        "id": "_PHFg6bJdoRL",
        "colab_type": "text"
      },
      "source": [
        "#### a) Calculate sum of all the values in the matrix"
      ]
    },
    {
      "cell_type": "code",
      "metadata": {
        "id": "CDQvYVQmdoRN",
        "colab_type": "code",
        "colab": {}
      },
      "source": [
        ""
      ],
      "execution_count": 0,
      "outputs": []
    },
    {
      "cell_type": "markdown",
      "metadata": {
        "id": "OtC4DuyXdoRU",
        "colab_type": "text"
      },
      "source": [
        "--------------"
      ]
    },
    {
      "cell_type": "markdown",
      "metadata": {
        "id": "GnoU_QsOdoRW",
        "colab_type": "text"
      },
      "source": [
        "#### b) Calculate standard deviation of all the values in the matrix"
      ]
    },
    {
      "cell_type": "code",
      "metadata": {
        "id": "xnrFYJnZdoRY",
        "colab_type": "code",
        "colab": {}
      },
      "source": [
        ""
      ],
      "execution_count": 0,
      "outputs": []
    },
    {
      "cell_type": "markdown",
      "metadata": {
        "id": "rlKFvFgJdoRi",
        "colab_type": "text"
      },
      "source": [
        "------"
      ]
    },
    {
      "cell_type": "markdown",
      "metadata": {
        "id": "_puZu84odoRk",
        "colab_type": "text"
      },
      "source": [
        "#### c) Calculate the variance of all values in the matrix"
      ]
    },
    {
      "cell_type": "code",
      "metadata": {
        "id": "rXee_hbidoRo",
        "colab_type": "code",
        "colab": {}
      },
      "source": [
        ""
      ],
      "execution_count": 0,
      "outputs": []
    },
    {
      "cell_type": "markdown",
      "metadata": {
        "id": "ZiDu2B_TdoRx",
        "colab_type": "text"
      },
      "source": [
        "-----------"
      ]
    },
    {
      "cell_type": "markdown",
      "metadata": {
        "collapsed": true,
        "id": "KFMd_zN1doRz",
        "colab_type": "text"
      },
      "source": [
        "#### d) Calculate the mean of all values in the matrix"
      ]
    },
    {
      "cell_type": "code",
      "metadata": {
        "id": "aifNaBktdoR2",
        "colab_type": "code",
        "colab": {}
      },
      "source": [
        ""
      ],
      "execution_count": 0,
      "outputs": []
    },
    {
      "cell_type": "markdown",
      "metadata": {
        "id": "shvICvaodoR-",
        "colab_type": "text"
      },
      "source": [
        "-------------"
      ]
    },
    {
      "cell_type": "markdown",
      "metadata": {
        "id": "CcDqCvjqdoSB",
        "colab_type": "text"
      },
      "source": [
        "#### e) Retrieve the largest number from the matrix"
      ]
    },
    {
      "cell_type": "code",
      "metadata": {
        "id": "_YP3XR8_doSE",
        "colab_type": "code",
        "colab": {}
      },
      "source": [
        ""
      ],
      "execution_count": 0,
      "outputs": []
    },
    {
      "cell_type": "markdown",
      "metadata": {
        "id": "A0ungWZDdoSQ",
        "colab_type": "text"
      },
      "source": [
        "--------------"
      ]
    },
    {
      "cell_type": "markdown",
      "metadata": {
        "id": "LXtu8i9UdoST",
        "colab_type": "text"
      },
      "source": [
        "#### f) Retrieve the smallest number from the matrix"
      ]
    },
    {
      "cell_type": "code",
      "metadata": {
        "id": "jcGi-MrAdoSY",
        "colab_type": "code",
        "colab": {}
      },
      "source": [
        ""
      ],
      "execution_count": 0,
      "outputs": []
    },
    {
      "cell_type": "markdown",
      "metadata": {
        "id": "mQ26RnK8doSn",
        "colab_type": "text"
      },
      "source": [
        "-------"
      ]
    },
    {
      "cell_type": "markdown",
      "metadata": {
        "id": "A6PCltP-doSp",
        "colab_type": "text"
      },
      "source": [
        "# -------------------------------- HAPPY LEARNING -------------------------------"
      ]
    },
    {
      "cell_type": "markdown",
      "metadata": {
        "id": "ZqTLzNE4doSt",
        "colab_type": "text"
      },
      "source": [
        "--------------------------------"
      ]
    }
  ]
}