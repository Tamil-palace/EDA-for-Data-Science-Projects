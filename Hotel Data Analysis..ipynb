{
 "cells": [
  {
   "cell_type": "code",
   "execution_count": 114,
   "metadata": {},
   "outputs": [],
   "source": [
    "# Importing  important libraries\n",
    "import warnings\n",
    "import numpy as np\n",
    "import pandas as pd\n",
    "import datetime as dt\n",
    "import seaborn as sns\n",
    "import matplotlib.pyplot as plt\n",
    "from sklearn.preprocessing import LabelEncoder\n",
    "from sklearn.tree import DecisionTreeClassifier\n",
    "from sklearn.linear_model import LinearRegression\n",
    "from sklearn.neighbors import KNeighborsClassifier\n",
    "from sklearn.ensemble import RandomForestClassifier\n",
    "from sklearn.model_selection import train_test_split\n",
    "from sklearn.model_selection import KFold,cross_val_score"
   ]
  },
  {
   "cell_type": "code",
   "execution_count": 115,
   "metadata": {},
   "outputs": [],
   "source": [
    "# Reading the given dataset and parsing the date on the fly.\n",
    "df = pd.read_excel('hoteldata.xlsx',parse_dates=['DTS'])"
   ]
  },
  {
   "cell_type": "code",
   "execution_count": 3,
   "metadata": {},
   "outputs": [
    {
     "data": {
      "text/html": [
       "<div>\n",
       "<style scoped>\n",
       "    .dataframe tbody tr th:only-of-type {\n",
       "        vertical-align: middle;\n",
       "    }\n",
       "\n",
       "    .dataframe tbody tr th {\n",
       "        vertical-align: top;\n",
       "    }\n",
       "\n",
       "    .dataframe thead th {\n",
       "        text-align: right;\n",
       "    }\n",
       "</style>\n",
       "<table border=\"1\" class=\"dataframe\">\n",
       "  <thead>\n",
       "    <tr style=\"text-align: right;\">\n",
       "      <th></th>\n",
       "      <th>StoreCode</th>\n",
       "      <th>DTS</th>\n",
       "      <th>Shift</th>\n",
       "      <th>Day Type</th>\n",
       "      <th>Day</th>\n",
       "      <th>Month</th>\n",
       "      <th>Date</th>\n",
       "      <th>Year</th>\n",
       "      <th>Time</th>\n",
       "      <th>TicketCode</th>\n",
       "      <th>PartySize</th>\n",
       "      <th>MenuCateogry</th>\n",
       "      <th>MenuItem</th>\n",
       "      <th>ItemPrice</th>\n",
       "      <th>ItemQty</th>\n",
       "    </tr>\n",
       "  </thead>\n",
       "  <tbody>\n",
       "    <tr>\n",
       "      <td>125</td>\n",
       "      <td>YALEV6B6K4</td>\n",
       "      <td>2019-01-02 12:05:00</td>\n",
       "      <td>Lunch</td>\n",
       "      <td>Weekend</td>\n",
       "      <td>Wednesday</td>\n",
       "      <td>1</td>\n",
       "      <td>2</td>\n",
       "      <td>2019</td>\n",
       "      <td>12:05PM</td>\n",
       "      <td>YALE0014</td>\n",
       "      <td>5</td>\n",
       "      <td>DESSERTS</td>\n",
       "      <td>GULABJAMUN</td>\n",
       "      <td>6.0</td>\n",
       "      <td>1</td>\n",
       "    </tr>\n",
       "    <tr>\n",
       "      <td>18</td>\n",
       "      <td>YALEV6B6K3</td>\n",
       "      <td>2019-01-01 11:50:00</td>\n",
       "      <td>Lunch</td>\n",
       "      <td>Weekday</td>\n",
       "      <td>Tuesday</td>\n",
       "      <td>1</td>\n",
       "      <td>1</td>\n",
       "      <td>2019</td>\n",
       "      <td>11:50AM</td>\n",
       "      <td>UBER001</td>\n",
       "      <td>na</td>\n",
       "      <td>BREADS</td>\n",
       "      <td>ONION KULCHA</td>\n",
       "      <td>5.0</td>\n",
       "      <td>2</td>\n",
       "    </tr>\n",
       "    <tr>\n",
       "      <td>12</td>\n",
       "      <td>YALEV6B6K3</td>\n",
       "      <td>2019-01-01 11:50:00</td>\n",
       "      <td>Lunch</td>\n",
       "      <td>Weekday</td>\n",
       "      <td>Tuesday</td>\n",
       "      <td>1</td>\n",
       "      <td>1</td>\n",
       "      <td>2019</td>\n",
       "      <td>11:50AM</td>\n",
       "      <td>YALE0003</td>\n",
       "      <td>2</td>\n",
       "      <td>BREADS</td>\n",
       "      <td>GARLIC NAAN</td>\n",
       "      <td>3.5</td>\n",
       "      <td>2</td>\n",
       "    </tr>\n",
       "    <tr>\n",
       "      <td>15</td>\n",
       "      <td>YALEV6B6K3</td>\n",
       "      <td>2019-01-01 11:50:00</td>\n",
       "      <td>Lunch</td>\n",
       "      <td>Weekday</td>\n",
       "      <td>Tuesday</td>\n",
       "      <td>1</td>\n",
       "      <td>1</td>\n",
       "      <td>2019</td>\n",
       "      <td>11:50AM</td>\n",
       "      <td>UBER001</td>\n",
       "      <td>na</td>\n",
       "      <td>Starter</td>\n",
       "      <td>COCKTAIL CHICKEN SAMOSAS</td>\n",
       "      <td>14.0</td>\n",
       "      <td>2</td>\n",
       "    </tr>\n",
       "    <tr>\n",
       "      <td>120</td>\n",
       "      <td>YALEV6B6K4</td>\n",
       "      <td>2019-01-02 12:05:00</td>\n",
       "      <td>Lunch</td>\n",
       "      <td>Weekend</td>\n",
       "      <td>Wednesday</td>\n",
       "      <td>1</td>\n",
       "      <td>2</td>\n",
       "      <td>2019</td>\n",
       "      <td>12:05PM</td>\n",
       "      <td>YALE0014</td>\n",
       "      <td>5</td>\n",
       "      <td>Starter</td>\n",
       "      <td>HARA BHARA KABOB</td>\n",
       "      <td>16.0</td>\n",
       "      <td>1</td>\n",
       "    </tr>\n",
       "  </tbody>\n",
       "</table>\n",
       "</div>"
      ],
      "text/plain": [
       "      StoreCode                 DTS  Shift Day Type        Day  Month  Date  \\\n",
       "125  YALEV6B6K4 2019-01-02 12:05:00  Lunch  Weekend  Wednesday      1     2   \n",
       "18   YALEV6B6K3 2019-01-01 11:50:00  Lunch  Weekday    Tuesday      1     1   \n",
       "12   YALEV6B6K3 2019-01-01 11:50:00  Lunch  Weekday    Tuesday      1     1   \n",
       "15   YALEV6B6K3 2019-01-01 11:50:00  Lunch  Weekday    Tuesday      1     1   \n",
       "120  YALEV6B6K4 2019-01-02 12:05:00  Lunch  Weekend  Wednesday      1     2   \n",
       "\n",
       "     Year     Time TicketCode PartySize MenuCateogry  \\\n",
       "125  2019  12:05PM   YALE0014         5     DESSERTS   \n",
       "18   2019  11:50AM    UBER001        na       BREADS   \n",
       "12   2019  11:50AM   YALE0003         2       BREADS   \n",
       "15   2019  11:50AM    UBER001        na      Starter   \n",
       "120  2019  12:05PM   YALE0014         5      Starter   \n",
       "\n",
       "                     MenuItem  ItemPrice  ItemQty  \n",
       "125                GULABJAMUN        6.0        1  \n",
       "18               ONION KULCHA        5.0        2  \n",
       "12                GARLIC NAAN        3.5        2  \n",
       "15   COCKTAIL CHICKEN SAMOSAS       14.0        2  \n",
       "120          HARA BHARA KABOB       16.0        1  "
      ]
     },
     "execution_count": 3,
     "metadata": {},
     "output_type": "execute_result"
    }
   ],
   "source": [
    "# Showing sample of the data\n",
    "df.sample(5)"
   ]
  },
  {
   "cell_type": "markdown",
   "metadata": {},
   "source": [
    "### What essential has been done in the following cells are :\n",
    "#### 1. Replicating data for weekends in a month\n",
    "#### 2. Replicating data for weekeday in a month\n",
    "#### 3.  Combining weekday and weekend data for a month.\n",
    "#### 4. Replicating data for one month into 6 months."
   ]
  },
  {
   "cell_type": "code",
   "execution_count": 4,
   "metadata": {},
   "outputs": [
    {
     "data": {
      "text/plain": [
       "(476, 15)"
      ]
     },
     "execution_count": 4,
     "metadata": {},
     "output_type": "execute_result"
    }
   ],
   "source": [
    "#Replicating data for first day of weekend\n",
    "newdf1 = pd.DataFrame(np.repeat(df[df['Date']==1].values,4,axis=0))\n",
    "newdf1.columns = df.columns\n",
    "newdf1.shape\n"
   ]
  },
  {
   "cell_type": "code",
   "execution_count": 5,
   "metadata": {},
   "outputs": [
    {
     "data": {
      "text/plain": [
       "(324, 15)"
      ]
     },
     "execution_count": 5,
     "metadata": {},
     "output_type": "execute_result"
    }
   ],
   "source": [
    "newdf2 = pd.DataFrame(np.repeat(df[df['Date']==2].values,4,axis=0))\n",
    "newdf2.columns = df.columns\n",
    "newdf2.shape"
   ]
  },
  {
   "cell_type": "code",
   "execution_count": 6,
   "metadata": {},
   "outputs": [
    {
     "data": {
      "text/plain": [
       "(800, 15)"
      ]
     },
     "execution_count": 6,
     "metadata": {},
     "output_type": "execute_result"
    }
   ],
   "source": [
    "weekend_data_for_one_month = pd.concat([newdf1,newdf2])\n",
    "weekend_data_for_one_month.shape"
   ]
  },
  {
   "cell_type": "code",
   "execution_count": 7,
   "metadata": {},
   "outputs": [],
   "source": [
    "weekend_data_for_one_month['Day']=weekend_data_for_one_month['Day'].apply(lambda x:str(x).replace('Tuesday','Friday').replace('Wednesday','Saturday'))"
   ]
  },
  {
   "cell_type": "code",
   "execution_count": 8,
   "metadata": {},
   "outputs": [],
   "source": [
    "weekend_data_for_one_month['Day Type']=weekend_data_for_one_month['Day Type'].apply(lambda x:str(x).replace('Weekday','Weekend'))"
   ]
  },
  {
   "cell_type": "code",
   "execution_count": 9,
   "metadata": {},
   "outputs": [
    {
     "data": {
      "text/html": [
       "<div>\n",
       "<style scoped>\n",
       "    .dataframe tbody tr th:only-of-type {\n",
       "        vertical-align: middle;\n",
       "    }\n",
       "\n",
       "    .dataframe tbody tr th {\n",
       "        vertical-align: top;\n",
       "    }\n",
       "\n",
       "    .dataframe thead th {\n",
       "        text-align: right;\n",
       "    }\n",
       "</style>\n",
       "<table border=\"1\" class=\"dataframe\">\n",
       "  <thead>\n",
       "    <tr style=\"text-align: right;\">\n",
       "      <th></th>\n",
       "      <th>StoreCode</th>\n",
       "      <th>DTS</th>\n",
       "      <th>Shift</th>\n",
       "      <th>Day Type</th>\n",
       "      <th>Day</th>\n",
       "      <th>Month</th>\n",
       "      <th>Date</th>\n",
       "      <th>Year</th>\n",
       "      <th>Time</th>\n",
       "      <th>TicketCode</th>\n",
       "      <th>PartySize</th>\n",
       "      <th>MenuCateogry</th>\n",
       "      <th>MenuItem</th>\n",
       "      <th>ItemPrice</th>\n",
       "      <th>ItemQty</th>\n",
       "    </tr>\n",
       "  </thead>\n",
       "  <tbody>\n",
       "    <tr>\n",
       "      <td>0</td>\n",
       "      <td>YALEV6B6K3</td>\n",
       "      <td>2019-01-01 11:30:00</td>\n",
       "      <td>Lunch</td>\n",
       "      <td>Weekend</td>\n",
       "      <td>Friday</td>\n",
       "      <td>1</td>\n",
       "      <td>1</td>\n",
       "      <td>2019</td>\n",
       "      <td>11:30AM</td>\n",
       "      <td>YALE0001</td>\n",
       "      <td>4</td>\n",
       "      <td>Starter</td>\n",
       "      <td>GOBI MANCHURIAN</td>\n",
       "      <td>14</td>\n",
       "      <td>1</td>\n",
       "    </tr>\n",
       "    <tr>\n",
       "      <td>1</td>\n",
       "      <td>YALEV6B6K3</td>\n",
       "      <td>2019-01-01 11:30:00</td>\n",
       "      <td>Lunch</td>\n",
       "      <td>Weekend</td>\n",
       "      <td>Friday</td>\n",
       "      <td>1</td>\n",
       "      <td>1</td>\n",
       "      <td>2019</td>\n",
       "      <td>11:30AM</td>\n",
       "      <td>YALE0001</td>\n",
       "      <td>4</td>\n",
       "      <td>Starter</td>\n",
       "      <td>GOBI MANCHURIAN</td>\n",
       "      <td>14</td>\n",
       "      <td>1</td>\n",
       "    </tr>\n",
       "    <tr>\n",
       "      <td>2</td>\n",
       "      <td>YALEV6B6K3</td>\n",
       "      <td>2019-01-01 11:30:00</td>\n",
       "      <td>Lunch</td>\n",
       "      <td>Weekend</td>\n",
       "      <td>Friday</td>\n",
       "      <td>1</td>\n",
       "      <td>1</td>\n",
       "      <td>2019</td>\n",
       "      <td>11:30AM</td>\n",
       "      <td>YALE0001</td>\n",
       "      <td>4</td>\n",
       "      <td>Starter</td>\n",
       "      <td>GOBI MANCHURIAN</td>\n",
       "      <td>14</td>\n",
       "      <td>1</td>\n",
       "    </tr>\n",
       "    <tr>\n",
       "      <td>3</td>\n",
       "      <td>YALEV6B6K3</td>\n",
       "      <td>2019-01-01 11:30:00</td>\n",
       "      <td>Lunch</td>\n",
       "      <td>Weekend</td>\n",
       "      <td>Friday</td>\n",
       "      <td>1</td>\n",
       "      <td>1</td>\n",
       "      <td>2019</td>\n",
       "      <td>11:30AM</td>\n",
       "      <td>YALE0001</td>\n",
       "      <td>4</td>\n",
       "      <td>Starter</td>\n",
       "      <td>GOBI MANCHURIAN</td>\n",
       "      <td>14</td>\n",
       "      <td>1</td>\n",
       "    </tr>\n",
       "    <tr>\n",
       "      <td>4</td>\n",
       "      <td>YALEV6B6K3</td>\n",
       "      <td>2019-01-01 11:30:00</td>\n",
       "      <td>Lunch</td>\n",
       "      <td>Weekend</td>\n",
       "      <td>Friday</td>\n",
       "      <td>1</td>\n",
       "      <td>1</td>\n",
       "      <td>2019</td>\n",
       "      <td>11:30AM</td>\n",
       "      <td>YALE0001</td>\n",
       "      <td>4</td>\n",
       "      <td>Starter</td>\n",
       "      <td>TASTY FLATBREAD</td>\n",
       "      <td>11</td>\n",
       "      <td>1</td>\n",
       "    </tr>\n",
       "  </tbody>\n",
       "</table>\n",
       "</div>"
      ],
      "text/plain": [
       "    StoreCode                 DTS  Shift Day Type     Day Month Date  Year  \\\n",
       "0  YALEV6B6K3 2019-01-01 11:30:00  Lunch  Weekend  Friday     1    1  2019   \n",
       "1  YALEV6B6K3 2019-01-01 11:30:00  Lunch  Weekend  Friday     1    1  2019   \n",
       "2  YALEV6B6K3 2019-01-01 11:30:00  Lunch  Weekend  Friday     1    1  2019   \n",
       "3  YALEV6B6K3 2019-01-01 11:30:00  Lunch  Weekend  Friday     1    1  2019   \n",
       "4  YALEV6B6K3 2019-01-01 11:30:00  Lunch  Weekend  Friday     1    1  2019   \n",
       "\n",
       "      Time TicketCode PartySize MenuCateogry         MenuItem ItemPrice  \\\n",
       "0  11:30AM   YALE0001         4      Starter  GOBI MANCHURIAN        14   \n",
       "1  11:30AM   YALE0001         4      Starter  GOBI MANCHURIAN        14   \n",
       "2  11:30AM   YALE0001         4      Starter  GOBI MANCHURIAN        14   \n",
       "3  11:30AM   YALE0001         4      Starter  GOBI MANCHURIAN        14   \n",
       "4  11:30AM   YALE0001         4      Starter  TASTY FLATBREAD        11   \n",
       "\n",
       "  ItemQty  \n",
       "0       1  \n",
       "1       1  \n",
       "2       1  \n",
       "3       1  \n",
       "4       1  "
      ]
     },
     "execution_count": 9,
     "metadata": {},
     "output_type": "execute_result"
    }
   ],
   "source": [
    "weekend_data_for_one_month.head()"
   ]
  },
  {
   "cell_type": "code",
   "execution_count": 10,
   "metadata": {},
   "outputs": [
    {
     "data": {
      "text/html": [
       "<div>\n",
       "<style scoped>\n",
       "    .dataframe tbody tr th:only-of-type {\n",
       "        vertical-align: middle;\n",
       "    }\n",
       "\n",
       "    .dataframe tbody tr th {\n",
       "        vertical-align: top;\n",
       "    }\n",
       "\n",
       "    .dataframe thead th {\n",
       "        text-align: right;\n",
       "    }\n",
       "</style>\n",
       "<table border=\"1\" class=\"dataframe\">\n",
       "  <thead>\n",
       "    <tr style=\"text-align: right;\">\n",
       "      <th></th>\n",
       "      <th>StoreCode</th>\n",
       "      <th>DTS</th>\n",
       "      <th>Shift</th>\n",
       "      <th>Day Type</th>\n",
       "      <th>Day</th>\n",
       "      <th>Month</th>\n",
       "      <th>Date</th>\n",
       "      <th>Year</th>\n",
       "      <th>Time</th>\n",
       "      <th>TicketCode</th>\n",
       "      <th>PartySize</th>\n",
       "      <th>MenuCateogry</th>\n",
       "      <th>MenuItem</th>\n",
       "      <th>ItemPrice</th>\n",
       "      <th>ItemQty</th>\n",
       "    </tr>\n",
       "  </thead>\n",
       "  <tbody>\n",
       "    <tr>\n",
       "      <td>207</td>\n",
       "      <td>YALEV6B6K4</td>\n",
       "      <td>2019-01-01 19:00:00</td>\n",
       "      <td>Dinner</td>\n",
       "      <td>Weekday</td>\n",
       "      <td>Tuesday</td>\n",
       "      <td>1</td>\n",
       "      <td>1</td>\n",
       "      <td>2019</td>\n",
       "      <td>7:00PM</td>\n",
       "      <td>YALE0009</td>\n",
       "      <td>5</td>\n",
       "      <td>Starter</td>\n",
       "      <td>GOBI MANCHURIAN</td>\n",
       "      <td>14</td>\n",
       "      <td>2</td>\n",
       "    </tr>\n",
       "    <tr>\n",
       "      <td>566</td>\n",
       "      <td>YALEV6B6K4</td>\n",
       "      <td>2019-01-01 19:00:00</td>\n",
       "      <td>Dinner</td>\n",
       "      <td>Weekday</td>\n",
       "      <td>Tuesday</td>\n",
       "      <td>1</td>\n",
       "      <td>1</td>\n",
       "      <td>2019</td>\n",
       "      <td>7:00PM</td>\n",
       "      <td>YALE0009</td>\n",
       "      <td>5</td>\n",
       "      <td>DESSERTS</td>\n",
       "      <td>GULABJAMUN</td>\n",
       "      <td>6</td>\n",
       "      <td>2</td>\n",
       "    </tr>\n",
       "    <tr>\n",
       "      <td>948</td>\n",
       "      <td>YALEV6B6K4</td>\n",
       "      <td>2019-01-02 20:15:00</td>\n",
       "      <td>Dinner</td>\n",
       "      <td>Weekend</td>\n",
       "      <td>Wednesday</td>\n",
       "      <td>1</td>\n",
       "      <td>1</td>\n",
       "      <td>2019</td>\n",
       "      <td>8:30PM</td>\n",
       "      <td>UBER005</td>\n",
       "      <td>na</td>\n",
       "      <td>BREADS</td>\n",
       "      <td>NAAN</td>\n",
       "      <td>2.75</td>\n",
       "      <td>4</td>\n",
       "    </tr>\n",
       "    <tr>\n",
       "      <td>895</td>\n",
       "      <td>YALEV6B6K4</td>\n",
       "      <td>2019-01-02 20:15:00</td>\n",
       "      <td>Dinner</td>\n",
       "      <td>Weekend</td>\n",
       "      <td>Wednesday</td>\n",
       "      <td>1</td>\n",
       "      <td>1</td>\n",
       "      <td>2019</td>\n",
       "      <td>8:30PM</td>\n",
       "      <td>UBER005</td>\n",
       "      <td>na</td>\n",
       "      <td>BREADS</td>\n",
       "      <td>ONION KULCHA</td>\n",
       "      <td>5</td>\n",
       "      <td>2</td>\n",
       "    </tr>\n",
       "    <tr>\n",
       "      <td>777</td>\n",
       "      <td>YALEV6B6K4</td>\n",
       "      <td>2019-01-01 20:30:00</td>\n",
       "      <td>Dinner</td>\n",
       "      <td>Weekday</td>\n",
       "      <td>Tuesday</td>\n",
       "      <td>1</td>\n",
       "      <td>1</td>\n",
       "      <td>2019</td>\n",
       "      <td>8:30PM</td>\n",
       "      <td>UBER003</td>\n",
       "      <td>na</td>\n",
       "      <td>CHICKEN SPECIALS</td>\n",
       "      <td>BUTTER CHICKEN</td>\n",
       "      <td>18</td>\n",
       "      <td>3</td>\n",
       "    </tr>\n",
       "  </tbody>\n",
       "</table>\n",
       "</div>"
      ],
      "text/plain": [
       "      StoreCode                 DTS   Shift Day Type        Day Month Date  \\\n",
       "207  YALEV6B6K4 2019-01-01 19:00:00  Dinner  Weekday    Tuesday     1    1   \n",
       "566  YALEV6B6K4 2019-01-01 19:00:00  Dinner  Weekday    Tuesday     1    1   \n",
       "948  YALEV6B6K4 2019-01-02 20:15:00  Dinner  Weekend  Wednesday     1    1   \n",
       "895  YALEV6B6K4 2019-01-02 20:15:00  Dinner  Weekend  Wednesday     1    1   \n",
       "777  YALEV6B6K4 2019-01-01 20:30:00  Dinner  Weekday    Tuesday     1    1   \n",
       "\n",
       "     Year    Time TicketCode PartySize      MenuCateogry         MenuItem  \\\n",
       "207  2019  7:00PM   YALE0009         5           Starter  GOBI MANCHURIAN   \n",
       "566  2019  7:00PM   YALE0009         5          DESSERTS       GULABJAMUN   \n",
       "948  2019  8:30PM    UBER005        na            BREADS             NAAN   \n",
       "895  2019  8:30PM    UBER005        na            BREADS     ONION KULCHA   \n",
       "777  2019  8:30PM    UBER003        na  CHICKEN SPECIALS   BUTTER CHICKEN   \n",
       "\n",
       "    ItemPrice ItemQty  \n",
       "207        14       2  \n",
       "566         6       2  \n",
       "948      2.75       4  \n",
       "895         5       2  \n",
       "777        18       3  "
      ]
     },
     "execution_count": 10,
     "metadata": {},
     "output_type": "execute_result"
    }
   ],
   "source": [
    "week_data_dinner = pd.DataFrame(np.repeat(df[(df['Date']==1)&(df['Shift']=='Dinner')].values,22,axis=0))\n",
    "week_data_dinner.columns = df.columns\n",
    "week_data_dinner.sample(5)"
   ]
  },
  {
   "cell_type": "code",
   "execution_count": 11,
   "metadata": {},
   "outputs": [
    {
     "data": {
      "text/plain": [
       "(365, 15)"
      ]
     },
     "execution_count": 11,
     "metadata": {},
     "output_type": "execute_result"
    }
   ],
   "source": [
    "week_data_lunch = pd.DataFrame(np.repeat(df[(df['Date']==1)&(df['Shift']=='Lunch')].values,5,axis=0))\n",
    "week_data_lunch.columns = df.columns\n",
    "week_data_lunch.shape"
   ]
  },
  {
   "cell_type": "code",
   "execution_count": 12,
   "metadata": {},
   "outputs": [
    {
     "data": {
      "text/html": [
       "<div>\n",
       "<style scoped>\n",
       "    .dataframe tbody tr th:only-of-type {\n",
       "        vertical-align: middle;\n",
       "    }\n",
       "\n",
       "    .dataframe tbody tr th {\n",
       "        vertical-align: top;\n",
       "    }\n",
       "\n",
       "    .dataframe thead th {\n",
       "        text-align: right;\n",
       "    }\n",
       "</style>\n",
       "<table border=\"1\" class=\"dataframe\">\n",
       "  <thead>\n",
       "    <tr style=\"text-align: right;\">\n",
       "      <th></th>\n",
       "      <th>StoreCode</th>\n",
       "      <th>DTS</th>\n",
       "      <th>Shift</th>\n",
       "      <th>Day Type</th>\n",
       "      <th>Day</th>\n",
       "      <th>Month</th>\n",
       "      <th>Date</th>\n",
       "      <th>Year</th>\n",
       "      <th>Time</th>\n",
       "      <th>TicketCode</th>\n",
       "      <th>PartySize</th>\n",
       "      <th>MenuCateogry</th>\n",
       "      <th>MenuItem</th>\n",
       "      <th>ItemPrice</th>\n",
       "      <th>ItemQty</th>\n",
       "    </tr>\n",
       "  </thead>\n",
       "  <tbody>\n",
       "    <tr>\n",
       "      <td>0</td>\n",
       "      <td>YALEV6B6K3</td>\n",
       "      <td>2019-01-01 11:30:00</td>\n",
       "      <td>Lunch</td>\n",
       "      <td>Weekday</td>\n",
       "      <td>Tuesday</td>\n",
       "      <td>1</td>\n",
       "      <td>1</td>\n",
       "      <td>2019</td>\n",
       "      <td>11:30AM</td>\n",
       "      <td>YALE0001</td>\n",
       "      <td>4</td>\n",
       "      <td>Starter</td>\n",
       "      <td>GOBI MANCHURIAN</td>\n",
       "      <td>14</td>\n",
       "      <td>1</td>\n",
       "    </tr>\n",
       "    <tr>\n",
       "      <td>1</td>\n",
       "      <td>YALEV6B6K3</td>\n",
       "      <td>2019-01-01 11:30:00</td>\n",
       "      <td>Lunch</td>\n",
       "      <td>Weekday</td>\n",
       "      <td>Tuesday</td>\n",
       "      <td>1</td>\n",
       "      <td>1</td>\n",
       "      <td>2019</td>\n",
       "      <td>11:30AM</td>\n",
       "      <td>YALE0001</td>\n",
       "      <td>4</td>\n",
       "      <td>Starter</td>\n",
       "      <td>GOBI MANCHURIAN</td>\n",
       "      <td>14</td>\n",
       "      <td>1</td>\n",
       "    </tr>\n",
       "    <tr>\n",
       "      <td>2</td>\n",
       "      <td>YALEV6B6K3</td>\n",
       "      <td>2019-01-01 11:30:00</td>\n",
       "      <td>Lunch</td>\n",
       "      <td>Weekday</td>\n",
       "      <td>Tuesday</td>\n",
       "      <td>1</td>\n",
       "      <td>1</td>\n",
       "      <td>2019</td>\n",
       "      <td>11:30AM</td>\n",
       "      <td>YALE0001</td>\n",
       "      <td>4</td>\n",
       "      <td>Starter</td>\n",
       "      <td>GOBI MANCHURIAN</td>\n",
       "      <td>14</td>\n",
       "      <td>1</td>\n",
       "    </tr>\n",
       "    <tr>\n",
       "      <td>3</td>\n",
       "      <td>YALEV6B6K3</td>\n",
       "      <td>2019-01-01 11:30:00</td>\n",
       "      <td>Lunch</td>\n",
       "      <td>Weekday</td>\n",
       "      <td>Tuesday</td>\n",
       "      <td>1</td>\n",
       "      <td>1</td>\n",
       "      <td>2019</td>\n",
       "      <td>11:30AM</td>\n",
       "      <td>YALE0001</td>\n",
       "      <td>4</td>\n",
       "      <td>Starter</td>\n",
       "      <td>GOBI MANCHURIAN</td>\n",
       "      <td>14</td>\n",
       "      <td>1</td>\n",
       "    </tr>\n",
       "    <tr>\n",
       "      <td>4</td>\n",
       "      <td>YALEV6B6K3</td>\n",
       "      <td>2019-01-01 11:30:00</td>\n",
       "      <td>Lunch</td>\n",
       "      <td>Weekday</td>\n",
       "      <td>Tuesday</td>\n",
       "      <td>1</td>\n",
       "      <td>1</td>\n",
       "      <td>2019</td>\n",
       "      <td>11:30AM</td>\n",
       "      <td>YALE0001</td>\n",
       "      <td>4</td>\n",
       "      <td>Starter</td>\n",
       "      <td>GOBI MANCHURIAN</td>\n",
       "      <td>14</td>\n",
       "      <td>1</td>\n",
       "    </tr>\n",
       "  </tbody>\n",
       "</table>\n",
       "</div>"
      ],
      "text/plain": [
       "    StoreCode                 DTS  Shift Day Type      Day Month Date  Year  \\\n",
       "0  YALEV6B6K3 2019-01-01 11:30:00  Lunch  Weekday  Tuesday     1    1  2019   \n",
       "1  YALEV6B6K3 2019-01-01 11:30:00  Lunch  Weekday  Tuesday     1    1  2019   \n",
       "2  YALEV6B6K3 2019-01-01 11:30:00  Lunch  Weekday  Tuesday     1    1  2019   \n",
       "3  YALEV6B6K3 2019-01-01 11:30:00  Lunch  Weekday  Tuesday     1    1  2019   \n",
       "4  YALEV6B6K3 2019-01-01 11:30:00  Lunch  Weekday  Tuesday     1    1  2019   \n",
       "\n",
       "      Time TicketCode PartySize MenuCateogry         MenuItem ItemPrice  \\\n",
       "0  11:30AM   YALE0001         4      Starter  GOBI MANCHURIAN        14   \n",
       "1  11:30AM   YALE0001         4      Starter  GOBI MANCHURIAN        14   \n",
       "2  11:30AM   YALE0001         4      Starter  GOBI MANCHURIAN        14   \n",
       "3  11:30AM   YALE0001         4      Starter  GOBI MANCHURIAN        14   \n",
       "4  11:30AM   YALE0001         4      Starter  GOBI MANCHURIAN        14   \n",
       "\n",
       "  ItemQty  \n",
       "0       1  \n",
       "1       1  \n",
       "2       1  \n",
       "3       1  \n",
       "4       1  "
      ]
     },
     "execution_count": 12,
     "metadata": {},
     "output_type": "execute_result"
    }
   ],
   "source": [
    "weekday_data = pd.concat([week_data_lunch,week_data_dinner])\n",
    "weekday_data['Day Type'] = weekday_data['Day Type'].apply(lambda x:str(x).replace('Weekend','Weekday'))\n",
    "weekday_data.head()"
   ]
  },
  {
   "cell_type": "code",
   "execution_count": 13,
   "metadata": {},
   "outputs": [
    {
     "data": {
      "text/plain": [
       "(2177, 15)"
      ]
     },
     "execution_count": 13,
     "metadata": {},
     "output_type": "execute_result"
    }
   ],
   "source": [
    "whole_data_for_one_month = pd.concat([weekday_data,weekend_data_for_one_month])\n",
    "whole_data_for_one_month.shape"
   ]
  },
  {
   "cell_type": "code",
   "execution_count": 14,
   "metadata": {},
   "outputs": [
    {
     "data": {
      "text/plain": [
       "Weekday    1377\n",
       "Weekend     800\n",
       "Name: Day Type, dtype: int64"
      ]
     },
     "execution_count": 14,
     "metadata": {},
     "output_type": "execute_result"
    }
   ],
   "source": [
    "whole_data_for_one_month['Day Type'].value_counts()"
   ]
  },
  {
   "cell_type": "markdown",
   "metadata": {},
   "source": [
    "### Here we have final data for 6 months for each day whether its weekday or weekend.\n"
   ]
  },
  {
   "cell_type": "code",
   "execution_count": 15,
   "metadata": {},
   "outputs": [
    {
     "data": {
      "text/html": [
       "<div>\n",
       "<style scoped>\n",
       "    .dataframe tbody tr th:only-of-type {\n",
       "        vertical-align: middle;\n",
       "    }\n",
       "\n",
       "    .dataframe tbody tr th {\n",
       "        vertical-align: top;\n",
       "    }\n",
       "\n",
       "    .dataframe thead th {\n",
       "        text-align: right;\n",
       "    }\n",
       "</style>\n",
       "<table border=\"1\" class=\"dataframe\">\n",
       "  <thead>\n",
       "    <tr style=\"text-align: right;\">\n",
       "      <th></th>\n",
       "      <th>StoreCode</th>\n",
       "      <th>DTS</th>\n",
       "      <th>Shift</th>\n",
       "      <th>Day Type</th>\n",
       "      <th>Day</th>\n",
       "      <th>Month</th>\n",
       "      <th>Date</th>\n",
       "      <th>Year</th>\n",
       "      <th>Time</th>\n",
       "      <th>TicketCode</th>\n",
       "      <th>PartySize</th>\n",
       "      <th>MenuCateogry</th>\n",
       "      <th>MenuItem</th>\n",
       "      <th>ItemPrice</th>\n",
       "      <th>ItemQty</th>\n",
       "    </tr>\n",
       "  </thead>\n",
       "  <tbody>\n",
       "    <tr>\n",
       "      <td>5207</td>\n",
       "      <td>YALEV6B6K4</td>\n",
       "      <td>2019-01-01 19:00:00</td>\n",
       "      <td>Dinner</td>\n",
       "      <td>Weekday</td>\n",
       "      <td>Tuesday</td>\n",
       "      <td>1</td>\n",
       "      <td>1</td>\n",
       "      <td>2019</td>\n",
       "      <td>7:00PM</td>\n",
       "      <td>YALE0009</td>\n",
       "      <td>5</td>\n",
       "      <td>BREADS</td>\n",
       "      <td>TANDOORI ROTI</td>\n",
       "      <td>2.75</td>\n",
       "      <td>2</td>\n",
       "    </tr>\n",
       "    <tr>\n",
       "      <td>3932</td>\n",
       "      <td>YALEV6B6K4</td>\n",
       "      <td>2019-01-01 19:00:00</td>\n",
       "      <td>Dinner</td>\n",
       "      <td>Weekday</td>\n",
       "      <td>Tuesday</td>\n",
       "      <td>1</td>\n",
       "      <td>1</td>\n",
       "      <td>2019</td>\n",
       "      <td>7:00PM</td>\n",
       "      <td>YALE0009</td>\n",
       "      <td>5</td>\n",
       "      <td>VEGETABLE SPECIALS</td>\n",
       "      <td>SARSON DA SAAG</td>\n",
       "      <td>15</td>\n",
       "      <td>1</td>\n",
       "    </tr>\n",
       "    <tr>\n",
       "      <td>8358</td>\n",
       "      <td>YALEV6B6K3</td>\n",
       "      <td>2019-01-01 11:30:00</td>\n",
       "      <td>Lunch</td>\n",
       "      <td>Weekend</td>\n",
       "      <td>Friday</td>\n",
       "      <td>1</td>\n",
       "      <td>1</td>\n",
       "      <td>2019</td>\n",
       "      <td>11:30AM</td>\n",
       "      <td>YALE0001</td>\n",
       "      <td>4</td>\n",
       "      <td>BREADS</td>\n",
       "      <td>GARLIC NAAN</td>\n",
       "      <td>3.5</td>\n",
       "      <td>2</td>\n",
       "    </tr>\n",
       "    <tr>\n",
       "      <td>7829</td>\n",
       "      <td>YALEV6B6K4</td>\n",
       "      <td>2019-01-02 20:15:00</td>\n",
       "      <td>Dinner</td>\n",
       "      <td>Weekday</td>\n",
       "      <td>Wednesday</td>\n",
       "      <td>1</td>\n",
       "      <td>1</td>\n",
       "      <td>2019</td>\n",
       "      <td>8:30PM</td>\n",
       "      <td>UBER005</td>\n",
       "      <td>na</td>\n",
       "      <td>BREADS</td>\n",
       "      <td>TANDOORI ROTI</td>\n",
       "      <td>2.75</td>\n",
       "      <td>1</td>\n",
       "    </tr>\n",
       "    <tr>\n",
       "      <td>7878</td>\n",
       "      <td>YALEV6B6K4</td>\n",
       "      <td>2019-01-02 20:15:00</td>\n",
       "      <td>Dinner</td>\n",
       "      <td>Weekday</td>\n",
       "      <td>Wednesday</td>\n",
       "      <td>1</td>\n",
       "      <td>1</td>\n",
       "      <td>2019</td>\n",
       "      <td>8:30PM</td>\n",
       "      <td>UBER005</td>\n",
       "      <td>na</td>\n",
       "      <td>BREADS</td>\n",
       "      <td>NAAN</td>\n",
       "      <td>2.75</td>\n",
       "      <td>4</td>\n",
       "    </tr>\n",
       "  </tbody>\n",
       "</table>\n",
       "</div>"
      ],
      "text/plain": [
       "       StoreCode                 DTS   Shift Day Type        Day Month Date  \\\n",
       "5207  YALEV6B6K4 2019-01-01 19:00:00  Dinner  Weekday    Tuesday     1    1   \n",
       "3932  YALEV6B6K4 2019-01-01 19:00:00  Dinner  Weekday    Tuesday     1    1   \n",
       "8358  YALEV6B6K3 2019-01-01 11:30:00   Lunch  Weekend     Friday     1    1   \n",
       "7829  YALEV6B6K4 2019-01-02 20:15:00  Dinner  Weekday  Wednesday     1    1   \n",
       "7878  YALEV6B6K4 2019-01-02 20:15:00  Dinner  Weekday  Wednesday     1    1   \n",
       "\n",
       "      Year     Time TicketCode PartySize        MenuCateogry        MenuItem  \\\n",
       "5207  2019   7:00PM   YALE0009         5              BREADS   TANDOORI ROTI   \n",
       "3932  2019   7:00PM   YALE0009         5  VEGETABLE SPECIALS  SARSON DA SAAG   \n",
       "8358  2019  11:30AM   YALE0001         4              BREADS     GARLIC NAAN   \n",
       "7829  2019   8:30PM    UBER005        na              BREADS   TANDOORI ROTI   \n",
       "7878  2019   8:30PM    UBER005        na              BREADS            NAAN   \n",
       "\n",
       "     ItemPrice ItemQty  \n",
       "5207      2.75       2  \n",
       "3932        15       1  \n",
       "8358       3.5       2  \n",
       "7829      2.75       1  \n",
       "7878      2.75       4  "
      ]
     },
     "execution_count": 15,
     "metadata": {},
     "output_type": "execute_result"
    }
   ],
   "source": [
    "final_df = pd.DataFrame(np.repeat(whole_data_for_one_month.values,6,axis=0))\n",
    "final_df.columns = df.columns\n",
    "final_df.sample(5)\n"
   ]
  },
  {
   "cell_type": "markdown",
   "metadata": {},
   "source": [
    "### Data Cleaning and preprocessing"
   ]
  },
  {
   "cell_type": "code",
   "execution_count": 16,
   "metadata": {},
   "outputs": [
    {
     "data": {
      "text/plain": [
       "Weekday    8262\n",
       "Weekend    4800\n",
       "Name: Day Type, dtype: int64"
      ]
     },
     "execution_count": 16,
     "metadata": {},
     "output_type": "execute_result"
    }
   ],
   "source": [
    "final_df['Day Type'].value_counts()"
   ]
  },
  {
   "cell_type": "code",
   "execution_count": null,
   "metadata": {},
   "outputs": [],
   "source": [
    "one_size = final_df.shape[0]//6\n",
    "final_df.iloc[one_size:one_size+one_size]['Month'] = final_df.iloc[one_size:one_size+one_size]['Month'].apply(lambda x: str(x).replace('1','2'))\n",
    "final_df.iloc[one_size*2:one_size*3]['Month'] = final_df.iloc[one_size*2:one_size*3]['Month'].apply(lambda x: str(x).replace('1','3'))\n",
    "final_df.iloc[one_size*3:one_size*4]['Month'] = final_df.iloc[one_size*3:one_size*4]['Month'].apply(lambda x: str(x).replace('1','4'))\n",
    "final_df.iloc[one_size*4:one_size*5]['Month'] = final_df.iloc[one_size*4:one_size*5]['Month'].apply(lambda x: str(x).replace('1','5'))\n",
    "final_df.iloc[one_size*5:one_size*6]['Month'] = final_df.iloc[one_size*5:one_size*6]['Month'].apply(lambda x: str(x).replace('1','6'))\n"
   ]
  },
  {
   "cell_type": "code",
   "execution_count": 18,
   "metadata": {},
   "outputs": [],
   "source": [
    "hotel_data = final_df.drop(['StoreCode','DTS','Day','Date','Year','Time','TicketCode'],1)"
   ]
  },
  {
   "cell_type": "code",
   "execution_count": 19,
   "metadata": {},
   "outputs": [
    {
     "data": {
      "text/plain": [
       "5     4440\n",
       "na    3276\n",
       "3     2580\n",
       "2     1566\n",
       "4     1200\n",
       "Name: PartySize, dtype: int64"
      ]
     },
     "execution_count": 19,
     "metadata": {},
     "output_type": "execute_result"
    }
   ],
   "source": [
    "hotel_data['PartySize'].value_counts()"
   ]
  },
  {
   "cell_type": "code",
   "execution_count": 20,
   "metadata": {},
   "outputs": [],
   "source": [
    "hotel_data['PartySize'] = hotel_data['PartySize'].apply(lambda x:str(x).replace('na','1'))"
   ]
  },
  {
   "cell_type": "code",
   "execution_count": 21,
   "metadata": {},
   "outputs": [
    {
     "data": {
      "text/plain": [
       "5    4440\n",
       "1    3276\n",
       "3    2580\n",
       "2    1566\n",
       "4    1200\n",
       "Name: PartySize, dtype: int64"
      ]
     },
     "execution_count": 21,
     "metadata": {},
     "output_type": "execute_result"
    }
   ],
   "source": [
    "hotel_data['PartySize'].value_counts()"
   ]
  },
  {
   "cell_type": "code",
   "execution_count": 22,
   "metadata": {},
   "outputs": [
    {
     "data": {
      "text/html": [
       "<div>\n",
       "<style scoped>\n",
       "    .dataframe tbody tr th:only-of-type {\n",
       "        vertical-align: middle;\n",
       "    }\n",
       "\n",
       "    .dataframe tbody tr th {\n",
       "        vertical-align: top;\n",
       "    }\n",
       "\n",
       "    .dataframe thead th {\n",
       "        text-align: right;\n",
       "    }\n",
       "</style>\n",
       "<table border=\"1\" class=\"dataframe\">\n",
       "  <thead>\n",
       "    <tr style=\"text-align: right;\">\n",
       "      <th></th>\n",
       "      <th>Shift</th>\n",
       "      <th>Day Type</th>\n",
       "      <th>Month</th>\n",
       "      <th>PartySize</th>\n",
       "      <th>MenuCateogry</th>\n",
       "      <th>MenuItem</th>\n",
       "      <th>ItemPrice</th>\n",
       "      <th>ItemQty</th>\n",
       "    </tr>\n",
       "  </thead>\n",
       "  <tbody>\n",
       "    <tr>\n",
       "      <td>6673</td>\n",
       "      <td>Dinner</td>\n",
       "      <td>Weekday</td>\n",
       "      <td>4</td>\n",
       "      <td>2</td>\n",
       "      <td>BREADS</td>\n",
       "      <td>NAAN</td>\n",
       "      <td>2.75</td>\n",
       "      <td>1</td>\n",
       "    </tr>\n",
       "    <tr>\n",
       "      <td>1703</td>\n",
       "      <td>Lunch</td>\n",
       "      <td>Weekday</td>\n",
       "      <td>1</td>\n",
       "      <td>1</td>\n",
       "      <td>VEGETABLE SPECIALS</td>\n",
       "      <td>KADAHI PANEER</td>\n",
       "      <td>16</td>\n",
       "      <td>2</td>\n",
       "    </tr>\n",
       "    <tr>\n",
       "      <td>341</td>\n",
       "      <td>Lunch</td>\n",
       "      <td>Weekday</td>\n",
       "      <td>1</td>\n",
       "      <td>2</td>\n",
       "      <td>CHICKEN SPECIALS</td>\n",
       "      <td>CHICKEN TIKKA MASALA</td>\n",
       "      <td>18</td>\n",
       "      <td>1</td>\n",
       "    </tr>\n",
       "  </tbody>\n",
       "</table>\n",
       "</div>"
      ],
      "text/plain": [
       "       Shift Day Type Month PartySize        MenuCateogry  \\\n",
       "6673  Dinner  Weekday     4         2              BREADS   \n",
       "1703   Lunch  Weekday     1         1  VEGETABLE SPECIALS   \n",
       "341    Lunch  Weekday     1         2    CHICKEN SPECIALS   \n",
       "\n",
       "                  MenuItem ItemPrice ItemQty  \n",
       "6673                  NAAN      2.75       1  \n",
       "1703         KADAHI PANEER        16       2  \n",
       "341   CHICKEN TIKKA MASALA        18       1  "
      ]
     },
     "execution_count": 22,
     "metadata": {},
     "output_type": "execute_result"
    }
   ],
   "source": [
    "hotel_data.sample(3)"
   ]
  },
  {
   "cell_type": "markdown",
   "metadata": {},
   "source": [
    "### Analysing variables of Data set Univariately"
   ]
  },
  {
   "cell_type": "code",
   "execution_count": 23,
   "metadata": {},
   "outputs": [
    {
     "data": {
      "image/png": "[encoded data removed]",
      "text/plain": [
       "<Figure size 1296x864 with 4 Axes>"
      ]
     },
     "metadata": {
      "needs_background": "light"
     },
     "output_type": "display_data"
    }
   ],
   "source": [
    "fig,ax = plt.subplots(2,2,figsize=(18,12))\n",
    "sns.countplot(hotel_data.Shift,ax=ax[0][0])\n",
    "\n",
    "g= sns.countplot('MenuCateogry',data=hotel_data,ax=ax[0][1])\n",
    "g.set_xticklabels(hotel_data.MenuCateogry.value_counts().index,rotation=20)\n",
    "\n",
    "sns.countplot('Day Type',data=hotel_data,ax=ax[1][0])\n",
    "sns.countplot('PartySize',data=hotel_data,ax=ax[1][1])\n",
    "\n",
    "plt.show()"
   ]
  },
  {
   "cell_type": "code",
   "execution_count": 24,
   "metadata": {},
   "outputs": [
    {
     "data": {
      "text/plain": [
       "<matplotlib.axes._subplots.AxesSubplot at 0x11d47f88>"
      ]
     },
     "execution_count": 24,
     "metadata": {},
     "output_type": "execute_result"
    },
    {
     "data": {
      "image/png": "[encoded data removed]",
      "text/plain": [
       "<Figure size 432x288 with 1 Axes>"
      ]
     },
     "metadata": {
      "needs_background": "light"
     },
     "output_type": "display_data"
    }
   ],
   "source": [
    "hotel_data.groupby('MenuCateogry').agg({'MenuItem':'count'}).plot.barh()"
   ]
  },
  {
   "cell_type": "code",
   "execution_count": 25,
   "metadata": {},
   "outputs": [
    {
     "data": {
      "image/png": "[encoded data removed]",
      "text/plain": [
       "<Figure size 432x288 with 1 Axes>"
      ]
     },
     "metadata": {
      "needs_background": "light"
     },
     "output_type": "display_data"
    },
    {
     "data": {
      "text/plain": [
       "<Figure size 864x360 with 0 Axes>"
      ]
     },
     "metadata": {},
     "output_type": "display_data"
    }
   ],
   "source": [
    "hotel_data.groupby('MenuItem').agg({'ItemQty':'count'}).reset_index().plot.bar()\n",
    "plt.figure(figsize=(12,5))\n",
    "# f = sns.countplot(h['ItemQty'])\n",
    "#f.set_xticklabels(h.MenuItem.value_counts().index,rotation=90)\n",
    "\n",
    "plt.show()"
   ]
  },
  {
   "cell_type": "code",
   "execution_count": 26,
   "metadata": {},
   "outputs": [
    {
     "data": {
      "text/html": [
       "<div>\n",
       "<style scoped>\n",
       "    .dataframe tbody tr th:only-of-type {\n",
       "        vertical-align: middle;\n",
       "    }\n",
       "\n",
       "    .dataframe tbody tr th {\n",
       "        vertical-align: top;\n",
       "    }\n",
       "\n",
       "    .dataframe thead th {\n",
       "        text-align: right;\n",
       "    }\n",
       "</style>\n",
       "<table border=\"1\" class=\"dataframe\">\n",
       "  <thead>\n",
       "    <tr style=\"text-align: right;\">\n",
       "      <th></th>\n",
       "      <th>Shift</th>\n",
       "      <th>Day Type</th>\n",
       "      <th>Month</th>\n",
       "      <th>PartySize</th>\n",
       "      <th>MenuCateogry</th>\n",
       "      <th>MenuItem</th>\n",
       "      <th>ItemPrice</th>\n",
       "      <th>ItemQty</th>\n",
       "    </tr>\n",
       "  </thead>\n",
       "  <tbody>\n",
       "    <tr>\n",
       "      <td>0</td>\n",
       "      <td>Lunch</td>\n",
       "      <td>Weekday</td>\n",
       "      <td>1</td>\n",
       "      <td>4</td>\n",
       "      <td>Starter</td>\n",
       "      <td>GOBI MANCHURIAN</td>\n",
       "      <td>14</td>\n",
       "      <td>1</td>\n",
       "    </tr>\n",
       "    <tr>\n",
       "      <td>1</td>\n",
       "      <td>Lunch</td>\n",
       "      <td>Weekday</td>\n",
       "      <td>1</td>\n",
       "      <td>4</td>\n",
       "      <td>Starter</td>\n",
       "      <td>GOBI MANCHURIAN</td>\n",
       "      <td>14</td>\n",
       "      <td>1</td>\n",
       "    </tr>\n",
       "    <tr>\n",
       "      <td>2</td>\n",
       "      <td>Lunch</td>\n",
       "      <td>Weekday</td>\n",
       "      <td>1</td>\n",
       "      <td>4</td>\n",
       "      <td>Starter</td>\n",
       "      <td>GOBI MANCHURIAN</td>\n",
       "      <td>14</td>\n",
       "      <td>1</td>\n",
       "    </tr>\n",
       "    <tr>\n",
       "      <td>3</td>\n",
       "      <td>Lunch</td>\n",
       "      <td>Weekday</td>\n",
       "      <td>1</td>\n",
       "      <td>4</td>\n",
       "      <td>Starter</td>\n",
       "      <td>GOBI MANCHURIAN</td>\n",
       "      <td>14</td>\n",
       "      <td>1</td>\n",
       "    </tr>\n",
       "    <tr>\n",
       "      <td>4</td>\n",
       "      <td>Lunch</td>\n",
       "      <td>Weekday</td>\n",
       "      <td>1</td>\n",
       "      <td>4</td>\n",
       "      <td>Starter</td>\n",
       "      <td>GOBI MANCHURIAN</td>\n",
       "      <td>14</td>\n",
       "      <td>1</td>\n",
       "    </tr>\n",
       "  </tbody>\n",
       "</table>\n",
       "</div>"
      ],
      "text/plain": [
       "   Shift Day Type Month PartySize MenuCateogry         MenuItem ItemPrice  \\\n",
       "0  Lunch  Weekday     1         4      Starter  GOBI MANCHURIAN        14   \n",
       "1  Lunch  Weekday     1         4      Starter  GOBI MANCHURIAN        14   \n",
       "2  Lunch  Weekday     1         4      Starter  GOBI MANCHURIAN        14   \n",
       "3  Lunch  Weekday     1         4      Starter  GOBI MANCHURIAN        14   \n",
       "4  Lunch  Weekday     1         4      Starter  GOBI MANCHURIAN        14   \n",
       "\n",
       "  ItemQty  \n",
       "0       1  \n",
       "1       1  \n",
       "2       1  \n",
       "3       1  \n",
       "4       1  "
      ]
     },
     "execution_count": 26,
     "metadata": {},
     "output_type": "execute_result"
    }
   ],
   "source": [
    "hotel_data.head()"
   ]
  },
  {
   "cell_type": "code",
   "execution_count": null,
   "metadata": {},
   "outputs": [],
   "source": [
    "hotel_data = hotel_data.drop(['PartySize','MenuCateogry'],1)\n",
    "#hotel_data['Month'] = hotel_data['Month'].dt.month"
   ]
  },
  {
   "cell_type": "code",
   "execution_count": 29,
   "metadata": {},
   "outputs": [
    {
     "data": {
      "text/html": [
       "<div>\n",
       "<style scoped>\n",
       "    .dataframe tbody tr th:only-of-type {\n",
       "        vertical-align: middle;\n",
       "    }\n",
       "\n",
       "    .dataframe tbody tr th {\n",
       "        vertical-align: top;\n",
       "    }\n",
       "\n",
       "    .dataframe thead th {\n",
       "        text-align: right;\n",
       "    }\n",
       "</style>\n",
       "<table border=\"1\" class=\"dataframe\">\n",
       "  <thead>\n",
       "    <tr style=\"text-align: right;\">\n",
       "      <th></th>\n",
       "      <th>Shift</th>\n",
       "      <th>Day Type</th>\n",
       "      <th>Month</th>\n",
       "      <th>MenuItem</th>\n",
       "      <th>ItemPrice</th>\n",
       "      <th>ItemQty</th>\n",
       "    </tr>\n",
       "  </thead>\n",
       "  <tbody>\n",
       "    <tr>\n",
       "      <td>5387</td>\n",
       "      <td>Dinner</td>\n",
       "      <td>Weekday</td>\n",
       "      <td>3</td>\n",
       "      <td>KHEER</td>\n",
       "      <td>7</td>\n",
       "      <td>1</td>\n",
       "    </tr>\n",
       "    <tr>\n",
       "      <td>4658</td>\n",
       "      <td>Dinner</td>\n",
       "      <td>Weekday</td>\n",
       "      <td>3</td>\n",
       "      <td>TIKKA RICE BOWL : PANEER | CHICKEN</td>\n",
       "      <td>18</td>\n",
       "      <td>2</td>\n",
       "    </tr>\n",
       "    <tr>\n",
       "      <td>11322</td>\n",
       "      <td>Lunch</td>\n",
       "      <td>Weekend</td>\n",
       "      <td>6</td>\n",
       "      <td>RASMALAI</td>\n",
       "      <td>6</td>\n",
       "      <td>2</td>\n",
       "    </tr>\n",
       "    <tr>\n",
       "      <td>7115</td>\n",
       "      <td>Dinner</td>\n",
       "      <td>Weekday</td>\n",
       "      <td>4</td>\n",
       "      <td>RICE</td>\n",
       "      <td>5</td>\n",
       "      <td>1</td>\n",
       "    </tr>\n",
       "    <tr>\n",
       "      <td>3933</td>\n",
       "      <td>Dinner</td>\n",
       "      <td>Weekday</td>\n",
       "      <td>2</td>\n",
       "      <td>SARSON DA SAAG</td>\n",
       "      <td>15</td>\n",
       "      <td>1</td>\n",
       "    </tr>\n",
       "  </tbody>\n",
       "</table>\n",
       "</div>"
      ],
      "text/plain": [
       "        Shift Day Type Month                            MenuItem ItemPrice  \\\n",
       "5387   Dinner  Weekday     3                               KHEER         7   \n",
       "4658   Dinner  Weekday     3  TIKKA RICE BOWL : PANEER | CHICKEN        18   \n",
       "11322   Lunch  Weekend     6                            RASMALAI         6   \n",
       "7115   Dinner  Weekday     4                                RICE         5   \n",
       "3933   Dinner  Weekday     2                      SARSON DA SAAG        15   \n",
       "\n",
       "      ItemQty  \n",
       "5387        1  \n",
       "4658        2  \n",
       "11322       2  \n",
       "7115        1  \n",
       "3933        1  "
      ]
     },
     "execution_count": 29,
     "metadata": {},
     "output_type": "execute_result"
    }
   ],
   "source": [
    "hotel_data.sample(5)"
   ]
  },
  {
   "cell_type": "code",
   "execution_count": 30,
   "metadata": {},
   "outputs": [
    {
     "data": {
      "text/html": [
       "<div>\n",
       "<style scoped>\n",
       "    .dataframe tbody tr th:only-of-type {\n",
       "        vertical-align: middle;\n",
       "    }\n",
       "\n",
       "    .dataframe tbody tr th {\n",
       "        vertical-align: top;\n",
       "    }\n",
       "\n",
       "    .dataframe thead th {\n",
       "        text-align: right;\n",
       "    }\n",
       "</style>\n",
       "<table border=\"1\" class=\"dataframe\">\n",
       "  <thead>\n",
       "    <tr style=\"text-align: right;\">\n",
       "      <th></th>\n",
       "      <th>Shift</th>\n",
       "      <th>Day Type</th>\n",
       "      <th>Month</th>\n",
       "      <th>ItemQty</th>\n",
       "    </tr>\n",
       "  </thead>\n",
       "  <tbody>\n",
       "    <tr>\n",
       "      <td>0</td>\n",
       "      <td>Lunch</td>\n",
       "      <td>Weekday</td>\n",
       "      <td>1</td>\n",
       "      <td>1</td>\n",
       "    </tr>\n",
       "    <tr>\n",
       "      <td>1</td>\n",
       "      <td>Lunch</td>\n",
       "      <td>Weekday</td>\n",
       "      <td>1</td>\n",
       "      <td>1</td>\n",
       "    </tr>\n",
       "    <tr>\n",
       "      <td>2</td>\n",
       "      <td>Lunch</td>\n",
       "      <td>Weekday</td>\n",
       "      <td>1</td>\n",
       "      <td>1</td>\n",
       "    </tr>\n",
       "    <tr>\n",
       "      <td>3</td>\n",
       "      <td>Lunch</td>\n",
       "      <td>Weekday</td>\n",
       "      <td>1</td>\n",
       "      <td>1</td>\n",
       "    </tr>\n",
       "    <tr>\n",
       "      <td>4</td>\n",
       "      <td>Lunch</td>\n",
       "      <td>Weekday</td>\n",
       "      <td>1</td>\n",
       "      <td>1</td>\n",
       "    </tr>\n",
       "  </tbody>\n",
       "</table>\n",
       "</div>"
      ],
      "text/plain": [
       "   Shift Day Type Month ItemQty\n",
       "0  Lunch  Weekday     1       1\n",
       "1  Lunch  Weekday     1       1\n",
       "2  Lunch  Weekday     1       1\n",
       "3  Lunch  Weekday     1       1\n",
       "4  Lunch  Weekday     1       1"
      ]
     },
     "execution_count": 30,
     "metadata": {},
     "output_type": "execute_result"
    }
   ],
   "source": [
    "hotel_data_1 = hotel_data.drop(['MenuItem','ItemPrice'],1)\n",
    "hotel_data_1.head()"
   ]
  },
  {
   "cell_type": "code",
   "execution_count": 31,
   "metadata": {},
   "outputs": [
    {
     "data": {
      "text/html": [
       "<div>\n",
       "<style scoped>\n",
       "    .dataframe tbody tr th:only-of-type {\n",
       "        vertical-align: middle;\n",
       "    }\n",
       "\n",
       "    .dataframe tbody tr th {\n",
       "        vertical-align: top;\n",
       "    }\n",
       "\n",
       "    .dataframe thead th {\n",
       "        text-align: right;\n",
       "    }\n",
       "</style>\n",
       "<table border=\"1\" class=\"dataframe\">\n",
       "  <thead>\n",
       "    <tr style=\"text-align: right;\">\n",
       "      <th></th>\n",
       "      <th>Shift</th>\n",
       "      <th>Day Type</th>\n",
       "      <th>Month</th>\n",
       "      <th>MenuItem</th>\n",
       "    </tr>\n",
       "  </thead>\n",
       "  <tbody>\n",
       "    <tr>\n",
       "      <td>0</td>\n",
       "      <td>Lunch</td>\n",
       "      <td>Weekday</td>\n",
       "      <td>1</td>\n",
       "      <td>GOBI MANCHURIAN</td>\n",
       "    </tr>\n",
       "    <tr>\n",
       "      <td>1</td>\n",
       "      <td>Lunch</td>\n",
       "      <td>Weekday</td>\n",
       "      <td>1</td>\n",
       "      <td>GOBI MANCHURIAN</td>\n",
       "    </tr>\n",
       "    <tr>\n",
       "      <td>2</td>\n",
       "      <td>Lunch</td>\n",
       "      <td>Weekday</td>\n",
       "      <td>1</td>\n",
       "      <td>GOBI MANCHURIAN</td>\n",
       "    </tr>\n",
       "    <tr>\n",
       "      <td>3</td>\n",
       "      <td>Lunch</td>\n",
       "      <td>Weekday</td>\n",
       "      <td>1</td>\n",
       "      <td>GOBI MANCHURIAN</td>\n",
       "    </tr>\n",
       "    <tr>\n",
       "      <td>4</td>\n",
       "      <td>Lunch</td>\n",
       "      <td>Weekday</td>\n",
       "      <td>1</td>\n",
       "      <td>GOBI MANCHURIAN</td>\n",
       "    </tr>\n",
       "  </tbody>\n",
       "</table>\n",
       "</div>"
      ],
      "text/plain": [
       "   Shift Day Type Month         MenuItem\n",
       "0  Lunch  Weekday     1  GOBI MANCHURIAN\n",
       "1  Lunch  Weekday     1  GOBI MANCHURIAN\n",
       "2  Lunch  Weekday     1  GOBI MANCHURIAN\n",
       "3  Lunch  Weekday     1  GOBI MANCHURIAN\n",
       "4  Lunch  Weekday     1  GOBI MANCHURIAN"
      ]
     },
     "execution_count": 31,
     "metadata": {},
     "output_type": "execute_result"
    }
   ],
   "source": [
    "hotel_data_2 = hotel_data.drop(['ItemPrice','ItemQty'],1)\n",
    "hotel_data_2.head()"
   ]
  },
  {
   "cell_type": "markdown",
   "metadata": {},
   "source": [
    "### Now we have two data sets foe hotel_data_1 we need to create regression model\n",
    "### for Second data set we have to find what is more probable to get ordered classification model."
   ]
  },
  {
   "cell_type": "code",
   "execution_count": 32,
   "metadata": {},
   "outputs": [
    {
     "data": {
      "text/html": [
       "<div>\n",
       "<style scoped>\n",
       "    .dataframe tbody tr th:only-of-type {\n",
       "        vertical-align: middle;\n",
       "    }\n",
       "\n",
       "    .dataframe tbody tr th {\n",
       "        vertical-align: top;\n",
       "    }\n",
       "\n",
       "    .dataframe thead th {\n",
       "        text-align: right;\n",
       "    }\n",
       "</style>\n",
       "<table border=\"1\" class=\"dataframe\">\n",
       "  <thead>\n",
       "    <tr style=\"text-align: right;\">\n",
       "      <th></th>\n",
       "      <th>Shift</th>\n",
       "      <th>Day Type</th>\n",
       "      <th>Month</th>\n",
       "      <th>ItemQty</th>\n",
       "    </tr>\n",
       "  </thead>\n",
       "  <tbody>\n",
       "    <tr>\n",
       "      <td>0</td>\n",
       "      <td>Lunch</td>\n",
       "      <td>Weekday</td>\n",
       "      <td>1</td>\n",
       "      <td>1</td>\n",
       "    </tr>\n",
       "    <tr>\n",
       "      <td>1</td>\n",
       "      <td>Lunch</td>\n",
       "      <td>Weekday</td>\n",
       "      <td>1</td>\n",
       "      <td>1</td>\n",
       "    </tr>\n",
       "    <tr>\n",
       "      <td>2</td>\n",
       "      <td>Lunch</td>\n",
       "      <td>Weekday</td>\n",
       "      <td>1</td>\n",
       "      <td>1</td>\n",
       "    </tr>\n",
       "    <tr>\n",
       "      <td>3</td>\n",
       "      <td>Lunch</td>\n",
       "      <td>Weekday</td>\n",
       "      <td>1</td>\n",
       "      <td>1</td>\n",
       "    </tr>\n",
       "    <tr>\n",
       "      <td>4</td>\n",
       "      <td>Lunch</td>\n",
       "      <td>Weekday</td>\n",
       "      <td>1</td>\n",
       "      <td>1</td>\n",
       "    </tr>\n",
       "  </tbody>\n",
       "</table>\n",
       "</div>"
      ],
      "text/plain": [
       "   Shift Day Type Month ItemQty\n",
       "0  Lunch  Weekday     1       1\n",
       "1  Lunch  Weekday     1       1\n",
       "2  Lunch  Weekday     1       1\n",
       "3  Lunch  Weekday     1       1\n",
       "4  Lunch  Weekday     1       1"
      ]
     },
     "execution_count": 32,
     "metadata": {},
     "output_type": "execute_result"
    }
   ],
   "source": [
    "hotel_data_1.head()"
   ]
  },
  {
   "cell_type": "code",
   "execution_count": 33,
   "metadata": {},
   "outputs": [
    {
     "data": {
      "text/html": [
       "<div>\n",
       "<style scoped>\n",
       "    .dataframe tbody tr th:only-of-type {\n",
       "        vertical-align: middle;\n",
       "    }\n",
       "\n",
       "    .dataframe tbody tr th {\n",
       "        vertical-align: top;\n",
       "    }\n",
       "\n",
       "    .dataframe thead th {\n",
       "        text-align: right;\n",
       "    }\n",
       "</style>\n",
       "<table border=\"1\" class=\"dataframe\">\n",
       "  <thead>\n",
       "    <tr style=\"text-align: right;\">\n",
       "      <th></th>\n",
       "      <th>Shift</th>\n",
       "      <th>Day Type</th>\n",
       "      <th>Month</th>\n",
       "      <th>ItemQty</th>\n",
       "    </tr>\n",
       "  </thead>\n",
       "  <tbody>\n",
       "    <tr>\n",
       "      <td>0</td>\n",
       "      <td>1</td>\n",
       "      <td>0</td>\n",
       "      <td>1</td>\n",
       "      <td>1</td>\n",
       "    </tr>\n",
       "    <tr>\n",
       "      <td>1</td>\n",
       "      <td>1</td>\n",
       "      <td>0</td>\n",
       "      <td>1</td>\n",
       "      <td>1</td>\n",
       "    </tr>\n",
       "    <tr>\n",
       "      <td>2</td>\n",
       "      <td>1</td>\n",
       "      <td>0</td>\n",
       "      <td>1</td>\n",
       "      <td>1</td>\n",
       "    </tr>\n",
       "    <tr>\n",
       "      <td>3</td>\n",
       "      <td>1</td>\n",
       "      <td>0</td>\n",
       "      <td>1</td>\n",
       "      <td>1</td>\n",
       "    </tr>\n",
       "    <tr>\n",
       "      <td>4</td>\n",
       "      <td>1</td>\n",
       "      <td>0</td>\n",
       "      <td>1</td>\n",
       "      <td>1</td>\n",
       "    </tr>\n",
       "  </tbody>\n",
       "</table>\n",
       "</div>"
      ],
      "text/plain": [
       "   Shift  Day Type Month ItemQty\n",
       "0      1         0     1       1\n",
       "1      1         0     1       1\n",
       "2      1         0     1       1\n",
       "3      1         0     1       1\n",
       "4      1         0     1       1"
      ]
     },
     "execution_count": 33,
     "metadata": {},
     "output_type": "execute_result"
    }
   ],
   "source": [
    "le = LabelEncoder()\n",
    "hotel_data_1['Shift'] = le.fit_transform(hotel_data_1['Shift'].values)\n",
    "hotel_data_1['Day Type'] = le.fit_transform(hotel_data_1['Day Type'].values)\n",
    "hotel_data_1.head()"
   ]
  },
  {
   "cell_type": "code",
   "execution_count": 34,
   "metadata": {},
   "outputs": [],
   "source": [
    "X = hotel_data_1.drop(['ItemQty'],1)\n",
    "y=  hotel_data_1['ItemQty']\n",
    "\n",
    "x_train, x_test, y_train, y_test = train_test_split(X,y, test_size =0.3, random_state = 0)\n"
   ]
  },
  {
   "cell_type": "code",
   "execution_count": 69,
   "metadata": {},
   "outputs": [],
   "source": [
    "## For 1st Data set\n",
    "## Fitting the model\n",
    "lin_reg = LinearRegression()\n",
    "model_reg = lin_reg.fit(x_train,y_train)"
   ]
  },
  {
   "cell_type": "code",
   "execution_count": 70,
   "metadata": {},
   "outputs": [
    {
     "data": {
      "text/plain": [
       "0.02725836130872139"
      ]
     },
     "execution_count": 70,
     "metadata": {},
     "output_type": "execute_result"
    }
   ],
   "source": [
    "model_reg.score(x_train,y_train)"
   ]
  },
  {
   "cell_type": "code",
   "execution_count": 71,
   "metadata": {},
   "outputs": [
    {
     "data": {
      "text/plain": [
       "0.02797483608489837"
      ]
     },
     "execution_count": 71,
     "metadata": {},
     "output_type": "execute_result"
    }
   ],
   "source": [
    "model_reg.score(x_test,y_test)"
   ]
  },
  {
   "cell_type": "code",
   "execution_count": 72,
   "metadata": {},
   "outputs": [
    {
     "data": {
      "text/plain": [
       "array([19., 22., 19., ..., 18., 22., 22.])"
      ]
     },
     "execution_count": 72,
     "metadata": {},
     "output_type": "execute_result"
    }
   ],
   "source": [
    "ypred = model_reg.predict(x_test)\n",
    "np.round(ypred)\n",
    "## GEtting the predicted values."
   ]
  },
  {
   "cell_type": "code",
   "execution_count": 73,
   "metadata": {},
   "outputs": [
    {
     "data": {
      "text/plain": [
       "9485     22\n",
       "2200     14\n",
       "10766     7\n",
       "4981     15\n",
       "3270     21\n",
       "         ..\n",
       "8818      8\n",
       "8594     17\n",
       "170      26\n",
       "3583     37\n",
       "3090     26\n",
       "Name: MenuItem, Length: 3919, dtype: int32"
      ]
     },
     "execution_count": 73,
     "metadata": {},
     "output_type": "execute_result"
    }
   ],
   "source": [
    "y_test"
   ]
  },
  {
   "cell_type": "code",
   "execution_count": 74,
   "metadata": {},
   "outputs": [
    {
     "data": {
      "text/plain": [
       "<matplotlib.axes._subplots.AxesSubplot at 0x57244c8>"
      ]
     },
     "execution_count": 74,
     "metadata": {},
     "output_type": "execute_result"
    },
    {
     "data": {
      "image/png": "[encoded data removed]",
      "text/plain": [
       "<Figure size 432x288 with 1 Axes>"
      ]
     },
     "metadata": {
      "needs_background": "light"
     },
     "output_type": "display_data"
    }
   ],
   "source": [
    "sns.distplot(np.round(ypred))"
   ]
  },
  {
   "cell_type": "code",
   "execution_count": 75,
   "metadata": {},
   "outputs": [
    {
     "data": {
      "text/plain": [
       "<matplotlib.axes._subplots.AxesSubplot at 0x14f9c348>"
      ]
     },
     "execution_count": 75,
     "metadata": {},
     "output_type": "execute_result"
    },
    {
     "data": {
      "image/png": "[encoded data removed]",
      "text/plain": [
       "<Figure size 432x288 with 1 Axes>"
      ]
     },
     "metadata": {
      "needs_background": "light"
     },
     "output_type": "display_data"
    }
   ],
   "source": [
    "sns.distplot(y_test)"
   ]
  },
  {
   "cell_type": "markdown",
   "metadata": {},
   "source": [
    "### We have chosen simple Linear regression as our Baseline modelfor our regression model due to less complexity . "
   ]
  },
  {
   "cell_type": "code",
   "execution_count": 45,
   "metadata": {},
   "outputs": [
    {
     "data": {
      "text/html": [
       "<div>\n",
       "<style scoped>\n",
       "    .dataframe tbody tr th:only-of-type {\n",
       "        vertical-align: middle;\n",
       "    }\n",
       "\n",
       "    .dataframe tbody tr th {\n",
       "        vertical-align: top;\n",
       "    }\n",
       "\n",
       "    .dataframe thead th {\n",
       "        text-align: right;\n",
       "    }\n",
       "</style>\n",
       "<table border=\"1\" class=\"dataframe\">\n",
       "  <thead>\n",
       "    <tr style=\"text-align: right;\">\n",
       "      <th></th>\n",
       "      <th>Shift</th>\n",
       "      <th>Day Type</th>\n",
       "      <th>Month</th>\n",
       "      <th>MenuItem</th>\n",
       "    </tr>\n",
       "  </thead>\n",
       "  <tbody>\n",
       "    <tr>\n",
       "      <td>0</td>\n",
       "      <td>1</td>\n",
       "      <td>0</td>\n",
       "      <td>1</td>\n",
       "      <td>16</td>\n",
       "    </tr>\n",
       "    <tr>\n",
       "      <td>1</td>\n",
       "      <td>1</td>\n",
       "      <td>0</td>\n",
       "      <td>1</td>\n",
       "      <td>16</td>\n",
       "    </tr>\n",
       "    <tr>\n",
       "      <td>2</td>\n",
       "      <td>1</td>\n",
       "      <td>0</td>\n",
       "      <td>1</td>\n",
       "      <td>16</td>\n",
       "    </tr>\n",
       "    <tr>\n",
       "      <td>3</td>\n",
       "      <td>1</td>\n",
       "      <td>0</td>\n",
       "      <td>1</td>\n",
       "      <td>16</td>\n",
       "    </tr>\n",
       "    <tr>\n",
       "      <td>4</td>\n",
       "      <td>1</td>\n",
       "      <td>0</td>\n",
       "      <td>1</td>\n",
       "      <td>16</td>\n",
       "    </tr>\n",
       "  </tbody>\n",
       "</table>\n",
       "</div>"
      ],
      "text/plain": [
       "   Shift  Day Type Month  MenuItem\n",
       "0      1         0     1        16\n",
       "1      1         0     1        16\n",
       "2      1         0     1        16\n",
       "3      1         0     1        16\n",
       "4      1         0     1        16"
      ]
     },
     "execution_count": 45,
     "metadata": {},
     "output_type": "execute_result"
    }
   ],
   "source": [
    "le = LabelEncoder()\n",
    "hotel_data_2['Shift'] = le.fit_transform(hotel_data_2['Shift'].values)\n",
    "hotel_data_2['Day Type'] = le.fit_transform(hotel_data_2['Day Type'].values)\n",
    "hotel_data_2['MenuItem'] = le.fit_transform(hotel_data_2['MenuItem'].values)\n",
    "\n",
    "hotel_data_2.head()\n",
    "X = "
   ]
  },
  {
   "cell_type": "code",
   "execution_count": 57,
   "metadata": {},
   "outputs": [],
   "source": [
    "X_cls = hotel_data_2.drop(['MenuItem'],1)\n",
    "y_cls=  hotel_data_2['MenuItem']\n"
   ]
  },
  {
   "cell_type": "code",
   "execution_count": 58,
   "metadata": {},
   "outputs": [
    {
     "name": "stdout",
     "output_type": "stream",
     "text": [
      "RF 0.038789155040800216 0.05847968991138033\n",
      "KNN 0.037759059401596906 0.09723526696697012\n",
      "CART 0.04453628147758181 0.08530592078645491\n"
     ]
    }
   ],
   "source": [
    "\n",
    "\n",
    "models = []\n",
    "\n",
    "models.append(('RF',RandomForestClassifier()))\n",
    "models.append(('KNN', KNeighborsClassifier()))\n",
    "models.append(('CART', DecisionTreeClassifier()))\n",
    "\n",
    "\n",
    "results = []\n",
    "names = []\n",
    "x=0\n",
    "c=0\n",
    "for name, model in models:\n",
    "   warnings.simplefilter(\"ignore\")\n",
    "   c=0\n",
    "   kfold = KFold(n_splits=50, random_state=0)\n",
    "   cv_results = cross_val_score(model, X_cls, y_cls, cv=kfold, scoring=\"accuracy\")\n",
    "   results.append(cv_results)\n",
    "   names.append(name)\n",
    "   print(name,cv_results.mean(), cv_results.std())"
   ]
  },
  {
   "cell_type": "markdown",
   "metadata": {},
   "source": [
    "### After comparing we can see that Random Forest is behaving fine with least standard deviation thus choosing Random Forest as the Baseline Model."
   ]
  },
  {
   "cell_type": "code",
   "execution_count": 61,
   "metadata": {},
   "outputs": [
    {
     "data": {
      "text/plain": [
       "array(['BUTTER CHICKEN', 'TASTY FLATBREAD', 'BUTTER CHICKEN', ...,\n",
       "       'GARLIC NAAN', 'TASTY FLATBREAD', 'TASTY FLATBREAD'], dtype=object)"
      ]
     },
     "execution_count": 61,
     "metadata": {},
     "output_type": "execute_result"
    }
   ],
   "source": [
    "X_train,X_test,Y_train,Y_test=train_test_split(X_cls,y_cls,test_size=0.3,random_state=0)\n",
    "\n",
    "clf = RandomForestClassifier()\n",
    "clf.fit(X_train, Y_train)\n",
    "\n",
    "y_pred = clf.predict(X_test)\n",
    "le.inverse_transform(y_pred)"
   ]
  },
  {
   "cell_type": "markdown",
   "metadata": {},
   "source": [
    "### Here we are just checking with self created data frame and printing the required result."
   ]
  },
  {
   "cell_type": "code",
   "execution_count": 111,
   "metadata": {},
   "outputs": [
    {
     "data": {
      "text/html": [
       "<div>\n",
       "<style scoped>\n",
       "    .dataframe tbody tr th:only-of-type {\n",
       "        vertical-align: middle;\n",
       "    }\n",
       "\n",
       "    .dataframe tbody tr th {\n",
       "        vertical-align: top;\n",
       "    }\n",
       "\n",
       "    .dataframe thead th {\n",
       "        text-align: right;\n",
       "    }\n",
       "</style>\n",
       "<table border=\"1\" class=\"dataframe\">\n",
       "  <thead>\n",
       "    <tr style=\"text-align: right;\">\n",
       "      <th></th>\n",
       "      <th>Shift</th>\n",
       "      <th>DayType</th>\n",
       "      <th>Month</th>\n",
       "    </tr>\n",
       "  </thead>\n",
       "  <tbody>\n",
       "    <tr>\n",
       "      <td>0</td>\n",
       "      <td>1</td>\n",
       "      <td>1</td>\n",
       "      <td>7</td>\n",
       "    </tr>\n",
       "    <tr>\n",
       "      <td>1</td>\n",
       "      <td>0</td>\n",
       "      <td>0</td>\n",
       "      <td>7</td>\n",
       "    </tr>\n",
       "    <tr>\n",
       "      <td>2</td>\n",
       "      <td>0</td>\n",
       "      <td>1</td>\n",
       "      <td>7</td>\n",
       "    </tr>\n",
       "  </tbody>\n",
       "</table>\n",
       "</div>"
      ],
      "text/plain": [
       "   Shift  DayType Month\n",
       "0      1        1     7\n",
       "1      0        0     7\n",
       "2      0        1     7"
      ]
     },
     "execution_count": 111,
     "metadata": {},
     "output_type": "execute_result"
    }
   ],
   "source": [
    "## Creating test data\n",
    "test_frame = pd.DataFrame({'Shift':['Lunch','Dinner','Dinner'],'DayType':['Weekend','WeekDay','Weekend'],'Month':['7','7','7']})\n",
    "test_frame['Shift'] = test_frame['Shift'].apply(lambda x:1 if x=='Lunch' else 0)\n",
    "test_frame['DayType']= test_frame['DayType'].apply(lambda x:0 if x=='WeekDay' else 1)\n",
    "test_frame\n"
   ]
  },
  {
   "cell_type": "code",
   "execution_count": 112,
   "metadata": {},
   "outputs": [
    {
     "data": {
      "text/plain": [
       "(3, 3)"
      ]
     },
     "execution_count": 112,
     "metadata": {},
     "output_type": "execute_result"
    }
   ],
   "source": [
    "test_frame.shape"
   ]
  },
  {
   "cell_type": "code",
   "execution_count": 113,
   "metadata": {},
   "outputs": [
    {
     "data": {
      "text/html": [
       "<div>\n",
       "<style scoped>\n",
       "    .dataframe tbody tr th:only-of-type {\n",
       "        vertical-align: middle;\n",
       "    }\n",
       "\n",
       "    .dataframe tbody tr th {\n",
       "        vertical-align: top;\n",
       "    }\n",
       "\n",
       "    .dataframe thead th {\n",
       "        text-align: right;\n",
       "    }\n",
       "</style>\n",
       "<table border=\"1\" class=\"dataframe\">\n",
       "  <thead>\n",
       "    <tr style=\"text-align: right;\">\n",
       "      <th></th>\n",
       "      <th>MenuItem</th>\n",
       "      <th>Item_Quantity</th>\n",
       "    </tr>\n",
       "  </thead>\n",
       "  <tbody>\n",
       "    <tr>\n",
       "      <td>0</td>\n",
       "      <td>[GARLIC NAAN]</td>\n",
       "      <td>[20.0]</td>\n",
       "    </tr>\n",
       "    <tr>\n",
       "      <td>1</td>\n",
       "      <td>[NAAN]</td>\n",
       "      <td>[24.0]</td>\n",
       "    </tr>\n",
       "    <tr>\n",
       "      <td>2</td>\n",
       "      <td>[GARLIC NAAN]</td>\n",
       "      <td>[23.0]</td>\n",
       "    </tr>\n",
       "  </tbody>\n",
       "</table>\n",
       "</div>"
      ],
      "text/plain": [
       "        MenuItem Item_Quantity\n",
       "0  [GARLIC NAAN]        [20.0]\n",
       "1         [NAAN]        [24.0]\n",
       "2  [GARLIC NAAN]        [23.0]"
      ]
     },
     "execution_count": 113,
     "metadata": {},
     "output_type": "execute_result"
    }
   ],
   "source": [
    "item_quantity = []\n",
    "menu_item=[]\n",
    "for i in range(test_frame.shape[0]):\n",
    "    item_quantity.append(np.round(model_reg.predict(test_frame.iloc[[i]])))\n",
    "    menu_item.append(le.inverse_transform(clf.predict(test_frame.iloc[[i]])))\n",
    "    \n",
    "pd.DataFrame({'MenuItem':menu_item,'Item_Quantity':item_quantity})\n",
    "    "
   ]
  },
  {
   "cell_type": "markdown",
   "metadata": {},
   "source": [
    "\n",
    "### Random Forest has been Chosen from Logistic ,Decision Tree and KNN . Now the reason being it will train the data and will be able to classify accurately with High Precision and High Recall and Less Variance Error.\n",
    "\n",
    "### Reducing MultiCollinearity ,Autocollinearity ,selecting features based on the pvalues are the impactful measures. Feature Engineering and extraction for Selection.\n",
    "\n",
    "### Key Risks are:\n",
    "\n",
    "#### 1.Data Leaks .\n",
    "#### 2.Standaridisation and Transformation can lead to information loss.\n",
    "#### 3.Feature selection and Hypothesis testing or statistical analysis are missing.\n",
    "#### 4. Assumptions has been made.\n"
   ]
  },
  {
   "cell_type": "code",
   "execution_count": null,
   "metadata": {},
   "outputs": [],
   "source": []
  }
 ],
 "metadata": {
  "kernelspec": {
   "display_name": "Python 3",
   "language": "python",
   "name": "python3"
  },
  "language_info": {
   "codemirror_mode": {
    "name": "ipython",
    "version": 3
   },
   "file_extension": ".py",
   "mimetype": "text/x-python",
   "name": "python",
   "nbconvert_exporter": "python",
   "pygments_lexer": "ipython3",
   "version": "3.7.4"
  }
 },
 "nbformat": 4,
 "nbformat_minor": 2
}
