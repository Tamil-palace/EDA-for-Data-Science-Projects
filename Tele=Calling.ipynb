{
  "nbformat": 4,
  "nbformat_minor": 0,
  "metadata": {
    "colab": {
      "name": "Tele=Calling.ipynb",
      "provenance": [],
      "collapsed_sections": [],
      "authorship_tag": "ABX9TyPcGJa/Alzi/BNlS/H/Gba5",
      "include_colab_link": true
    },
    "kernelspec": {
      "name": "python3",
      "display_name": "Python 3"
    }
  },
  "cells": [
    {
      "cell_type": "markdown",
      "metadata": {
        "id": "view-in-github",
        "colab_type": "text"
      },
      "source": [
        "<a href=\"https://colab.research.google.com/github/amitfire/EDA-for-Data-Science-Projects/blob/master/Tele%3DCalling.ipynb\" target=\"_parent\"><img src=\"https://colab.research.google.com/assets/colab-badge.svg\" alt=\"Open In Colab\"/></a>"
      ]
    },
    {
      "cell_type": "code",
      "metadata": {
        "id": "lngd6RUEGWBc",
        "colab_type": "code",
        "outputId": "3cb5403f-e907-4bab-d8c7-70c41fd2bb26",
        "colab": {
          "resources": {
            "http://localhost:8080/nbextensions/google.colab/files.js": {
              "data": "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",
              "ok": true,
              "headers": [
                [
                  "content-type",
                  "application/javascript"
                ]
              ],
              "status": 200,
              "status_text": ""
            }
          },
          "base_uri": "https://localhost:8080/",
          "height": 431
        }
      },
      "source": [
        "\n",
        "# Importing all the important libraries for data preprocessing and visualisation.\n",
        "import pandas as pd \n",
        "import numpy as np \n",
        "import seaborn as sns\n",
        "import matplotlib.pyplot as plt\n",
        "# Importing google colab as using colab notebook for data import and EDA.\n",
        "from google.colab import files\n",
        "import io\n",
        "uploaded =  files.upload()\n",
        "lead_calls = pd.read_csv(io.BytesIO(uploaded['lead_calls.csv']))\n",
        "lead_calls.head()"
      ],
      "execution_count": 1,
      "outputs": [
        {
          "output_type": "display_data",
          "data": {
            "text/html": [
              "\n",
              "     <input type=\"file\" id=\"files-6aa19b74-2dca-4c87-8a3b-aa1f070da09a\" name=\"files[]\" multiple disabled />\n",
              "     <output id=\"result-6aa19b74-2dca-4c87-8a3b-aa1f070da09a\">\n",
              "      Upload widget is only available when the cell has been executed in the\n",
              "      current browser session. Please rerun this cell to enable.\n",
              "      </output>\n",
              "      <script src=\"/nbextensions/google.colab/files.js\"></script> "
            ],
            "text/plain": [
              "<IPython.core.display.HTML object>"
            ]
          },
          "metadata": {
            "tags": []
          }
        },
        {
          "output_type": "stream",
          "text": [
            "Saving lead_calls.csv to lead_calls.csv\n"
          ],
          "name": "stdout"
        },
        {
          "output_type": "execute_result",
          "data": {
            "text/html": [
              "<div>\n",
              "<style scoped>\n",
              "    .dataframe tbody tr th:only-of-type {\n",
              "        vertical-align: middle;\n",
              "    }\n",
              "\n",
              "    .dataframe tbody tr th {\n",
              "        vertical-align: top;\n",
              "    }\n",
              "\n",
              "    .dataframe thead th {\n",
              "        text-align: right;\n",
              "    }\n",
              "</style>\n",
              "<table border=\"1\" class=\"dataframe\">\n",
              "  <thead>\n",
              "    <tr style=\"text-align: right;\">\n",
              "      <th></th>\n",
              "      <th>id</th>\n",
              "      <th>telecallerId</th>\n",
              "      <th>leadId</th>\n",
              "      <th>client</th>\n",
              "      <th>status</th>\n",
              "      <th>comments</th>\n",
              "      <th>calledAt</th>\n",
              "      <th>createdAt</th>\n",
              "    </tr>\n",
              "  </thead>\n",
              "  <tbody>\n",
              "    <tr>\n",
              "      <th>0</th>\n",
              "      <td>00028a99-c401-4048-9b75-b923cff55a79</td>\n",
              "      <td>fd904600-1e6e-4ab2-8be9-d7903aed9d3d</td>\n",
              "      <td>724467a5-52d1-4989-a870-99ae65d3e0e8</td>\n",
              "      <td>Amazon Flex</td>\n",
              "      <td>Not Interested - Applied by Mistake</td>\n",
              "      <td>NaN</td>\n",
              "      <td>2019-07-25T17:00:00Z</td>\n",
              "      <td>2019-12-26T17:32:49.297Z</td>\n",
              "    </tr>\n",
              "    <tr>\n",
              "      <th>1</th>\n",
              "      <td>00033b17-3a2a-4769-8623-bb00adf1e4c5</td>\n",
              "      <td>4248b521-ce3f-4897-a30d-35c9ee81f746</td>\n",
              "      <td>65d4429f-cb34-436d-9020-1fd6f364367f</td>\n",
              "      <td>KFC</td>\n",
              "      <td>RNR</td>\n",
              "      <td>NaN</td>\n",
              "      <td>2019-10-10T17:30:00Z</td>\n",
              "      <td>2019-12-26T18:09:38.408Z</td>\n",
              "    </tr>\n",
              "    <tr>\n",
              "      <th>2</th>\n",
              "      <td>0003dcc7-05d0-4736-a415-5e67ea95c24e</td>\n",
              "      <td>fd904600-1e6e-4ab2-8be9-d7903aed9d3d</td>\n",
              "      <td>fea7fb85-3355-4747-98fd-dae1b9aca52a</td>\n",
              "      <td>Lalamove</td>\n",
              "      <td>Not Interested - Disconnected the Call</td>\n",
              "      <td>NaN</td>\n",
              "      <td>2019-08-30T14:00:00Z</td>\n",
              "      <td>2019-12-26T17:42:55.007Z</td>\n",
              "    </tr>\n",
              "    <tr>\n",
              "      <th>3</th>\n",
              "      <td>00042f93-1e19-418f-bf38-1a8a8f758952</td>\n",
              "      <td>fd904600-1e6e-4ab2-8be9-d7903aed9d3d</td>\n",
              "      <td>3308d114-a9ed-4d81-8d08-50b28171790f</td>\n",
              "      <td>Zomato</td>\n",
              "      <td>Not Interested</td>\n",
              "      <td>Not Looking for Job</td>\n",
              "      <td>2020-06-01T10:30:00Z</td>\n",
              "      <td>2019-12-26T17:26:36.333Z</td>\n",
              "    </tr>\n",
              "    <tr>\n",
              "      <th>4</th>\n",
              "      <td>0006f07e-f4d1-4387-8540-fc8bf6e67676</td>\n",
              "      <td>fd904600-1e6e-4ab2-8be9-d7903aed9d3d</td>\n",
              "      <td>924cdffb-693f-4870-8179-d80571e1fc85</td>\n",
              "      <td>NaN</td>\n",
              "      <td>Not Applied</td>\n",
              "      <td>NaN</td>\n",
              "      <td>2020-04-01T10:30:00Z</td>\n",
              "      <td>2019-12-26T17:21:12.255Z</td>\n",
              "    </tr>\n",
              "  </tbody>\n",
              "</table>\n",
              "</div>"
            ],
            "text/plain": [
              "                                     id  ...                 createdAt\n",
              "0  00028a99-c401-4048-9b75-b923cff55a79  ...  2019-12-26T17:32:49.297Z\n",
              "1  00033b17-3a2a-4769-8623-bb00adf1e4c5  ...  2019-12-26T18:09:38.408Z\n",
              "2  0003dcc7-05d0-4736-a415-5e67ea95c24e  ...  2019-12-26T17:42:55.007Z\n",
              "3  00042f93-1e19-418f-bf38-1a8a8f758952  ...  2019-12-26T17:26:36.333Z\n",
              "4  0006f07e-f4d1-4387-8540-fc8bf6e67676  ...  2019-12-26T17:21:12.255Z\n",
              "\n",
              "[5 rows x 8 columns]"
            ]
          },
          "metadata": {
            "tags": []
          },
          "execution_count": 1
        }
      ]
    },
    {
      "cell_type": "code",
      "metadata": {
        "id": "87PxtCL7Hiv8",
        "colab_type": "code",
        "outputId": "618efc91-ee13-4bdf-c4e1-306cf7e49105",
        "colab": {
          "resources": {
            "http://localhost:8080/nbextensions/google.colab/files.js": {
              "data": "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",
              "ok": true,
              "headers": [
                [
                  "content-type",
                  "application/javascript"
                ]
              ],
              "status": 200,
              "status_text": ""
            }
          },
          "base_uri": "https://localhost:8080/",
          "height": 536
        }
      },
      "source": [
        "\n",
        "uploaded =  files.upload()\n",
        "leads = pd.read_csv(io.BytesIO(uploaded['leads.csv']),encoding='ISO-8859-1')\n",
        "leads.head()"
      ],
      "execution_count": 2,
      "outputs": [
        {
          "output_type": "display_data",
          "data": {
            "text/html": [
              "\n",
              "     <input type=\"file\" id=\"files-584e7294-d6b7-4ac6-a118-04bb7bede551\" name=\"files[]\" multiple disabled />\n",
              "     <output id=\"result-584e7294-d6b7-4ac6-a118-04bb7bede551\">\n",
              "      Upload widget is only available when the cell has been executed in the\n",
              "      current browser session. Please rerun this cell to enable.\n",
              "      </output>\n",
              "      <script src=\"/nbextensions/google.colab/files.js\"></script> "
            ],
            "text/plain": [
              "<IPython.core.display.HTML object>"
            ]
          },
          "metadata": {
            "tags": []
          }
        },
        {
          "output_type": "stream",
          "text": [
            "Saving leads.csv to leads.csv\n"
          ],
          "name": "stdout"
        },
        {
          "output_type": "execute_result",
          "data": {
            "text/html": [
              "<div>\n",
              "<style scoped>\n",
              "    .dataframe tbody tr th:only-of-type {\n",
              "        vertical-align: middle;\n",
              "    }\n",
              "\n",
              "    .dataframe tbody tr th {\n",
              "        vertical-align: top;\n",
              "    }\n",
              "\n",
              "    .dataframe thead th {\n",
              "        text-align: right;\n",
              "    }\n",
              "</style>\n",
              "<table border=\"1\" class=\"dataframe\">\n",
              "  <thead>\n",
              "    <tr style=\"text-align: right;\">\n",
              "      <th></th>\n",
              "      <th>id</th>\n",
              "      <th>userId</th>\n",
              "      <th>name</th>\n",
              "      <th>phoneNumber</th>\n",
              "      <th>city</th>\n",
              "      <th>state</th>\n",
              "      <th>source</th>\n",
              "      <th>isExternal</th>\n",
              "      <th>createdAt</th>\n",
              "      <th>receivedAt</th>\n",
              "    </tr>\n",
              "  </thead>\n",
              "  <tbody>\n",
              "    <tr>\n",
              "      <th>0</th>\n",
              "      <td>00021a29-83e4-48d3-8cc3-0bc729f087fd</td>\n",
              "      <td>NaN</td>\n",
              "      <td>KUPENDRA</td>\n",
              "      <td>1234567890</td>\n",
              "      <td>NaN</td>\n",
              "      <td>NaN</td>\n",
              "      <td>Airavatha data</td>\n",
              "      <td>True</td>\n",
              "      <td>2019-12-26T18:17:13.115Z</td>\n",
              "      <td>2019-11-01T05:41:00Z</td>\n",
              "    </tr>\n",
              "    <tr>\n",
              "      <th>1</th>\n",
              "      <td>000743a8-3bd5-4e5a-97ed-dcf0af91aeb7</td>\n",
              "      <td>e50fccfe-82aa-434a-ad92-9d3f9d651f84</td>\n",
              "      <td>Dinkle Unknown</td>\n",
              "      <td>1234567890</td>\n",
              "      <td>Delhi/NCR</td>\n",
              "      <td>Delhi-NCR</td>\n",
              "      <td>delhi-18-33yo-10-15k-hdat-july-17</td>\n",
              "      <td>False</td>\n",
              "      <td>2019-12-26T17:49:53.471Z</td>\n",
              "      <td>2019-08-25T00:00:00Z</td>\n",
              "    </tr>\n",
              "    <tr>\n",
              "      <th>2</th>\n",
              "      <td>0013dc91-e0e3-48f6-9518-6cf8389dd923</td>\n",
              "      <td>NaN</td>\n",
              "      <td>Elikatte Kumaraswamy</td>\n",
              "      <td>1234567890</td>\n",
              "      <td>Hyderabad</td>\n",
              "      <td>Telangana</td>\n",
              "      <td>WhatsApp OptIn Form</td>\n",
              "      <td>False</td>\n",
              "      <td>2019-12-26T17:21:04.021Z</td>\n",
              "      <td>2019-07-25T00:00:00Z</td>\n",
              "    </tr>\n",
              "    <tr>\n",
              "      <th>3</th>\n",
              "      <td>001477a2-80d0-4b6d-a392-16aeaeef805d</td>\n",
              "      <td>4e0222f0-42aa-4660-976b-8e9329b4b1a7</td>\n",
              "      <td>Raju Unknown</td>\n",
              "      <td>1234567890</td>\n",
              "      <td>Hyderabad</td>\n",
              "      <td>Telangana</td>\n",
              "      <td>Referrals</td>\n",
              "      <td>False</td>\n",
              "      <td>2019-12-26T17:26:31.459Z</td>\n",
              "      <td>2019-06-03T00:00:00Z</td>\n",
              "    </tr>\n",
              "    <tr>\n",
              "      <th>4</th>\n",
              "      <td>0014961d-9b66-4cae-85aa-acb89cd51f1e</td>\n",
              "      <td>NaN</td>\n",
              "      <td>Arunkumar Unknown</td>\n",
              "      <td>1234567890</td>\n",
              "      <td>Bangalore</td>\n",
              "      <td>Karnataka</td>\n",
              "      <td>Reused Leads</td>\n",
              "      <td>False</td>\n",
              "      <td>2019-12-26T17:21:05.065Z</td>\n",
              "      <td>2019-04-01T00:00:00Z</td>\n",
              "    </tr>\n",
              "  </tbody>\n",
              "</table>\n",
              "</div>"
            ],
            "text/plain": [
              "                                     id  ...            receivedAt\n",
              "0  00021a29-83e4-48d3-8cc3-0bc729f087fd  ...  2019-11-01T05:41:00Z\n",
              "1  000743a8-3bd5-4e5a-97ed-dcf0af91aeb7  ...  2019-08-25T00:00:00Z\n",
              "2  0013dc91-e0e3-48f6-9518-6cf8389dd923  ...  2019-07-25T00:00:00Z\n",
              "3  001477a2-80d0-4b6d-a392-16aeaeef805d  ...  2019-06-03T00:00:00Z\n",
              "4  0014961d-9b66-4cae-85aa-acb89cd51f1e  ...  2019-04-01T00:00:00Z\n",
              "\n",
              "[5 rows x 10 columns]"
            ]
          },
          "metadata": {
            "tags": []
          },
          "execution_count": 2
        }
      ]
    },
    {
      "cell_type": "code",
      "metadata": {
        "id": "bFgR_hhO8bVA",
        "colab_type": "code",
        "colab": {}
      },
      "source": [
        "leads['diff_cre_rec'] = pd.to_datetime(leads['createdAt'])-pd.to_datetime(leads['receivedAt'])"
      ],
      "execution_count": 0,
      "outputs": []
    },
    {
      "cell_type": "code",
      "metadata": {
        "id": "YYFM3YY38_bm",
        "colab_type": "code",
        "colab": {
          "base_uri": "https://localhost:8080/",
          "height": 479
        },
        "outputId": "4131c055-7185-42ab-87c5-a5e82a44d4b3"
      },
      "source": [
        "leads.head()"
      ],
      "execution_count": 190,
      "outputs": [
        {
          "output_type": "execute_result",
          "data": {
            "text/html": [
              "<div>\n",
              "<style scoped>\n",
              "    .dataframe tbody tr th:only-of-type {\n",
              "        vertical-align: middle;\n",
              "    }\n",
              "\n",
              "    .dataframe tbody tr th {\n",
              "        vertical-align: top;\n",
              "    }\n",
              "\n",
              "    .dataframe thead th {\n",
              "        text-align: right;\n",
              "    }\n",
              "</style>\n",
              "<table border=\"1\" class=\"dataframe\">\n",
              "  <thead>\n",
              "    <tr style=\"text-align: right;\">\n",
              "      <th></th>\n",
              "      <th>id</th>\n",
              "      <th>userId</th>\n",
              "      <th>name</th>\n",
              "      <th>phoneNumber</th>\n",
              "      <th>city</th>\n",
              "      <th>state</th>\n",
              "      <th>source</th>\n",
              "      <th>isExternal</th>\n",
              "      <th>createdAt</th>\n",
              "      <th>receivedAt</th>\n",
              "      <th>diff_cre_rec</th>\n",
              "    </tr>\n",
              "  </thead>\n",
              "  <tbody>\n",
              "    <tr>\n",
              "      <th>0</th>\n",
              "      <td>00021a29-83e4-48d3-8cc3-0bc729f087fd</td>\n",
              "      <td>NaN</td>\n",
              "      <td>KUPENDRA</td>\n",
              "      <td>1234567890</td>\n",
              "      <td>NaN</td>\n",
              "      <td>NaN</td>\n",
              "      <td>Airavatha data</td>\n",
              "      <td>True</td>\n",
              "      <td>2019-12-26T18:17:13.115Z</td>\n",
              "      <td>2019-11-01T05:41:00Z</td>\n",
              "      <td>55 days 12:36:13.115000</td>\n",
              "    </tr>\n",
              "    <tr>\n",
              "      <th>1</th>\n",
              "      <td>000743a8-3bd5-4e5a-97ed-dcf0af91aeb7</td>\n",
              "      <td>e50fccfe-82aa-434a-ad92-9d3f9d651f84</td>\n",
              "      <td>Dinkle Unknown</td>\n",
              "      <td>1234567890</td>\n",
              "      <td>Delhi/NCR</td>\n",
              "      <td>Delhi-NCR</td>\n",
              "      <td>delhi-18-33yo-10-15k-hdat-july-17</td>\n",
              "      <td>False</td>\n",
              "      <td>2019-12-26T17:49:53.471Z</td>\n",
              "      <td>2019-08-25T00:00:00Z</td>\n",
              "      <td>123 days 17:49:53.471000</td>\n",
              "    </tr>\n",
              "    <tr>\n",
              "      <th>2</th>\n",
              "      <td>0013dc91-e0e3-48f6-9518-6cf8389dd923</td>\n",
              "      <td>NaN</td>\n",
              "      <td>Elikatte Kumaraswamy</td>\n",
              "      <td>1234567890</td>\n",
              "      <td>Hyderabad</td>\n",
              "      <td>Telangana</td>\n",
              "      <td>WhatsApp OptIn Form</td>\n",
              "      <td>False</td>\n",
              "      <td>2019-12-26T17:21:04.021Z</td>\n",
              "      <td>2019-07-25T00:00:00Z</td>\n",
              "      <td>154 days 17:21:04.021000</td>\n",
              "    </tr>\n",
              "    <tr>\n",
              "      <th>3</th>\n",
              "      <td>001477a2-80d0-4b6d-a392-16aeaeef805d</td>\n",
              "      <td>4e0222f0-42aa-4660-976b-8e9329b4b1a7</td>\n",
              "      <td>Raju Unknown</td>\n",
              "      <td>1234567890</td>\n",
              "      <td>Hyderabad</td>\n",
              "      <td>Telangana</td>\n",
              "      <td>Referrals</td>\n",
              "      <td>False</td>\n",
              "      <td>2019-12-26T17:26:31.459Z</td>\n",
              "      <td>2019-06-03T00:00:00Z</td>\n",
              "      <td>206 days 17:26:31.459000</td>\n",
              "    </tr>\n",
              "    <tr>\n",
              "      <th>4</th>\n",
              "      <td>0014961d-9b66-4cae-85aa-acb89cd51f1e</td>\n",
              "      <td>NaN</td>\n",
              "      <td>Arunkumar Unknown</td>\n",
              "      <td>1234567890</td>\n",
              "      <td>Bangalore</td>\n",
              "      <td>Karnataka</td>\n",
              "      <td>Reused Leads</td>\n",
              "      <td>False</td>\n",
              "      <td>2019-12-26T17:21:05.065Z</td>\n",
              "      <td>2019-04-01T00:00:00Z</td>\n",
              "      <td>269 days 17:21:05.065000</td>\n",
              "    </tr>\n",
              "  </tbody>\n",
              "</table>\n",
              "</div>"
            ],
            "text/plain": [
              "                                     id  ...             diff_cre_rec\n",
              "0  00021a29-83e4-48d3-8cc3-0bc729f087fd  ...  55 days 12:36:13.115000\n",
              "1  000743a8-3bd5-4e5a-97ed-dcf0af91aeb7  ... 123 days 17:49:53.471000\n",
              "2  0013dc91-e0e3-48f6-9518-6cf8389dd923  ... 154 days 17:21:04.021000\n",
              "3  001477a2-80d0-4b6d-a392-16aeaeef805d  ... 206 days 17:26:31.459000\n",
              "4  0014961d-9b66-4cae-85aa-acb89cd51f1e  ... 269 days 17:21:05.065000\n",
              "\n",
              "[5 rows x 11 columns]"
            ]
          },
          "metadata": {
            "tags": []
          },
          "execution_count": 190
        }
      ]
    },
    {
      "cell_type": "code",
      "metadata": {
        "id": "Q01Wvz-LHjS7",
        "colab_type": "code",
        "outputId": "4778240c-4f01-4c0f-b1f7-b6752e6c9154",
        "colab": {
          "resources": {
            "http://localhost:8080/nbextensions/google.colab/files.js": {
              "data": "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",
              "ok": true,
              "headers": [
                [
                  "content-type",
                  "application/javascript"
                ]
              ],
              "status": 200,
              "status_text": ""
            }
          },
          "base_uri": "https://localhost:8080/",
          "height": 220
        }
      },
      "source": [
        "uploaded =  files.upload()\n",
        "tele = pd.read_csv(io.BytesIO(uploaded['telecallers.csv']))\n",
        "tele.head()"
      ],
      "execution_count": 191,
      "outputs": [
        {
          "output_type": "display_data",
          "data": {
            "text/html": [
              "\n",
              "     <input type=\"file\" id=\"files-6f2c3a7a-8603-4e6b-8199-a01f3e66dc2a\" name=\"files[]\" multiple disabled />\n",
              "     <output id=\"result-6f2c3a7a-8603-4e6b-8199-a01f3e66dc2a\">\n",
              "      Upload widget is only available when the cell has been executed in the\n",
              "      current browser session. Please rerun this cell to enable.\n",
              "      </output>\n",
              "      <script src=\"/nbextensions/google.colab/files.js\"></script> "
            ],
            "text/plain": [
              "<IPython.core.display.HTML object>"
            ]
          },
          "metadata": {
            "tags": []
          }
        },
        {
          "output_type": "error",
          "ename": "KeyError",
          "evalue": "ignored",
          "traceback": [
            "\u001b[0;31m---------------------------------------------------------------------------\u001b[0m",
            "\u001b[0;31mKeyError\u001b[0m                                  Traceback (most recent call last)",
            "\u001b[0;32m<ipython-input-191-fa162e578643>\u001b[0m in \u001b[0;36m<module>\u001b[0;34m()\u001b[0m\n\u001b[1;32m      1\u001b[0m \u001b[0muploaded\u001b[0m \u001b[0;34m=\u001b[0m  \u001b[0mfiles\u001b[0m\u001b[0;34m.\u001b[0m\u001b[0mupload\u001b[0m\u001b[0;34m(\u001b[0m\u001b[0;34m)\u001b[0m\u001b[0;34m\u001b[0m\u001b[0;34m\u001b[0m\u001b[0m\n\u001b[0;32m----> 2\u001b[0;31m \u001b[0mtele\u001b[0m \u001b[0;34m=\u001b[0m \u001b[0mpd\u001b[0m\u001b[0;34m.\u001b[0m\u001b[0mread_csv\u001b[0m\u001b[0;34m(\u001b[0m\u001b[0mio\u001b[0m\u001b[0;34m.\u001b[0m\u001b[0mBytesIO\u001b[0m\u001b[0;34m(\u001b[0m\u001b[0muploaded\u001b[0m\u001b[0;34m[\u001b[0m\u001b[0;34m'telecallers.csv'\u001b[0m\u001b[0;34m]\u001b[0m\u001b[0;34m)\u001b[0m\u001b[0;34m)\u001b[0m\u001b[0;34m\u001b[0m\u001b[0;34m\u001b[0m\u001b[0m\n\u001b[0m\u001b[1;32m      3\u001b[0m \u001b[0mtele\u001b[0m\u001b[0;34m.\u001b[0m\u001b[0mhead\u001b[0m\u001b[0;34m(\u001b[0m\u001b[0;34m)\u001b[0m\u001b[0;34m\u001b[0m\u001b[0;34m\u001b[0m\u001b[0m\n",
            "\u001b[0;31mKeyError\u001b[0m: 'telecallers.csv'"
          ]
        }
      ]
    },
    {
      "cell_type": "markdown",
      "metadata": {
        "id": "lRcZLimeWMua",
        "colab_type": "text"
      },
      "source": [
        "### After Importing the data set we can see that:\n",
        "### We have been given three tables \n",
        "### 1. leads\n",
        "### 2. lead_calls\n",
        "### 3. telecallers .\n",
        "### Lets look into each one by one."
      ]
    },
    {
      "cell_type": "code",
      "metadata": {
        "id": "VZR3dxd1YSQg",
        "colab_type": "code",
        "outputId": "51119d9e-8a4d-40e2-9119-91bf75d695d5",
        "colab": {
          "base_uri": "https://localhost:8080/",
          "height": 34
        }
      },
      "source": [
        "# Check the dimensions of each tables\n",
        "\n",
        "leads.shape,lead_calls.shape,tele.shape"
      ],
      "execution_count": 192,
      "outputs": [
        {
          "output_type": "execute_result",
          "data": {
            "text/plain": [
              "((9916, 11), (12335, 13), (5, 4))"
            ]
          },
          "metadata": {
            "tags": []
          },
          "execution_count": 192
        }
      ]
    },
    {
      "cell_type": "code",
      "metadata": {
        "id": "2ubxb7sNWD7c",
        "colab_type": "code",
        "outputId": "5dde6f30-c1ad-4679-c3ac-c215990de741",
        "colab": {
          "base_uri": "https://localhost:8080/",
          "height": 765
        }
      },
      "source": [
        "\n",
        "#Getting the information about the data types involved in the table\n",
        "leads.info(),lead_calls.info(),tele.info()"
      ],
      "execution_count": 193,
      "outputs": [
        {
          "output_type": "stream",
          "text": [
            "<class 'pandas.core.frame.DataFrame'>\n",
            "RangeIndex: 9916 entries, 0 to 9915\n",
            "Data columns (total 11 columns):\n",
            "id              9916 non-null object\n",
            "userId          6073 non-null object\n",
            "name            9916 non-null object\n",
            "phoneNumber     9916 non-null int64\n",
            "city            9178 non-null object\n",
            "state           8536 non-null object\n",
            "source          9914 non-null object\n",
            "isExternal      9916 non-null bool\n",
            "createdAt       9916 non-null object\n",
            "receivedAt      9916 non-null object\n",
            "diff_cre_rec    9916 non-null timedelta64[ns]\n",
            "dtypes: bool(1), int64(1), object(8), timedelta64[ns](1)\n",
            "memory usage: 784.5+ KB\n",
            "<class 'pandas.core.frame.DataFrame'>\n",
            "RangeIndex: 12335 entries, 0 to 12334\n",
            "Data columns (total 13 columns):\n",
            "id              12335 non-null object\n",
            "telecallerId    12335 non-null object\n",
            "leadId          12335 non-null object\n",
            "client          11491 non-null object\n",
            "status          12335 non-null object\n",
            "comments        3521 non-null object\n",
            "calledAt        12335 non-null datetime64[ns, UTC]\n",
            "createdAt       12335 non-null object\n",
            "Year            12335 non-null int64\n",
            "Month           12335 non-null int64\n",
            "Day             12335 non-null object\n",
            "Weekend         12335 non-null bool\n",
            "Quarter         12335 non-null object\n",
            "dtypes: bool(1), datetime64[ns, UTC](1), int64(2), object(9)\n",
            "memory usage: 1.1+ MB\n",
            "<class 'pandas.core.frame.DataFrame'>\n",
            "RangeIndex: 5 entries, 0 to 4\n",
            "Data columns (total 4 columns):\n",
            "id             5 non-null object\n",
            "name           5 non-null object\n",
            "phoneNumber    5 non-null int64\n",
            "createdAt      5 non-null object\n",
            "dtypes: int64(1), object(3)\n",
            "memory usage: 288.0+ bytes\n"
          ],
          "name": "stdout"
        },
        {
          "output_type": "execute_result",
          "data": {
            "text/plain": [
              "(None, None, None)"
            ]
          },
          "metadata": {
            "tags": []
          },
          "execution_count": 193
        }
      ]
    },
    {
      "cell_type": "code",
      "metadata": {
        "id": "vWyjI-M6Yv_y",
        "colab_type": "code",
        "outputId": "daba7f6f-5989-4bbe-ff69-01ad5cb5c3af",
        "colab": {
          "base_uri": "https://localhost:8080/",
          "height": 527
        }
      },
      "source": [
        "#Missing values present in the leads table\n",
        "leads.isna().sum().plot.bar()\n"
      ],
      "execution_count": 194,
      "outputs": [
        {
          "output_type": "execute_result",
          "data": {
            "text/plain": [
              "<matplotlib.axes._subplots.AxesSubplot at 0x7fdb9d3d6668>"
            ]
          },
          "metadata": {
            "tags": []
          },
          "execution_count": 194
        },
        {
          "output_type": "display_data",
          "data": {
            "image/png": "[encoded data removed]",
            "text/plain": [
              "<Figure size 1296x504 with 1 Axes>"
            ]
          },
          "metadata": {
            "tags": []
          }
        }
      ]
    },
    {
      "cell_type": "markdown",
      "metadata": {
        "id": "mnI7tXfgaK2c",
        "colab_type": "text"
      },
      "source": [
        ""
      ]
    },
    {
      "cell_type": "markdown",
      "metadata": {
        "id": "hC5iW99eaCfs",
        "colab_type": "text"
      },
      "source": [
        "### As we can see that user id has more than 3500 missing values.Also its a foreign key to the internal users table. Thus ,removing it for the analysis."
      ]
    },
    {
      "cell_type": "code",
      "metadata": {
        "id": "paxkMNluZI4-",
        "colab_type": "code",
        "outputId": "07e86291-bc63-4350-914a-f0bb360e61e9",
        "colab": {
          "base_uri": "https://localhost:8080/",
          "height": 68
        }
      },
      "source": [
        "leads1 = leads.drop('userId',axis=1)  # Dropping the userID column.\n",
        "leads1.columns"
      ],
      "execution_count": 195,
      "outputs": [
        {
          "output_type": "execute_result",
          "data": {
            "text/plain": [
              "Index(['id', 'name', 'phoneNumber', 'city', 'state', 'source', 'isExternal',\n",
              "       'createdAt', 'receivedAt', 'diff_cre_rec'],\n",
              "      dtype='object')"
            ]
          },
          "metadata": {
            "tags": []
          },
          "execution_count": 195
        }
      ]
    },
    {
      "cell_type": "code",
      "metadata": {
        "id": "wxPvBHSUalFi",
        "colab_type": "code",
        "outputId": "4ce84a35-759b-4583-d040-785a64c58bba",
        "colab": {
          "base_uri": "https://localhost:8080/",
          "height": 49
        }
      },
      "source": [
        "   # Checking for the duplicate values."
      ],
      "execution_count": 8,
      "outputs": [
        {
          "output_type": "execute_result",
          "data": {
            "text/html": [
              "<div>\n",
              "<style scoped>\n",
              "    .dataframe tbody tr th:only-of-type {\n",
              "        vertical-align: middle;\n",
              "    }\n",
              "\n",
              "    .dataframe tbody tr th {\n",
              "        vertical-align: top;\n",
              "    }\n",
              "\n",
              "    .dataframe thead th {\n",
              "        text-align: right;\n",
              "    }\n",
              "</style>\n",
              "<table border=\"1\" class=\"dataframe\">\n",
              "  <thead>\n",
              "    <tr style=\"text-align: right;\">\n",
              "      <th></th>\n",
              "      <th>id</th>\n",
              "      <th>name</th>\n",
              "      <th>phoneNumber</th>\n",
              "      <th>city</th>\n",
              "      <th>state</th>\n",
              "      <th>source</th>\n",
              "      <th>isExternal</th>\n",
              "      <th>createdAt</th>\n",
              "      <th>receivedAt</th>\n",
              "    </tr>\n",
              "  </thead>\n",
              "  <tbody>\n",
              "  </tbody>\n",
              "</table>\n",
              "</div>"
            ],
            "text/plain": [
              "Empty DataFrame\n",
              "Columns: [id, name, phoneNumber, city, state, source, isExternal, createdAt, receivedAt]\n",
              "Index: []"
            ]
          },
          "metadata": {
            "tags": []
          },
          "execution_count": 8
        }
      ]
    },
    {
      "cell_type": "markdown",
      "metadata": {
        "id": "2ostpkX9a3vZ",
        "colab_type": "text"
      },
      "source": [
        "### We can see that there are not any duplicate values."
      ]
    },
    {
      "cell_type": "code",
      "metadata": {
        "id": "A6is1p7PcAh0",
        "colab_type": "code",
        "outputId": "6927c7ec-d6c4-4135-bb16-2bfb1891d58f",
        "colab": {
          "base_uri": "https://localhost:8080/",
          "height": 51
        }
      },
      "source": [
        "%matplotlib inline\n",
        "plt.figure(figsize=(15,6))"
      ],
      "execution_count": 9,
      "outputs": [
        {
          "output_type": "execute_result",
          "data": {
            "text/plain": [
              "<Figure size 1080x432 with 0 Axes>"
            ]
          },
          "metadata": {
            "tags": []
          },
          "execution_count": 9
        },
        {
          "output_type": "display_data",
          "data": {
            "text/plain": [
              "<Figure size 1080x432 with 0 Axes>"
            ]
          },
          "metadata": {
            "tags": []
          }
        }
      ]
    },
    {
      "cell_type": "code",
      "metadata": {
        "id": "d_-NUGbFatPh",
        "colab_type": "code",
        "outputId": "77c069cc-04c1-4d0b-81be-16f63ed27f70",
        "colab": {
          "base_uri": "https://localhost:8080/",
          "height": 352
        }
      },
      "source": [
        "leads1['state'].value_counts().plot.bar()"
      ],
      "execution_count": 10,
      "outputs": [
        {
          "output_type": "execute_result",
          "data": {
            "text/plain": [
              "<matplotlib.axes._subplots.AxesSubplot at 0x7fdba2649e10>"
            ]
          },
          "metadata": {
            "tags": []
          },
          "execution_count": 10
        },
        {
          "output_type": "display_data",
          "data": {
            "image/png": "[encoded data removed]",
            "text/plain": [
              "<Figure size 432x288 with 1 Axes>"
            ]
          },
          "metadata": {
            "tags": []
          }
        }
      ]
    },
    {
      "cell_type": "code",
      "metadata": {
        "id": "vAtEyRqPbFHs",
        "colab_type": "code",
        "outputId": "33651a1e-f82d-4252-eeb5-095867a66a88",
        "colab": {
          "base_uri": "https://localhost:8080/",
          "height": 572
        }
      },
      "source": [
        "plt.figure(figsize=(15,6))\n",
        "leads1['city'].value_counts().plot.bar()"
      ],
      "execution_count": 11,
      "outputs": [
        {
          "output_type": "execute_result",
          "data": {
            "text/plain": [
              "<matplotlib.axes._subplots.AxesSubplot at 0x7fdba2664198>"
            ]
          },
          "metadata": {
            "tags": []
          },
          "execution_count": 11
        },
        {
          "output_type": "display_data",
          "data": {
            "image/png": "[encoded data removed]",
            "text/plain": [
              "<Figure size 1080x432 with 1 Axes>"
            ]
          },
          "metadata": {
            "tags": []
          }
        }
      ]
    },
    {
      "cell_type": "code",
      "metadata": {
        "id": "1SDwZixGbo-s",
        "colab_type": "code",
        "colab": {}
      },
      "source": [
        "pd.set_option('display.max_rows', 100)\n",
        "pd.DataFrame(leads1['city'].value_counts())"
      ],
      "execution_count": 0,
      "outputs": []
    },
    {
      "cell_type": "code",
      "metadata": {
        "id": "bX2Yqy8cdgfb",
        "colab_type": "code",
        "outputId": "106c1e37-44b2-4ed8-df49-b329e61765de",
        "colab": {
          "base_uri": "https://localhost:8080/",
          "height": 282
        }
      },
      "source": [
        "sns.distplot(leads1['city'].value_counts().values)"
      ],
      "execution_count": 13,
      "outputs": [
        {
          "output_type": "execute_result",
          "data": {
            "text/plain": [
              "<matplotlib.axes._subplots.AxesSubplot at 0x7fdba23cba20>"
            ]
          },
          "metadata": {
            "tags": []
          },
          "execution_count": 13
        },
        {
          "output_type": "display_data",
          "data": {
            "image/png": "[encoded data removed]",
            "text/plain": [
              "<Figure size 432x288 with 1 Axes>"
            ]
          },
          "metadata": {
            "tags": []
          }
        }
      ]
    },
    {
      "cell_type": "code",
      "metadata": {
        "id": "yBhBiryyfC9T",
        "colab_type": "code",
        "colab": {}
      },
      "source": [
        "#Getting those data points which donot have city as well as state as not available in the data set.\n",
        "\n",
        "leads1 = leads1[~((leads1['city'].isna()==True)&((leads1['state'].isna()==True)))]"
      ],
      "execution_count": 0,
      "outputs": []
    },
    {
      "cell_type": "code",
      "metadata": {
        "id": "3pHSOnhEfmot",
        "colab_type": "code",
        "outputId": "40fad816-cc73-4110-810f-002d93b9b8bf",
        "colab": {
          "base_uri": "https://localhost:8080/",
          "height": 34
        }
      },
      "source": [
        "leads1.shape"
      ],
      "execution_count": 197,
      "outputs": [
        {
          "output_type": "execute_result",
          "data": {
            "text/plain": [
              "(9198, 10)"
            ]
          },
          "metadata": {
            "tags": []
          },
          "execution_count": 197
        }
      ]
    },
    {
      "cell_type": "code",
      "metadata": {
        "id": "AiUW4KslfxLN",
        "colab_type": "code",
        "outputId": "9d4d7631-ef39-433b-8b72-215577e79447",
        "colab": {
          "base_uri": "https://localhost:8080/",
          "height": 343
        }
      },
      "source": [
        "leads1.isna().sum().plot.bar()"
      ],
      "execution_count": 16,
      "outputs": [
        {
          "output_type": "execute_result",
          "data": {
            "text/plain": [
              "<matplotlib.axes._subplots.AxesSubplot at 0x7fdba2398240>"
            ]
          },
          "metadata": {
            "tags": []
          },
          "execution_count": 16
        },
        {
          "output_type": "display_data",
          "data": {
            "image/png": "[encoded data removed]",
            "text/plain": [
              "<Figure size 432x288 with 1 Axes>"
            ]
          },
          "metadata": {
            "tags": []
          }
        }
      ]
    },
    {
      "cell_type": "code",
      "metadata": {
        "id": "QVG0RYBqnMr0",
        "colab_type": "code",
        "colab": {}
      },
      "source": [
        "missing_states =leads1[(leads1['city'].isna()==False)&((leads1['state'].isna()==True))]['city'].value_counts().index"
      ],
      "execution_count": 0,
      "outputs": []
    },
    {
      "cell_type": "code",
      "metadata": {
        "id": "bJa9-ulqnbwT",
        "colab_type": "code",
        "colab": {}
      },
      "source": [
        "missing_cities = leads1[(leads1['city'].isna()==True)&((leads1['state'].isna()==False))]['state'].value_counts().index"
      ],
      "execution_count": 0,
      "outputs": []
    },
    {
      "cell_type": "code",
      "metadata": {
        "id": "7KIB98llyDF_",
        "colab_type": "code",
        "outputId": "c6875bec-e8c9-4cb8-b7b9-19e92b7fffab",
        "colab": {
          "base_uri": "https://localhost:8080/",
          "height": 34
        }
      },
      "source": [
        "missing_cities"
      ],
      "execution_count": 200,
      "outputs": [
        {
          "output_type": "execute_result",
          "data": {
            "text/plain": [
              "Index(['Karnataka'], dtype='object')"
            ]
          },
          "metadata": {
            "tags": []
          },
          "execution_count": 200
        }
      ]
    },
    {
      "cell_type": "markdown",
      "metadata": {
        "id": "ZZLxtpBEn8kB",
        "colab_type": "text"
      },
      "source": [
        "## Hence we can easily impute city and state features .By figuring out the corresponding state for the city ."
      ]
    },
    {
      "cell_type": "code",
      "metadata": {
        "id": "vISD6Aueo8MV",
        "colab_type": "code",
        "outputId": "b2462ea0-e1b5-440f-de95-ba0841f3639c",
        "colab": {
          "base_uri": "https://localhost:8080/",
          "height": 34
        }
      },
      "source": [
        "leads1[leads1['city']=='Bangalore']['state'].value_counts().index[0]"
      ],
      "execution_count": 201,
      "outputs": [
        {
          "output_type": "execute_result",
          "data": {
            "text/plain": [
              "'Karnataka'"
            ]
          },
          "metadata": {
            "tags": []
          },
          "execution_count": 201
        }
      ]
    },
    {
      "cell_type": "code",
      "metadata": {
        "id": "Vx8j0e8An3nA",
        "colab_type": "code",
        "colab": {}
      },
      "source": [
        "dict_city_state = {}\n",
        "for i in missing_states:\n",
        "  if len(leads1[leads1['city']==i]['state'].value_counts().index)>0:\n",
        "    dict_city_state[i]=leads1[leads1['city']==i]['state'].value_counts().index[0]\n",
        "  else:\n",
        "    dict_city_state[i] =i\n"
      ],
      "execution_count": 0,
      "outputs": []
    },
    {
      "cell_type": "code",
      "metadata": {
        "id": "PPiHa3qjuT8H",
        "colab_type": "code",
        "colab": {}
      },
      "source": [
        "leads1[(leads1['city'].isna()==False)&((leads1['state'].isna()==True))]\n",
        "#leads1[(leads1['state'].isna()==True)& (leads1['city'].isna()==False) ]['state']\n",
        "leads1.state = leads1.state.fillna(leads1.city.map(dict_city_state))\n"
      ],
      "execution_count": 0,
      "outputs": []
    },
    {
      "cell_type": "code",
      "metadata": {
        "id": "jdg34H2Cv5iv",
        "colab_type": "code",
        "outputId": "b017f846-9d1b-4457-c394-e3ddea8c395e",
        "colab": {
          "base_uri": "https://localhost:8080/",
          "height": 343
        }
      },
      "source": [
        "leads1.isna().sum().plot.bar()"
      ],
      "execution_count": 23,
      "outputs": [
        {
          "output_type": "execute_result",
          "data": {
            "text/plain": [
              "<matplotlib.axes._subplots.AxesSubplot at 0x7fdba2248940>"
            ]
          },
          "metadata": {
            "tags": []
          },
          "execution_count": 23
        },
        {
          "output_type": "display_data",
          "data": {
            "image/png": "[encoded data removed]",
            "text/plain": [
              "<Figure size 432x288 with 1 Axes>"
            ]
          },
          "metadata": {
            "tags": []
          }
        }
      ]
    },
    {
      "cell_type": "markdown",
      "metadata": {
        "id": "jNF33DdrxX02",
        "colab_type": "text"
      },
      "source": [
        "## Thus we have imputed state with the corresponding value of state from the help of city .Also only missing city has corresponding state as Karnataka. Thus Assuming 'Bengaluru' as imputing value."
      ]
    },
    {
      "cell_type": "code",
      "metadata": {
        "id": "140lr2-LxPkM",
        "colab_type": "code",
        "colab": {}
      },
      "source": [
        "leads1['city'] = leads1['city'].fillna('Bangalore')"
      ],
      "execution_count": 0,
      "outputs": []
    },
    {
      "cell_type": "code",
      "metadata": {
        "id": "kwnKT-PTyfol",
        "colab_type": "code",
        "outputId": "a33c7a90-ed1b-4385-d68d-45f6678de83c",
        "colab": {
          "base_uri": "https://localhost:8080/",
          "height": 204
        }
      },
      "source": [
        "leads1.isna().sum()"
      ],
      "execution_count": 205,
      "outputs": [
        {
          "output_type": "execute_result",
          "data": {
            "text/plain": [
              "id              0\n",
              "name            0\n",
              "phoneNumber     0\n",
              "city            0\n",
              "state           0\n",
              "source          2\n",
              "isExternal      0\n",
              "createdAt       0\n",
              "receivedAt      0\n",
              "diff_cre_rec    0\n",
              "dtype: int64"
            ]
          },
          "metadata": {
            "tags": []
          },
          "execution_count": 205
        }
      ]
    },
    {
      "cell_type": "markdown",
      "metadata": {
        "id": "XgP3Otr7yoiY",
        "colab_type": "text"
      },
      "source": [
        "## Thus we have Handled  almost all missing values and imputed it with right values."
      ]
    },
    {
      "cell_type": "code",
      "metadata": {
        "id": "kDF0Hedr9yQB",
        "colab_type": "code",
        "colab": {}
      },
      "source": [
        "leads1 = leads1.dropna()"
      ],
      "execution_count": 0,
      "outputs": []
    },
    {
      "cell_type": "code",
      "metadata": {
        "id": "ArdIbqXXymiX",
        "colab_type": "code",
        "outputId": "c0be8708-be50-44e2-c04d-8b6247d460d6",
        "colab": {
          "base_uri": "https://localhost:8080/",
          "height": 34
        }
      },
      "source": [
        "pd.set_option('display.max_rows', 200)\n",
        "\n",
        "plt.figure(figsize=(15,5))\n",
        "leads1['source'] = leads1['source'].apply(lambda x:'Quikr' if 'quikr'in x.lower() else x)"
      ],
      "execution_count": 207,
      "outputs": [
        {
          "output_type": "display_data",
          "data": {
            "text/plain": [
              "<Figure size 1080x360 with 0 Axes>"
            ]
          },
          "metadata": {
            "tags": []
          }
        }
      ]
    },
    {
      "cell_type": "code",
      "metadata": {
        "id": "0rE_9lT1-pZ5",
        "colab_type": "code",
        "colab": {}
      },
      "source": [
        "leads1['source'] = leads1['source'].apply(lambda x:'Delhi' if 'delhi'in x.lower() else x)"
      ],
      "execution_count": 0,
      "outputs": []
    },
    {
      "cell_type": "code",
      "metadata": {
        "id": "S0U2_MFb_HlV",
        "colab_type": "code",
        "colab": {}
      },
      "source": [
        "leads1['source'] = leads1['source'].apply(lambda x:'Facebook' if 'fb'in x.lower() else x)"
      ],
      "execution_count": 0,
      "outputs": []
    },
    {
      "cell_type": "code",
      "metadata": {
        "id": "YsC3Vzmr_asM",
        "colab_type": "code",
        "colab": {}
      },
      "source": [
        "leads1['source'] = leads1['source'].apply(lambda x:'BLR' if 'blr'in x.lower() else x)"
      ],
      "execution_count": 0,
      "outputs": []
    },
    {
      "cell_type": "code",
      "metadata": {
        "id": "y2vW0r2r_34o",
        "colab_type": "code",
        "colab": {}
      },
      "source": [
        "leads1['source'] = leads1['source'].apply(lambda x:'Reused Leads' if 'reuse'in x.lower() else x)"
      ],
      "execution_count": 0,
      "outputs": []
    },
    {
      "cell_type": "code",
      "metadata": {
        "id": "XtF2yNmHBWJI",
        "colab_type": "code",
        "colab": {}
      },
      "source": [
        "leads1['source'] = leads1['source'].apply(lambda x:'Others' if leads1['source'].value_counts()[x]<=100 else x)"
      ],
      "execution_count": 0,
      "outputs": []
    },
    {
      "cell_type": "code",
      "metadata": {
        "id": "48lT8ZCL9-oJ",
        "colab_type": "code",
        "outputId": "7e72ae38-d708-4fde-c32a-84cf6af8b839",
        "colab": {
          "base_uri": "https://localhost:8080/",
          "height": 187
        }
      },
      "source": [
        "leads1.isna().sum()"
      ],
      "execution_count": 33,
      "outputs": [
        {
          "output_type": "execute_result",
          "data": {
            "text/plain": [
              "id             0\n",
              "name           0\n",
              "phoneNumber    0\n",
              "city           0\n",
              "state          0\n",
              "source         0\n",
              "isExternal     0\n",
              "createdAt      0\n",
              "receivedAt     0\n",
              "dtype: int64"
            ]
          },
          "metadata": {
            "tags": []
          },
          "execution_count": 33
        }
      ]
    },
    {
      "cell_type": "code",
      "metadata": {
        "id": "FlbecWpyDS3c",
        "colab_type": "code",
        "colab": {}
      },
      "source": [
        "leads1= leads1[~((leads1['state']=='#REF!')|(leads1['state']=='your city')|(leads1['state']=='Chennai/Bangalore') )]\n",
        "        "
      ],
      "execution_count": 0,
      "outputs": []
    },
    {
      "cell_type": "code",
      "metadata": {
        "id": "0jclkrh_EuhZ",
        "colab_type": "code",
        "outputId": "69784411-6524-4228-f973-4d81791c0457",
        "colab": {
          "base_uri": "https://localhost:8080/",
          "height": 34
        }
      },
      "source": [
        "leads1.shape"
      ],
      "execution_count": 214,
      "outputs": [
        {
          "output_type": "execute_result",
          "data": {
            "text/plain": [
              "(9191, 10)"
            ]
          },
          "metadata": {
            "tags": []
          },
          "execution_count": 214
        }
      ]
    },
    {
      "cell_type": "code",
      "metadata": {
        "id": "6LnJGYspFknw",
        "colab_type": "code",
        "colab": {}
      },
      "source": [
        "leads1= leads1[~((leads1['city']=='Bangalore, Delhi, Hyderabad, Mumbai'))]\n",
        "        "
      ],
      "execution_count": 0,
      "outputs": []
    },
    {
      "cell_type": "code",
      "metadata": {
        "id": "Q2KBNmVLIGh3",
        "colab_type": "code",
        "colab": {}
      },
      "source": [
        ""
      ],
      "execution_count": 0,
      "outputs": []
    },
    {
      "cell_type": "code",
      "metadata": {
        "id": "2T2wvYYvFySo",
        "colab_type": "code",
        "outputId": "f8dc288c-7882-467b-cadc-d98397bd3034",
        "colab": {
          "base_uri": "https://localhost:8080/",
          "height": 34
        }
      },
      "source": [
        "leads1.shape"
      ],
      "execution_count": 37,
      "outputs": [
        {
          "output_type": "execute_result",
          "data": {
            "text/plain": [
              "(9188, 9)"
            ]
          },
          "metadata": {
            "tags": []
          },
          "execution_count": 37
        }
      ]
    },
    {
      "cell_type": "code",
      "metadata": {
        "id": "JNOHh17-GgHB",
        "colab_type": "code",
        "colab": {}
      },
      "source": [
        "leads1['state'] = leads1['state'].apply(lambda x:'Uttar Pradesh' if 'up'in x.lower() else x)\n",
        "leads1['city'] = leads1['city'].apply(lambda x:'Bangalore' if 'banglore'in x.lower() else x)"
      ],
      "execution_count": 0,
      "outputs": []
    },
    {
      "cell_type": "code",
      "metadata": {
        "id": "i1znVw1nI0w5",
        "colab_type": "code",
        "colab": {}
      },
      "source": [
        "leads1['state'] = leads1['state'].apply(lambda x:str(x).replace('Belagavi','Karnataka').replace('Yadhgirir','Karnataka').replace('Bangalore','Karnataka'))\n",
        "leads1['state'] = leads1['state'].apply(lambda x:str(x).replace('Tamilnadu','Tamil Nadu').replace('Chandigarh','Punjab').replace('Kadapa','Andhra Pradesh').replace('Nagaon','Assam').replace('Gadwal','Uttarakhand'))\n"
      ],
      "execution_count": 0,
      "outputs": []
    },
    {
      "cell_type": "code",
      "metadata": {
        "id": "E24SIhtmKz5r",
        "colab_type": "code",
        "colab": {}
      },
      "source": [
        "leads1['name'] = leads1['name'].apply(lambda x:str(x).replace('Unknown',''))\n"
      ],
      "execution_count": 0,
      "outputs": []
    },
    {
      "cell_type": "code",
      "metadata": {
        "id": "Jzqo3gyJHAF4",
        "colab_type": "code",
        "outputId": "e620111c-0781-4d66-c934-21cf0df42332",
        "colab": {
          "base_uri": "https://localhost:8080/",
          "height": 68
        }
      },
      "source": [
        "leads1['isExternal'].value_counts()"
      ],
      "execution_count": 219,
      "outputs": [
        {
          "output_type": "execute_result",
          "data": {
            "text/plain": [
              "False    8201\n",
              "True      987\n",
              "Name: isExternal, dtype: int64"
            ]
          },
          "metadata": {
            "tags": []
          },
          "execution_count": 219
        }
      ]
    },
    {
      "cell_type": "code",
      "metadata": {
        "id": "XZdm4_iQQ8rM",
        "colab_type": "code",
        "colab": {}
      },
      "source": [
        "import datetime as dt\n",
        "lead_calls['calledAt'] = pd.to_datetime(lead_calls['calledAt'])\n",
        "lead_calls['Year'] = lead_calls['calledAt'].dt.year\n",
        "lead_calls['Month'] = lead_calls['calledAt'].dt.month\n",
        "lead_calls['Day'] = lead_calls['calledAt'].dt.strftime('%A')\n"
      ],
      "execution_count": 0,
      "outputs": []
    },
    {
      "cell_type": "code",
      "metadata": {
        "id": "PWdT3XLJWErJ",
        "colab_type": "code",
        "colab": {}
      },
      "source": [
        "lead_calls['Weekend'] = lead_calls['Day'].apply(lambda x:True if x in ['Friday','Saturday','Sunday'] else False)"
      ],
      "execution_count": 0,
      "outputs": []
    },
    {
      "cell_type": "code",
      "metadata": {
        "id": "myEn9kD4Wcfz",
        "colab_type": "code",
        "colab": {}
      },
      "source": [
        "lead_calls['Quarter']  = lead_calls['Month'].apply(lambda x:'Q3' if x in [7,8,9] else 'Q4')"
      ],
      "execution_count": 0,
      "outputs": []
    },
    {
      "cell_type": "code",
      "metadata": {
        "id": "c0wR0J1lX581",
        "colab_type": "code",
        "colab": {}
      },
      "source": [
        "lead_calls['Quarter']  = lead_calls['Month'].apply(lambda x:'Q2' if x in [4,5,6] else 'Q3')"
      ],
      "execution_count": 0,
      "outputs": []
    },
    {
      "cell_type": "code",
      "metadata": {
        "id": "IcUeTAjEYmQ-",
        "colab_type": "code",
        "colab": {}
      },
      "source": [
        "lead_calls1 = lead_calls.drop(['comments'],1)"
      ],
      "execution_count": 0,
      "outputs": []
    },
    {
      "cell_type": "code",
      "metadata": {
        "id": "RRi9pCQMY0Kp",
        "colab_type": "code",
        "outputId": "d8142277-17dd-4cec-ded6-2b2a48e98f2d",
        "colab": {
          "base_uri": "https://localhost:8080/",
          "height": 725
        }
      },
      "source": [
        "lead_calls1.sample(8)"
      ],
      "execution_count": 225,
      "outputs": [
        {
          "output_type": "execute_result",
          "data": {
            "text/html": [
              "<div>\n",
              "<style scoped>\n",
              "    .dataframe tbody tr th:only-of-type {\n",
              "        vertical-align: middle;\n",
              "    }\n",
              "\n",
              "    .dataframe tbody tr th {\n",
              "        vertical-align: top;\n",
              "    }\n",
              "\n",
              "    .dataframe thead th {\n",
              "        text-align: right;\n",
              "    }\n",
              "</style>\n",
              "<table border=\"1\" class=\"dataframe\">\n",
              "  <thead>\n",
              "    <tr style=\"text-align: right;\">\n",
              "      <th></th>\n",
              "      <th>id</th>\n",
              "      <th>telecallerId</th>\n",
              "      <th>leadId</th>\n",
              "      <th>client</th>\n",
              "      <th>status</th>\n",
              "      <th>calledAt</th>\n",
              "      <th>createdAt</th>\n",
              "      <th>Year</th>\n",
              "      <th>Month</th>\n",
              "      <th>Day</th>\n",
              "      <th>Weekend</th>\n",
              "      <th>Quarter</th>\n",
              "    </tr>\n",
              "  </thead>\n",
              "  <tbody>\n",
              "    <tr>\n",
              "      <th>1997</th>\n",
              "      <td>2a28b2c8-c568-40d0-b8ce-56af50896bde</td>\n",
              "      <td>fd904600-1e6e-4ab2-8be9-d7903aed9d3d</td>\n",
              "      <td>c61c3187-b20d-4253-9a94-7a21584d183b</td>\n",
              "      <td>Swiggy</td>\n",
              "      <td>Not Interested - Not Applied</td>\n",
              "      <td>2019-08-16 12:30:00+00:00</td>\n",
              "      <td>2019-12-26T17:31:23.115Z</td>\n",
              "      <td>2019</td>\n",
              "      <td>8</td>\n",
              "      <td>Friday</td>\n",
              "      <td>True</td>\n",
              "      <td>Q3</td>\n",
              "    </tr>\n",
              "    <tr>\n",
              "      <th>978</th>\n",
              "      <td>151be5a1-72bc-4044-8902-c1aa61cf1bba</td>\n",
              "      <td>fd904600-1e6e-4ab2-8be9-d7903aed9d3d</td>\n",
              "      <td>cfeca463-e8e8-4868-acac-faf3dcd959dd</td>\n",
              "      <td>NaN</td>\n",
              "      <td>Very Interested</td>\n",
              "      <td>2020-04-01 10:30:00+00:00</td>\n",
              "      <td>2019-12-26T17:21:13.141Z</td>\n",
              "      <td>2020</td>\n",
              "      <td>4</td>\n",
              "      <td>Wednesday</td>\n",
              "      <td>False</td>\n",
              "      <td>Q2</td>\n",
              "    </tr>\n",
              "    <tr>\n",
              "      <th>7694</th>\n",
              "      <td>a1079734-a017-4843-a875-ea117ef77764</td>\n",
              "      <td>4248b521-ce3f-4897-a30d-35c9ee81f746</td>\n",
              "      <td>a071409d-ee9a-4574-9ac6-5415637c4897</td>\n",
              "      <td>Gati</td>\n",
              "      <td>Not Interested - Location Issue</td>\n",
              "      <td>2019-09-27 11:30:00+00:00</td>\n",
              "      <td>2019-12-26T18:10:50.531Z</td>\n",
              "      <td>2019</td>\n",
              "      <td>9</td>\n",
              "      <td>Friday</td>\n",
              "      <td>True</td>\n",
              "      <td>Q3</td>\n",
              "    </tr>\n",
              "    <tr>\n",
              "      <th>502</th>\n",
              "      <td>0ad70c39-3018-49a2-9c16-c3c3810507b3</td>\n",
              "      <td>4248b521-ce3f-4897-a30d-35c9ee81f746</td>\n",
              "      <td>329c65d5-cc01-405d-a99f-6f86a4bbda6f</td>\n",
              "      <td>Uber Eats</td>\n",
              "      <td>Not Interested - Wrong Number</td>\n",
              "      <td>2019-10-16 11:30:00+00:00</td>\n",
              "      <td>2019-12-26T18:09:38.654Z</td>\n",
              "      <td>2019</td>\n",
              "      <td>10</td>\n",
              "      <td>Wednesday</td>\n",
              "      <td>False</td>\n",
              "      <td>Q3</td>\n",
              "    </tr>\n",
              "    <tr>\n",
              "      <th>11607</th>\n",
              "      <td>f0acac21-11e1-4ee8-8bce-ee51f8ea7f6a</td>\n",
              "      <td>fd904600-1e6e-4ab2-8be9-d7903aed9d3d</td>\n",
              "      <td>80f7dcef-1e0d-4b62-b2cb-15bc1643992c</td>\n",
              "      <td>Zomato</td>\n",
              "      <td>CNP/Switched Off/Not Reachable</td>\n",
              "      <td>2020-05-01 10:30:00+00:00</td>\n",
              "      <td>2019-12-26T17:22:22.609Z</td>\n",
              "      <td>2020</td>\n",
              "      <td>5</td>\n",
              "      <td>Friday</td>\n",
              "      <td>True</td>\n",
              "      <td>Q2</td>\n",
              "    </tr>\n",
              "    <tr>\n",
              "      <th>11711</th>\n",
              "      <td>f2e73d60-48f8-4f02-a683-cc4aad594aa5</td>\n",
              "      <td>4248b521-ce3f-4897-a30d-35c9ee81f746</td>\n",
              "      <td>e65aafd3-0790-407b-8a85-2d9bb4c3fa20</td>\n",
              "      <td>Zomato</td>\n",
              "      <td>CNP/Switched Off/Not Reachable</td>\n",
              "      <td>2019-08-12 14:30:00+00:00</td>\n",
              "      <td>2019-12-26T17:52:58.627Z</td>\n",
              "      <td>2019</td>\n",
              "      <td>8</td>\n",
              "      <td>Monday</td>\n",
              "      <td>False</td>\n",
              "      <td>Q3</td>\n",
              "    </tr>\n",
              "    <tr>\n",
              "      <th>4827</th>\n",
              "      <td>651b8ee3-8364-41fa-aba6-effeab911cd2</td>\n",
              "      <td>fd904600-1e6e-4ab2-8be9-d7903aed9d3d</td>\n",
              "      <td>3f507da8-05c1-4254-95e4-35cec16aac37</td>\n",
              "      <td>Dunzo</td>\n",
              "      <td>Not Interested - Got Other Jobs</td>\n",
              "      <td>2019-10-07 17:00:00+00:00</td>\n",
              "      <td>2019-12-26T18:08:17.478Z</td>\n",
              "      <td>2019</td>\n",
              "      <td>10</td>\n",
              "      <td>Monday</td>\n",
              "      <td>False</td>\n",
              "      <td>Q3</td>\n",
              "    </tr>\n",
              "    <tr>\n",
              "      <th>7493</th>\n",
              "      <td>9cfb7468-edd7-4a53-bd7f-488b316a71aa</td>\n",
              "      <td>fd904600-1e6e-4ab2-8be9-d7903aed9d3d</td>\n",
              "      <td>cbb414b5-516d-497f-950d-adef758509be</td>\n",
              "      <td>Swiggy</td>\n",
              "      <td>CNP/Switched Off/Not Reachable</td>\n",
              "      <td>2019-08-05 17:00:00+00:00</td>\n",
              "      <td>2019-12-26T17:31:22.174Z</td>\n",
              "      <td>2019</td>\n",
              "      <td>8</td>\n",
              "      <td>Monday</td>\n",
              "      <td>False</td>\n",
              "      <td>Q3</td>\n",
              "    </tr>\n",
              "  </tbody>\n",
              "</table>\n",
              "</div>"
            ],
            "text/plain": [
              "                                         id  ... Quarter\n",
              "1997   2a28b2c8-c568-40d0-b8ce-56af50896bde  ...      Q3\n",
              "978    151be5a1-72bc-4044-8902-c1aa61cf1bba  ...      Q2\n",
              "7694   a1079734-a017-4843-a875-ea117ef77764  ...      Q3\n",
              "502    0ad70c39-3018-49a2-9c16-c3c3810507b3  ...      Q3\n",
              "11607  f0acac21-11e1-4ee8-8bce-ee51f8ea7f6a  ...      Q2\n",
              "11711  f2e73d60-48f8-4f02-a683-cc4aad594aa5  ...      Q3\n",
              "4827   651b8ee3-8364-41fa-aba6-effeab911cd2  ...      Q3\n",
              "7493   9cfb7468-edd7-4a53-bd7f-488b316a71aa  ...      Q3\n",
              "\n",
              "[8 rows x 12 columns]"
            ]
          },
          "metadata": {
            "tags": []
          },
          "execution_count": 225
        }
      ]
    },
    {
      "cell_type": "code",
      "metadata": {
        "id": "cG7l4STAZ2AR",
        "colab_type": "code",
        "outputId": "33aec8cc-57df-450a-e2f5-593dd8a296a0",
        "colab": {
          "base_uri": "https://localhost:8080/",
          "height": 312
        }
      },
      "source": [
        "lead_calls1.groupby('Weekend').agg({'status':'count'}).plot.bar()\n"
      ],
      "execution_count": 49,
      "outputs": [
        {
          "output_type": "execute_result",
          "data": {
            "text/plain": [
              "<matplotlib.axes._subplots.AxesSubplot at 0x7fdba1f609b0>"
            ]
          },
          "metadata": {
            "tags": []
          },
          "execution_count": 49
        },
        {
          "output_type": "display_data",
          "data": {
            "image/png": "[encoded data removed]",
            "text/plain": [
              "<Figure size 432x288 with 1 Axes>"
            ]
          },
          "metadata": {
            "tags": []
          }
        }
      ]
    },
    {
      "cell_type": "code",
      "metadata": {
        "id": "HVDbkIKzbEwP",
        "colab_type": "code",
        "outputId": "2d28c282-30ff-4b38-eaa7-a64bcbceda73",
        "colab": {
          "base_uri": "https://localhost:8080/",
          "height": 328
        }
      },
      "source": [
        "pd.set_option('display.max_rows', 1500)\n",
        "\n",
        "lead_calls1.isna().sum().plot.bar()"
      ],
      "execution_count": 50,
      "outputs": [
        {
          "output_type": "execute_result",
          "data": {
            "text/plain": [
              "<matplotlib.axes._subplots.AxesSubplot at 0x7fdba1eb87f0>"
            ]
          },
          "metadata": {
            "tags": []
          },
          "execution_count": 50
        },
        {
          "output_type": "display_data",
          "data": {
            "image/png": "[encoded data removed]",
            "text/plain": [
              "<Figure size 432x288 with 1 Axes>"
            ]
          },
          "metadata": {
            "tags": []
          }
        }
      ]
    },
    {
      "cell_type": "code",
      "metadata": {
        "id": "hkbiO9lDoEOE",
        "colab_type": "code",
        "colab": {}
      },
      "source": [
        "lead_calls1['telecallerId'] = lead_calls1['telecallerId'].apply(lambda x: str(x).replace('fd904600-1e6e-4ab2-8be9-d7903aed9d3d','Sheeba').replace('4248b521-ce3f-4897-a30d-35c9ee81f746','Amila').replace('89b29324-8f3b-4b50-b3f7-0a3e0918e4d2','Rakshith'))"
      ],
      "execution_count": 0,
      "outputs": []
    },
    {
      "cell_type": "code",
      "metadata": {
        "id": "0x-XCjfNrBFD",
        "colab_type": "code",
        "outputId": "d064087c-49f4-4330-d94c-7370798739af",
        "colab": {
          "base_uri": "https://localhost:8080/",
          "height": 85
        }
      },
      "source": [
        "lead_calls1.telecallerId.value_counts()"
      ],
      "execution_count": 227,
      "outputs": [
        {
          "output_type": "execute_result",
          "data": {
            "text/plain": [
              "Sheeba      8770\n",
              "Amila       3206\n",
              "Rakshith     359\n",
              "Name: telecallerId, dtype: int64"
            ]
          },
          "metadata": {
            "tags": []
          },
          "execution_count": 227
        }
      ]
    },
    {
      "cell_type": "code",
      "metadata": {
        "id": "EemdRMLLsPiP",
        "colab_type": "code",
        "outputId": "58503444-e113-4253-d591-aa7f6adf77f0",
        "colab": {
          "base_uri": "https://localhost:8080/",
          "height": 34
        }
      },
      "source": [
        "leads1.shape"
      ],
      "execution_count": 228,
      "outputs": [
        {
          "output_type": "execute_result",
          "data": {
            "text/plain": [
              "(9188, 10)"
            ]
          },
          "metadata": {
            "tags": []
          },
          "execution_count": 228
        }
      ]
    },
    {
      "cell_type": "code",
      "metadata": {
        "id": "c3h8uBFmL-XG",
        "colab_type": "code",
        "outputId": "d3f2cd35-d2b9-42bb-fdcb-0dd396d24e51",
        "colab": {
          "base_uri": "https://localhost:8080/",
          "height": 34
        }
      },
      "source": [
        "lead_calls1.shape"
      ],
      "execution_count": 229,
      "outputs": [
        {
          "output_type": "execute_result",
          "data": {
            "text/plain": [
              "(12335, 12)"
            ]
          },
          "metadata": {
            "tags": []
          },
          "execution_count": 229
        }
      ]
    },
    {
      "cell_type": "code",
      "metadata": {
        "id": "vToLzEFatVuh",
        "colab_type": "code",
        "colab": {}
      },
      "source": [
        "final_df= pd.merge(lead_calls1,leads1,how='inner',left_on='leadId',right_on='id')"
      ],
      "execution_count": 0,
      "outputs": []
    },
    {
      "cell_type": "code",
      "metadata": {
        "id": "R-5834vvzlyo",
        "colab_type": "code",
        "outputId": "50d3cb8e-9c82-4f99-8dc1-ce61118f3cfd",
        "colab": {
          "base_uri": "https://localhost:8080/",
          "height": 479
        }
      },
      "source": [
        "final_df.head()"
      ],
      "execution_count": 231,
      "outputs": [
        {
          "output_type": "execute_result",
          "data": {
            "text/html": [
              "<div>\n",
              "<style scoped>\n",
              "    .dataframe tbody tr th:only-of-type {\n",
              "        vertical-align: middle;\n",
              "    }\n",
              "\n",
              "    .dataframe tbody tr th {\n",
              "        vertical-align: top;\n",
              "    }\n",
              "\n",
              "    .dataframe thead th {\n",
              "        text-align: right;\n",
              "    }\n",
              "</style>\n",
              "<table border=\"1\" class=\"dataframe\">\n",
              "  <thead>\n",
              "    <tr style=\"text-align: right;\">\n",
              "      <th></th>\n",
              "      <th>id_x</th>\n",
              "      <th>telecallerId</th>\n",
              "      <th>leadId</th>\n",
              "      <th>client</th>\n",
              "      <th>status</th>\n",
              "      <th>calledAt</th>\n",
              "      <th>createdAt_x</th>\n",
              "      <th>Year</th>\n",
              "      <th>Month</th>\n",
              "      <th>Day</th>\n",
              "      <th>Weekend</th>\n",
              "      <th>Quarter</th>\n",
              "      <th>id_y</th>\n",
              "      <th>name</th>\n",
              "      <th>phoneNumber</th>\n",
              "      <th>city</th>\n",
              "      <th>state</th>\n",
              "      <th>source</th>\n",
              "      <th>isExternal</th>\n",
              "      <th>createdAt_y</th>\n",
              "      <th>receivedAt</th>\n",
              "      <th>diff_cre_rec</th>\n",
              "    </tr>\n",
              "  </thead>\n",
              "  <tbody>\n",
              "    <tr>\n",
              "      <th>0</th>\n",
              "      <td>00028a99-c401-4048-9b75-b923cff55a79</td>\n",
              "      <td>Sheeba</td>\n",
              "      <td>724467a5-52d1-4989-a870-99ae65d3e0e8</td>\n",
              "      <td>Amazon Flex</td>\n",
              "      <td>Not Interested - Applied by Mistake</td>\n",
              "      <td>2019-07-25 17:00:00+00:00</td>\n",
              "      <td>2019-12-26T17:32:49.297Z</td>\n",
              "      <td>2019</td>\n",
              "      <td>7</td>\n",
              "      <td>Thursday</td>\n",
              "      <td>False</td>\n",
              "      <td>Q3</td>\n",
              "      <td>724467a5-52d1-4989-a870-99ae65d3e0e8</td>\n",
              "      <td>Shrinivas</td>\n",
              "      <td>1234567890</td>\n",
              "      <td>Bangalore</td>\n",
              "      <td>Karnataka</td>\n",
              "      <td>Reused Leads</td>\n",
              "      <td>False</td>\n",
              "      <td>2019-12-26T17:32:49.009Z</td>\n",
              "      <td>2019-02-24T00:00:00Z</td>\n",
              "      <td>305 days 17:32:49.009000</td>\n",
              "    </tr>\n",
              "    <tr>\n",
              "      <th>1</th>\n",
              "      <td>00033b17-3a2a-4769-8623-bb00adf1e4c5</td>\n",
              "      <td>Amila</td>\n",
              "      <td>65d4429f-cb34-436d-9020-1fd6f364367f</td>\n",
              "      <td>KFC</td>\n",
              "      <td>RNR</td>\n",
              "      <td>2019-10-10 17:30:00+00:00</td>\n",
              "      <td>2019-12-26T18:09:38.408Z</td>\n",
              "      <td>2019</td>\n",
              "      <td>10</td>\n",
              "      <td>Thursday</td>\n",
              "      <td>False</td>\n",
              "      <td>Q3</td>\n",
              "      <td>65d4429f-cb34-436d-9020-1fd6f364367f</td>\n",
              "      <td>Karthick</td>\n",
              "      <td>1234567890</td>\n",
              "      <td>Bangalore</td>\n",
              "      <td>Karnataka</td>\n",
              "      <td>Referrals</td>\n",
              "      <td>False</td>\n",
              "      <td>2019-12-26T18:09:35.757Z</td>\n",
              "      <td>2019-10-09T20:18:00Z</td>\n",
              "      <td>77 days 21:51:35.757000</td>\n",
              "    </tr>\n",
              "    <tr>\n",
              "      <th>2</th>\n",
              "      <td>1b5dd7ea-34a4-45e1-a7b0-7c712bc2d366</td>\n",
              "      <td>Amila</td>\n",
              "      <td>65d4429f-cb34-436d-9020-1fd6f364367f</td>\n",
              "      <td>KFC</td>\n",
              "      <td>Switched Off/Not Reachable/No Incoming</td>\n",
              "      <td>2019-10-15 11:30:00+00:00</td>\n",
              "      <td>2019-12-26T18:09:40.426Z</td>\n",
              "      <td>2019</td>\n",
              "      <td>10</td>\n",
              "      <td>Tuesday</td>\n",
              "      <td>False</td>\n",
              "      <td>Q3</td>\n",
              "      <td>65d4429f-cb34-436d-9020-1fd6f364367f</td>\n",
              "      <td>Karthick</td>\n",
              "      <td>1234567890</td>\n",
              "      <td>Bangalore</td>\n",
              "      <td>Karnataka</td>\n",
              "      <td>Referrals</td>\n",
              "      <td>False</td>\n",
              "      <td>2019-12-26T18:09:35.757Z</td>\n",
              "      <td>2019-10-09T20:18:00Z</td>\n",
              "      <td>77 days 21:51:35.757000</td>\n",
              "    </tr>\n",
              "    <tr>\n",
              "      <th>3</th>\n",
              "      <td>31db5477-aa6a-4935-a177-39bcace3e19d</td>\n",
              "      <td>Amila</td>\n",
              "      <td>65d4429f-cb34-436d-9020-1fd6f364367f</td>\n",
              "      <td>KFC</td>\n",
              "      <td>Not Interested - Wrong Number</td>\n",
              "      <td>2019-10-17 15:30:00+00:00</td>\n",
              "      <td>2019-12-26T18:09:41.241Z</td>\n",
              "      <td>2019</td>\n",
              "      <td>10</td>\n",
              "      <td>Thursday</td>\n",
              "      <td>False</td>\n",
              "      <td>Q3</td>\n",
              "      <td>65d4429f-cb34-436d-9020-1fd6f364367f</td>\n",
              "      <td>Karthick</td>\n",
              "      <td>1234567890</td>\n",
              "      <td>Bangalore</td>\n",
              "      <td>Karnataka</td>\n",
              "      <td>Referrals</td>\n",
              "      <td>False</td>\n",
              "      <td>2019-12-26T18:09:35.757Z</td>\n",
              "      <td>2019-10-09T20:18:00Z</td>\n",
              "      <td>77 days 21:51:35.757000</td>\n",
              "    </tr>\n",
              "    <tr>\n",
              "      <th>4</th>\n",
              "      <td>0003dcc7-05d0-4736-a415-5e67ea95c24e</td>\n",
              "      <td>Sheeba</td>\n",
              "      <td>fea7fb85-3355-4747-98fd-dae1b9aca52a</td>\n",
              "      <td>Lalamove</td>\n",
              "      <td>Not Interested - Disconnected the Call</td>\n",
              "      <td>2019-08-30 14:00:00+00:00</td>\n",
              "      <td>2019-12-26T17:42:55.007Z</td>\n",
              "      <td>2019</td>\n",
              "      <td>8</td>\n",
              "      <td>Friday</td>\n",
              "      <td>True</td>\n",
              "      <td>Q3</td>\n",
              "      <td>fea7fb85-3355-4747-98fd-dae1b9aca52a</td>\n",
              "      <td>Kamaram Ramesh</td>\n",
              "      <td>1234567890</td>\n",
              "      <td>Hyderabad</td>\n",
              "      <td>Telangana</td>\n",
              "      <td>Facebook</td>\n",
              "      <td>False</td>\n",
              "      <td>2019-12-26T17:42:54.295Z</td>\n",
              "      <td>2019-08-21T00:00:00Z</td>\n",
              "      <td>127 days 17:42:54.295000</td>\n",
              "    </tr>\n",
              "  </tbody>\n",
              "</table>\n",
              "</div>"
            ],
            "text/plain": [
              "                                   id_x  ...             diff_cre_rec\n",
              "0  00028a99-c401-4048-9b75-b923cff55a79  ... 305 days 17:32:49.009000\n",
              "1  00033b17-3a2a-4769-8623-bb00adf1e4c5  ...  77 days 21:51:35.757000\n",
              "2  1b5dd7ea-34a4-45e1-a7b0-7c712bc2d366  ...  77 days 21:51:35.757000\n",
              "3  31db5477-aa6a-4935-a177-39bcace3e19d  ...  77 days 21:51:35.757000\n",
              "4  0003dcc7-05d0-4736-a415-5e67ea95c24e  ... 127 days 17:42:54.295000\n",
              "\n",
              "[5 rows x 22 columns]"
            ]
          },
          "metadata": {
            "tags": []
          },
          "execution_count": 231
        }
      ]
    },
    {
      "cell_type": "code",
      "metadata": {
        "id": "_d_lExnv-zwW",
        "colab_type": "code",
        "colab": {}
      },
      "source": [
        ""
      ],
      "execution_count": 0,
      "outputs": []
    },
    {
      "cell_type": "code",
      "metadata": {
        "id": "IUsIPOSk0AkU",
        "colab_type": "code",
        "colab": {}
      },
      "source": [
        "final_df = final_df.rename(columns={'telecallerID':'telecallerName'})"
      ],
      "execution_count": 0,
      "outputs": []
    },
    {
      "cell_type": "code",
      "metadata": {
        "id": "Dde7yp8A0tpy",
        "colab_type": "code",
        "outputId": "e0d30286-1138-4a07-ba44-b7a636df4bee",
        "colab": {
          "base_uri": "https://localhost:8080/",
          "height": 411
        }
      },
      "source": [
        "df = final_df.drop(['id_x','id_y','leadId','createdAt_x','createdAt_y','phoneNumber'],axis=1)\n",
        "df.head()"
      ],
      "execution_count": 232,
      "outputs": [
        {
          "output_type": "execute_result",
          "data": {
            "text/html": [
              "<div>\n",
              "<style scoped>\n",
              "    .dataframe tbody tr th:only-of-type {\n",
              "        vertical-align: middle;\n",
              "    }\n",
              "\n",
              "    .dataframe tbody tr th {\n",
              "        vertical-align: top;\n",
              "    }\n",
              "\n",
              "    .dataframe thead th {\n",
              "        text-align: right;\n",
              "    }\n",
              "</style>\n",
              "<table border=\"1\" class=\"dataframe\">\n",
              "  <thead>\n",
              "    <tr style=\"text-align: right;\">\n",
              "      <th></th>\n",
              "      <th>telecallerId</th>\n",
              "      <th>client</th>\n",
              "      <th>status</th>\n",
              "      <th>calledAt</th>\n",
              "      <th>Year</th>\n",
              "      <th>Month</th>\n",
              "      <th>Day</th>\n",
              "      <th>Weekend</th>\n",
              "      <th>Quarter</th>\n",
              "      <th>name</th>\n",
              "      <th>city</th>\n",
              "      <th>state</th>\n",
              "      <th>source</th>\n",
              "      <th>isExternal</th>\n",
              "      <th>receivedAt</th>\n",
              "      <th>diff_cre_rec</th>\n",
              "    </tr>\n",
              "  </thead>\n",
              "  <tbody>\n",
              "    <tr>\n",
              "      <th>0</th>\n",
              "      <td>Sheeba</td>\n",
              "      <td>Amazon Flex</td>\n",
              "      <td>Not Interested - Applied by Mistake</td>\n",
              "      <td>2019-07-25 17:00:00+00:00</td>\n",
              "      <td>2019</td>\n",
              "      <td>7</td>\n",
              "      <td>Thursday</td>\n",
              "      <td>False</td>\n",
              "      <td>Q3</td>\n",
              "      <td>Shrinivas</td>\n",
              "      <td>Bangalore</td>\n",
              "      <td>Karnataka</td>\n",
              "      <td>Reused Leads</td>\n",
              "      <td>False</td>\n",
              "      <td>2019-02-24T00:00:00Z</td>\n",
              "      <td>305 days 17:32:49.009000</td>\n",
              "    </tr>\n",
              "    <tr>\n",
              "      <th>1</th>\n",
              "      <td>Amila</td>\n",
              "      <td>KFC</td>\n",
              "      <td>RNR</td>\n",
              "      <td>2019-10-10 17:30:00+00:00</td>\n",
              "      <td>2019</td>\n",
              "      <td>10</td>\n",
              "      <td>Thursday</td>\n",
              "      <td>False</td>\n",
              "      <td>Q3</td>\n",
              "      <td>Karthick</td>\n",
              "      <td>Bangalore</td>\n",
              "      <td>Karnataka</td>\n",
              "      <td>Referrals</td>\n",
              "      <td>False</td>\n",
              "      <td>2019-10-09T20:18:00Z</td>\n",
              "      <td>77 days 21:51:35.757000</td>\n",
              "    </tr>\n",
              "    <tr>\n",
              "      <th>2</th>\n",
              "      <td>Amila</td>\n",
              "      <td>KFC</td>\n",
              "      <td>Switched Off/Not Reachable/No Incoming</td>\n",
              "      <td>2019-10-15 11:30:00+00:00</td>\n",
              "      <td>2019</td>\n",
              "      <td>10</td>\n",
              "      <td>Tuesday</td>\n",
              "      <td>False</td>\n",
              "      <td>Q3</td>\n",
              "      <td>Karthick</td>\n",
              "      <td>Bangalore</td>\n",
              "      <td>Karnataka</td>\n",
              "      <td>Referrals</td>\n",
              "      <td>False</td>\n",
              "      <td>2019-10-09T20:18:00Z</td>\n",
              "      <td>77 days 21:51:35.757000</td>\n",
              "    </tr>\n",
              "    <tr>\n",
              "      <th>3</th>\n",
              "      <td>Amila</td>\n",
              "      <td>KFC</td>\n",
              "      <td>Not Interested - Wrong Number</td>\n",
              "      <td>2019-10-17 15:30:00+00:00</td>\n",
              "      <td>2019</td>\n",
              "      <td>10</td>\n",
              "      <td>Thursday</td>\n",
              "      <td>False</td>\n",
              "      <td>Q3</td>\n",
              "      <td>Karthick</td>\n",
              "      <td>Bangalore</td>\n",
              "      <td>Karnataka</td>\n",
              "      <td>Referrals</td>\n",
              "      <td>False</td>\n",
              "      <td>2019-10-09T20:18:00Z</td>\n",
              "      <td>77 days 21:51:35.757000</td>\n",
              "    </tr>\n",
              "    <tr>\n",
              "      <th>4</th>\n",
              "      <td>Sheeba</td>\n",
              "      <td>Lalamove</td>\n",
              "      <td>Not Interested - Disconnected the Call</td>\n",
              "      <td>2019-08-30 14:00:00+00:00</td>\n",
              "      <td>2019</td>\n",
              "      <td>8</td>\n",
              "      <td>Friday</td>\n",
              "      <td>True</td>\n",
              "      <td>Q3</td>\n",
              "      <td>Kamaram Ramesh</td>\n",
              "      <td>Hyderabad</td>\n",
              "      <td>Telangana</td>\n",
              "      <td>Facebook</td>\n",
              "      <td>False</td>\n",
              "      <td>2019-08-21T00:00:00Z</td>\n",
              "      <td>127 days 17:42:54.295000</td>\n",
              "    </tr>\n",
              "  </tbody>\n",
              "</table>\n",
              "</div>"
            ],
            "text/plain": [
              "  telecallerId       client  ...            receivedAt             diff_cre_rec\n",
              "0       Sheeba  Amazon Flex  ...  2019-02-24T00:00:00Z 305 days 17:32:49.009000\n",
              "1        Amila          KFC  ...  2019-10-09T20:18:00Z  77 days 21:51:35.757000\n",
              "2        Amila          KFC  ...  2019-10-09T20:18:00Z  77 days 21:51:35.757000\n",
              "3        Amila          KFC  ...  2019-10-09T20:18:00Z  77 days 21:51:35.757000\n",
              "4       Sheeba     Lalamove  ...  2019-08-21T00:00:00Z 127 days 17:42:54.295000\n",
              "\n",
              "[5 rows x 16 columns]"
            ]
          },
          "metadata": {
            "tags": []
          },
          "execution_count": 232
        }
      ]
    },
    {
      "cell_type": "code",
      "metadata": {
        "id": "rk32guUC_Xs7",
        "colab_type": "code",
        "colab": {}
      },
      "source": [
        "df['diff_callvrecieve'] = pd.to_datetime(df['calledAt'])-pd.to_datetime(df['receivedAt'])"
      ],
      "execution_count": 0,
      "outputs": []
    },
    {
      "cell_type": "code",
      "metadata": {
        "id": "iwE3a8Lr_7gz",
        "colab_type": "code",
        "colab": {
          "base_uri": "https://localhost:8080/",
          "height": 85
        },
        "outputId": "cdf541fb-823a-4764-9103-0f85531706f9"
      },
      "source": [
        "df.columns"
      ],
      "execution_count": 236,
      "outputs": [
        {
          "output_type": "execute_result",
          "data": {
            "text/plain": [
              "Index(['telecallerId', 'client', 'status', 'calledAt', 'Year', 'Month', 'Day',\n",
              "       'Weekend', 'Quarter', 'name', 'city', 'state', 'source', 'isExternal',\n",
              "       'receivedAt', 'diff_cre_rec', 'diff_callvrecieve'],\n",
              "      dtype='object')"
            ]
          },
          "metadata": {
            "tags": []
          },
          "execution_count": 236
        }
      ]
    },
    {
      "cell_type": "code",
      "metadata": {
        "id": "Fe2Ujjtm3BC4",
        "colab_type": "code",
        "colab": {}
      },
      "source": [
        "df_unique = df.drop_duplicates(keep='last')"
      ],
      "execution_count": 0,
      "outputs": []
    },
    {
      "cell_type": "code",
      "metadata": {
        "id": "Y0tgP0-O2aLp",
        "colab_type": "code",
        "outputId": "ba1275f4-a791-45f1-ab56-06ac962d3dd6",
        "colab": {
          "base_uri": "https://localhost:8080/",
          "height": 69
        }
      },
      "source": [
        "df_unique[df_unique.duplicated()==True]"
      ],
      "execution_count": 255,
      "outputs": [
        {
          "output_type": "execute_result",
          "data": {
            "text/html": [
              "<div>\n",
              "<style scoped>\n",
              "    .dataframe tbody tr th:only-of-type {\n",
              "        vertical-align: middle;\n",
              "    }\n",
              "\n",
              "    .dataframe tbody tr th {\n",
              "        vertical-align: top;\n",
              "    }\n",
              "\n",
              "    .dataframe thead th {\n",
              "        text-align: right;\n",
              "    }\n",
              "</style>\n",
              "<table border=\"1\" class=\"dataframe\">\n",
              "  <thead>\n",
              "    <tr style=\"text-align: right;\">\n",
              "      <th></th>\n",
              "      <th>telecallerId</th>\n",
              "      <th>client</th>\n",
              "      <th>status</th>\n",
              "      <th>calledAt</th>\n",
              "      <th>Year</th>\n",
              "      <th>Month</th>\n",
              "      <th>Day</th>\n",
              "      <th>Weekend</th>\n",
              "      <th>Quarter</th>\n",
              "      <th>name</th>\n",
              "      <th>city</th>\n",
              "      <th>state</th>\n",
              "      <th>source</th>\n",
              "      <th>isExternal</th>\n",
              "      <th>receivedAt</th>\n",
              "      <th>diff_cre_rec</th>\n",
              "      <th>diff_callvrecieve</th>\n",
              "    </tr>\n",
              "  </thead>\n",
              "  <tbody>\n",
              "  </tbody>\n",
              "</table>\n",
              "</div>"
            ],
            "text/plain": [
              "Empty DataFrame\n",
              "Columns: [telecallerId, client, status, calledAt, Year, Month, Day, Weekend, Quarter, name, city, state, source, isExternal, receivedAt, diff_cre_rec, diff_callvrecieve]\n",
              "Index: []"
            ]
          },
          "metadata": {
            "tags": []
          },
          "execution_count": 255
        }
      ]
    },
    {
      "cell_type": "code",
      "metadata": {
        "id": "vozLSGdo3nqK",
        "colab_type": "code",
        "outputId": "19724d4d-2148-4c21-e473-ad7348416fe0",
        "colab": {
          "base_uri": "https://localhost:8080/",
          "height": 34
        }
      },
      "source": [
        "df_unique.shape"
      ],
      "execution_count": 256,
      "outputs": [
        {
          "output_type": "execute_result",
          "data": {
            "text/plain": [
              "(11492, 17)"
            ]
          },
          "metadata": {
            "tags": []
          },
          "execution_count": 256
        }
      ]
    },
    {
      "cell_type": "code",
      "metadata": {
        "id": "oCZINdF73qpq",
        "colab_type": "code",
        "outputId": "68d69138-497b-41c9-ce6c-3f0c5f0791a3",
        "colab": {
          "base_uri": "https://localhost:8080/",
          "height": 1000
        }
      },
      "source": [
        "#pd.set_option('display.max_rows', 12000)\n",
        "\n",
        "df_unique['status'] = df_unique['status'].apply(lambda x:'Invalid Number' if 'number' in str(x).lower() else x )\n",
        "df_unique['status'] = df_unique['status'].apply(lambda x:'Not Interested' if 'not interested' in str(x).lower() else x )\n",
        "df_unique['status'] = df_unique['status'].apply(lambda x:'CNP' if 'switched off/not reachable' in str(x).lower() else x )\n",
        "df_unique['status'] = df_unique['status'].apply(lambda x:'CNP' if 'cnp' in str(x).lower() else x )\n",
        "df_unique['status'] = df_unique['status'].apply(lambda x:'RNR' if 'rnr' in str(x).lower() else x )\n",
        "df_unique['status'] = df_unique['status'].apply(lambda x:'Interested' if 'interested ' in str(x).lower() else x )\n",
        "df_unique['status'] = df_unique['status'].apply(lambda x:'Interested' if 'want ' in str(x).lower() else x )\n",
        "\n",
        "df_unique['status'].value_counts()"
      ],
      "execution_count": 257,
      "outputs": [
        {
          "output_type": "stream",
          "text": [
            "/usr/local/lib/python3.6/dist-packages/ipykernel_launcher.py:2: SettingWithCopyWarning: \n",
            "A value is trying to be set on a copy of a slice from a DataFrame.\n",
            "Try using .loc[row_indexer,col_indexer] = value instead\n",
            "\n",
            "See the caveats in the documentation: http://pandas.pydata.org/pandas-docs/stable/user_guide/indexing.html#returning-a-view-versus-a-copy\n",
            "  \n",
            "/usr/local/lib/python3.6/dist-packages/ipykernel_launcher.py:3: SettingWithCopyWarning: \n",
            "A value is trying to be set on a copy of a slice from a DataFrame.\n",
            "Try using .loc[row_indexer,col_indexer] = value instead\n",
            "\n",
            "See the caveats in the documentation: http://pandas.pydata.org/pandas-docs/stable/user_guide/indexing.html#returning-a-view-versus-a-copy\n",
            "  This is separate from the ipykernel package so we can avoid doing imports until\n",
            "/usr/local/lib/python3.6/dist-packages/ipykernel_launcher.py:4: SettingWithCopyWarning: \n",
            "A value is trying to be set on a copy of a slice from a DataFrame.\n",
            "Try using .loc[row_indexer,col_indexer] = value instead\n",
            "\n",
            "See the caveats in the documentation: http://pandas.pydata.org/pandas-docs/stable/user_guide/indexing.html#returning-a-view-versus-a-copy\n",
            "  after removing the cwd from sys.path.\n",
            "/usr/local/lib/python3.6/dist-packages/ipykernel_launcher.py:5: SettingWithCopyWarning: \n",
            "A value is trying to be set on a copy of a slice from a DataFrame.\n",
            "Try using .loc[row_indexer,col_indexer] = value instead\n",
            "\n",
            "See the caveats in the documentation: http://pandas.pydata.org/pandas-docs/stable/user_guide/indexing.html#returning-a-view-versus-a-copy\n",
            "  \"\"\"\n",
            "/usr/local/lib/python3.6/dist-packages/ipykernel_launcher.py:6: SettingWithCopyWarning: \n",
            "A value is trying to be set on a copy of a slice from a DataFrame.\n",
            "Try using .loc[row_indexer,col_indexer] = value instead\n",
            "\n",
            "See the caveats in the documentation: http://pandas.pydata.org/pandas-docs/stable/user_guide/indexing.html#returning-a-view-versus-a-copy\n",
            "  \n",
            "/usr/local/lib/python3.6/dist-packages/ipykernel_launcher.py:7: SettingWithCopyWarning: \n",
            "A value is trying to be set on a copy of a slice from a DataFrame.\n",
            "Try using .loc[row_indexer,col_indexer] = value instead\n",
            "\n",
            "See the caveats in the documentation: http://pandas.pydata.org/pandas-docs/stable/user_guide/indexing.html#returning-a-view-versus-a-copy\n",
            "  import sys\n",
            "/usr/local/lib/python3.6/dist-packages/ipykernel_launcher.py:8: SettingWithCopyWarning: \n",
            "A value is trying to be set on a copy of a slice from a DataFrame.\n",
            "Try using .loc[row_indexer,col_indexer] = value instead\n",
            "\n",
            "See the caveats in the documentation: http://pandas.pydata.org/pandas-docs/stable/user_guide/indexing.html#returning-a-view-versus-a-copy\n",
            "  \n"
          ],
          "name": "stderr"
        },
        {
          "output_type": "execute_result",
          "data": {
            "text/plain": [
              "CNP                         4121\n",
              "Not Interested              2689\n",
              "Invalid Number              1129\n",
              "Very Interested              734\n",
              "RNR                          572\n",
              "Interested                   542\n",
              "Not Applied                  325\n",
              "Don't Meet Requirements      249\n",
              "Disconnected the Call        249\n",
              "Other Reasons                237\n",
              "Not Sure                     113\n",
              "Joined                       112\n",
              "Got Other Jobs                98\n",
              "Language Barrier              81\n",
              "Location Issue                73\n",
              "Applied for Someone Else      54\n",
              "Applied by Mistake            39\n",
              "Call Back                     29\n",
              "Not sure                      29\n",
              "Disconnected the call         13\n",
              "Location issue                 2\n",
              "Applied by mistake             2\n",
              "Name: status, dtype: int64"
            ]
          },
          "metadata": {
            "tags": []
          },
          "execution_count": 257
        }
      ]
    },
    {
      "cell_type": "code",
      "metadata": {
        "id": "Pm0Yazs2DTMF",
        "colab_type": "code",
        "outputId": "95abdc3e-4727-450c-971a-90b8875ef524",
        "colab": {
          "base_uri": "https://localhost:8080/",
          "height": 309
        }
      },
      "source": [
        "df_unique.head()"
      ],
      "execution_count": 258,
      "outputs": [
        {
          "output_type": "execute_result",
          "data": {
            "text/html": [
              "<div>\n",
              "<style scoped>\n",
              "    .dataframe tbody tr th:only-of-type {\n",
              "        vertical-align: middle;\n",
              "    }\n",
              "\n",
              "    .dataframe tbody tr th {\n",
              "        vertical-align: top;\n",
              "    }\n",
              "\n",
              "    .dataframe thead th {\n",
              "        text-align: right;\n",
              "    }\n",
              "</style>\n",
              "<table border=\"1\" class=\"dataframe\">\n",
              "  <thead>\n",
              "    <tr style=\"text-align: right;\">\n",
              "      <th></th>\n",
              "      <th>telecallerId</th>\n",
              "      <th>client</th>\n",
              "      <th>status</th>\n",
              "      <th>calledAt</th>\n",
              "      <th>Year</th>\n",
              "      <th>Month</th>\n",
              "      <th>Day</th>\n",
              "      <th>Weekend</th>\n",
              "      <th>Quarter</th>\n",
              "      <th>name</th>\n",
              "      <th>city</th>\n",
              "      <th>state</th>\n",
              "      <th>source</th>\n",
              "      <th>isExternal</th>\n",
              "      <th>receivedAt</th>\n",
              "      <th>diff_cre_rec</th>\n",
              "      <th>diff_callvrecieve</th>\n",
              "    </tr>\n",
              "  </thead>\n",
              "  <tbody>\n",
              "    <tr>\n",
              "      <th>0</th>\n",
              "      <td>Sheeba</td>\n",
              "      <td>Amazon Flex</td>\n",
              "      <td>Not Interested</td>\n",
              "      <td>2019-07-25 17:00:00+00:00</td>\n",
              "      <td>2019</td>\n",
              "      <td>7</td>\n",
              "      <td>Thursday</td>\n",
              "      <td>False</td>\n",
              "      <td>Q3</td>\n",
              "      <td>Shrinivas</td>\n",
              "      <td>Bangalore</td>\n",
              "      <td>Karnataka</td>\n",
              "      <td>Reused Leads</td>\n",
              "      <td>False</td>\n",
              "      <td>2019-02-24T00:00:00Z</td>\n",
              "      <td>305 days 17:32:49.009000</td>\n",
              "      <td>151 days 17:00:00</td>\n",
              "    </tr>\n",
              "    <tr>\n",
              "      <th>1</th>\n",
              "      <td>Amila</td>\n",
              "      <td>KFC</td>\n",
              "      <td>RNR</td>\n",
              "      <td>2019-10-10 17:30:00+00:00</td>\n",
              "      <td>2019</td>\n",
              "      <td>10</td>\n",
              "      <td>Thursday</td>\n",
              "      <td>False</td>\n",
              "      <td>Q3</td>\n",
              "      <td>Karthick</td>\n",
              "      <td>Bangalore</td>\n",
              "      <td>Karnataka</td>\n",
              "      <td>Referrals</td>\n",
              "      <td>False</td>\n",
              "      <td>2019-10-09T20:18:00Z</td>\n",
              "      <td>77 days 21:51:35.757000</td>\n",
              "      <td>0 days 21:12:00</td>\n",
              "    </tr>\n",
              "    <tr>\n",
              "      <th>2</th>\n",
              "      <td>Amila</td>\n",
              "      <td>KFC</td>\n",
              "      <td>CNP</td>\n",
              "      <td>2019-10-15 11:30:00+00:00</td>\n",
              "      <td>2019</td>\n",
              "      <td>10</td>\n",
              "      <td>Tuesday</td>\n",
              "      <td>False</td>\n",
              "      <td>Q3</td>\n",
              "      <td>Karthick</td>\n",
              "      <td>Bangalore</td>\n",
              "      <td>Karnataka</td>\n",
              "      <td>Referrals</td>\n",
              "      <td>False</td>\n",
              "      <td>2019-10-09T20:18:00Z</td>\n",
              "      <td>77 days 21:51:35.757000</td>\n",
              "      <td>5 days 15:12:00</td>\n",
              "    </tr>\n",
              "    <tr>\n",
              "      <th>3</th>\n",
              "      <td>Amila</td>\n",
              "      <td>KFC</td>\n",
              "      <td>Invalid Number</td>\n",
              "      <td>2019-10-17 15:30:00+00:00</td>\n",
              "      <td>2019</td>\n",
              "      <td>10</td>\n",
              "      <td>Thursday</td>\n",
              "      <td>False</td>\n",
              "      <td>Q3</td>\n",
              "      <td>Karthick</td>\n",
              "      <td>Bangalore</td>\n",
              "      <td>Karnataka</td>\n",
              "      <td>Referrals</td>\n",
              "      <td>False</td>\n",
              "      <td>2019-10-09T20:18:00Z</td>\n",
              "      <td>77 days 21:51:35.757000</td>\n",
              "      <td>7 days 19:12:00</td>\n",
              "    </tr>\n",
              "    <tr>\n",
              "      <th>4</th>\n",
              "      <td>Sheeba</td>\n",
              "      <td>Lalamove</td>\n",
              "      <td>Not Interested</td>\n",
              "      <td>2019-08-30 14:00:00+00:00</td>\n",
              "      <td>2019</td>\n",
              "      <td>8</td>\n",
              "      <td>Friday</td>\n",
              "      <td>True</td>\n",
              "      <td>Q3</td>\n",
              "      <td>Kamaram Ramesh</td>\n",
              "      <td>Hyderabad</td>\n",
              "      <td>Telangana</td>\n",
              "      <td>Facebook</td>\n",
              "      <td>False</td>\n",
              "      <td>2019-08-21T00:00:00Z</td>\n",
              "      <td>127 days 17:42:54.295000</td>\n",
              "      <td>9 days 14:00:00</td>\n",
              "    </tr>\n",
              "  </tbody>\n",
              "</table>\n",
              "</div>"
            ],
            "text/plain": [
              "  telecallerId       client  ...             diff_cre_rec diff_callvrecieve\n",
              "0       Sheeba  Amazon Flex  ... 305 days 17:32:49.009000 151 days 17:00:00\n",
              "1        Amila          KFC  ...  77 days 21:51:35.757000   0 days 21:12:00\n",
              "2        Amila          KFC  ...  77 days 21:51:35.757000   5 days 15:12:00\n",
              "3        Amila          KFC  ...  77 days 21:51:35.757000   7 days 19:12:00\n",
              "4       Sheeba     Lalamove  ... 127 days 17:42:54.295000   9 days 14:00:00\n",
              "\n",
              "[5 rows x 17 columns]"
            ]
          },
          "metadata": {
            "tags": []
          },
          "execution_count": 258
        }
      ]
    },
    {
      "cell_type": "code",
      "metadata": {
        "id": "NwY98gOhBGq0",
        "colab_type": "code",
        "colab": {}
      },
      "source": [
        "df_unique = df_unique.drop(['calledAt','receivedAt'],axis=1)"
      ],
      "execution_count": 0,
      "outputs": []
    },
    {
      "cell_type": "code",
      "metadata": {
        "id": "8i5p4n80CJQj",
        "colab_type": "code",
        "colab": {
          "base_uri": "https://localhost:8080/",
          "height": 34
        },
        "outputId": "d38287c4-9542-4a2a-d979-7c64cc0bd587"
      },
      "source": [
        "x = '305 days 17:32:49.009000'\t\n",
        "x[0:3]"
      ],
      "execution_count": 249,
      "outputs": [
        {
          "output_type": "execute_result",
          "data": {
            "text/plain": [
              "'305'"
            ]
          },
          "metadata": {
            "tags": []
          },
          "execution_count": 249
        }
      ]
    },
    {
      "cell_type": "code",
      "metadata": {
        "id": "kyAq4s3zC6F0",
        "colab_type": "code",
        "colab": {}
      },
      "source": [
        "df"
      ],
      "execution_count": 0,
      "outputs": []
    },
    {
      "cell_type": "code",
      "metadata": {
        "id": "BPaSFe-lBW0A",
        "colab_type": "code",
        "colab": {}
      },
      "source": [
        "df_unique['diff_callvrecieve'] = df_unique['diff_callvrecieve'].apply(lambda x: str(x)[0:3].replace('d',''))\n",
        "df_unique['diff_cre_rec'] = df_unique['diff_cre_rec'].apply(lambda x: str(x)[0:3].replace('d',''))\n"
      ],
      "execution_count": 0,
      "outputs": []
    },
    {
      "cell_type": "code",
      "metadata": {
        "id": "eKwKJpo0DS49",
        "colab_type": "code",
        "outputId": "11158930-79ba-4cae-f1c6-b2027776a10b",
        "colab": {
          "base_uri": "https://localhost:8080/",
          "height": 275
        }
      },
      "source": [
        "df_unique.head()"
      ],
      "execution_count": 261,
      "outputs": [
        {
          "output_type": "execute_result",
          "data": {
            "text/html": [
              "<div>\n",
              "<style scoped>\n",
              "    .dataframe tbody tr th:only-of-type {\n",
              "        vertical-align: middle;\n",
              "    }\n",
              "\n",
              "    .dataframe tbody tr th {\n",
              "        vertical-align: top;\n",
              "    }\n",
              "\n",
              "    .dataframe thead th {\n",
              "        text-align: right;\n",
              "    }\n",
              "</style>\n",
              "<table border=\"1\" class=\"dataframe\">\n",
              "  <thead>\n",
              "    <tr style=\"text-align: right;\">\n",
              "      <th></th>\n",
              "      <th>telecallerId</th>\n",
              "      <th>client</th>\n",
              "      <th>status</th>\n",
              "      <th>Year</th>\n",
              "      <th>Month</th>\n",
              "      <th>Day</th>\n",
              "      <th>Weekend</th>\n",
              "      <th>Quarter</th>\n",
              "      <th>name</th>\n",
              "      <th>city</th>\n",
              "      <th>state</th>\n",
              "      <th>source</th>\n",
              "      <th>isExternal</th>\n",
              "      <th>diff_cre_rec</th>\n",
              "      <th>diff_callvrecieve</th>\n",
              "    </tr>\n",
              "  </thead>\n",
              "  <tbody>\n",
              "    <tr>\n",
              "      <th>0</th>\n",
              "      <td>Sheeba</td>\n",
              "      <td>Amazon Flex</td>\n",
              "      <td>Not Interested</td>\n",
              "      <td>2019</td>\n",
              "      <td>7</td>\n",
              "      <td>Thursday</td>\n",
              "      <td>False</td>\n",
              "      <td>Q3</td>\n",
              "      <td>Shrinivas</td>\n",
              "      <td>Bangalore</td>\n",
              "      <td>Karnataka</td>\n",
              "      <td>Reused Leads</td>\n",
              "      <td>False</td>\n",
              "      <td>305</td>\n",
              "      <td>151</td>\n",
              "    </tr>\n",
              "    <tr>\n",
              "      <th>1</th>\n",
              "      <td>Amila</td>\n",
              "      <td>KFC</td>\n",
              "      <td>RNR</td>\n",
              "      <td>2019</td>\n",
              "      <td>10</td>\n",
              "      <td>Thursday</td>\n",
              "      <td>False</td>\n",
              "      <td>Q3</td>\n",
              "      <td>Karthick</td>\n",
              "      <td>Bangalore</td>\n",
              "      <td>Karnataka</td>\n",
              "      <td>Referrals</td>\n",
              "      <td>False</td>\n",
              "      <td>77</td>\n",
              "      <td>0</td>\n",
              "    </tr>\n",
              "    <tr>\n",
              "      <th>2</th>\n",
              "      <td>Amila</td>\n",
              "      <td>KFC</td>\n",
              "      <td>CNP</td>\n",
              "      <td>2019</td>\n",
              "      <td>10</td>\n",
              "      <td>Tuesday</td>\n",
              "      <td>False</td>\n",
              "      <td>Q3</td>\n",
              "      <td>Karthick</td>\n",
              "      <td>Bangalore</td>\n",
              "      <td>Karnataka</td>\n",
              "      <td>Referrals</td>\n",
              "      <td>False</td>\n",
              "      <td>77</td>\n",
              "      <td>5</td>\n",
              "    </tr>\n",
              "    <tr>\n",
              "      <th>3</th>\n",
              "      <td>Amila</td>\n",
              "      <td>KFC</td>\n",
              "      <td>Invalid Number</td>\n",
              "      <td>2019</td>\n",
              "      <td>10</td>\n",
              "      <td>Thursday</td>\n",
              "      <td>False</td>\n",
              "      <td>Q3</td>\n",
              "      <td>Karthick</td>\n",
              "      <td>Bangalore</td>\n",
              "      <td>Karnataka</td>\n",
              "      <td>Referrals</td>\n",
              "      <td>False</td>\n",
              "      <td>77</td>\n",
              "      <td>7</td>\n",
              "    </tr>\n",
              "    <tr>\n",
              "      <th>4</th>\n",
              "      <td>Sheeba</td>\n",
              "      <td>Lalamove</td>\n",
              "      <td>Not Interested</td>\n",
              "      <td>2019</td>\n",
              "      <td>8</td>\n",
              "      <td>Friday</td>\n",
              "      <td>True</td>\n",
              "      <td>Q3</td>\n",
              "      <td>Kamaram Ramesh</td>\n",
              "      <td>Hyderabad</td>\n",
              "      <td>Telangana</td>\n",
              "      <td>Facebook</td>\n",
              "      <td>False</td>\n",
              "      <td>127</td>\n",
              "      <td>9</td>\n",
              "    </tr>\n",
              "  </tbody>\n",
              "</table>\n",
              "</div>"
            ],
            "text/plain": [
              "  telecallerId       client  ... diff_cre_rec  diff_callvrecieve\n",
              "0       Sheeba  Amazon Flex  ...          305                151\n",
              "1        Amila          KFC  ...          77                  0 \n",
              "2        Amila          KFC  ...          77                  5 \n",
              "3        Amila          KFC  ...          77                  7 \n",
              "4       Sheeba     Lalamove  ...          127                 9 \n",
              "\n",
              "[5 rows x 15 columns]"
            ]
          },
          "metadata": {
            "tags": []
          },
          "execution_count": 261
        }
      ]
    },
    {
      "cell_type": "code",
      "metadata": {
        "id": "p2mntN2fDyoh",
        "colab_type": "code",
        "colab": {}
      },
      "source": [
        ""
      ],
      "execution_count": 0,
      "outputs": []
    },
    {
      "cell_type": "code",
      "metadata": {
        "id": "-SA2hHhPEHty",
        "colab_type": "code",
        "outputId": "966b2fef-7500-4d66-d25c-9e722620e62c",
        "colab": {
          "base_uri": "https://localhost:8080/",
          "height": 316
        }
      },
      "source": [
        "df_unique['telecallerId'].value_counts().plot.bar()"
      ],
      "execution_count": 0,
      "outputs": [
        {
          "output_type": "execute_result",
          "data": {
            "text/plain": [
              "<matplotlib.axes._subplots.AxesSubplot at 0x7fcf2ce52cc0>"
            ]
          },
          "metadata": {
            "tags": []
          },
          "execution_count": 103
        },
        {
          "output_type": "display_data",
          "data": {
            "image/png": "[encoded data removed]",
            "text/plain": [
              "<Figure size 432x288 with 1 Axes>"
            ]
          },
          "metadata": {
            "tags": []
          }
        }
      ]
    },
    {
      "cell_type": "code",
      "metadata": {
        "id": "7VleMFMVzJ9B",
        "colab_type": "code",
        "colab": {}
      },
      "source": [
        ""
      ],
      "execution_count": 0,
      "outputs": []
    },
    {
      "cell_type": "code",
      "metadata": {
        "id": "7_JHWU5lMrVD",
        "colab_type": "code",
        "colab": {
          "base_uri": "https://localhost:8080/",
          "height": 255
        },
        "outputId": "d85c7d3d-a736-4467-f3c8-0d03ad2c6250"
      },
      "source": [
        "#Key Performance Indicatore\n",
        "# MErge the tables\n",
        "#Create the model\n",
        "# Work on status category\n",
        "#Clustering for better insights."
      ],
      "execution_count": 92,
      "outputs": [
        {
          "output_type": "execute_result",
          "data": {
            "text/plain": [
              "telecallerName    0.000000\n",
              "client            4.516188\n",
              "status            0.000000\n",
              "Year              0.000000\n",
              "Month             0.000000\n",
              "Day               0.000000\n",
              "Weekend           0.000000\n",
              "Quarter           0.000000\n",
              "name              0.000000\n",
              "city              0.000000\n",
              "state             0.000000\n",
              "source            0.000000\n",
              "isExternal        0.000000\n",
              "dtype: float64"
            ]
          },
          "metadata": {
            "tags": []
          },
          "execution_count": 92
        }
      ]
    },
    {
      "cell_type": "code",
      "metadata": {
        "id": "mxN00zznzbat",
        "colab_type": "code",
        "colab": {
          "base_uri": "https://localhost:8080/",
          "height": 34
        },
        "outputId": "d0f74f9d-0be1-4f4e-811d-95132a327646"
      },
      "source": [
        "df_unique.client.mode()[0]"
      ],
      "execution_count": 262,
      "outputs": [
        {
          "output_type": "execute_result",
          "data": {
            "text/plain": [
              "'Zomato'"
            ]
          },
          "metadata": {
            "tags": []
          },
          "execution_count": 262
        }
      ]
    },
    {
      "cell_type": "code",
      "metadata": {
        "id": "uQ7URgxvxeki",
        "colab_type": "code",
        "colab": {}
      },
      "source": [
        "df_unique['client'] = df_unique['client'].fillna(df_unique.client.mode()[0])"
      ],
      "execution_count": 0,
      "outputs": []
    },
    {
      "cell_type": "code",
      "metadata": {
        "id": "3CES8SOZz2Qu",
        "colab_type": "code",
        "colab": {
          "base_uri": "https://localhost:8080/",
          "height": 289
        },
        "outputId": "80e736d0-ed72-4fd4-b11f-d5c9d7a1db53"
      },
      "source": [
        "df_unique.isna().sum()"
      ],
      "execution_count": 264,
      "outputs": [
        {
          "output_type": "execute_result",
          "data": {
            "text/plain": [
              "telecallerId         0\n",
              "client               0\n",
              "status               0\n",
              "Year                 0\n",
              "Month                0\n",
              "Day                  0\n",
              "Weekend              0\n",
              "Quarter              0\n",
              "name                 0\n",
              "city                 0\n",
              "state                0\n",
              "source               0\n",
              "isExternal           0\n",
              "diff_cre_rec         0\n",
              "diff_callvrecieve    0\n",
              "dtype: int64"
            ]
          },
          "metadata": {
            "tags": []
          },
          "execution_count": 264
        }
      ]
    },
    {
      "cell_type": "code",
      "metadata": {
        "id": "1MLy9X6OyAoi",
        "colab_type": "code",
        "colab": {
          "base_uri": "https://localhost:8080/",
          "height": 408
        },
        "outputId": "52e35423-738a-400b-c8aa-2b9d4c7cb1a0"
      },
      "source": [
        "df_unique.client.value_counts()"
      ],
      "execution_count": 105,
      "outputs": [
        {
          "output_type": "execute_result",
          "data": {
            "text/plain": [
              "Zomato          5596\n",
              "Swiggy          2100\n",
              "Uber Eats        628\n",
              "1 MG             324\n",
              "Rapido           313\n",
              "Amazon Flex      262\n",
              "Dunzo            232\n",
              "Lynk             217\n",
              "Random           207\n",
              "Uber eats        202\n",
              "Micelio          182\n",
              "Lalamove         153\n",
              "Uber             143\n",
              "Gati             128\n",
              "BharatPe          93\n",
              "KFC               92\n",
              "Micelio (N)       52\n",
              "Big Basket        33\n",
              "Grab              27\n",
              "Move in sync      26\n",
              "Lynk (N)          16\n",
              "Gati (L)           1\n",
              "Name: client, dtype: int64"
            ]
          },
          "metadata": {
            "tags": []
          },
          "execution_count": 105
        }
      ]
    },
    {
      "cell_type": "code",
      "metadata": {
        "id": "dDMT2EC00Fsk",
        "colab_type": "code",
        "colab": {
          "base_uri": "https://localhost:8080/",
          "height": 408
        },
        "outputId": "fb743f91-c553-4c50-fdec-f066fffb637d"
      },
      "source": [
        "df_unique.status.value_counts()"
      ],
      "execution_count": 265,
      "outputs": [
        {
          "output_type": "execute_result",
          "data": {
            "text/plain": [
              "CNP                         4121\n",
              "Not Interested              2689\n",
              "Invalid Number              1129\n",
              "Very Interested              734\n",
              "RNR                          572\n",
              "Interested                   542\n",
              "Not Applied                  325\n",
              "Don't Meet Requirements      249\n",
              "Disconnected the Call        249\n",
              "Other Reasons                237\n",
              "Not Sure                     113\n",
              "Joined                       112\n",
              "Got Other Jobs                98\n",
              "Language Barrier              81\n",
              "Location Issue                73\n",
              "Applied for Someone Else      54\n",
              "Applied by Mistake            39\n",
              "Call Back                     29\n",
              "Not sure                      29\n",
              "Disconnected the call         13\n",
              "Location issue                 2\n",
              "Applied by mistake             2\n",
              "Name: status, dtype: int64"
            ]
          },
          "metadata": {
            "tags": []
          },
          "execution_count": 265
        }
      ]
    },
    {
      "cell_type": "code",
      "metadata": {
        "id": "uPu7NsRO2Ycu",
        "colab_type": "code",
        "colab": {
          "base_uri": "https://localhost:8080/",
          "height": 85
        },
        "outputId": "b7c86d84-b416-4489-d963-0337e11b4848"
      },
      "source": [
        "df_unique.columns"
      ],
      "execution_count": 266,
      "outputs": [
        {
          "output_type": "execute_result",
          "data": {
            "text/plain": [
              "Index(['telecallerId', 'client', 'status', 'Year', 'Month', 'Day', 'Weekend',\n",
              "       'Quarter', 'name', 'city', 'state', 'source', 'isExternal',\n",
              "       'diff_cre_rec', 'diff_callvrecieve'],\n",
              "      dtype='object')"
            ]
          },
          "metadata": {
            "tags": []
          },
          "execution_count": 266
        }
      ]
    },
    {
      "cell_type": "code",
      "metadata": {
        "id": "Tbe9fYGp5LFa",
        "colab_type": "code",
        "colab": {}
      },
      "source": [
        ""
      ],
      "execution_count": 0,
      "outputs": []
    },
    {
      "cell_type": "code",
      "metadata": {
        "id": "3m2nuw4b3HYm",
        "colab_type": "code",
        "colab": {
          "base_uri": "https://localhost:8080/",
          "height": 482
        },
        "outputId": "556b6153-dad2-4504-dc18-d8cf28154345"
      },
      "source": [
        "df_unique[df_unique['status']=='Joined'].groupby('Month').agg({'status':'count'}).plot.bar()\n",
        "plt.figure(figsize=(12,5))\n",
        "plt.show()"
      ],
      "execution_count": 272,
      "outputs": [
        {
          "output_type": "display_data",
          "data": {
            "image/png": "[encoded data removed]",
            "text/plain": [
              "<Figure size 1296x504 with 1 Axes>"
            ]
          },
          "metadata": {
            "tags": []
          }
        },
        {
          "output_type": "display_data",
          "data": {
            "text/plain": [
              "<Figure size 864x360 with 0 Axes>"
            ]
          },
          "metadata": {
            "tags": []
          }
        }
      ]
    },
    {
      "cell_type": "code",
      "metadata": {
        "id": "CiqvJzX33KfH",
        "colab_type": "code",
        "colab": {
          "base_uri": "https://localhost:8080/",
          "height": 496
        },
        "outputId": "97898179-5bf4-4e93-f9cc-0139a155c7c7"
      },
      "source": [
        "df_unique[df_unique['status']=='Joined'].groupby('Weekend').agg({'status':'count'}).plot.bar()"
      ],
      "execution_count": 273,
      "outputs": [
        {
          "output_type": "execute_result",
          "data": {
            "text/plain": [
              "<matplotlib.axes._subplots.AxesSubplot at 0x7fdb9e540b38>"
            ]
          },
          "metadata": {
            "tags": []
          },
          "execution_count": 273
        },
        {
          "output_type": "display_data",
          "data": {
            "image/png": "[encoded data removed]",
            "text/plain": [
              "<Figure size 1296x504 with 1 Axes>"
            ]
          },
          "metadata": {
            "tags": []
          }
        }
      ]
    },
    {
      "cell_type": "code",
      "metadata": {
        "id": "Y0reS88118R8",
        "colab_type": "code",
        "colab": {
          "base_uri": "https://localhost:8080/",
          "height": 513
        },
        "outputId": "0f07795a-172f-45f0-857d-0ebf45dcec64"
      },
      "source": [
        "plt.figure(figsize=(8,5))\n",
        "df_unique[df_unique['status']=='RNR'].groupby('Weekend').agg({'status':'count'}).plot.bar()"
      ],
      "execution_count": 159,
      "outputs": [
        {
          "output_type": "execute_result",
          "data": {
            "text/plain": [
              "<matplotlib.axes._subplots.AxesSubplot at 0x7fdb9dbdc940>"
            ]
          },
          "metadata": {
            "tags": []
          },
          "execution_count": 159
        },
        {
          "output_type": "display_data",
          "data": {
            "text/plain": [
              "<Figure size 576x360 with 0 Axes>"
            ]
          },
          "metadata": {
            "tags": []
          }
        },
        {
          "output_type": "display_data",
          "data": {
            "image/png": "[encoded data removed]",
            "text/plain": [
              "<Figure size 1296x504 with 1 Axes>"
            ]
          },
          "metadata": {
            "tags": []
          }
        }
      ]
    },
    {
      "cell_type": "code",
      "metadata": {
        "id": "_Zlq3el_7gPk",
        "colab_type": "code",
        "colab": {}
      },
      "source": [
        ""
      ],
      "execution_count": 0,
      "outputs": []
    },
    {
      "cell_type": "code",
      "metadata": {
        "id": "C9Jc1ug43Tjl",
        "colab_type": "code",
        "colab": {
          "base_uri": "https://localhost:8080/",
          "height": 326
        },
        "outputId": "8960964d-42e6-4552-9997-0209e3741212"
      },
      "source": [
        "df_unique[df_unique['status']=='CNP'].groupby('telecallerName').agg({'status':'count'}).plot.bar()"
      ],
      "execution_count": 267,
      "outputs": [
        {
          "output_type": "error",
          "ename": "KeyError",
          "evalue": "ignored",
          "traceback": [
            "\u001b[0;31m---------------------------------------------------------------------------\u001b[0m",
            "\u001b[0;31mKeyError\u001b[0m                                  Traceback (most recent call last)",
            "\u001b[0;32m<ipython-input-267-11021bd7dac5>\u001b[0m in \u001b[0;36m<module>\u001b[0;34m()\u001b[0m\n\u001b[0;32m----> 1\u001b[0;31m \u001b[0mdf_unique\u001b[0m\u001b[0;34m[\u001b[0m\u001b[0mdf_unique\u001b[0m\u001b[0;34m[\u001b[0m\u001b[0;34m'status'\u001b[0m\u001b[0;34m]\u001b[0m\u001b[0;34m==\u001b[0m\u001b[0;34m'CNP'\u001b[0m\u001b[0;34m]\u001b[0m\u001b[0;34m.\u001b[0m\u001b[0mgroupby\u001b[0m\u001b[0;34m(\u001b[0m\u001b[0;34m'telecallerName'\u001b[0m\u001b[0;34m)\u001b[0m\u001b[0;34m.\u001b[0m\u001b[0magg\u001b[0m\u001b[0;34m(\u001b[0m\u001b[0;34m{\u001b[0m\u001b[0;34m'status'\u001b[0m\u001b[0;34m:\u001b[0m\u001b[0;34m'count'\u001b[0m\u001b[0;34m}\u001b[0m\u001b[0;34m)\u001b[0m\u001b[0;34m.\u001b[0m\u001b[0mplot\u001b[0m\u001b[0;34m.\u001b[0m\u001b[0mbar\u001b[0m\u001b[0;34m(\u001b[0m\u001b[0;34m)\u001b[0m\u001b[0;34m\u001b[0m\u001b[0;34m\u001b[0m\u001b[0m\n\u001b[0m",
            "\u001b[0;32m/usr/local/lib/python3.6/dist-packages/pandas/core/generic.py\u001b[0m in \u001b[0;36mgroupby\u001b[0;34m(self, by, axis, level, as_index, sort, group_keys, squeeze, observed, **kwargs)\u001b[0m\n\u001b[1;32m   7892\u001b[0m             \u001b[0msqueeze\u001b[0m\u001b[0;34m=\u001b[0m\u001b[0msqueeze\u001b[0m\u001b[0;34m,\u001b[0m\u001b[0;34m\u001b[0m\u001b[0;34m\u001b[0m\u001b[0m\n\u001b[1;32m   7893\u001b[0m             \u001b[0mobserved\u001b[0m\u001b[0;34m=\u001b[0m\u001b[0mobserved\u001b[0m\u001b[0;34m,\u001b[0m\u001b[0;34m\u001b[0m\u001b[0;34m\u001b[0m\u001b[0m\n\u001b[0;32m-> 7894\u001b[0;31m             \u001b[0;34m**\u001b[0m\u001b[0mkwargs\u001b[0m\u001b[0;34m\u001b[0m\u001b[0;34m\u001b[0m\u001b[0m\n\u001b[0m\u001b[1;32m   7895\u001b[0m         )\n\u001b[1;32m   7896\u001b[0m \u001b[0;34m\u001b[0m\u001b[0m\n",
            "\u001b[0;32m/usr/local/lib/python3.6/dist-packages/pandas/core/groupby/groupby.py\u001b[0m in \u001b[0;36mgroupby\u001b[0;34m(obj, by, **kwds)\u001b[0m\n\u001b[1;32m   2520\u001b[0m         \u001b[0;32mraise\u001b[0m \u001b[0mTypeError\u001b[0m\u001b[0;34m(\u001b[0m\u001b[0;34m\"invalid type: {}\"\u001b[0m\u001b[0;34m.\u001b[0m\u001b[0mformat\u001b[0m\u001b[0;34m(\u001b[0m\u001b[0mobj\u001b[0m\u001b[0;34m)\u001b[0m\u001b[0;34m)\u001b[0m\u001b[0;34m\u001b[0m\u001b[0;34m\u001b[0m\u001b[0m\n\u001b[1;32m   2521\u001b[0m \u001b[0;34m\u001b[0m\u001b[0m\n\u001b[0;32m-> 2522\u001b[0;31m     \u001b[0;32mreturn\u001b[0m \u001b[0mklass\u001b[0m\u001b[0;34m(\u001b[0m\u001b[0mobj\u001b[0m\u001b[0;34m,\u001b[0m \u001b[0mby\u001b[0m\u001b[0;34m,\u001b[0m \u001b[0;34m**\u001b[0m\u001b[0mkwds\u001b[0m\u001b[0;34m)\u001b[0m\u001b[0;34m\u001b[0m\u001b[0;34m\u001b[0m\u001b[0m\n\u001b[0m",
            "\u001b[0;32m/usr/local/lib/python3.6/dist-packages/pandas/core/groupby/groupby.py\u001b[0m in \u001b[0;36m__init__\u001b[0;34m(self, obj, keys, axis, level, grouper, exclusions, selection, as_index, sort, group_keys, squeeze, observed, **kwargs)\u001b[0m\n\u001b[1;32m    389\u001b[0m                 \u001b[0msort\u001b[0m\u001b[0;34m=\u001b[0m\u001b[0msort\u001b[0m\u001b[0;34m,\u001b[0m\u001b[0;34m\u001b[0m\u001b[0;34m\u001b[0m\u001b[0m\n\u001b[1;32m    390\u001b[0m                 \u001b[0mobserved\u001b[0m\u001b[0;34m=\u001b[0m\u001b[0mobserved\u001b[0m\u001b[0;34m,\u001b[0m\u001b[0;34m\u001b[0m\u001b[0;34m\u001b[0m\u001b[0m\n\u001b[0;32m--> 391\u001b[0;31m                 \u001b[0mmutated\u001b[0m\u001b[0;34m=\u001b[0m\u001b[0mself\u001b[0m\u001b[0;34m.\u001b[0m\u001b[0mmutated\u001b[0m\u001b[0;34m,\u001b[0m\u001b[0;34m\u001b[0m\u001b[0;34m\u001b[0m\u001b[0m\n\u001b[0m\u001b[1;32m    392\u001b[0m             )\n\u001b[1;32m    393\u001b[0m \u001b[0;34m\u001b[0m\u001b[0m\n",
            "\u001b[0;32m/usr/local/lib/python3.6/dist-packages/pandas/core/groupby/grouper.py\u001b[0m in \u001b[0;36m_get_grouper\u001b[0;34m(obj, key, axis, level, sort, observed, mutated, validate)\u001b[0m\n\u001b[1;32m    619\u001b[0m                 \u001b[0min_axis\u001b[0m\u001b[0;34m,\u001b[0m \u001b[0mname\u001b[0m\u001b[0;34m,\u001b[0m \u001b[0mlevel\u001b[0m\u001b[0;34m,\u001b[0m \u001b[0mgpr\u001b[0m \u001b[0;34m=\u001b[0m \u001b[0;32mFalse\u001b[0m\u001b[0;34m,\u001b[0m \u001b[0;32mNone\u001b[0m\u001b[0;34m,\u001b[0m \u001b[0mgpr\u001b[0m\u001b[0;34m,\u001b[0m \u001b[0;32mNone\u001b[0m\u001b[0;34m\u001b[0m\u001b[0;34m\u001b[0m\u001b[0m\n\u001b[1;32m    620\u001b[0m             \u001b[0;32melse\u001b[0m\u001b[0;34m:\u001b[0m\u001b[0;34m\u001b[0m\u001b[0;34m\u001b[0m\u001b[0m\n\u001b[0;32m--> 621\u001b[0;31m                 \u001b[0;32mraise\u001b[0m \u001b[0mKeyError\u001b[0m\u001b[0;34m(\u001b[0m\u001b[0mgpr\u001b[0m\u001b[0;34m)\u001b[0m\u001b[0;34m\u001b[0m\u001b[0;34m\u001b[0m\u001b[0m\n\u001b[0m\u001b[1;32m    622\u001b[0m         \u001b[0;32melif\u001b[0m \u001b[0misinstance\u001b[0m\u001b[0;34m(\u001b[0m\u001b[0mgpr\u001b[0m\u001b[0;34m,\u001b[0m \u001b[0mGrouper\u001b[0m\u001b[0;34m)\u001b[0m \u001b[0;32mand\u001b[0m \u001b[0mgpr\u001b[0m\u001b[0;34m.\u001b[0m\u001b[0mkey\u001b[0m \u001b[0;32mis\u001b[0m \u001b[0;32mnot\u001b[0m \u001b[0;32mNone\u001b[0m\u001b[0;34m:\u001b[0m\u001b[0;34m\u001b[0m\u001b[0;34m\u001b[0m\u001b[0m\n\u001b[1;32m    623\u001b[0m             \u001b[0;31m# Add key to exclusions\u001b[0m\u001b[0;34m\u001b[0m\u001b[0;34m\u001b[0m\u001b[0;34m\u001b[0m\u001b[0m\n",
            "\u001b[0;31mKeyError\u001b[0m: 'telecallerName'"
          ]
        }
      ]
    },
    {
      "cell_type": "code",
      "metadata": {
        "id": "qZ54vUO32sja",
        "colab_type": "code",
        "colab": {
          "base_uri": "https://localhost:8080/",
          "height": 499
        },
        "outputId": "dddb4a51-c6b0-45fe-c927-ab74dff588f8"
      },
      "source": [
        "#df_unique[df_unique['status']=='Joined'].groupby('client').agg({'status':'count'}).reset_index(0)['client']\n"
      ],
      "execution_count": 169,
      "outputs": [
        {
          "output_type": "execute_result",
          "data": {
            "text/plain": [
              "(array([11.,  2.,  0.,  0.,  0.,  1.,  0.,  0.,  0.,  1.]),\n",
              " array([ 1. ,  5.6, 10.2, 14.8, 19.4, 24. , 28.6, 33.2, 37.8, 42.4, 47. ]),\n",
              " <a list of 10 Patch objects>)"
            ]
          },
          "metadata": {
            "tags": []
          },
          "execution_count": 169
        },
        {
          "output_type": "display_data",
          "data": {
            "image/png": "[encoded data removed]",
            "text/plain": [
              "<Figure size 1296x504 with 1 Axes>"
            ]
          },
          "metadata": {
            "tags": []
          }
        }
      ]
    },
    {
      "cell_type": "code",
      "metadata": {
        "id": "h5cW6zRk3nOD",
        "colab_type": "code",
        "colab": {
          "base_uri": "https://localhost:8080/",
          "height": 312
        },
        "outputId": "8744af88-7398-4525-ab1d-9e006ff1914a"
      },
      "source": [
        "df_unique[df_unique['status']=='Joined'].groupby('isExternal').agg({'status':'count'}).plot.bar()"
      ],
      "execution_count": 133,
      "outputs": [
        {
          "output_type": "execute_result",
          "data": {
            "text/plain": [
              "<matplotlib.axes._subplots.AxesSubplot at 0x7fdb9e75a3c8>"
            ]
          },
          "metadata": {
            "tags": []
          },
          "execution_count": 133
        },
        {
          "output_type": "display_data",
          "data": {
            "image/png": "[encoded data removed]",
            "text/plain": [
              "<Figure size 432x288 with 1 Axes>"
            ]
          },
          "metadata": {
            "tags": []
          }
        }
      ]
    },
    {
      "cell_type": "code",
      "metadata": {
        "id": "K2gOVTrb4Fb7",
        "colab_type": "code",
        "colab": {
          "base_uri": "https://localhost:8080/",
          "height": 142
        },
        "outputId": "75dc172d-5527-4a9f-8e0d-c50f53b6c6d1"
      },
      "source": [
        "df_new[df_new['status']=='Joined'].groupby('isExternal').agg({'status':'count'})"
      ],
      "execution_count": 183,
      "outputs": [
        {
          "output_type": "execute_result",
          "data": {
            "text/html": [
              "<div>\n",
              "<style scoped>\n",
              "    .dataframe tbody tr th:only-of-type {\n",
              "        vertical-align: middle;\n",
              "    }\n",
              "\n",
              "    .dataframe tbody tr th {\n",
              "        vertical-align: top;\n",
              "    }\n",
              "\n",
              "    .dataframe thead th {\n",
              "        text-align: right;\n",
              "    }\n",
              "</style>\n",
              "<table border=\"1\" class=\"dataframe\">\n",
              "  <thead>\n",
              "    <tr style=\"text-align: right;\">\n",
              "      <th></th>\n",
              "      <th>status</th>\n",
              "    </tr>\n",
              "    <tr>\n",
              "      <th>isExternal</th>\n",
              "      <th></th>\n",
              "    </tr>\n",
              "  </thead>\n",
              "  <tbody>\n",
              "    <tr>\n",
              "      <th>False</th>\n",
              "      <td>109</td>\n",
              "    </tr>\n",
              "    <tr>\n",
              "      <th>True</th>\n",
              "      <td>2</td>\n",
              "    </tr>\n",
              "  </tbody>\n",
              "</table>\n",
              "</div>"
            ],
            "text/plain": [
              "            status\n",
              "isExternal        \n",
              "False          109\n",
              "True             2"
            ]
          },
          "metadata": {
            "tags": []
          },
          "execution_count": 183
        }
      ]
    },
    {
      "cell_type": "code",
      "metadata": {
        "id": "R1b6yeo33Kxm",
        "colab_type": "code",
        "colab": {
          "base_uri": "https://localhost:8080/",
          "height": 421
        },
        "outputId": "d8f596b8-36cc-4401-cb48-d0f58cf5511f"
      },
      "source": [
        "df_unique[(df_unique['status']=='Interested')|(df_unique['status']=='Very Interested')].groupby('source').agg({'status':'count'})"
      ],
      "execution_count": 185,
      "outputs": [
        {
          "output_type": "execute_result",
          "data": {
            "text/html": [
              "<div>\n",
              "<style scoped>\n",
              "    .dataframe tbody tr th:only-of-type {\n",
              "        vertical-align: middle;\n",
              "    }\n",
              "\n",
              "    .dataframe tbody tr th {\n",
              "        vertical-align: top;\n",
              "    }\n",
              "\n",
              "    .dataframe thead th {\n",
              "        text-align: right;\n",
              "    }\n",
              "</style>\n",
              "<table border=\"1\" class=\"dataframe\">\n",
              "  <thead>\n",
              "    <tr style=\"text-align: right;\">\n",
              "      <th></th>\n",
              "      <th>status</th>\n",
              "    </tr>\n",
              "    <tr>\n",
              "      <th>source</th>\n",
              "      <th></th>\n",
              "    </tr>\n",
              "  </thead>\n",
              "  <tbody>\n",
              "    <tr>\n",
              "      <th>API</th>\n",
              "      <td>154</td>\n",
              "    </tr>\n",
              "    <tr>\n",
              "      <th>BLR</th>\n",
              "      <td>86</td>\n",
              "    </tr>\n",
              "    <tr>\n",
              "      <th>Delhi</th>\n",
              "      <td>235</td>\n",
              "    </tr>\n",
              "    <tr>\n",
              "      <th>Facebook</th>\n",
              "      <td>125</td>\n",
              "    </tr>\n",
              "    <tr>\n",
              "      <th>Others</th>\n",
              "      <td>177</td>\n",
              "    </tr>\n",
              "    <tr>\n",
              "      <th>Quikr</th>\n",
              "      <td>39</td>\n",
              "    </tr>\n",
              "    <tr>\n",
              "      <th>Referrals</th>\n",
              "      <td>208</td>\n",
              "    </tr>\n",
              "    <tr>\n",
              "      <th>Reused Leads</th>\n",
              "      <td>18</td>\n",
              "    </tr>\n",
              "    <tr>\n",
              "      <th>Web Chat Referrals</th>\n",
              "      <td>10</td>\n",
              "    </tr>\n",
              "    <tr>\n",
              "      <th>WhatsApp OptIn Form</th>\n",
              "      <td>164</td>\n",
              "    </tr>\n",
              "    <tr>\n",
              "      <th>unknown</th>\n",
              "      <td>52</td>\n",
              "    </tr>\n",
              "  </tbody>\n",
              "</table>\n",
              "</div>"
            ],
            "text/plain": [
              "                     status\n",
              "source                     \n",
              "API                     154\n",
              "BLR                      86\n",
              "Delhi                   235\n",
              "Facebook                125\n",
              "Others                  177\n",
              "Quikr                    39\n",
              "Referrals               208\n",
              "Reused Leads             18\n",
              "Web Chat Referrals       10\n",
              "WhatsApp OptIn Form     164\n",
              "unknown                  52"
            ]
          },
          "metadata": {
            "tags": []
          },
          "execution_count": 185
        }
      ]
    },
    {
      "cell_type": "code",
      "metadata": {
        "id": "rGCwkaid4Jq0",
        "colab_type": "code",
        "colab": {
          "base_uri": "https://localhost:8080/",
          "height": 34
        },
        "outputId": "c6074f11-63f9-4910-efdf-c197fe9d3d6f"
      },
      "source": [
        "df_unique[df_unique['status']=='Joined'].shape[0]"
      ],
      "execution_count": 274,
      "outputs": [
        {
          "output_type": "execute_result",
          "data": {
            "text/plain": [
              "112"
            ]
          },
          "metadata": {
            "tags": []
          },
          "execution_count": 274
        }
      ]
    },
    {
      "cell_type": "code",
      "metadata": {
        "id": "-zmhNcgI4Vd0",
        "colab_type": "code",
        "colab": {
          "base_uri": "https://localhost:8080/",
          "height": 34
        },
        "outputId": "c48eba02-b65f-4e80-92c5-faf6fd36cfb5"
      },
      "source": [
        "df_unique[(df_unique['status']=='Interested')|(df_unique['status']=='Very Interested')].shape[0]"
      ],
      "execution_count": 275,
      "outputs": [
        {
          "output_type": "execute_result",
          "data": {
            "text/plain": [
              "1276"
            ]
          },
          "metadata": {
            "tags": []
          },
          "execution_count": 275
        }
      ]
    },
    {
      "cell_type": "code",
      "metadata": {
        "id": "gkKCFPWctZ02",
        "colab_type": "code",
        "colab": {}
      },
      "source": [
        "df_unique['tier'] = df['city'].apply(lambda x: 'Tier 1' if x in ['Bangalore','Chennai','Delhi', 'Hyderabad', 'Kolkata', 'Mumbai', 'Ahmedabad','Pune'] else 'Tier 2')\n",
        "df_new = df_unique.drop(['city','state','Month','Day'],axis=1)"
      ],
      "execution_count": 0,
      "outputs": []
    },
    {
      "cell_type": "code",
      "metadata": {
        "id": "MA_dzHXZF09w",
        "colab_type": "code",
        "colab": {}
      },
      "source": [
        ""
      ],
      "execution_count": 0,
      "outputs": []
    },
    {
      "cell_type": "code",
      "metadata": {
        "id": "X6Tut_W4tyKN",
        "colab_type": "code",
        "colab": {
          "base_uri": "https://localhost:8080/",
          "height": 309
        },
        "outputId": "7439cd28-f009-4550-c155-986b6e3b83db"
      },
      "source": [
        "df_new.head()"
      ],
      "execution_count": 279,
      "outputs": [
        {
          "output_type": "execute_result",
          "data": {
            "text/html": [
              "<div>\n",
              "<style scoped>\n",
              "    .dataframe tbody tr th:only-of-type {\n",
              "        vertical-align: middle;\n",
              "    }\n",
              "\n",
              "    .dataframe tbody tr th {\n",
              "        vertical-align: top;\n",
              "    }\n",
              "\n",
              "    .dataframe thead th {\n",
              "        text-align: right;\n",
              "    }\n",
              "</style>\n",
              "<table border=\"1\" class=\"dataframe\">\n",
              "  <thead>\n",
              "    <tr style=\"text-align: right;\">\n",
              "      <th></th>\n",
              "      <th>telecallerId</th>\n",
              "      <th>client</th>\n",
              "      <th>status</th>\n",
              "      <th>Year</th>\n",
              "      <th>Weekend</th>\n",
              "      <th>Quarter</th>\n",
              "      <th>name</th>\n",
              "      <th>source</th>\n",
              "      <th>isExternal</th>\n",
              "      <th>diff_cre_rec</th>\n",
              "      <th>diff_callvrecieve</th>\n",
              "      <th>tier</th>\n",
              "    </tr>\n",
              "  </thead>\n",
              "  <tbody>\n",
              "    <tr>\n",
              "      <th>0</th>\n",
              "      <td>Sheeba</td>\n",
              "      <td>Amazon Flex</td>\n",
              "      <td>Not Interested</td>\n",
              "      <td>2019</td>\n",
              "      <td>False</td>\n",
              "      <td>Q3</td>\n",
              "      <td>Shrinivas</td>\n",
              "      <td>Reused Leads</td>\n",
              "      <td>False</td>\n",
              "      <td>305</td>\n",
              "      <td>151</td>\n",
              "      <td>Tier 1</td>\n",
              "    </tr>\n",
              "    <tr>\n",
              "      <th>1</th>\n",
              "      <td>Amila</td>\n",
              "      <td>KFC</td>\n",
              "      <td>RNR</td>\n",
              "      <td>2019</td>\n",
              "      <td>False</td>\n",
              "      <td>Q3</td>\n",
              "      <td>Karthick</td>\n",
              "      <td>Referrals</td>\n",
              "      <td>False</td>\n",
              "      <td>77</td>\n",
              "      <td>0</td>\n",
              "      <td>Tier 1</td>\n",
              "    </tr>\n",
              "    <tr>\n",
              "      <th>2</th>\n",
              "      <td>Amila</td>\n",
              "      <td>KFC</td>\n",
              "      <td>CNP</td>\n",
              "      <td>2019</td>\n",
              "      <td>False</td>\n",
              "      <td>Q3</td>\n",
              "      <td>Karthick</td>\n",
              "      <td>Referrals</td>\n",
              "      <td>False</td>\n",
              "      <td>77</td>\n",
              "      <td>5</td>\n",
              "      <td>Tier 1</td>\n",
              "    </tr>\n",
              "    <tr>\n",
              "      <th>3</th>\n",
              "      <td>Amila</td>\n",
              "      <td>KFC</td>\n",
              "      <td>Invalid Number</td>\n",
              "      <td>2019</td>\n",
              "      <td>False</td>\n",
              "      <td>Q3</td>\n",
              "      <td>Karthick</td>\n",
              "      <td>Referrals</td>\n",
              "      <td>False</td>\n",
              "      <td>77</td>\n",
              "      <td>7</td>\n",
              "      <td>Tier 1</td>\n",
              "    </tr>\n",
              "    <tr>\n",
              "      <th>4</th>\n",
              "      <td>Sheeba</td>\n",
              "      <td>Lalamove</td>\n",
              "      <td>Not Interested</td>\n",
              "      <td>2019</td>\n",
              "      <td>True</td>\n",
              "      <td>Q3</td>\n",
              "      <td>Kamaram Ramesh</td>\n",
              "      <td>Facebook</td>\n",
              "      <td>False</td>\n",
              "      <td>127</td>\n",
              "      <td>9</td>\n",
              "      <td>Tier 1</td>\n",
              "    </tr>\n",
              "  </tbody>\n",
              "</table>\n",
              "</div>"
            ],
            "text/plain": [
              "  telecallerId       client  ... diff_callvrecieve    tier\n",
              "0       Sheeba  Amazon Flex  ...               151  Tier 1\n",
              "1        Amila          KFC  ...                0   Tier 1\n",
              "2        Amila          KFC  ...                5   Tier 1\n",
              "3        Amila          KFC  ...                7   Tier 1\n",
              "4       Sheeba     Lalamove  ...                9   Tier 1\n",
              "\n",
              "[5 rows x 12 columns]"
            ]
          },
          "metadata": {
            "tags": []
          },
          "execution_count": 279
        }
      ]
    },
    {
      "cell_type": "code",
      "metadata": {
        "id": "7TO1zIPwFhzQ",
        "colab_type": "code",
        "colab": {}
      },
      "source": [
        ""
      ],
      "execution_count": 0,
      "outputs": []
    },
    {
      "cell_type": "code",
      "metadata": {
        "id": "0xptxFce8MuX",
        "colab_type": "code",
        "colab": {
          "base_uri": "https://localhost:8080/",
          "height": 425
        },
        "outputId": "0748d73f-1465-468d-d6d0-a646da3a8850"
      },
      "source": [
        "plt.rcParams['figure.figsize'] = (18, 7)\n",
        "size = [109,2]\n",
        "colors = ['violet', 'pink']\n",
        "labels = \"Joined from Job-Assistant\", \"Not Joined from Job-Assistant\"\n",
        "explode = [0,0.1]\n",
        "plt.subplot(1, 2, 1)\n",
        "plt.pie(size, colors = colors, labels = labels, explode = explode, shadow = True)\n",
        "plt.title('Job Assistant Performance',fontsize=10)\n",
        "plt.axis('off')\n",
        "plt.legend()\n",
        "\n",
        "# # plotting a pie chart for browsers\n",
        "# size = [7961, 2462, 736, 467,174, 163, 300]\n",
        "# colors = ['orange', 'yellow', 'pink', 'crimson', 'lightgreen', 'cyan', 'blue']\n",
        "# labels = \"2\", \"1\",\"4\",\"5\",\"6\",\"10\",\"others\"\n",
        "\n",
        "# plt.subplot(1, 2, 2)\n",
        "# plt.pie(size, colors = colors, labels = labels, shadow = True, autopct = '%.2f%%', startangle = 90)\n",
        "# plt.title('Different Browsers', fontsize = 30)\n",
        "# plt.axis('off')\n",
        "# plt.legend()\n",
        "plt.show()"
      ],
      "execution_count": 269,
      "outputs": [
        {
          "output_type": "display_data",
          "data": {
            "image/png": "[encoded data removed]",
            "text/plain": [
              "<Figure size 1296x504 with 1 Axes>"
            ]
          },
          "metadata": {
            "tags": []
          }
        }
      ]
    },
    {
      "cell_type": "code",
      "metadata": {
        "id": "tU63TmY9V4Fx",
        "colab_type": "code",
        "colab": {}
      },
      "source": [
        "df_unique[(df_unique['status']=='Interested')|(df_unique['status']=='Very Interested')].shape[0]"
      ],
      "execution_count": 0,
      "outputs": []
    }
  ]
}