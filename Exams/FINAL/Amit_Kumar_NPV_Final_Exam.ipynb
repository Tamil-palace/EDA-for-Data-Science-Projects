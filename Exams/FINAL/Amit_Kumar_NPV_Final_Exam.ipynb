{
  "nbformat": 4,
  "nbformat_minor": 0,
  "metadata": {
    "colab": {
      "name": "Amit_Kumar_NPV_Final_Exam.ipynb",
      "provenance": [],
      "collapsed_sections": []
    },
    "kernelspec": {
      "name": "python3",
      "display_name": "Python 3"
    }
  },
  "cells": [
    {
      "cell_type": "code",
      "metadata": {
        "id": "HIUUrMlH8b5C",
        "colab_type": "code",
        "outputId": "378c07d8-5c72-43ca-fe12-07f725ef5e7f",
        "colab": {
          "resources": {
            "http://localhost:8080/nbextensions/google.colab/files.js": {
              "data": "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",
              "ok": true,
              "headers": [
                [
                  "content-type",
                  "application/javascript"
                ]
              ],
              "status": 200,
              "status_text": ""
            }
          },
          "base_uri": "https://localhost:8080/",
          "height": 451
        }
      },
      "source": [
        "import pandas as pd\n",
        "import numpy as np\n",
        "from google.colab import files\n",
        "import io\n",
        "uploaded =  files.upload()\n",
        "adult =  pd.read_csv(io.BytesIO(uploaded['adult.csv']))\n",
        "\n",
        "adult.head()"
      ],
      "execution_count": 0,
      "outputs": [
        {
          "output_type": "display_data",
          "data": {
            "text/html": [
              "\n",
              "     <input type=\"file\" id=\"files-a5ae0350-459c-436a-82e0-c3ffafe05951\" name=\"files[]\" multiple disabled />\n",
              "     <output id=\"result-a5ae0350-459c-436a-82e0-c3ffafe05951\">\n",
              "      Upload widget is only available when the cell has been executed in the\n",
              "      current browser session. Please rerun this cell to enable.\n",
              "      </output>\n",
              "      <script src=\"/nbextensions/google.colab/files.js\"></script> "
            ],
            "text/plain": [
              "<IPython.core.display.HTML object>"
            ]
          },
          "metadata": {
            "tags": []
          }
        },
        {
          "output_type": "stream",
          "text": [
            "Saving adult.csv to adult.csv\n"
          ],
          "name": "stdout"
        },
        {
          "output_type": "execute_result",
          "data": {
            "text/html": [
              "<div>\n",
              "<style scoped>\n",
              "    .dataframe tbody tr th:only-of-type {\n",
              "        vertical-align: middle;\n",
              "    }\n",
              "\n",
              "    .dataframe tbody tr th {\n",
              "        vertical-align: top;\n",
              "    }\n",
              "\n",
              "    .dataframe thead th {\n",
              "        text-align: right;\n",
              "    }\n",
              "</style>\n",
              "<table border=\"1\" class=\"dataframe\">\n",
              "  <thead>\n",
              "    <tr style=\"text-align: right;\">\n",
              "      <th></th>\n",
              "      <th>age</th>\n",
              "      <th>workclass</th>\n",
              "      <th>fnlwgt</th>\n",
              "      <th>education</th>\n",
              "      <th>education-num</th>\n",
              "      <th>marital-status</th>\n",
              "      <th>occupation</th>\n",
              "      <th>relationship</th>\n",
              "      <th>race</th>\n",
              "      <th>sex</th>\n",
              "      <th>hours-per-week</th>\n",
              "      <th>native-country</th>\n",
              "      <th>salary</th>\n",
              "    </tr>\n",
              "  </thead>\n",
              "  <tbody>\n",
              "    <tr>\n",
              "      <th>0</th>\n",
              "      <td>39</td>\n",
              "      <td>State-gov</td>\n",
              "      <td>77516</td>\n",
              "      <td>Bachelors</td>\n",
              "      <td>13</td>\n",
              "      <td>Never-married</td>\n",
              "      <td>Adm-clerical</td>\n",
              "      <td>Not-in-family</td>\n",
              "      <td>White</td>\n",
              "      <td>Male</td>\n",
              "      <td>40</td>\n",
              "      <td>United-States</td>\n",
              "      <td>&lt;=50K</td>\n",
              "    </tr>\n",
              "    <tr>\n",
              "      <th>1</th>\n",
              "      <td>50</td>\n",
              "      <td>Self-emp-not-inc</td>\n",
              "      <td>83311</td>\n",
              "      <td>Bachelors</td>\n",
              "      <td>13</td>\n",
              "      <td>Married-civ-spouse</td>\n",
              "      <td>Exec-managerial</td>\n",
              "      <td>Husband</td>\n",
              "      <td>White</td>\n",
              "      <td>Male</td>\n",
              "      <td>13</td>\n",
              "      <td>United-States</td>\n",
              "      <td>&lt;=50K</td>\n",
              "    </tr>\n",
              "    <tr>\n",
              "      <th>2</th>\n",
              "      <td>38</td>\n",
              "      <td>Private</td>\n",
              "      <td>215646</td>\n",
              "      <td>HS-grad</td>\n",
              "      <td>9</td>\n",
              "      <td>Divorced</td>\n",
              "      <td>Handlers-cleaners</td>\n",
              "      <td>Not-in-family</td>\n",
              "      <td>White</td>\n",
              "      <td>Male</td>\n",
              "      <td>40</td>\n",
              "      <td>United-States</td>\n",
              "      <td>&lt;=50K</td>\n",
              "    </tr>\n",
              "    <tr>\n",
              "      <th>3</th>\n",
              "      <td>53</td>\n",
              "      <td>Private</td>\n",
              "      <td>234721</td>\n",
              "      <td>11th</td>\n",
              "      <td>7</td>\n",
              "      <td>Married-civ-spouse</td>\n",
              "      <td>Handlers-cleaners</td>\n",
              "      <td>Husband</td>\n",
              "      <td>Black</td>\n",
              "      <td>Male</td>\n",
              "      <td>40</td>\n",
              "      <td>United-States</td>\n",
              "      <td>&lt;=50K</td>\n",
              "    </tr>\n",
              "    <tr>\n",
              "      <th>4</th>\n",
              "      <td>28</td>\n",
              "      <td>Private</td>\n",
              "      <td>338409</td>\n",
              "      <td>Bachelors</td>\n",
              "      <td>13</td>\n",
              "      <td>Married-civ-spouse</td>\n",
              "      <td>Prof-specialty</td>\n",
              "      <td>Wife</td>\n",
              "      <td>Black</td>\n",
              "      <td>Female</td>\n",
              "      <td>40</td>\n",
              "      <td>Cuba</td>\n",
              "      <td>&lt;=50K</td>\n",
              "    </tr>\n",
              "  </tbody>\n",
              "</table>\n",
              "</div>"
            ],
            "text/plain": [
              "   age         workclass  fnlwgt  ... hours-per-week  native-country salary\n",
              "0   39         State-gov   77516  ...             40   United-States  <=50K\n",
              "1   50  Self-emp-not-inc   83311  ...             13   United-States  <=50K\n",
              "2   38           Private  215646  ...             40   United-States  <=50K\n",
              "3   53           Private  234721  ...             40   United-States  <=50K\n",
              "4   28           Private  338409  ...             40            Cuba  <=50K\n",
              "\n",
              "[5 rows x 13 columns]"
            ]
          },
          "metadata": {
            "tags": []
          },
          "execution_count": 5
        }
      ]
    },
    {
      "cell_type": "code",
      "metadata": {
        "id": "uF1LxfmPF5YO",
        "colab_type": "code",
        "outputId": "0951b414-3498-4e52-ba15-15b147dcb8d0",
        "colab": {
          "resources": {
            "http://localhost:8080/nbextensions/google.colab/files.js": {
              "data": "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",
              "ok": true,
              "headers": [
                [
                  "content-type",
                  "application/javascript"
                ]
              ],
              "status": 200,
              "status_text": ""
            }
          },
          "base_uri": "https://localhost:8080/",
          "height": 261
        }
      },
      "source": [
        "uploaded =  files.upload()\n",
        "white =  pd.read_csv(io.BytesIO(uploaded['2010_Report_to_Congress_on_White_House_Staff.csv']))\n",
        "\n",
        "white.head()"
      ],
      "execution_count": 121,
      "outputs": [
        {
          "output_type": "display_data",
          "data": {
            "text/html": [
              "\n",
              "     <input type=\"file\" id=\"files-df77e7f1-baa6-4b78-ad1b-13d00bf0361d\" name=\"files[]\" multiple disabled />\n",
              "     <output id=\"result-df77e7f1-baa6-4b78-ad1b-13d00bf0361d\">\n",
              "      Upload widget is only available when the cell has been executed in the\n",
              "      current browser session. Please rerun this cell to enable.\n",
              "      </output>\n",
              "      <script src=\"/nbextensions/google.colab/files.js\"></script> "
            ],
            "text/plain": [
              "<IPython.core.display.HTML object>"
            ]
          },
          "metadata": {
            "tags": []
          }
        },
        {
          "output_type": "stream",
          "text": [
            "Saving 2010_Report_to_Congress_on_White_House_Staff.csv to 2010_Report_to_Congress_on_White_House_Staff (1).csv\n"
          ],
          "name": "stdout"
        },
        {
          "output_type": "execute_result",
          "data": {
            "text/html": [
              "<div>\n",
              "<style scoped>\n",
              "    .dataframe tbody tr th:only-of-type {\n",
              "        vertical-align: middle;\n",
              "    }\n",
              "\n",
              "    .dataframe tbody tr th {\n",
              "        vertical-align: top;\n",
              "    }\n",
              "\n",
              "    .dataframe thead th {\n",
              "        text-align: right;\n",
              "    }\n",
              "</style>\n",
              "<table border=\"1\" class=\"dataframe\">\n",
              "  <thead>\n",
              "    <tr style=\"text-align: right;\">\n",
              "      <th></th>\n",
              "      <th>Employee Name</th>\n",
              "      <th>Employee Status</th>\n",
              "      <th>Salary</th>\n",
              "      <th>Pay Basis</th>\n",
              "      <th>Position Title</th>\n",
              "    </tr>\n",
              "  </thead>\n",
              "  <tbody>\n",
              "    <tr>\n",
              "      <th>0</th>\n",
              "      <td>Abrams, Adam W.</td>\n",
              "      <td>Employee</td>\n",
              "      <td>66300.0</td>\n",
              "      <td>Per Annum</td>\n",
              "      <td>WESTERN REGIONAL COMMUNICATIONS DIRECTOR</td>\n",
              "    </tr>\n",
              "    <tr>\n",
              "      <th>1</th>\n",
              "      <td>Adams, Ian H.</td>\n",
              "      <td>Employee</td>\n",
              "      <td>45000.0</td>\n",
              "      <td>Per Annum</td>\n",
              "      <td>EXECUTIVE ASSISTANT TO THE DIRECTOR OF SCHEDUL...</td>\n",
              "    </tr>\n",
              "    <tr>\n",
              "      <th>2</th>\n",
              "      <td>Agnew, David P.</td>\n",
              "      <td>Employee</td>\n",
              "      <td>93840.0</td>\n",
              "      <td>Per Annum</td>\n",
              "      <td>DEPUTY DIRECTOR OF INTERGOVERNMENTAL AFFAIRS</td>\n",
              "    </tr>\n",
              "    <tr>\n",
              "      <th>3</th>\n",
              "      <td>Albino, James</td>\n",
              "      <td>Employee</td>\n",
              "      <td>91800.0</td>\n",
              "      <td>Per Annum</td>\n",
              "      <td>SENIOR PROGRAM MANAGER</td>\n",
              "    </tr>\n",
              "    <tr>\n",
              "      <th>4</th>\n",
              "      <td>Aldy, Jr., Joseph E.</td>\n",
              "      <td>Employee</td>\n",
              "      <td>130500.0</td>\n",
              "      <td>Per Annum</td>\n",
              "      <td>SPECIAL ASSISTANT TO THE PRESIDENT FOR ENERGY ...</td>\n",
              "    </tr>\n",
              "  </tbody>\n",
              "</table>\n",
              "</div>"
            ],
            "text/plain": [
              "          Employee Name  ...                                     Position Title\n",
              "0       Abrams, Adam W.  ...           WESTERN REGIONAL COMMUNICATIONS DIRECTOR\n",
              "1         Adams, Ian H.  ...  EXECUTIVE ASSISTANT TO THE DIRECTOR OF SCHEDUL...\n",
              "2       Agnew, David P.  ...       DEPUTY DIRECTOR OF INTERGOVERNMENTAL AFFAIRS\n",
              "3        Albino, James   ...                             SENIOR PROGRAM MANAGER\n",
              "4  Aldy, Jr., Joseph E.  ...  SPECIAL ASSISTANT TO THE PRESIDENT FOR ENERGY ...\n",
              "\n",
              "[5 rows x 5 columns]"
            ]
          },
          "metadata": {
            "tags": []
          },
          "execution_count": 121
        }
      ]
    },
    {
      "cell_type": "code",
      "metadata": {
        "id": "9cndCiPm8nND",
        "colab_type": "code",
        "outputId": "9cdb8092-7d80-4ece-c401-535615846371",
        "colab": {
          "resources": {
            "http://localhost:8080/nbextensions/google.colab/files.js": {
              "data": "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",
              "ok": true,
              "headers": [
                [
                  "content-type",
                  "application/javascript"
                ]
              ],
              "status": 200,
              "status_text": ""
            }
          },
          "base_uri": "https://localhost:8080/",
          "height": 261
        }
      },
      "source": [
        "uploaded =  files.upload()\n",
        "stock = pd.read_csv(io.BytesIO(uploaded['stock_data.csv']))\n",
        "stock.head()"
      ],
      "execution_count": 0,
      "outputs": [
        {
          "output_type": "display_data",
          "data": {
            "text/html": [
              "\n",
              "     <input type=\"file\" id=\"files-55f1702d-ed4e-4e5b-86fa-22d228dafa57\" name=\"files[]\" multiple disabled />\n",
              "     <output id=\"result-55f1702d-ed4e-4e5b-86fa-22d228dafa57\">\n",
              "      Upload widget is only available when the cell has been executed in the\n",
              "      current browser session. Please rerun this cell to enable.\n",
              "      </output>\n",
              "      <script src=\"/nbextensions/google.colab/files.js\"></script> "
            ],
            "text/plain": [
              "<IPython.core.display.HTML object>"
            ]
          },
          "metadata": {
            "tags": []
          }
        },
        {
          "output_type": "stream",
          "text": [
            "Saving stock_data.csv to stock_data.csv\n"
          ],
          "name": "stdout"
        },
        {
          "output_type": "execute_result",
          "data": {
            "text/html": [
              "<div>\n",
              "<style scoped>\n",
              "    .dataframe tbody tr th:only-of-type {\n",
              "        vertical-align: middle;\n",
              "    }\n",
              "\n",
              "    .dataframe tbody tr th {\n",
              "        vertical-align: top;\n",
              "    }\n",
              "\n",
              "    .dataframe thead th {\n",
              "        text-align: right;\n",
              "    }\n",
              "</style>\n",
              "<table border=\"1\" class=\"dataframe\">\n",
              "  <thead>\n",
              "    <tr style=\"text-align: right;\">\n",
              "      <th></th>\n",
              "      <th>10/29/2007 0:00</th>\n",
              "      <th>37.41</th>\n",
              "      <th>185.09</th>\n",
              "      <th>34.46</th>\n",
              "      <th>106.78</th>\n",
              "      <th>57.13</th>\n",
              "      <th>31.78</th>\n",
              "      <th>65.67</th>\n",
              "      <th>1540.98</th>\n",
              "      <th>85.51</th>\n",
              "    </tr>\n",
              "  </thead>\n",
              "  <tbody>\n",
              "    <tr>\n",
              "      <th>0</th>\n",
              "      <td>10/30/2007 0:00</td>\n",
              "      <td>36.43</td>\n",
              "      <td>187.00</td>\n",
              "      <td>34.39</td>\n",
              "      <td>106.15</td>\n",
              "      <td>56.99</td>\n",
              "      <td>32.70</td>\n",
              "      <td>65.80</td>\n",
              "      <td>1531.02</td>\n",
              "      <td>83.25</td>\n",
              "    </tr>\n",
              "    <tr>\n",
              "      <th>1</th>\n",
              "      <td>10/31/2007 0:00</td>\n",
              "      <td>36.79</td>\n",
              "      <td>189.95</td>\n",
              "      <td>34.97</td>\n",
              "      <td>108.01</td>\n",
              "      <td>57.30</td>\n",
              "      <td>33.84</td>\n",
              "      <td>65.69</td>\n",
              "      <td>1549.38</td>\n",
              "      <td>84.03</td>\n",
              "    </tr>\n",
              "    <tr>\n",
              "      <th>2</th>\n",
              "      <td>11/1/2007 0:00</td>\n",
              "      <td>35.22</td>\n",
              "      <td>187.44</td>\n",
              "      <td>34.27</td>\n",
              "      <td>105.72</td>\n",
              "      <td>56.85</td>\n",
              "      <td>34.07</td>\n",
              "      <td>64.51</td>\n",
              "      <td>1508.44</td>\n",
              "      <td>80.84</td>\n",
              "    </tr>\n",
              "    <tr>\n",
              "      <th>3</th>\n",
              "      <td>11/2/2007 0:00</td>\n",
              "      <td>35.83</td>\n",
              "      <td>187.87</td>\n",
              "      <td>34.27</td>\n",
              "      <td>106.59</td>\n",
              "      <td>56.95</td>\n",
              "      <td>34.07</td>\n",
              "      <td>65.03</td>\n",
              "      <td>1509.65</td>\n",
              "      <td>80.32</td>\n",
              "    </tr>\n",
              "    <tr>\n",
              "      <th>4</th>\n",
              "      <td>11/5/2007 0:00</td>\n",
              "      <td>35.22</td>\n",
              "      <td>186.18</td>\n",
              "      <td>34.15</td>\n",
              "      <td>105.48</td>\n",
              "      <td>56.70</td>\n",
              "      <td>33.77</td>\n",
              "      <td>64.84</td>\n",
              "      <td>1502.17</td>\n",
              "      <td>80.07</td>\n",
              "    </tr>\n",
              "  </tbody>\n",
              "</table>\n",
              "</div>"
            ],
            "text/plain": [
              "   10/29/2007 0:00  37.41  185.09  34.46  ...  31.78  65.67  1540.98  85.51\n",
              "0  10/30/2007 0:00  36.43  187.00  34.39  ...  32.70  65.80  1531.02  83.25\n",
              "1  10/31/2007 0:00  36.79  189.95  34.97  ...  33.84  65.69  1549.38  84.03\n",
              "2   11/1/2007 0:00  35.22  187.44  34.27  ...  34.07  64.51  1508.44  80.84\n",
              "3   11/2/2007 0:00  35.83  187.87  34.27  ...  34.07  65.03  1509.65  80.32\n",
              "4   11/5/2007 0:00  35.22  186.18  34.15  ...  33.77  64.84  1502.17  80.07\n",
              "\n",
              "[5 rows x 10 columns]"
            ]
          },
          "metadata": {
            "tags": []
          },
          "execution_count": 9
        }
      ]
    },
    {
      "cell_type": "markdown",
      "metadata": {
        "id": "9CY7BhIcHQ0s",
        "colab_type": "text"
      },
      "source": [
        "1. Write a Program to\n",
        " 1. Create a 5x5 array with random values and find the minimum and maximum value (1 Mark)\n",
        " 2. Add padding (filled with 0's) around a random array of size 5x5 created in Question number 1.\n",
        "'A' (1 Mark)\n",
        " 3. Create a zero matrix of size 5x5 and add values 1,2,3,4,5 as diagonal values of that matrix (1\n",
        "Mark)\n",
        " 4. Given a 1D array (1-20), negate all elements which are between 11 and 18 (Both included), in\n",
        "place. (2 Marks)"
      ]
    },
    {
      "cell_type": "code",
      "metadata": {
        "id": "iBY4TOLvHAid",
        "colab_type": "code",
        "outputId": "62ddcb95-66fa-4c0e-b9c5-e734c4181c27",
        "colab": {
          "base_uri": "https://localhost:8080/",
          "height": 51
        }
      },
      "source": [
        "random_array = np.random.randint(100,500,25).reshape(5,5)\n",
        "print('Max value in the array:',random_array.max())\n",
        "print('Min value in the array:',random_array.min())\n"
      ],
      "execution_count": 0,
      "outputs": [
        {
          "output_type": "stream",
          "text": [
            "Max value in the array: 499\n",
            "Min value in the array: 122\n"
          ],
          "name": "stdout"
        }
      ]
    },
    {
      "cell_type": "code",
      "metadata": {
        "id": "MQ3jOJZeHj73",
        "colab_type": "code",
        "outputId": "4f66fa73-2bf4-46b9-afff-e54d3d6b8faf",
        "colab": {
          "base_uri": "https://localhost:8080/",
          "height": 136
        }
      },
      "source": [
        "random_array = np.pad(random_array, pad_width=1, mode='constant', constant_values=0)\n",
        "random_array"
      ],
      "execution_count": 0,
      "outputs": [
        {
          "output_type": "execute_result",
          "data": {
            "text/plain": [
              "array([[  0,   0,   0,   0,   0,   0,   0],\n",
              "       [  0, 190, 380, 474, 303, 401,   0],\n",
              "       [  0, 175, 409, 122, 181, 132,   0],\n",
              "       [  0, 416, 448, 177, 401, 320,   0],\n",
              "       [  0, 238, 289, 126, 357, 399,   0],\n",
              "       [  0, 409, 326, 321, 493, 499,   0],\n",
              "       [  0,   0,   0,   0,   0,   0,   0]])"
            ]
          },
          "metadata": {
            "tags": []
          },
          "execution_count": 25
        }
      ]
    },
    {
      "cell_type": "code",
      "metadata": {
        "id": "gZ-0FpL0IDjI",
        "colab_type": "code",
        "outputId": "a645b1d5-86bb-44f8-d546-02cbc6b55597",
        "colab": {
          "base_uri": "https://localhost:8080/",
          "height": 102
        }
      },
      "source": [
        "zeros_array = np.zeros(25).reshape(5,5)\n",
        "zeros_array.shape\n",
        "for i in range(zeros_array.shape[0]):\n",
        "  for j in range(zeros_array.shape[0]):\n",
        "    if i==j:\n",
        "      zeros_array[i][j]=i+1\n",
        "\n",
        "zeros_array"
      ],
      "execution_count": 0,
      "outputs": [
        {
          "output_type": "execute_result",
          "data": {
            "text/plain": [
              "array([[1., 0., 0., 0., 0.],\n",
              "       [0., 2., 0., 0., 0.],\n",
              "       [0., 0., 3., 0., 0.],\n",
              "       [0., 0., 0., 4., 0.],\n",
              "       [0., 0., 0., 0., 5.]])"
            ]
          },
          "metadata": {
            "tags": []
          },
          "execution_count": 34
        }
      ]
    },
    {
      "cell_type": "code",
      "metadata": {
        "id": "XGolsgaWJrCE",
        "colab_type": "code",
        "outputId": "0b072962-bd87-4d78-f76b-4f1b3f54f3f7",
        "colab": {
          "base_uri": "https://localhost:8080/",
          "height": 51
        }
      },
      "source": [
        "np.random.randint(1,21,20)"
      ],
      "execution_count": 0,
      "outputs": [
        {
          "output_type": "execute_result",
          "data": {
            "text/plain": [
              "array([14, 16, 19, 14,  4, 16,  2, 12, 15, 14,  6, 10,  7, 15,  5, 11,  3,\n",
              "       10,  8,  2])"
            ]
          },
          "metadata": {
            "tags": []
          },
          "execution_count": 39
        }
      ]
    },
    {
      "cell_type": "markdown",
      "metadata": {
        "id": "BH2-EbY_Mmj_",
        "colab_type": "text"
      },
      "source": [
        "2. Create a Numpy array of size 20 elements using random package. Convert the above numpy array\n",
        "into 2 equal arrays of size 2x5 each. Convert the second array to a 1-D array and reverse the\n",
        "elements. And find the 4th element in the reversed array."
      ]
    },
    {
      "cell_type": "code",
      "metadata": {
        "id": "dmfVmBTWMIN3",
        "colab_type": "code",
        "outputId": "967d88dc-f825-4e57-f600-ebc49a0fa1eb",
        "colab": {
          "base_uri": "https://localhost:8080/",
          "height": 85
        }
      },
      "source": [
        "rand_20 = np.random.randint(1,21,20)\n",
        "a = np.split(rand_20,2)\n",
        "print(a[0].reshape(2,5))\n",
        "print(a[1].reshape(2,5))\n"
      ],
      "execution_count": 0,
      "outputs": [
        {
          "output_type": "stream",
          "text": [
            "[[ 3 15 14 19 15]\n",
            " [17  2  1 17 10]]\n",
            "[[17  8 20 19 16]\n",
            " [ 6 10  2 19  7]]\n"
          ],
          "name": "stdout"
        }
      ]
    },
    {
      "cell_type": "code",
      "metadata": {
        "id": "JXi2M3M1MxAG",
        "colab_type": "code",
        "outputId": "70dc3bca-b6b0-403a-f98e-1075a85329c0",
        "colab": {
          "base_uri": "https://localhost:8080/",
          "height": 34
        }
      },
      "source": [
        "a[1]"
      ],
      "execution_count": 0,
      "outputs": [
        {
          "output_type": "execute_result",
          "data": {
            "text/plain": [
              "array([17,  8, 20, 19, 16,  6, 10,  2, 19,  7])"
            ]
          },
          "metadata": {
            "tags": []
          },
          "execution_count": 48
        }
      ]
    },
    {
      "cell_type": "code",
      "metadata": {
        "id": "_ccJ1ihFN7FU",
        "colab_type": "code",
        "outputId": "f3cff3bd-5daf-4f43-afbb-a71921afeff8",
        "colab": {
          "base_uri": "https://localhost:8080/",
          "height": 34
        }
      },
      "source": [
        "a[1][::-1]"
      ],
      "execution_count": 0,
      "outputs": [
        {
          "output_type": "execute_result",
          "data": {
            "text/plain": [
              "array([ 7, 19,  2, 10,  6, 16, 19, 20,  8, 17])"
            ]
          },
          "metadata": {
            "tags": []
          },
          "execution_count": 49
        }
      ]
    },
    {
      "cell_type": "code",
      "metadata": {
        "id": "UdBaNuouOB6w",
        "colab_type": "code",
        "outputId": "6e26fb6c-c99f-40a9-8d45-1dc4054964ce",
        "colab": {
          "base_uri": "https://localhost:8080/",
          "height": 34
        }
      },
      "source": [
        "a[1][::-1][3]"
      ],
      "execution_count": 0,
      "outputs": [
        {
          "output_type": "execute_result",
          "data": {
            "text/plain": [
              "10"
            ]
          },
          "metadata": {
            "tags": []
          },
          "execution_count": 50
        }
      ]
    },
    {
      "cell_type": "markdown",
      "metadata": {
        "id": "FpdOfM0fOWac",
        "colab_type": "text"
      },
      "source": [
        "3.\n",
        "1. Create a Series with words 'hello how are you'. as the contents. (1mark)\n",
        "2. Convert the first letter of every element in series to uppercase. (1 mark)\n",
        "3. Find the length of each element in the series. And find the lengthiest word in the series.\n",
        "(3marks)"
      ]
    },
    {
      "cell_type": "code",
      "metadata": {
        "id": "Yw13GonHOJqb",
        "colab_type": "code",
        "colab": {}
      },
      "source": [
        "ser_obj  =pd.Series(['hello', 'how' ,'are', 'you'])"
      ],
      "execution_count": 0,
      "outputs": []
    },
    {
      "cell_type": "code",
      "metadata": {
        "id": "oA_bzUvsOiP2",
        "colab_type": "code",
        "outputId": "990c61b7-d778-40a8-a630-cae677437910",
        "colab": {
          "base_uri": "https://localhost:8080/",
          "height": 102
        }
      },
      "source": [
        "ser_obj"
      ],
      "execution_count": 0,
      "outputs": [
        {
          "output_type": "execute_result",
          "data": {
            "text/plain": [
              "0    hello\n",
              "1      how\n",
              "2      are\n",
              "3      you\n",
              "dtype: object"
            ]
          },
          "metadata": {
            "tags": []
          },
          "execution_count": 60
        }
      ]
    },
    {
      "cell_type": "code",
      "metadata": {
        "id": "ywYEEEj9Ori1",
        "colab_type": "code",
        "outputId": "a60db4c6-d60e-44c3-c60c-c84288ffaf21",
        "colab": {
          "base_uri": "https://localhost:8080/",
          "height": 102
        }
      },
      "source": [
        "for i in ser_obj:   \n",
        "   i.replace(i[0],i[0].upper())\n",
        "ser_obj"
      ],
      "execution_count": 0,
      "outputs": [
        {
          "output_type": "execute_result",
          "data": {
            "text/plain": [
              "0    hello\n",
              "1      how\n",
              "2      are\n",
              "3      you\n",
              "dtype: object"
            ]
          },
          "metadata": {
            "tags": []
          },
          "execution_count": 66
        }
      ]
    },
    {
      "cell_type": "code",
      "metadata": {
        "id": "ti6Yj0czPhvy",
        "colab_type": "code",
        "colab": {
          "base_uri": "https://localhost:8080/",
          "height": 102
        },
        "outputId": "bc785c04-5e97-4269-cf4a-95f7518a3f4d"
      },
      "source": [
        "dict_len = {}\n",
        "for i in ser_obj:\n",
        "  print(f'length of {i}: {len(i)}')\n",
        "  dict_len[i]=len(i)\n",
        "\n",
        "print('Lengthiest Word is',list(dict_len.keys())[list(dict_len.values()).index(max(list(dict_len.values())))])"
      ],
      "execution_count": 77,
      "outputs": [
        {
          "output_type": "stream",
          "text": [
            "length of hello: 5\n",
            "length of how: 3\n",
            "length of are: 3\n",
            "length of you: 3\n",
            "Lengthiest Word is hello\n"
          ],
          "name": "stdout"
        }
      ]
    },
    {
      "cell_type": "markdown",
      "metadata": {
        "id": "g4Iob4OkTThr",
        "colab_type": "text"
      },
      "source": [
        "4. Read the dataset (2010_Report_to_Congress_on_White_House_Staff.csv) and Answer the below\n",
        "questions\n",
        "1. Find the salary of an employee in the second row using a position based indexing function? (1\n",
        "Mark)\n",
        "2. Display all the employees whose salary is greater than 50,000? (1 Mark)\n",
        "3. Find the list of Employee details belonging to a position ('ANALYST','ADVISOR') (1 Mark)\n",
        "3. Find the top 10 highest-paid employees in each position? (2 Marks)"
      ]
    },
    {
      "cell_type": "code",
      "metadata": {
        "id": "RFwGkSvTQzim",
        "colab_type": "code",
        "colab": {
          "base_uri": "https://localhost:8080/",
          "height": 204
        },
        "outputId": "a6e460a3-e207-43bb-8f17-52a8c286b174"
      },
      "source": [
        "white.head()"
      ],
      "execution_count": 122,
      "outputs": [
        {
          "output_type": "execute_result",
          "data": {
            "text/html": [
              "<div>\n",
              "<style scoped>\n",
              "    .dataframe tbody tr th:only-of-type {\n",
              "        vertical-align: middle;\n",
              "    }\n",
              "\n",
              "    .dataframe tbody tr th {\n",
              "        vertical-align: top;\n",
              "    }\n",
              "\n",
              "    .dataframe thead th {\n",
              "        text-align: right;\n",
              "    }\n",
              "</style>\n",
              "<table border=\"1\" class=\"dataframe\">\n",
              "  <thead>\n",
              "    <tr style=\"text-align: right;\">\n",
              "      <th></th>\n",
              "      <th>Employee Name</th>\n",
              "      <th>Employee Status</th>\n",
              "      <th>Salary</th>\n",
              "      <th>Pay Basis</th>\n",
              "      <th>Position Title</th>\n",
              "    </tr>\n",
              "  </thead>\n",
              "  <tbody>\n",
              "    <tr>\n",
              "      <th>0</th>\n",
              "      <td>Abrams, Adam W.</td>\n",
              "      <td>Employee</td>\n",
              "      <td>66300.0</td>\n",
              "      <td>Per Annum</td>\n",
              "      <td>WESTERN REGIONAL COMMUNICATIONS DIRECTOR</td>\n",
              "    </tr>\n",
              "    <tr>\n",
              "      <th>1</th>\n",
              "      <td>Adams, Ian H.</td>\n",
              "      <td>Employee</td>\n",
              "      <td>45000.0</td>\n",
              "      <td>Per Annum</td>\n",
              "      <td>EXECUTIVE ASSISTANT TO THE DIRECTOR OF SCHEDUL...</td>\n",
              "    </tr>\n",
              "    <tr>\n",
              "      <th>2</th>\n",
              "      <td>Agnew, David P.</td>\n",
              "      <td>Employee</td>\n",
              "      <td>93840.0</td>\n",
              "      <td>Per Annum</td>\n",
              "      <td>DEPUTY DIRECTOR OF INTERGOVERNMENTAL AFFAIRS</td>\n",
              "    </tr>\n",
              "    <tr>\n",
              "      <th>3</th>\n",
              "      <td>Albino, James</td>\n",
              "      <td>Employee</td>\n",
              "      <td>91800.0</td>\n",
              "      <td>Per Annum</td>\n",
              "      <td>SENIOR PROGRAM MANAGER</td>\n",
              "    </tr>\n",
              "    <tr>\n",
              "      <th>4</th>\n",
              "      <td>Aldy, Jr., Joseph E.</td>\n",
              "      <td>Employee</td>\n",
              "      <td>130500.0</td>\n",
              "      <td>Per Annum</td>\n",
              "      <td>SPECIAL ASSISTANT TO THE PRESIDENT FOR ENERGY ...</td>\n",
              "    </tr>\n",
              "  </tbody>\n",
              "</table>\n",
              "</div>"
            ],
            "text/plain": [
              "          Employee Name  ...                                     Position Title\n",
              "0       Abrams, Adam W.  ...           WESTERN REGIONAL COMMUNICATIONS DIRECTOR\n",
              "1         Adams, Ian H.  ...  EXECUTIVE ASSISTANT TO THE DIRECTOR OF SCHEDUL...\n",
              "2       Agnew, David P.  ...       DEPUTY DIRECTOR OF INTERGOVERNMENTAL AFFAIRS\n",
              "3        Albino, James   ...                             SENIOR PROGRAM MANAGER\n",
              "4  Aldy, Jr., Joseph E.  ...  SPECIAL ASSISTANT TO THE PRESIDENT FOR ENERGY ...\n",
              "\n",
              "[5 rows x 5 columns]"
            ]
          },
          "metadata": {
            "tags": []
          },
          "execution_count": 122
        }
      ]
    },
    {
      "cell_type": "code",
      "metadata": {
        "id": "znFRWEBcToxB",
        "colab_type": "code",
        "colab": {
          "base_uri": "https://localhost:8080/",
          "height": 34
        },
        "outputId": "6a1d5caa-c95e-4626-fe08-7c3c1db9b4c0"
      },
      "source": [
        "white.loc[1]['Salary']  # Second row is denoted by 1 column as index"
      ],
      "execution_count": 118,
      "outputs": [
        {
          "output_type": "execute_result",
          "data": {
            "text/plain": [
              "45000.0"
            ]
          },
          "metadata": {
            "tags": []
          },
          "execution_count": 118
        }
      ]
    },
    {
      "cell_type": "code",
      "metadata": {
        "id": "47Z4NnI_T0PF",
        "colab_type": "code",
        "colab": {
          "base_uri": "https://localhost:8080/",
          "height": 221
        },
        "outputId": "4f8121f5-69ff-4b15-817d-5f8afd2f41aa"
      },
      "source": [
        "white[white['Salary']>50000]['Employee Name']"
      ],
      "execution_count": 123,
      "outputs": [
        {
          "output_type": "execute_result",
          "data": {
            "text/plain": [
              "0                 Abrams, Adam W.\n",
              "2                 Agnew, David P.\n",
              "3                  Albino, James \n",
              "4            Aldy, Jr., Joseph E.\n",
              "6            Amorsingh, Lucius L.\n",
              "                  ...            \n",
              "462            Wright, Jessica N.\n",
              "463    Yeager Kaplan, Jennifer F.\n",
              "464       Young, Jr., Reginald D.\n",
              "466              Young, Latoya A.\n",
              "468            Zichal, Heather R.\n",
              "Name: Employee Name, Length: 321, dtype: object"
            ]
          },
          "metadata": {
            "tags": []
          },
          "execution_count": 123
        }
      ]
    },
    {
      "cell_type": "code",
      "metadata": {
        "id": "Xjt8hj5VURHU",
        "colab_type": "code",
        "colab": {
          "base_uri": "https://localhost:8080/",
          "height": 452
        },
        "outputId": "e1cde15b-5e6c-4b6e-ce18-5d414c2f06fa"
      },
      "source": [
        "white_details = white[(white['Position Title']=='ADVISOR')|(white['Position Title']=='ANALYST')]\n",
        "white_details"
      ],
      "execution_count": 125,
      "outputs": [
        {
          "output_type": "execute_result",
          "data": {
            "text/html": [
              "<div>\n",
              "<style scoped>\n",
              "    .dataframe tbody tr th:only-of-type {\n",
              "        vertical-align: middle;\n",
              "    }\n",
              "\n",
              "    .dataframe tbody tr th {\n",
              "        vertical-align: top;\n",
              "    }\n",
              "\n",
              "    .dataframe thead th {\n",
              "        text-align: right;\n",
              "    }\n",
              "</style>\n",
              "<table border=\"1\" class=\"dataframe\">\n",
              "  <thead>\n",
              "    <tr style=\"text-align: right;\">\n",
              "      <th></th>\n",
              "      <th>Employee Name</th>\n",
              "      <th>Employee Status</th>\n",
              "      <th>Salary</th>\n",
              "      <th>Pay Basis</th>\n",
              "      <th>Position Title</th>\n",
              "    </tr>\n",
              "  </thead>\n",
              "  <tbody>\n",
              "    <tr>\n",
              "      <th>14</th>\n",
              "      <td>Ayling, Lindsay A.</td>\n",
              "      <td>Employee</td>\n",
              "      <td>42000.0</td>\n",
              "      <td>Per Annum</td>\n",
              "      <td>ANALYST</td>\n",
              "    </tr>\n",
              "    <tr>\n",
              "      <th>55</th>\n",
              "      <td>Campos, David R.</td>\n",
              "      <td>Employee</td>\n",
              "      <td>42000.0</td>\n",
              "      <td>Per Annum</td>\n",
              "      <td>ANALYST</td>\n",
              "    </tr>\n",
              "    <tr>\n",
              "      <th>63</th>\n",
              "      <td>Castillo, Laura M.</td>\n",
              "      <td>Employee</td>\n",
              "      <td>42000.0</td>\n",
              "      <td>Per Annum</td>\n",
              "      <td>ANALYST</td>\n",
              "    </tr>\n",
              "    <tr>\n",
              "      <th>104</th>\n",
              "      <td>Dorsett, Craig M.</td>\n",
              "      <td>Employee</td>\n",
              "      <td>42000.0</td>\n",
              "      <td>Per Annum</td>\n",
              "      <td>ANALYST</td>\n",
              "    </tr>\n",
              "    <tr>\n",
              "      <th>154</th>\n",
              "      <td>Grant, Kathryn A.</td>\n",
              "      <td>Employee</td>\n",
              "      <td>42000.0</td>\n",
              "      <td>Per Annum</td>\n",
              "      <td>ANALYST</td>\n",
              "    </tr>\n",
              "    <tr>\n",
              "      <th>167</th>\n",
              "      <td>Hegde, Shilpa S.</td>\n",
              "      <td>Employee</td>\n",
              "      <td>42000.0</td>\n",
              "      <td>Per Annum</td>\n",
              "      <td>ANALYST</td>\n",
              "    </tr>\n",
              "    <tr>\n",
              "      <th>277</th>\n",
              "      <td>McGinnis, Patricia G.</td>\n",
              "      <td>Employee</td>\n",
              "      <td>0.0</td>\n",
              "      <td>Per Annum</td>\n",
              "      <td>ADVISOR</td>\n",
              "    </tr>\n",
              "    <tr>\n",
              "      <th>284</th>\n",
              "      <td>Metcalf, Ryan D.</td>\n",
              "      <td>Employee</td>\n",
              "      <td>42000.0</td>\n",
              "      <td>Per Annum</td>\n",
              "      <td>ANALYST</td>\n",
              "    </tr>\n",
              "    <tr>\n",
              "      <th>338</th>\n",
              "      <td>Posey, Stacie M.</td>\n",
              "      <td>Employee</td>\n",
              "      <td>42000.0</td>\n",
              "      <td>Per Annum</td>\n",
              "      <td>ANALYST</td>\n",
              "    </tr>\n",
              "    <tr>\n",
              "      <th>353</th>\n",
              "      <td>Robertson, Ian T.</td>\n",
              "      <td>Employee</td>\n",
              "      <td>42000.0</td>\n",
              "      <td>Per Annum</td>\n",
              "      <td>ANALYST</td>\n",
              "    </tr>\n",
              "    <tr>\n",
              "      <th>373</th>\n",
              "      <td>Schaub, Matthew J.</td>\n",
              "      <td>Employee</td>\n",
              "      <td>42000.0</td>\n",
              "      <td>Per Annum</td>\n",
              "      <td>ANALYST</td>\n",
              "    </tr>\n",
              "    <tr>\n",
              "      <th>434</th>\n",
              "      <td>Utech, Daniel G.</td>\n",
              "      <td>Detailee</td>\n",
              "      <td>130000.0</td>\n",
              "      <td>Per Annum</td>\n",
              "      <td>ADVISOR</td>\n",
              "    </tr>\n",
              "    <tr>\n",
              "      <th>453</th>\n",
              "      <td>White, Cleo</td>\n",
              "      <td>Detailee</td>\n",
              "      <td>65393.0</td>\n",
              "      <td>Per Annum</td>\n",
              "      <td>ANALYST</td>\n",
              "    </tr>\n",
              "  </tbody>\n",
              "</table>\n",
              "</div>"
            ],
            "text/plain": [
              "             Employee Name Employee Status    Salary  Pay Basis Position Title\n",
              "14      Ayling, Lindsay A.        Employee   42000.0  Per Annum        ANALYST\n",
              "55        Campos, David R.        Employee   42000.0  Per Annum        ANALYST\n",
              "63      Castillo, Laura M.        Employee   42000.0  Per Annum        ANALYST\n",
              "104      Dorsett, Craig M.        Employee   42000.0  Per Annum        ANALYST\n",
              "154      Grant, Kathryn A.        Employee   42000.0  Per Annum        ANALYST\n",
              "167       Hegde, Shilpa S.        Employee   42000.0  Per Annum        ANALYST\n",
              "277  McGinnis, Patricia G.        Employee       0.0  Per Annum        ADVISOR\n",
              "284       Metcalf, Ryan D.        Employee   42000.0  Per Annum        ANALYST\n",
              "338       Posey, Stacie M.        Employee   42000.0  Per Annum        ANALYST\n",
              "353      Robertson, Ian T.        Employee   42000.0  Per Annum        ANALYST\n",
              "373     Schaub, Matthew J.        Employee   42000.0  Per Annum        ANALYST\n",
              "434       Utech, Daniel G.        Detailee  130000.0  Per Annum        ADVISOR\n",
              "453            White, Cleo        Detailee   65393.0  Per Annum        ANALYST"
            ]
          },
          "metadata": {
            "tags": []
          },
          "execution_count": 125
        }
      ]
    },
    {
      "cell_type": "code",
      "metadata": {
        "id": "-qyky0AjUh35",
        "colab_type": "code",
        "colab": {
          "base_uri": "https://localhost:8080/",
          "height": 359
        },
        "outputId": "a41d902e-d272-4a2d-97a2-03225bd411df"
      },
      "source": [
        "white_details.sort_values(by='Salary',ascending=False).head(10)\n"
      ],
      "execution_count": 126,
      "outputs": [
        {
          "output_type": "execute_result",
          "data": {
            "text/html": [
              "<div>\n",
              "<style scoped>\n",
              "    .dataframe tbody tr th:only-of-type {\n",
              "        vertical-align: middle;\n",
              "    }\n",
              "\n",
              "    .dataframe tbody tr th {\n",
              "        vertical-align: top;\n",
              "    }\n",
              "\n",
              "    .dataframe thead th {\n",
              "        text-align: right;\n",
              "    }\n",
              "</style>\n",
              "<table border=\"1\" class=\"dataframe\">\n",
              "  <thead>\n",
              "    <tr style=\"text-align: right;\">\n",
              "      <th></th>\n",
              "      <th>Employee Name</th>\n",
              "      <th>Employee Status</th>\n",
              "      <th>Salary</th>\n",
              "      <th>Pay Basis</th>\n",
              "      <th>Position Title</th>\n",
              "    </tr>\n",
              "  </thead>\n",
              "  <tbody>\n",
              "    <tr>\n",
              "      <th>434</th>\n",
              "      <td>Utech, Daniel G.</td>\n",
              "      <td>Detailee</td>\n",
              "      <td>130000.0</td>\n",
              "      <td>Per Annum</td>\n",
              "      <td>ADVISOR</td>\n",
              "    </tr>\n",
              "    <tr>\n",
              "      <th>453</th>\n",
              "      <td>White, Cleo</td>\n",
              "      <td>Detailee</td>\n",
              "      <td>65393.0</td>\n",
              "      <td>Per Annum</td>\n",
              "      <td>ANALYST</td>\n",
              "    </tr>\n",
              "    <tr>\n",
              "      <th>14</th>\n",
              "      <td>Ayling, Lindsay A.</td>\n",
              "      <td>Employee</td>\n",
              "      <td>42000.0</td>\n",
              "      <td>Per Annum</td>\n",
              "      <td>ANALYST</td>\n",
              "    </tr>\n",
              "    <tr>\n",
              "      <th>55</th>\n",
              "      <td>Campos, David R.</td>\n",
              "      <td>Employee</td>\n",
              "      <td>42000.0</td>\n",
              "      <td>Per Annum</td>\n",
              "      <td>ANALYST</td>\n",
              "    </tr>\n",
              "    <tr>\n",
              "      <th>63</th>\n",
              "      <td>Castillo, Laura M.</td>\n",
              "      <td>Employee</td>\n",
              "      <td>42000.0</td>\n",
              "      <td>Per Annum</td>\n",
              "      <td>ANALYST</td>\n",
              "    </tr>\n",
              "    <tr>\n",
              "      <th>104</th>\n",
              "      <td>Dorsett, Craig M.</td>\n",
              "      <td>Employee</td>\n",
              "      <td>42000.0</td>\n",
              "      <td>Per Annum</td>\n",
              "      <td>ANALYST</td>\n",
              "    </tr>\n",
              "    <tr>\n",
              "      <th>154</th>\n",
              "      <td>Grant, Kathryn A.</td>\n",
              "      <td>Employee</td>\n",
              "      <td>42000.0</td>\n",
              "      <td>Per Annum</td>\n",
              "      <td>ANALYST</td>\n",
              "    </tr>\n",
              "    <tr>\n",
              "      <th>167</th>\n",
              "      <td>Hegde, Shilpa S.</td>\n",
              "      <td>Employee</td>\n",
              "      <td>42000.0</td>\n",
              "      <td>Per Annum</td>\n",
              "      <td>ANALYST</td>\n",
              "    </tr>\n",
              "    <tr>\n",
              "      <th>284</th>\n",
              "      <td>Metcalf, Ryan D.</td>\n",
              "      <td>Employee</td>\n",
              "      <td>42000.0</td>\n",
              "      <td>Per Annum</td>\n",
              "      <td>ANALYST</td>\n",
              "    </tr>\n",
              "    <tr>\n",
              "      <th>338</th>\n",
              "      <td>Posey, Stacie M.</td>\n",
              "      <td>Employee</td>\n",
              "      <td>42000.0</td>\n",
              "      <td>Per Annum</td>\n",
              "      <td>ANALYST</td>\n",
              "    </tr>\n",
              "  </tbody>\n",
              "</table>\n",
              "</div>"
            ],
            "text/plain": [
              "          Employee Name Employee Status    Salary  Pay Basis Position Title\n",
              "434    Utech, Daniel G.        Detailee  130000.0  Per Annum        ADVISOR\n",
              "453         White, Cleo        Detailee   65393.0  Per Annum        ANALYST\n",
              "14   Ayling, Lindsay A.        Employee   42000.0  Per Annum        ANALYST\n",
              "55     Campos, David R.        Employee   42000.0  Per Annum        ANALYST\n",
              "63   Castillo, Laura M.        Employee   42000.0  Per Annum        ANALYST\n",
              "104   Dorsett, Craig M.        Employee   42000.0  Per Annum        ANALYST\n",
              "154   Grant, Kathryn A.        Employee   42000.0  Per Annum        ANALYST\n",
              "167    Hegde, Shilpa S.        Employee   42000.0  Per Annum        ANALYST\n",
              "284    Metcalf, Ryan D.        Employee   42000.0  Per Annum        ANALYST\n",
              "338    Posey, Stacie M.        Employee   42000.0  Per Annum        ANALYST"
            ]
          },
          "metadata": {
            "tags": []
          },
          "execution_count": 126
        }
      ]
    },
    {
      "cell_type": "markdown",
      "metadata": {
        "id": "fumrziVMW4kB",
        "colab_type": "text"
      },
      "source": [
        "5. \n",
        "1. Read the dataset (stock_data.csv) and give column names as `timestamp`, `AA`, `AAPL`, `GE`, `IBM`,\n",
        "`JNJ`, `MSFT`, `PEP`, `SPX`, `XOM`.\n",
        "2. List all the columns of the dataset. Identify the numerical and\n",
        "categorical columns. (4 Marks)\n",
        "3. Convert the column `timestamp` into python datetime object (1 Marks)\n",
        "4. Find Average value of stock `AAPL` for the year 2010 (5 Marks)\n"
      ]
    },
    {
      "cell_type": "code",
      "metadata": {
        "id": "OX-Za-XrWf8k",
        "colab_type": "code",
        "colab": {
          "base_uri": "https://localhost:8080/",
          "height": 204
        },
        "outputId": "5e1b985f-7d8a-42ff-b3b6-55ce27b0e164"
      },
      "source": [
        "stock.head()\n",
        "\n",
        " "
      ],
      "execution_count": 97,
      "outputs": [
        {
          "output_type": "execute_result",
          "data": {
            "text/html": [
              "<div>\n",
              "<style scoped>\n",
              "    .dataframe tbody tr th:only-of-type {\n",
              "        vertical-align: middle;\n",
              "    }\n",
              "\n",
              "    .dataframe tbody tr th {\n",
              "        vertical-align: top;\n",
              "    }\n",
              "\n",
              "    .dataframe thead th {\n",
              "        text-align: right;\n",
              "    }\n",
              "</style>\n",
              "<table border=\"1\" class=\"dataframe\">\n",
              "  <thead>\n",
              "    <tr style=\"text-align: right;\">\n",
              "      <th></th>\n",
              "      <th>10/29/2007 0:00</th>\n",
              "      <th>37.41</th>\n",
              "      <th>185.09</th>\n",
              "      <th>34.46</th>\n",
              "      <th>106.78</th>\n",
              "      <th>57.13</th>\n",
              "      <th>31.78</th>\n",
              "      <th>65.67</th>\n",
              "      <th>1540.98</th>\n",
              "      <th>85.51</th>\n",
              "    </tr>\n",
              "  </thead>\n",
              "  <tbody>\n",
              "    <tr>\n",
              "      <th>0</th>\n",
              "      <td>10/30/2007 0:00</td>\n",
              "      <td>36.43</td>\n",
              "      <td>187.00</td>\n",
              "      <td>34.39</td>\n",
              "      <td>106.15</td>\n",
              "      <td>56.99</td>\n",
              "      <td>32.70</td>\n",
              "      <td>65.80</td>\n",
              "      <td>1531.02</td>\n",
              "      <td>83.25</td>\n",
              "    </tr>\n",
              "    <tr>\n",
              "      <th>1</th>\n",
              "      <td>10/31/2007 0:00</td>\n",
              "      <td>36.79</td>\n",
              "      <td>189.95</td>\n",
              "      <td>34.97</td>\n",
              "      <td>108.01</td>\n",
              "      <td>57.30</td>\n",
              "      <td>33.84</td>\n",
              "      <td>65.69</td>\n",
              "      <td>1549.38</td>\n",
              "      <td>84.03</td>\n",
              "    </tr>\n",
              "    <tr>\n",
              "      <th>2</th>\n",
              "      <td>11/1/2007 0:00</td>\n",
              "      <td>35.22</td>\n",
              "      <td>187.44</td>\n",
              "      <td>34.27</td>\n",
              "      <td>105.72</td>\n",
              "      <td>56.85</td>\n",
              "      <td>34.07</td>\n",
              "      <td>64.51</td>\n",
              "      <td>1508.44</td>\n",
              "      <td>80.84</td>\n",
              "    </tr>\n",
              "    <tr>\n",
              "      <th>3</th>\n",
              "      <td>11/2/2007 0:00</td>\n",
              "      <td>35.83</td>\n",
              "      <td>187.87</td>\n",
              "      <td>34.27</td>\n",
              "      <td>106.59</td>\n",
              "      <td>56.95</td>\n",
              "      <td>34.07</td>\n",
              "      <td>65.03</td>\n",
              "      <td>1509.65</td>\n",
              "      <td>80.32</td>\n",
              "    </tr>\n",
              "    <tr>\n",
              "      <th>4</th>\n",
              "      <td>11/5/2007 0:00</td>\n",
              "      <td>35.22</td>\n",
              "      <td>186.18</td>\n",
              "      <td>34.15</td>\n",
              "      <td>105.48</td>\n",
              "      <td>56.70</td>\n",
              "      <td>33.77</td>\n",
              "      <td>64.84</td>\n",
              "      <td>1502.17</td>\n",
              "      <td>80.07</td>\n",
              "    </tr>\n",
              "  </tbody>\n",
              "</table>\n",
              "</div>"
            ],
            "text/plain": [
              "   10/29/2007 0:00  37.41  185.09  34.46  ...  31.78  65.67  1540.98  85.51\n",
              "0  10/30/2007 0:00  36.43  187.00  34.39  ...  32.70  65.80  1531.02  83.25\n",
              "1  10/31/2007 0:00  36.79  189.95  34.97  ...  33.84  65.69  1549.38  84.03\n",
              "2   11/1/2007 0:00  35.22  187.44  34.27  ...  34.07  64.51  1508.44  80.84\n",
              "3   11/2/2007 0:00  35.83  187.87  34.27  ...  34.07  65.03  1509.65  80.32\n",
              "4   11/5/2007 0:00  35.22  186.18  34.15  ...  33.77  64.84  1502.17  80.07\n",
              "\n",
              "[5 rows x 10 columns]"
            ]
          },
          "metadata": {
            "tags": []
          },
          "execution_count": 97
        }
      ]
    },
    {
      "cell_type": "code",
      "metadata": {
        "id": "UXjG99iXYLcB",
        "colab_type": "code",
        "colab": {}
      },
      "source": [
        "`timestamp`, `AA`, `AAPL`, `GE`, `IBM`,\n",
        "`JNJ`, `MSFT`, `PEP`, `SPX`, `XOM`."
      ],
      "execution_count": 0,
      "outputs": []
    },
    {
      "cell_type": "code",
      "metadata": {
        "id": "y_yzkfdfXDvs",
        "colab_type": "code",
        "colab": {
          "base_uri": "https://localhost:8080/",
          "height": 68
        },
        "outputId": "01e56e3b-454e-4ab0-b1fd-5aeb714817a0"
      },
      "source": [
        "stock = stock.rename({'10/29/2007 0:00':'timestamp','37.41':'AA',\t'185.09':'AAPL','34.46':'GE',\t'106.78':'IBM',\t'57.13':'JNJ',\t'31.78':'MSFT',\t'65.67':'PEP',\t'1540.98':'SPX'\t,'85.51':'XOM'},axis=1)\n",
        "stock.columns\n"
      ],
      "execution_count": 101,
      "outputs": [
        {
          "output_type": "execute_result",
          "data": {
            "text/plain": [
              "Index(['timestamp', 'AA', 'AAPL', 'GE', 'IBM', 'JNJ', 'MSFT', 'PEP', 'SPX',\n",
              "       'XOM'],\n",
              "      dtype='object')"
            ]
          },
          "metadata": {
            "tags": []
          },
          "execution_count": 101
        }
      ]
    },
    {
      "cell_type": "code",
      "metadata": {
        "id": "ojGiWikLY4Qd",
        "colab_type": "code",
        "colab": {
          "base_uri": "https://localhost:8080/",
          "height": 272
        },
        "outputId": "b6797171-f43c-4436-f4dc-855a4b30c25e"
      },
      "source": [
        "stock.info()\n",
        "# Only numerical columns are present"
      ],
      "execution_count": 102,
      "outputs": [
        {
          "output_type": "stream",
          "text": [
            "<class 'pandas.core.frame.DataFrame'>\n",
            "RangeIndex: 999 entries, 0 to 998\n",
            "Data columns (total 10 columns):\n",
            "timestamp    999 non-null object\n",
            "AA           999 non-null float64\n",
            "AAPL         999 non-null float64\n",
            "GE           999 non-null float64\n",
            "IBM          999 non-null float64\n",
            "JNJ          999 non-null float64\n",
            "MSFT         999 non-null float64\n",
            "PEP          999 non-null float64\n",
            "SPX          999 non-null float64\n",
            "XOM          999 non-null float64\n",
            "dtypes: float64(9), object(1)\n",
            "memory usage: 78.2+ KB\n"
          ],
          "name": "stdout"
        }
      ]
    },
    {
      "cell_type": "code",
      "metadata": {
        "id": "pLX7pIsMbBu7",
        "colab_type": "code",
        "colab": {
          "base_uri": "https://localhost:8080/",
          "height": 221
        },
        "outputId": "44184c63-c287-46bc-b9e5-6d78b4e2b01b"
      },
      "source": [
        "import datetime as dt\n",
        "stock['timestamp'].to_datetime()"
      ],
      "execution_count": 129,
      "outputs": [
        {
          "output_type": "execute_result",
          "data": {
            "text/plain": [
              "0      10/30/2007 0:00\n",
              "1      10/31/2007 0:00\n",
              "2       11/1/2007 0:00\n",
              "3       11/2/2007 0:00\n",
              "4       11/5/2007 0:00\n",
              "            ...       \n",
              "994    10/10/2011 0:00\n",
              "995    10/11/2011 0:00\n",
              "996    10/12/2011 0:00\n",
              "997    10/13/2011 0:00\n",
              "998    10/14/2011 0:00\n",
              "Name: timestamp, Length: 999, dtype: object"
            ]
          },
          "metadata": {
            "tags": []
          },
          "execution_count": 129
        }
      ]
    },
    {
      "cell_type": "code",
      "metadata": {
        "id": "TkoB4crrbffr",
        "colab_type": "code",
        "colab": {}
      },
      "source": [
        "stock[stock['timestamp'].year=='2010']['AA'].mean()"
      ],
      "execution_count": 0,
      "outputs": []
    },
    {
      "cell_type": "markdown",
      "metadata": {
        "id": "VLNd_GH4fN0p",
        "colab_type": "text"
      },
      "source": [
        "6. A. Find the stocks which have the highest and lowest return with buying price shown below\n",
        "(Consider the last row of the dataset as the latest closing price) (7 Marks)\n",
        "B. Plot a distribution of the values of stocks with code AA and identify the type of distribution and\n",
        "write you inference. (3 Marks)"
      ]
    },
    {
      "cell_type": "code",
      "metadata": {
        "id": "Xoaob8dRfMra",
        "colab_type": "code",
        "colab": {
          "base_uri": "https://localhost:8080/",
          "height": 80
        },
        "outputId": "e2da74cf-bcef-4d3a-9579-a5bd8a6ec988"
      },
      "source": [
        "stock.tail(1)  # Considering this as our closing price.\n"
      ],
      "execution_count": 130,
      "outputs": [
        {
          "output_type": "execute_result",
          "data": {
            "text/html": [
              "<div>\n",
              "<style scoped>\n",
              "    .dataframe tbody tr th:only-of-type {\n",
              "        vertical-align: middle;\n",
              "    }\n",
              "\n",
              "    .dataframe tbody tr th {\n",
              "        vertical-align: top;\n",
              "    }\n",
              "\n",
              "    .dataframe thead th {\n",
              "        text-align: right;\n",
              "    }\n",
              "</style>\n",
              "<table border=\"1\" class=\"dataframe\">\n",
              "  <thead>\n",
              "    <tr style=\"text-align: right;\">\n",
              "      <th></th>\n",
              "      <th>timestamp</th>\n",
              "      <th>AA</th>\n",
              "      <th>AAPL</th>\n",
              "      <th>GE</th>\n",
              "      <th>IBM</th>\n",
              "      <th>JNJ</th>\n",
              "      <th>MSFT</th>\n",
              "      <th>PEP</th>\n",
              "      <th>SPX</th>\n",
              "      <th>XOM</th>\n",
              "    </tr>\n",
              "  </thead>\n",
              "  <tbody>\n",
              "    <tr>\n",
              "      <th>998</th>\n",
              "      <td>10/14/2011 0:00</td>\n",
              "      <td>10.26</td>\n",
              "      <td>422.0</td>\n",
              "      <td>16.6</td>\n",
              "      <td>190.53</td>\n",
              "      <td>64.72</td>\n",
              "      <td>27.27</td>\n",
              "      <td>62.24</td>\n",
              "      <td>1224.58</td>\n",
              "      <td>78.11</td>\n",
              "    </tr>\n",
              "  </tbody>\n",
              "</table>\n",
              "</div>"
            ],
            "text/plain": [
              "           timestamp     AA   AAPL    GE  ...   MSFT    PEP      SPX    XOM\n",
              "998  10/14/2011 0:00  10.26  422.0  16.6  ...  27.27  62.24  1224.58  78.11\n",
              "\n",
              "[1 rows x 10 columns]"
            ]
          },
          "metadata": {
            "tags": []
          },
          "execution_count": 130
        }
      ]
    },
    {
      "cell_type": "code",
      "metadata": {
        "id": "7dRJemwufnSr",
        "colab_type": "code",
        "colab": {
          "base_uri": "https://localhost:8080/",
          "height": 80
        },
        "outputId": "161271a8-3019-4526-a093-3673c177a497"
      },
      "source": [
        "buying_price =  pd.DataFrame({'AA':15.5,'AAPL':190,'GE':33.2,'IBM':105,'JNJ':60,'MSFT':30,'PEP':65,'SPX':1750,'XOM':85},index=[0])\n",
        "buying_price  # Given is the Buying price"
      ],
      "execution_count": 133,
      "outputs": [
        {
          "output_type": "execute_result",
          "data": {
            "text/html": [
              "<div>\n",
              "<style scoped>\n",
              "    .dataframe tbody tr th:only-of-type {\n",
              "        vertical-align: middle;\n",
              "    }\n",
              "\n",
              "    .dataframe tbody tr th {\n",
              "        vertical-align: top;\n",
              "    }\n",
              "\n",
              "    .dataframe thead th {\n",
              "        text-align: right;\n",
              "    }\n",
              "</style>\n",
              "<table border=\"1\" class=\"dataframe\">\n",
              "  <thead>\n",
              "    <tr style=\"text-align: right;\">\n",
              "      <th></th>\n",
              "      <th>AA</th>\n",
              "      <th>AAPL</th>\n",
              "      <th>GE</th>\n",
              "      <th>IBM</th>\n",
              "      <th>JNJ</th>\n",
              "      <th>MSFT</th>\n",
              "      <th>PEP</th>\n",
              "      <th>SPX</th>\n",
              "      <th>XOM</th>\n",
              "    </tr>\n",
              "  </thead>\n",
              "  <tbody>\n",
              "    <tr>\n",
              "      <th>0</th>\n",
              "      <td>15.5</td>\n",
              "      <td>190</td>\n",
              "      <td>33.2</td>\n",
              "      <td>105</td>\n",
              "      <td>60</td>\n",
              "      <td>30</td>\n",
              "      <td>65</td>\n",
              "      <td>1750</td>\n",
              "      <td>85</td>\n",
              "    </tr>\n",
              "  </tbody>\n",
              "</table>\n",
              "</div>"
            ],
            "text/plain": [
              "     AA  AAPL    GE  IBM  JNJ  MSFT  PEP   SPX  XOM\n",
              "0  15.5   190  33.2  105   60    30   65  1750   85"
            ]
          },
          "metadata": {
            "tags": []
          },
          "execution_count": 133
        }
      ]
    },
    {
      "cell_type": "code",
      "metadata": {
        "id": "-XSfvBH7gW7t",
        "colab_type": "code",
        "colab": {
          "base_uri": "https://localhost:8080/",
          "height": 1000
        },
        "outputId": "5255a64e-db99-4310-d340-ecef2ae98813"
      },
      "source": [
        "stock[stock['AA']>buying_price['AA'][0]]\n",
        "stock[stock['AAPL']>buying_price['AAPL'][0]]\n",
        "stock[stock['GE']>buying_price['IBM'][0]]\n",
        "stock[stock['JNJ']>buying_price['JNJ'][0]]\n",
        "stock[stock['MSFT']>buying_price['MSFT'][0]]\n",
        "stock[stock['PEP']>buying_price['PEP'][0]]\n",
        "stock[stock['SPX']>buying_price['SPX'][0]]\n",
        "stock[stock['XOM']>buying_price['XOM'][0]]\n"
      ],
      "execution_count": 203,
      "outputs": [
        {
          "output_type": "execute_result",
          "data": {
            "text/html": [
              "<div>\n",
              "<style scoped>\n",
              "    .dataframe tbody tr th:only-of-type {\n",
              "        vertical-align: middle;\n",
              "    }\n",
              "\n",
              "    .dataframe tbody tr th {\n",
              "        vertical-align: top;\n",
              "    }\n",
              "\n",
              "    .dataframe thead th {\n",
              "        text-align: right;\n",
              "    }\n",
              "</style>\n",
              "<table border=\"1\" class=\"dataframe\">\n",
              "  <thead>\n",
              "    <tr style=\"text-align: right;\">\n",
              "      <th></th>\n",
              "      <th>timestamp</th>\n",
              "      <th>AA</th>\n",
              "      <th>AAPL</th>\n",
              "      <th>GE</th>\n",
              "      <th>IBM</th>\n",
              "      <th>JNJ</th>\n",
              "      <th>MSFT</th>\n",
              "      <th>PEP</th>\n",
              "      <th>SPX</th>\n",
              "      <th>XOM</th>\n",
              "    </tr>\n",
              "  </thead>\n",
              "  <tbody>\n",
              "    <tr>\n",
              "      <th>31</th>\n",
              "      <td>12/13/2007 0:00</td>\n",
              "      <td>33.76</td>\n",
              "      <td>191.83</td>\n",
              "      <td>31.93</td>\n",
              "      <td>100.98</td>\n",
              "      <td>60.04</td>\n",
              "      <td>32.49</td>\n",
              "      <td>70.47</td>\n",
              "      <td>1488.41</td>\n",
              "      <td>85.03</td>\n",
              "    </tr>\n",
              "    <tr>\n",
              "      <th>37</th>\n",
              "      <td>12/21/2007 0:00</td>\n",
              "      <td>33.78</td>\n",
              "      <td>193.91</td>\n",
              "      <td>31.82</td>\n",
              "      <td>103.66</td>\n",
              "      <td>60.18</td>\n",
              "      <td>33.26</td>\n",
              "      <td>69.27</td>\n",
              "      <td>1484.46</td>\n",
              "      <td>85.68</td>\n",
              "    </tr>\n",
              "    <tr>\n",
              "      <th>38</th>\n",
              "      <td>12/24/2007 0:00</td>\n",
              "      <td>34.39</td>\n",
              "      <td>198.80</td>\n",
              "      <td>32.16</td>\n",
              "      <td>104.22</td>\n",
              "      <td>60.04</td>\n",
              "      <td>33.74</td>\n",
              "      <td>69.59</td>\n",
              "      <td>1496.45</td>\n",
              "      <td>85.89</td>\n",
              "    </tr>\n",
              "    <tr>\n",
              "      <th>39</th>\n",
              "      <td>12/26/2007 0:00</td>\n",
              "      <td>34.76</td>\n",
              "      <td>198.95</td>\n",
              "      <td>32.18</td>\n",
              "      <td>104.14</td>\n",
              "      <td>59.77</td>\n",
              "      <td>33.77</td>\n",
              "      <td>69.20</td>\n",
              "      <td>1497.66</td>\n",
              "      <td>86.94</td>\n",
              "    </tr>\n",
              "    <tr>\n",
              "      <th>40</th>\n",
              "      <td>12/27/2007 0:00</td>\n",
              "      <td>34.37</td>\n",
              "      <td>198.57</td>\n",
              "      <td>31.87</td>\n",
              "      <td>102.31</td>\n",
              "      <td>59.56</td>\n",
              "      <td>33.18</td>\n",
              "      <td>68.68</td>\n",
              "      <td>1476.27</td>\n",
              "      <td>85.90</td>\n",
              "    </tr>\n",
              "    <tr>\n",
              "      <th>41</th>\n",
              "      <td>12/28/2007 0:00</td>\n",
              "      <td>34.25</td>\n",
              "      <td>199.83</td>\n",
              "      <td>32.00</td>\n",
              "      <td>102.77</td>\n",
              "      <td>59.61</td>\n",
              "      <td>33.32</td>\n",
              "      <td>68.98</td>\n",
              "      <td>1478.49</td>\n",
              "      <td>87.12</td>\n",
              "    </tr>\n",
              "    <tr>\n",
              "      <th>42</th>\n",
              "      <td>12/31/2007 0:00</td>\n",
              "      <td>33.97</td>\n",
              "      <td>198.08</td>\n",
              "      <td>31.76</td>\n",
              "      <td>100.91</td>\n",
              "      <td>59.01</td>\n",
              "      <td>32.84</td>\n",
              "      <td>67.97</td>\n",
              "      <td>1468.36</td>\n",
              "      <td>85.91</td>\n",
              "    </tr>\n",
              "    <tr>\n",
              "      <th>43</th>\n",
              "      <td>1/2/2008 0:00</td>\n",
              "      <td>33.58</td>\n",
              "      <td>194.84</td>\n",
              "      <td>31.50</td>\n",
              "      <td>97.73</td>\n",
              "      <td>58.31</td>\n",
              "      <td>32.49</td>\n",
              "      <td>67.42</td>\n",
              "      <td>1447.16</td>\n",
              "      <td>85.75</td>\n",
              "    </tr>\n",
              "    <tr>\n",
              "      <th>44</th>\n",
              "      <td>1/3/2008 0:00</td>\n",
              "      <td>33.63</td>\n",
              "      <td>194.93</td>\n",
              "      <td>31.53</td>\n",
              "      <td>97.92</td>\n",
              "      <td>58.32</td>\n",
              "      <td>32.62</td>\n",
              "      <td>67.86</td>\n",
              "      <td>1447.16</td>\n",
              "      <td>86.04</td>\n",
              "    </tr>\n",
              "    <tr>\n",
              "      <th>115</th>\n",
              "      <td>4/16/2008 0:00</td>\n",
              "      <td>33.60</td>\n",
              "      <td>153.70</td>\n",
              "      <td>27.87</td>\n",
              "      <td>112.89</td>\n",
              "      <td>58.51</td>\n",
              "      <td>26.81</td>\n",
              "      <td>64.02</td>\n",
              "      <td>1364.71</td>\n",
              "      <td>85.55</td>\n",
              "    </tr>\n",
              "    <tr>\n",
              "      <th>116</th>\n",
              "      <td>4/17/2008 0:00</td>\n",
              "      <td>33.23</td>\n",
              "      <td>154.49</td>\n",
              "      <td>27.69</td>\n",
              "      <td>115.33</td>\n",
              "      <td>58.56</td>\n",
              "      <td>27.06</td>\n",
              "      <td>63.71</td>\n",
              "      <td>1365.56</td>\n",
              "      <td>86.00</td>\n",
              "    </tr>\n",
              "    <tr>\n",
              "      <th>117</th>\n",
              "      <td>4/18/2008 0:00</td>\n",
              "      <td>33.87</td>\n",
              "      <td>161.04</td>\n",
              "      <td>28.27</td>\n",
              "      <td>116.57</td>\n",
              "      <td>59.23</td>\n",
              "      <td>27.78</td>\n",
              "      <td>63.56</td>\n",
              "      <td>1390.33</td>\n",
              "      <td>86.57</td>\n",
              "    </tr>\n",
              "    <tr>\n",
              "      <th>118</th>\n",
              "      <td>4/21/2008 0:00</td>\n",
              "      <td>33.86</td>\n",
              "      <td>168.16</td>\n",
              "      <td>28.07</td>\n",
              "      <td>116.52</td>\n",
              "      <td>59.06</td>\n",
              "      <td>28.17</td>\n",
              "      <td>62.93</td>\n",
              "      <td>1388.17</td>\n",
              "      <td>86.81</td>\n",
              "    </tr>\n",
              "    <tr>\n",
              "      <th>119</th>\n",
              "      <td>4/22/2008 0:00</td>\n",
              "      <td>33.35</td>\n",
              "      <td>160.20</td>\n",
              "      <td>27.96</td>\n",
              "      <td>115.88</td>\n",
              "      <td>59.65</td>\n",
              "      <td>28.01</td>\n",
              "      <td>62.21</td>\n",
              "      <td>1375.94</td>\n",
              "      <td>86.93</td>\n",
              "    </tr>\n",
              "    <tr>\n",
              "      <th>120</th>\n",
              "      <td>4/23/2008 0:00</td>\n",
              "      <td>33.00</td>\n",
              "      <td>162.89</td>\n",
              "      <td>27.98</td>\n",
              "      <td>115.82</td>\n",
              "      <td>59.90</td>\n",
              "      <td>29.12</td>\n",
              "      <td>62.29</td>\n",
              "      <td>1379.93</td>\n",
              "      <td>86.77</td>\n",
              "    </tr>\n",
              "    <tr>\n",
              "      <th>121</th>\n",
              "      <td>4/24/2008 0:00</td>\n",
              "      <td>32.56</td>\n",
              "      <td>168.94</td>\n",
              "      <td>28.37</td>\n",
              "      <td>116.37</td>\n",
              "      <td>59.99</td>\n",
              "      <td>29.45</td>\n",
              "      <td>61.22</td>\n",
              "      <td>1388.82</td>\n",
              "      <td>85.28</td>\n",
              "    </tr>\n",
              "    <tr>\n",
              "      <th>122</th>\n",
              "      <td>4/25/2008 0:00</td>\n",
              "      <td>33.37</td>\n",
              "      <td>169.73</td>\n",
              "      <td>28.82</td>\n",
              "      <td>115.33</td>\n",
              "      <td>59.94</td>\n",
              "      <td>27.62</td>\n",
              "      <td>60.88</td>\n",
              "      <td>1397.84</td>\n",
              "      <td>85.15</td>\n",
              "    </tr>\n",
              "    <tr>\n",
              "      <th>123</th>\n",
              "      <td>4/28/2008 0:00</td>\n",
              "      <td>33.39</td>\n",
              "      <td>172.24</td>\n",
              "      <td>28.68</td>\n",
              "      <td>114.03</td>\n",
              "      <td>59.95</td>\n",
              "      <td>26.84</td>\n",
              "      <td>61.36</td>\n",
              "      <td>1396.37</td>\n",
              "      <td>85.14</td>\n",
              "    </tr>\n",
              "    <tr>\n",
              "      <th>125</th>\n",
              "      <td>4/30/2008 0:00</td>\n",
              "      <td>32.65</td>\n",
              "      <td>173.95</td>\n",
              "      <td>28.28</td>\n",
              "      <td>113.10</td>\n",
              "      <td>59.74</td>\n",
              "      <td>26.41</td>\n",
              "      <td>61.70</td>\n",
              "      <td>1385.59</td>\n",
              "      <td>85.71</td>\n",
              "    </tr>\n",
              "    <tr>\n",
              "      <th>137</th>\n",
              "      <td>5/16/2008 0:00</td>\n",
              "      <td>40.51</td>\n",
              "      <td>187.62</td>\n",
              "      <td>27.78</td>\n",
              "      <td>120.26</td>\n",
              "      <td>59.38</td>\n",
              "      <td>27.87</td>\n",
              "      <td>61.10</td>\n",
              "      <td>1425.35</td>\n",
              "      <td>85.73</td>\n",
              "    </tr>\n",
              "    <tr>\n",
              "      <th>138</th>\n",
              "      <td>5/19/2008 0:00</td>\n",
              "      <td>41.86</td>\n",
              "      <td>183.60</td>\n",
              "      <td>28.02</td>\n",
              "      <td>119.01</td>\n",
              "      <td>59.33</td>\n",
              "      <td>27.38</td>\n",
              "      <td>61.25</td>\n",
              "      <td>1426.63</td>\n",
              "      <td>87.29</td>\n",
              "    </tr>\n",
              "    <tr>\n",
              "      <th>139</th>\n",
              "      <td>5/20/2008 0:00</td>\n",
              "      <td>40.58</td>\n",
              "      <td>185.90</td>\n",
              "      <td>27.43</td>\n",
              "      <td>117.78</td>\n",
              "      <td>58.91</td>\n",
              "      <td>26.73</td>\n",
              "      <td>60.73</td>\n",
              "      <td>1413.40</td>\n",
              "      <td>87.48</td>\n",
              "    </tr>\n",
              "    <tr>\n",
              "      <th>140</th>\n",
              "      <td>5/21/2008 0:00</td>\n",
              "      <td>39.15</td>\n",
              "      <td>178.19</td>\n",
              "      <td>26.80</td>\n",
              "      <td>116.31</td>\n",
              "      <td>58.53</td>\n",
              "      <td>26.25</td>\n",
              "      <td>60.56</td>\n",
              "      <td>1390.71</td>\n",
              "      <td>86.65</td>\n",
              "    </tr>\n",
              "    <tr>\n",
              "      <th>141</th>\n",
              "      <td>5/22/2008 0:00</td>\n",
              "      <td>38.30</td>\n",
              "      <td>177.05</td>\n",
              "      <td>26.81</td>\n",
              "      <td>117.33</td>\n",
              "      <td>58.66</td>\n",
              "      <td>26.46</td>\n",
              "      <td>61.56</td>\n",
              "      <td>1394.35</td>\n",
              "      <td>85.58</td>\n",
              "    </tr>\n",
              "    <tr>\n",
              "      <th>835</th>\n",
              "      <td>2/23/2011 0:00</td>\n",
              "      <td>16.38</td>\n",
              "      <td>342.62</td>\n",
              "      <td>19.87</td>\n",
              "      <td>158.78</td>\n",
              "      <td>58.81</td>\n",
              "      <td>26.25</td>\n",
              "      <td>61.51</td>\n",
              "      <td>1307.40</td>\n",
              "      <td>86.01</td>\n",
              "    </tr>\n",
              "    <tr>\n",
              "      <th>876</th>\n",
              "      <td>4/21/2011 0:00</td>\n",
              "      <td>16.90</td>\n",
              "      <td>350.70</td>\n",
              "      <td>19.60</td>\n",
              "      <td>166.80</td>\n",
              "      <td>62.96</td>\n",
              "      <td>25.19</td>\n",
              "      <td>66.39</td>\n",
              "      <td>1337.38</td>\n",
              "      <td>85.31</td>\n",
              "    </tr>\n",
              "    <tr>\n",
              "      <th>877</th>\n",
              "      <td>4/25/2011 0:00</td>\n",
              "      <td>16.82</td>\n",
              "      <td>353.01</td>\n",
              "      <td>19.54</td>\n",
              "      <td>166.20</td>\n",
              "      <td>63.00</td>\n",
              "      <td>25.28</td>\n",
              "      <td>66.01</td>\n",
              "      <td>1335.25</td>\n",
              "      <td>85.17</td>\n",
              "    </tr>\n",
              "    <tr>\n",
              "      <th>878</th>\n",
              "      <td>4/26/2011 0:00</td>\n",
              "      <td>16.96</td>\n",
              "      <td>350.42</td>\n",
              "      <td>19.75</td>\n",
              "      <td>167.01</td>\n",
              "      <td>63.82</td>\n",
              "      <td>25.86</td>\n",
              "      <td>66.68</td>\n",
              "      <td>1347.24</td>\n",
              "      <td>86.36</td>\n",
              "    </tr>\n",
              "    <tr>\n",
              "      <th>879</th>\n",
              "      <td>4/27/2011 0:00</td>\n",
              "      <td>17.11</td>\n",
              "      <td>350.15</td>\n",
              "      <td>20.29</td>\n",
              "      <td>168.88</td>\n",
              "      <td>64.43</td>\n",
              "      <td>26.04</td>\n",
              "      <td>66.90</td>\n",
              "      <td>1355.66</td>\n",
              "      <td>86.71</td>\n",
              "    </tr>\n",
              "    <tr>\n",
              "      <th>880</th>\n",
              "      <td>4/28/2011 0:00</td>\n",
              "      <td>17.02</td>\n",
              "      <td>346.75</td>\n",
              "      <td>20.24</td>\n",
              "      <td>169.28</td>\n",
              "      <td>64.25</td>\n",
              "      <td>26.37</td>\n",
              "      <td>68.66</td>\n",
              "      <td>1360.48</td>\n",
              "      <td>86.28</td>\n",
              "    </tr>\n",
              "    <tr>\n",
              "      <th>881</th>\n",
              "      <td>4/29/2011 0:00</td>\n",
              "      <td>16.93</td>\n",
              "      <td>350.13</td>\n",
              "      <td>20.09</td>\n",
              "      <td>169.08</td>\n",
              "      <td>64.58</td>\n",
              "      <td>25.59</td>\n",
              "      <td>67.85</td>\n",
              "      <td>1363.61</td>\n",
              "      <td>86.91</td>\n",
              "    </tr>\n",
              "    <tr>\n",
              "      <th>882</th>\n",
              "      <td>5/2/2011 0:00</td>\n",
              "      <td>17.15</td>\n",
              "      <td>346.28</td>\n",
              "      <td>20.12</td>\n",
              "      <td>170.64</td>\n",
              "      <td>65.06</td>\n",
              "      <td>25.33</td>\n",
              "      <td>68.26</td>\n",
              "      <td>1361.22</td>\n",
              "      <td>85.91</td>\n",
              "    </tr>\n",
              "  </tbody>\n",
              "</table>\n",
              "</div>"
            ],
            "text/plain": [
              "           timestamp     AA    AAPL     GE  ...   MSFT    PEP      SPX    XOM\n",
              "31   12/13/2007 0:00  33.76  191.83  31.93  ...  32.49  70.47  1488.41  85.03\n",
              "37   12/21/2007 0:00  33.78  193.91  31.82  ...  33.26  69.27  1484.46  85.68\n",
              "38   12/24/2007 0:00  34.39  198.80  32.16  ...  33.74  69.59  1496.45  85.89\n",
              "39   12/26/2007 0:00  34.76  198.95  32.18  ...  33.77  69.20  1497.66  86.94\n",
              "40   12/27/2007 0:00  34.37  198.57  31.87  ...  33.18  68.68  1476.27  85.90\n",
              "41   12/28/2007 0:00  34.25  199.83  32.00  ...  33.32  68.98  1478.49  87.12\n",
              "42   12/31/2007 0:00  33.97  198.08  31.76  ...  32.84  67.97  1468.36  85.91\n",
              "43     1/2/2008 0:00  33.58  194.84  31.50  ...  32.49  67.42  1447.16  85.75\n",
              "44     1/3/2008 0:00  33.63  194.93  31.53  ...  32.62  67.86  1447.16  86.04\n",
              "115   4/16/2008 0:00  33.60  153.70  27.87  ...  26.81  64.02  1364.71  85.55\n",
              "116   4/17/2008 0:00  33.23  154.49  27.69  ...  27.06  63.71  1365.56  86.00\n",
              "117   4/18/2008 0:00  33.87  161.04  28.27  ...  27.78  63.56  1390.33  86.57\n",
              "118   4/21/2008 0:00  33.86  168.16  28.07  ...  28.17  62.93  1388.17  86.81\n",
              "119   4/22/2008 0:00  33.35  160.20  27.96  ...  28.01  62.21  1375.94  86.93\n",
              "120   4/23/2008 0:00  33.00  162.89  27.98  ...  29.12  62.29  1379.93  86.77\n",
              "121   4/24/2008 0:00  32.56  168.94  28.37  ...  29.45  61.22  1388.82  85.28\n",
              "122   4/25/2008 0:00  33.37  169.73  28.82  ...  27.62  60.88  1397.84  85.15\n",
              "123   4/28/2008 0:00  33.39  172.24  28.68  ...  26.84  61.36  1396.37  85.14\n",
              "125   4/30/2008 0:00  32.65  173.95  28.28  ...  26.41  61.70  1385.59  85.71\n",
              "137   5/16/2008 0:00  40.51  187.62  27.78  ...  27.87  61.10  1425.35  85.73\n",
              "138   5/19/2008 0:00  41.86  183.60  28.02  ...  27.38  61.25  1426.63  87.29\n",
              "139   5/20/2008 0:00  40.58  185.90  27.43  ...  26.73  60.73  1413.40  87.48\n",
              "140   5/21/2008 0:00  39.15  178.19  26.80  ...  26.25  60.56  1390.71  86.65\n",
              "141   5/22/2008 0:00  38.30  177.05  26.81  ...  26.46  61.56  1394.35  85.58\n",
              "835   2/23/2011 0:00  16.38  342.62  19.87  ...  26.25  61.51  1307.40  86.01\n",
              "876   4/21/2011 0:00  16.90  350.70  19.60  ...  25.19  66.39  1337.38  85.31\n",
              "877   4/25/2011 0:00  16.82  353.01  19.54  ...  25.28  66.01  1335.25  85.17\n",
              "878   4/26/2011 0:00  16.96  350.42  19.75  ...  25.86  66.68  1347.24  86.36\n",
              "879   4/27/2011 0:00  17.11  350.15  20.29  ...  26.04  66.90  1355.66  86.71\n",
              "880   4/28/2011 0:00  17.02  346.75  20.24  ...  26.37  68.66  1360.48  86.28\n",
              "881   4/29/2011 0:00  16.93  350.13  20.09  ...  25.59  67.85  1363.61  86.91\n",
              "882    5/2/2011 0:00  17.15  346.28  20.12  ...  25.33  68.26  1361.22  85.91\n",
              "\n",
              "[32 rows x 10 columns]"
            ]
          },
          "metadata": {
            "tags": []
          },
          "execution_count": 203
        }
      ]
    },
    {
      "cell_type": "code",
      "metadata": {
        "id": "ZWP_hhMSt68G",
        "colab_type": "code",
        "colab": {
          "base_uri": "https://localhost:8080/",
          "height": 282
        },
        "outputId": "92d4b18d-70aa-48ec-dddb-254cc567eece"
      },
      "source": [
        "stock['AA'].plot()"
      ],
      "execution_count": 200,
      "outputs": [
        {
          "output_type": "execute_result",
          "data": {
            "text/plain": [
              "<matplotlib.axes._subplots.AxesSubplot at 0x7f1107bf82b0>"
            ]
          },
          "metadata": {
            "tags": []
          },
          "execution_count": 200
        },
        {
          "output_type": "display_data",
          "data": {
            "image/png": "[encoded data removed]",
            "text/plain": [
              "<Figure size 432x288 with 1 Axes>"
            ]
          },
          "metadata": {
            "tags": []
          }
        }
      ]
    },
    {
      "cell_type": "markdown",
      "metadata": {
        "id": "27uI9LKuuOg6",
        "colab_type": "text"
      },
      "source": [
        "The stock price  for AA was high in daytime as closing the stock price decrease."
      ]
    },
    {
      "cell_type": "code",
      "metadata": {
        "id": "uv5SwMvchKml",
        "colab_type": "code",
        "colab": {
          "base_uri": "https://localhost:8080/",
          "height": 394
        },
        "outputId": "981f2f80-0a05-425f-8e5b-2b7deb9f0bf9"
      },
      "source": [
        "adult.head()"
      ],
      "execution_count": 141,
      "outputs": [
        {
          "output_type": "execute_result",
          "data": {
            "text/html": [
              "<div>\n",
              "<style scoped>\n",
              "    .dataframe tbody tr th:only-of-type {\n",
              "        vertical-align: middle;\n",
              "    }\n",
              "\n",
              "    .dataframe tbody tr th {\n",
              "        vertical-align: top;\n",
              "    }\n",
              "\n",
              "    .dataframe thead th {\n",
              "        text-align: right;\n",
              "    }\n",
              "</style>\n",
              "<table border=\"1\" class=\"dataframe\">\n",
              "  <thead>\n",
              "    <tr style=\"text-align: right;\">\n",
              "      <th></th>\n",
              "      <th>age</th>\n",
              "      <th>workclass</th>\n",
              "      <th>fnlwgt</th>\n",
              "      <th>education</th>\n",
              "      <th>education-num</th>\n",
              "      <th>marital-status</th>\n",
              "      <th>occupation</th>\n",
              "      <th>relationship</th>\n",
              "      <th>race</th>\n",
              "      <th>sex</th>\n",
              "      <th>hours-per-week</th>\n",
              "      <th>native-country</th>\n",
              "      <th>salary</th>\n",
              "    </tr>\n",
              "  </thead>\n",
              "  <tbody>\n",
              "    <tr>\n",
              "      <th>0</th>\n",
              "      <td>39</td>\n",
              "      <td>State-gov</td>\n",
              "      <td>77516</td>\n",
              "      <td>Bachelors</td>\n",
              "      <td>13</td>\n",
              "      <td>Never-married</td>\n",
              "      <td>Adm-clerical</td>\n",
              "      <td>Not-in-family</td>\n",
              "      <td>White</td>\n",
              "      <td>Male</td>\n",
              "      <td>40</td>\n",
              "      <td>United-States</td>\n",
              "      <td>&lt;=50K</td>\n",
              "    </tr>\n",
              "    <tr>\n",
              "      <th>1</th>\n",
              "      <td>50</td>\n",
              "      <td>Self-emp-not-inc</td>\n",
              "      <td>83311</td>\n",
              "      <td>Bachelors</td>\n",
              "      <td>13</td>\n",
              "      <td>Married-civ-spouse</td>\n",
              "      <td>Exec-managerial</td>\n",
              "      <td>Husband</td>\n",
              "      <td>White</td>\n",
              "      <td>Male</td>\n",
              "      <td>13</td>\n",
              "      <td>United-States</td>\n",
              "      <td>&lt;=50K</td>\n",
              "    </tr>\n",
              "    <tr>\n",
              "      <th>2</th>\n",
              "      <td>38</td>\n",
              "      <td>Private</td>\n",
              "      <td>215646</td>\n",
              "      <td>HS-grad</td>\n",
              "      <td>9</td>\n",
              "      <td>Divorced</td>\n",
              "      <td>Handlers-cleaners</td>\n",
              "      <td>Not-in-family</td>\n",
              "      <td>White</td>\n",
              "      <td>Male</td>\n",
              "      <td>40</td>\n",
              "      <td>United-States</td>\n",
              "      <td>&lt;=50K</td>\n",
              "    </tr>\n",
              "    <tr>\n",
              "      <th>3</th>\n",
              "      <td>53</td>\n",
              "      <td>Private</td>\n",
              "      <td>234721</td>\n",
              "      <td>11th</td>\n",
              "      <td>7</td>\n",
              "      <td>Married-civ-spouse</td>\n",
              "      <td>Handlers-cleaners</td>\n",
              "      <td>Husband</td>\n",
              "      <td>Black</td>\n",
              "      <td>Male</td>\n",
              "      <td>40</td>\n",
              "      <td>United-States</td>\n",
              "      <td>&lt;=50K</td>\n",
              "    </tr>\n",
              "    <tr>\n",
              "      <th>4</th>\n",
              "      <td>28</td>\n",
              "      <td>Private</td>\n",
              "      <td>338409</td>\n",
              "      <td>Bachelors</td>\n",
              "      <td>13</td>\n",
              "      <td>Married-civ-spouse</td>\n",
              "      <td>Prof-specialty</td>\n",
              "      <td>Wife</td>\n",
              "      <td>Black</td>\n",
              "      <td>Female</td>\n",
              "      <td>40</td>\n",
              "      <td>Cuba</td>\n",
              "      <td>&lt;=50K</td>\n",
              "    </tr>\n",
              "  </tbody>\n",
              "</table>\n",
              "</div>"
            ],
            "text/plain": [
              "   age         workclass  fnlwgt  ... hours-per-week  native-country salary\n",
              "0   39         State-gov   77516  ...             40   United-States  <=50K\n",
              "1   50  Self-emp-not-inc   83311  ...             13   United-States  <=50K\n",
              "2   38           Private  215646  ...             40   United-States  <=50K\n",
              "3   53           Private  234721  ...             40   United-States  <=50K\n",
              "4   28           Private  338409  ...             40            Cuba  <=50K\n",
              "\n",
              "[5 rows x 13 columns]"
            ]
          },
          "metadata": {
            "tags": []
          },
          "execution_count": 141
        }
      ]
    },
    {
      "cell_type": "markdown",
      "metadata": {
        "id": "PL6s2XxOhfeh",
        "colab_type": "text"
      },
      "source": [
        "A. Write a code snippet to find the average age of women from the United States. 2 Marks\n"
      ]
    },
    {
      "cell_type": "code",
      "metadata": {
        "id": "xAaiRKPYhXT0",
        "colab_type": "code",
        "colab": {
          "base_uri": "https://localhost:8080/",
          "height": 34
        },
        "outputId": "89a73765-4839-488f-e2ad-fc8649f51491"
      },
      "source": [
        "adult[(adult['native-country']=='United-States')&(adult['sex']=='Female')]['age'].mean()"
      ],
      "execution_count": 137,
      "outputs": [
        {
          "output_type": "execute_result",
          "data": {
            "text/plain": [
              "36.785714285714285"
            ]
          },
          "metadata": {
            "tags": []
          },
          "execution_count": 137
        }
      ]
    },
    {
      "cell_type": "markdown",
      "metadata": {
        "id": "RqVV_sPehzXv",
        "colab_type": "text"
      },
      "source": [
        "Write a code snippet to find the proportion of US citizens (native-country feature)\n",
        "in the dataset"
      ]
    },
    {
      "cell_type": "code",
      "metadata": {
        "id": "TNR25iJohxe3",
        "colab_type": "code",
        "colab": {
          "base_uri": "https://localhost:8080/",
          "height": 34
        },
        "outputId": "80ba1762-7978-48cd-fd0b-a29895e38d09"
      },
      "source": [
        "list(adult['native-country'].value_counts()/adult['native-country'].shape[0])[0]*100"
      ],
      "execution_count": 140,
      "outputs": [
        {
          "output_type": "execute_result",
          "data": {
            "text/plain": [
              "91.1875870300378"
            ]
          },
          "metadata": {
            "tags": []
          },
          "execution_count": 140
        }
      ]
    },
    {
      "cell_type": "markdown",
      "metadata": {
        "id": "ABtHYg5xiehF",
        "colab_type": "text"
      },
      "source": [
        "Write a code snippet to find which occupation has the maximum number of\n",
        "workers who earn a salary more than 50K?"
      ]
    },
    {
      "cell_type": "code",
      "metadata": {
        "id": "86nHm7FniQX9",
        "colab_type": "code",
        "colab": {
          "base_uri": "https://localhost:8080/",
          "height": 272
        },
        "outputId": "b1d3eb28-60bc-486c-b646-43321a74e6a6"
      },
      "source": [
        "#adult[(adult['occupation']==adult['occupation'].value_counts().index[0])&(adult['salary']=='>50K')]\n",
        "adult[adult['salary']=='>50K']['occupation'].value_counts()"
      ],
      "execution_count": 157,
      "outputs": [
        {
          "output_type": "execute_result",
          "data": {
            "text/plain": [
              "Exec-managerial      1937\n",
              "Prof-specialty       1811\n",
              "Sales-Bussiness       970\n",
              "Craft-repair          908\n",
              "Adm-clerical          498\n",
              "Transport-moving      319\n",
              "Tech-support          278\n",
              "MachineInsp-Op        245\n",
              "Protective-serv       210\n",
              "Other-service         132\n",
              "Farming-fishing       115\n",
              "Handlers-cleaners      83\n",
              "Armed-Forces            1\n",
              "Servernt-Service        1\n",
              "Name: occupation, dtype: int64"
            ]
          },
          "metadata": {
            "tags": []
          },
          "execution_count": 157
        }
      ]
    },
    {
      "cell_type": "markdown",
      "metadata": {
        "id": "77oDVpJklRoi",
        "colab_type": "text"
      },
      "source": [
        ". Is it true that people who receive more than 50K salary have at least a high school\n",
        "education? (education - Bachelors, Prof-school, Assoc-acdm, Assoc-voc, Masters\n",
        "or Doctorate feature).\n",
        "Justify your answer with all facts and figures from the dataset"
      ]
    },
    {
      "cell_type": "code",
      "metadata": {
        "id": "3vuQMpobjZA_",
        "colab_type": "code",
        "colab": {
          "base_uri": "https://localhost:8080/",
          "height": 289
        },
        "outputId": "f869ab82-89c6-4e5d-8b92-b7d9703adb12"
      },
      "source": [
        "adult[adult['salary']=='>50K']['education'].value_counts()"
      ],
      "execution_count": 163,
      "outputs": [
        {
          "output_type": "execute_result",
          "data": {
            "text/plain": [
              "Bachelors       2126\n",
              "HS-grad         1617\n",
              "Some-college    1336\n",
              "Masters          918\n",
              "Prof-school      406\n",
              "Assoc-voc        344\n",
              "Doctorate        280\n",
              "Assoc-acdm       256\n",
              "10th              59\n",
              "11th              59\n",
              "7th-8th           35\n",
              "12th              29\n",
              "9th               25\n",
              "5th-6th           12\n",
              "1st-4th            6\n",
              "Name: education, dtype: int64"
            ]
          },
          "metadata": {
            "tags": []
          },
          "execution_count": 163
        }
      ]
    },
    {
      "cell_type": "code",
      "metadata": {
        "id": "kP-2UiMzlmQj",
        "colab_type": "code",
        "colab": {
          "base_uri": "https://localhost:8080/",
          "height": 340
        },
        "outputId": "d016a07c-14d0-4d4a-f88c-ed62d7be4f29"
      },
      "source": [
        "adult[adult['salary']=='>50K']['education'].value_counts().plot.bar()"
      ],
      "execution_count": 164,
      "outputs": [
        {
          "output_type": "execute_result",
          "data": {
            "text/plain": [
              "<matplotlib.axes._subplots.AxesSubplot at 0x7f1109881f98>"
            ]
          },
          "metadata": {
            "tags": []
          },
          "execution_count": 164
        },
        {
          "output_type": "display_data",
          "data": {
            "image/png": "[encoded data removed]",
            "text/plain": [
              "<Figure size 432x288 with 1 Axes>"
            ]
          },
          "metadata": {
            "tags": []
          }
        }
      ]
    },
    {
      "cell_type": "markdown",
      "metadata": {
        "id": "zS790ELXnGaW",
        "colab_type": "text"
      },
      "source": [
        "Thus we can see from the above diagram that salary woth greater than 50 K is very less if you do not have basic education"
      ]
    },
    {
      "cell_type": "markdown",
      "metadata": {
        "id": "NSwIoJidnUaF",
        "colab_type": "text"
      },
      "source": [
        "Write code to count the average time of work (hours-per-week) for those who\n",
        "earn a little (<50 K ) and a lot (salary) (>=50 K ) for each country (native-country)."
      ]
    },
    {
      "cell_type": "code",
      "metadata": {
        "id": "iVp5YIxOm-R5",
        "colab_type": "code",
        "colab": {
          "base_uri": "https://localhost:8080/",
          "height": 1000
        },
        "outputId": "74d14bf6-224f-4b2f-e223-ba76415b8740"
      },
      "source": [
        "adult[adult['salary']=='>50K'].groupby('native-country').agg({'hours-per-week':'mean'}).reset_index(0)\n",
        "adult[adult['salary']=='<=50K'].groupby('native-country').agg({'hours-per-week':'mean'}).reset_index(0)"
      ],
      "execution_count": 170,
      "outputs": [
        {
          "output_type": "execute_result",
          "data": {
            "text/html": [
              "<div>\n",
              "<style scoped>\n",
              "    .dataframe tbody tr th:only-of-type {\n",
              "        vertical-align: middle;\n",
              "    }\n",
              "\n",
              "    .dataframe tbody tr th {\n",
              "        vertical-align: top;\n",
              "    }\n",
              "\n",
              "    .dataframe thead th {\n",
              "        text-align: right;\n",
              "    }\n",
              "</style>\n",
              "<table border=\"1\" class=\"dataframe\">\n",
              "  <thead>\n",
              "    <tr style=\"text-align: right;\">\n",
              "      <th></th>\n",
              "      <th>native-country</th>\n",
              "      <th>hours-per-week</th>\n",
              "    </tr>\n",
              "  </thead>\n",
              "  <tbody>\n",
              "    <tr>\n",
              "      <th>0</th>\n",
              "      <td>Cambodia</td>\n",
              "      <td>41.545455</td>\n",
              "    </tr>\n",
              "    <tr>\n",
              "      <th>1</th>\n",
              "      <td>Canada</td>\n",
              "      <td>38.704225</td>\n",
              "    </tr>\n",
              "    <tr>\n",
              "      <th>2</th>\n",
              "      <td>China</td>\n",
              "      <td>38.541667</td>\n",
              "    </tr>\n",
              "    <tr>\n",
              "      <th>3</th>\n",
              "      <td>Columbia</td>\n",
              "      <td>39.259259</td>\n",
              "    </tr>\n",
              "    <tr>\n",
              "      <th>4</th>\n",
              "      <td>Cuba</td>\n",
              "      <td>38.716418</td>\n",
              "    </tr>\n",
              "    <tr>\n",
              "      <th>5</th>\n",
              "      <td>Dominican-Republic</td>\n",
              "      <td>42.138462</td>\n",
              "    </tr>\n",
              "    <tr>\n",
              "      <th>6</th>\n",
              "      <td>Ecuador</td>\n",
              "      <td>38.739130</td>\n",
              "    </tr>\n",
              "    <tr>\n",
              "      <th>7</th>\n",
              "      <td>El-Salvador</td>\n",
              "      <td>36.208791</td>\n",
              "    </tr>\n",
              "    <tr>\n",
              "      <th>8</th>\n",
              "      <td>England</td>\n",
              "      <td>41.375000</td>\n",
              "    </tr>\n",
              "    <tr>\n",
              "      <th>9</th>\n",
              "      <td>France</td>\n",
              "      <td>42.866667</td>\n",
              "    </tr>\n",
              "    <tr>\n",
              "      <th>10</th>\n",
              "      <td>Germany</td>\n",
              "      <td>40.071429</td>\n",
              "    </tr>\n",
              "    <tr>\n",
              "      <th>11</th>\n",
              "      <td>Greece</td>\n",
              "      <td>41.809524</td>\n",
              "    </tr>\n",
              "    <tr>\n",
              "      <th>12</th>\n",
              "      <td>Guatemala</td>\n",
              "      <td>39.350000</td>\n",
              "    </tr>\n",
              "    <tr>\n",
              "      <th>13</th>\n",
              "      <td>Haiti</td>\n",
              "      <td>36.578947</td>\n",
              "    </tr>\n",
              "    <tr>\n",
              "      <th>14</th>\n",
              "      <td>Holand-Netherlands</td>\n",
              "      <td>40.000000</td>\n",
              "    </tr>\n",
              "    <tr>\n",
              "      <th>15</th>\n",
              "      <td>Honduras</td>\n",
              "      <td>35.909091</td>\n",
              "    </tr>\n",
              "    <tr>\n",
              "      <th>16</th>\n",
              "      <td>Hong</td>\n",
              "      <td>39.076923</td>\n",
              "    </tr>\n",
              "    <tr>\n",
              "      <th>17</th>\n",
              "      <td>Hungary</td>\n",
              "      <td>31.300000</td>\n",
              "    </tr>\n",
              "    <tr>\n",
              "      <th>18</th>\n",
              "      <td>India</td>\n",
              "      <td>38.233333</td>\n",
              "    </tr>\n",
              "    <tr>\n",
              "      <th>19</th>\n",
              "      <td>Iran</td>\n",
              "      <td>41.500000</td>\n",
              "    </tr>\n",
              "    <tr>\n",
              "      <th>20</th>\n",
              "      <td>Ireland</td>\n",
              "      <td>40.947368</td>\n",
              "    </tr>\n",
              "    <tr>\n",
              "      <th>21</th>\n",
              "      <td>Italy</td>\n",
              "      <td>40.363636</td>\n",
              "    </tr>\n",
              "    <tr>\n",
              "      <th>22</th>\n",
              "      <td>Jamaica</td>\n",
              "      <td>38.214286</td>\n",
              "    </tr>\n",
              "    <tr>\n",
              "      <th>23</th>\n",
              "      <td>Japan</td>\n",
              "      <td>41.333333</td>\n",
              "    </tr>\n",
              "    <tr>\n",
              "      <th>24</th>\n",
              "      <td>Laos</td>\n",
              "      <td>40.400000</td>\n",
              "    </tr>\n",
              "    <tr>\n",
              "      <th>25</th>\n",
              "      <td>Mexico</td>\n",
              "      <td>40.237435</td>\n",
              "    </tr>\n",
              "    <tr>\n",
              "      <th>26</th>\n",
              "      <td>Nicaragua</td>\n",
              "      <td>35.967742</td>\n",
              "    </tr>\n",
              "    <tr>\n",
              "      <th>27</th>\n",
              "      <td>Outlying-US(Guam-USVI-etc)</td>\n",
              "      <td>41.857143</td>\n",
              "    </tr>\n",
              "    <tr>\n",
              "      <th>28</th>\n",
              "      <td>Peru</td>\n",
              "      <td>35.607143</td>\n",
              "    </tr>\n",
              "    <tr>\n",
              "      <th>29</th>\n",
              "      <td>Philippines</td>\n",
              "      <td>37.968750</td>\n",
              "    </tr>\n",
              "    <tr>\n",
              "      <th>30</th>\n",
              "      <td>Poland</td>\n",
              "      <td>39.355556</td>\n",
              "    </tr>\n",
              "    <tr>\n",
              "      <th>31</th>\n",
              "      <td>Portugal</td>\n",
              "      <td>42.133333</td>\n",
              "    </tr>\n",
              "    <tr>\n",
              "      <th>32</th>\n",
              "      <td>Puerto-Rico</td>\n",
              "      <td>38.432990</td>\n",
              "    </tr>\n",
              "    <tr>\n",
              "      <th>33</th>\n",
              "      <td>Scotland</td>\n",
              "      <td>39.444444</td>\n",
              "    </tr>\n",
              "    <tr>\n",
              "      <th>34</th>\n",
              "      <td>South</td>\n",
              "      <td>42.877193</td>\n",
              "    </tr>\n",
              "    <tr>\n",
              "      <th>35</th>\n",
              "      <td>Taiwan</td>\n",
              "      <td>35.608696</td>\n",
              "    </tr>\n",
              "    <tr>\n",
              "      <th>36</th>\n",
              "      <td>Thailand</td>\n",
              "      <td>45.071429</td>\n",
              "    </tr>\n",
              "    <tr>\n",
              "      <th>37</th>\n",
              "      <td>Trinadad&amp;Tobago</td>\n",
              "      <td>36.875000</td>\n",
              "    </tr>\n",
              "    <tr>\n",
              "      <th>38</th>\n",
              "      <td>United-States</td>\n",
              "      <td>39.340826</td>\n",
              "    </tr>\n",
              "    <tr>\n",
              "      <th>39</th>\n",
              "      <td>Vietnam</td>\n",
              "      <td>38.152542</td>\n",
              "    </tr>\n",
              "    <tr>\n",
              "      <th>40</th>\n",
              "      <td>Yugoslavia</td>\n",
              "      <td>41.600000</td>\n",
              "    </tr>\n",
              "  </tbody>\n",
              "</table>\n",
              "</div>"
            ],
            "text/plain": [
              "                native-country  hours-per-week\n",
              "0                     Cambodia       41.545455\n",
              "1                       Canada       38.704225\n",
              "2                        China       38.541667\n",
              "3                     Columbia       39.259259\n",
              "4                         Cuba       38.716418\n",
              "5           Dominican-Republic       42.138462\n",
              "6                      Ecuador       38.739130\n",
              "7                  El-Salvador       36.208791\n",
              "8                      England       41.375000\n",
              "9                       France       42.866667\n",
              "10                     Germany       40.071429\n",
              "11                      Greece       41.809524\n",
              "12                   Guatemala       39.350000\n",
              "13                       Haiti       36.578947\n",
              "14          Holand-Netherlands       40.000000\n",
              "15                    Honduras       35.909091\n",
              "16                        Hong       39.076923\n",
              "17                     Hungary       31.300000\n",
              "18                       India       38.233333\n",
              "19                        Iran       41.500000\n",
              "20                     Ireland       40.947368\n",
              "21                       Italy       40.363636\n",
              "22                     Jamaica       38.214286\n",
              "23                       Japan       41.333333\n",
              "24                        Laos       40.400000\n",
              "25                      Mexico       40.237435\n",
              "26                   Nicaragua       35.967742\n",
              "27  Outlying-US(Guam-USVI-etc)       41.857143\n",
              "28                        Peru       35.607143\n",
              "29                 Philippines       37.968750\n",
              "30                      Poland       39.355556\n",
              "31                    Portugal       42.133333\n",
              "32                 Puerto-Rico       38.432990\n",
              "33                    Scotland       39.444444\n",
              "34                       South       42.877193\n",
              "35                      Taiwan       35.608696\n",
              "36                    Thailand       45.071429\n",
              "37             Trinadad&Tobago       36.875000\n",
              "38               United-States       39.340826\n",
              "39                     Vietnam       38.152542\n",
              "40                  Yugoslavia       41.600000"
            ]
          },
          "metadata": {
            "tags": []
          },
          "execution_count": 170
        }
      ]
    },
    {
      "cell_type": "markdown",
      "metadata": {
        "id": "5-BWcPe8ovrX",
        "colab_type": "text"
      },
      "source": [
        "Among whom the proportion of those who earn a lot(>50K) is more: among\n",
        "married or single men (marital-status feature)? Consider married as those who\n",
        "have a marital-status starting with Married (Married-civ-spouse, Married-spouseabsent or Married-AF-spouse), the rest are considered bachelors. Find out the\n",
        "proportion"
      ]
    },
    {
      "cell_type": "code",
      "metadata": {
        "id": "QxL1NIQgqKZd",
        "colab_type": "code",
        "colab": {
          "base_uri": "https://localhost:8080/",
          "height": 153
        },
        "outputId": "e60aacd0-973b-4114-cbe0-cd4af1a4aa0e"
      },
      "source": [
        "adult[adult['salary']=='>50K']['marital-status'].value_counts()"
      ],
      "execution_count": 180,
      "outputs": [
        {
          "output_type": "execute_result",
          "data": {
            "text/plain": [
              "Married-civ-spouse       6399\n",
              "Never-married             470\n",
              "Divorced                  452\n",
              "Widowed                    80\n",
              "Separated                  66\n",
              "Married-spouse-absent      31\n",
              "Married-AF-spouse          10\n",
              "Name: marital-status, dtype: int64"
            ]
          },
          "metadata": {
            "tags": []
          },
          "execution_count": 180
        }
      ]
    },
    {
      "cell_type": "code",
      "metadata": {
        "id": "iWfajfhPn2J8",
        "colab_type": "code",
        "colab": {
          "base_uri": "https://localhost:8080/",
          "height": 51
        },
        "outputId": "0074be39-69f9-4625-91b4-3b08b893dc9e"
      },
      "source": [
        "married = list(adult[adult['salary']=='>50K']['marital-status'].value_counts())[0]+list(adult[adult['salary']=='>50K']['marital-status'].value_counts())[5]+list(adult[adult['salary']=='>50K']['marital-status'].value_counts())[6]\n",
        "print(f'Married:{(married/adult.shape[0])*100}')\n",
        "print(f'Bachelors:{100-(married/adult.shape[0])*100}')\n"
      ],
      "execution_count": 179,
      "outputs": [
        {
          "output_type": "stream",
          "text": [
            "Married:21.351369272594656\n",
            "Bachelors:78.64863072740535\n"
          ],
          "name": "stdout"
        }
      ]
    },
    {
      "cell_type": "markdown",
      "metadata": {
        "id": "qW8nPWYkqFnV",
        "colab_type": "text"
      },
      "source": [
        "Write a code block to find, what is the maximum number of hours a person works\n",
        "per week (hours-per-week feature)? How many number of people work for the\n",
        "above mentioned number of hours? What is the percentage of those who earn\n",
        "more than >50 K among them?"
      ]
    },
    {
      "cell_type": "code",
      "metadata": {
        "id": "kwpbblCfpG4u",
        "colab_type": "code",
        "colab": {
          "base_uri": "https://localhost:8080/",
          "height": 34
        },
        "outputId": "44474b18-fbd4-4298-b3b8-f448c06d4b39"
      },
      "source": [
        "adult['hours-per-week'].max()"
      ],
      "execution_count": 181,
      "outputs": [
        {
          "output_type": "execute_result",
          "data": {
            "text/plain": [
              "99"
            ]
          },
          "metadata": {
            "tags": []
          },
          "execution_count": 181
        }
      ]
    },
    {
      "cell_type": "code",
      "metadata": {
        "id": "xWXtxodhqeOG",
        "colab_type": "code",
        "colab": {
          "base_uri": "https://localhost:8080/",
          "height": 34
        },
        "outputId": "cdd4f2d3-7640-482b-b198-e82b108c530d"
      },
      "source": [
        "adult[adult['hours-per-week']==adult['hours-per-week'].max()].shape[0]"
      ],
      "execution_count": 183,
      "outputs": [
        {
          "output_type": "execute_result",
          "data": {
            "text/plain": [
              "78"
            ]
          },
          "metadata": {
            "tags": []
          },
          "execution_count": 183
        }
      ]
    },
    {
      "cell_type": "code",
      "metadata": {
        "id": "-QGVeRxxq05x",
        "colab_type": "code",
        "colab": {
          "base_uri": "https://localhost:8080/",
          "height": 34
        },
        "outputId": "a8c77d01-54f6-4c10-fd9a-2f3c6886e896"
      },
      "source": [
        "(adult[(adult['hours-per-week']==adult['hours-per-week'].max())&(adult['salary']=='>50K')].shape[0]/adult[adult['hours-per-week']==adult['hours-per-week'].max()].shape[0])*100"
      ],
      "execution_count": 187,
      "outputs": [
        {
          "output_type": "execute_result",
          "data": {
            "text/plain": [
              "32.05128205128205"
            ]
          },
          "metadata": {
            "tags": []
          },
          "execution_count": 187
        }
      ]
    },
    {
      "cell_type": "markdown",
      "metadata": {
        "id": "ckBVifq_rZxm",
        "colab_type": "text"
      },
      "source": [
        "Observe the column occupation, every entry has two parts: profession-specialty.\n",
        "Make two separate columns namely profession and specialty out of this column.\n",
        "Drop the column occupation from the dataset."
      ]
    },
    {
      "cell_type": "code",
      "metadata": {
        "id": "azwx7xjDrLxm",
        "colab_type": "code",
        "colab": {}
      },
      "source": [
        "adult['profession'] =  adult['occupation'].apply(lambda x: str(x).split('-')[0])\n",
        "adult['speciality'] =  adult['occupation'].apply(lambda x: str(x).split('-')[1])"
      ],
      "execution_count": 0,
      "outputs": []
    },
    {
      "cell_type": "code",
      "metadata": {
        "id": "5ymu3hutrhe7",
        "colab_type": "code",
        "colab": {}
      },
      "source": [
        "adult.drop('occupation',inplace=True,axis=1)"
      ],
      "execution_count": 0,
      "outputs": []
    },
    {
      "cell_type": "markdown",
      "metadata": {
        "id": "wmspFTkIsQBp",
        "colab_type": "text"
      },
      "source": [
        "Find out the percentage of males and females in every profession using the\n",
        "‘profession’ column created in the above question"
      ]
    },
    {
      "cell_type": "code",
      "metadata": {
        "id": "lOIo4eHvsERU",
        "colab_type": "code",
        "colab": {
          "base_uri": "https://localhost:8080/",
          "height": 917
        },
        "outputId": "75fd4dc0-937b-435c-f2b0-d6b906d9eb80"
      },
      "source": [
        "adult.groupby(['profession','sex']).agg({'sex':'count'})/adult.groupby(['profession','sex']).agg({'sex':'count'}).shape[0]"
      ],
      "execution_count": 199,
      "outputs": [
        {
          "output_type": "execute_result",
          "data": {
            "text/html": [
              "<div>\n",
              "<style scoped>\n",
              "    .dataframe tbody tr th:only-of-type {\n",
              "        vertical-align: middle;\n",
              "    }\n",
              "\n",
              "    .dataframe tbody tr th {\n",
              "        vertical-align: top;\n",
              "    }\n",
              "\n",
              "    .dataframe thead th {\n",
              "        text-align: right;\n",
              "    }\n",
              "</style>\n",
              "<table border=\"1\" class=\"dataframe\">\n",
              "  <thead>\n",
              "    <tr style=\"text-align: right;\">\n",
              "      <th></th>\n",
              "      <th></th>\n",
              "      <th>sex</th>\n",
              "    </tr>\n",
              "    <tr>\n",
              "      <th>profession</th>\n",
              "      <th>sex</th>\n",
              "      <th></th>\n",
              "    </tr>\n",
              "  </thead>\n",
              "  <tbody>\n",
              "    <tr>\n",
              "      <th rowspan=\"2\" valign=\"top\">Adm</th>\n",
              "      <th>Female</th>\n",
              "      <td>93.037037</td>\n",
              "    </tr>\n",
              "    <tr>\n",
              "      <th>Male</th>\n",
              "      <td>44.777778</td>\n",
              "    </tr>\n",
              "    <tr>\n",
              "      <th>Armed</th>\n",
              "      <th>Male</th>\n",
              "      <td>0.333333</td>\n",
              "    </tr>\n",
              "    <tr>\n",
              "      <th rowspan=\"2\" valign=\"top\">Craft</th>\n",
              "      <th>Female</th>\n",
              "      <td>8.000000</td>\n",
              "    </tr>\n",
              "    <tr>\n",
              "      <th>Male</th>\n",
              "      <td>141.259259</td>\n",
              "    </tr>\n",
              "    <tr>\n",
              "      <th rowspan=\"2\" valign=\"top\">Exec</th>\n",
              "      <th>Female</th>\n",
              "      <td>42.333333</td>\n",
              "    </tr>\n",
              "    <tr>\n",
              "      <th>Male</th>\n",
              "      <td>105.518519</td>\n",
              "    </tr>\n",
              "    <tr>\n",
              "      <th rowspan=\"2\" valign=\"top\">Farming</th>\n",
              "      <th>Female</th>\n",
              "      <td>2.407407</td>\n",
              "    </tr>\n",
              "    <tr>\n",
              "      <th>Male</th>\n",
              "      <td>34.222222</td>\n",
              "    </tr>\n",
              "    <tr>\n",
              "      <th rowspan=\"2\" valign=\"top\">Handlers</th>\n",
              "      <th>Female</th>\n",
              "      <td>6.074074</td>\n",
              "    </tr>\n",
              "    <tr>\n",
              "      <th>Male</th>\n",
              "      <td>43.925926</td>\n",
              "    </tr>\n",
              "    <tr>\n",
              "      <th rowspan=\"2\" valign=\"top\">MachineInsp</th>\n",
              "      <th>Female</th>\n",
              "      <td>20.111111</td>\n",
              "    </tr>\n",
              "    <tr>\n",
              "      <th>Male</th>\n",
              "      <td>52.703704</td>\n",
              "    </tr>\n",
              "    <tr>\n",
              "      <th rowspan=\"2\" valign=\"top\">Other</th>\n",
              "      <th>Female</th>\n",
              "      <td>65.111111</td>\n",
              "    </tr>\n",
              "    <tr>\n",
              "      <th>Male</th>\n",
              "      <td>53.851852</td>\n",
              "    </tr>\n",
              "    <tr>\n",
              "      <th rowspan=\"2\" valign=\"top\">Prof</th>\n",
              "      <th>Female</th>\n",
              "      <td>55.222222</td>\n",
              "    </tr>\n",
              "    <tr>\n",
              "      <th>Male</th>\n",
              "      <td>94.333333</td>\n",
              "    </tr>\n",
              "    <tr>\n",
              "      <th rowspan=\"2\" valign=\"top\">Protective</th>\n",
              "      <th>Female</th>\n",
              "      <td>2.814815</td>\n",
              "    </tr>\n",
              "    <tr>\n",
              "      <th>Male</th>\n",
              "      <td>21.037037</td>\n",
              "    </tr>\n",
              "    <tr>\n",
              "      <th rowspan=\"2\" valign=\"top\">Sales</th>\n",
              "      <th>Female</th>\n",
              "      <td>46.222222</td>\n",
              "    </tr>\n",
              "    <tr>\n",
              "      <th>Male</th>\n",
              "      <td>86.518519</td>\n",
              "    </tr>\n",
              "    <tr>\n",
              "      <th rowspan=\"2\" valign=\"top\">Servernt</th>\n",
              "      <th>Female</th>\n",
              "      <td>5.000000</td>\n",
              "    </tr>\n",
              "    <tr>\n",
              "      <th>Male</th>\n",
              "      <td>0.296296</td>\n",
              "    </tr>\n",
              "    <tr>\n",
              "      <th rowspan=\"2\" valign=\"top\">Tech</th>\n",
              "      <th>Female</th>\n",
              "      <td>12.629630</td>\n",
              "    </tr>\n",
              "    <tr>\n",
              "      <th>Male</th>\n",
              "      <td>21.148148</td>\n",
              "    </tr>\n",
              "    <tr>\n",
              "      <th rowspan=\"2\" valign=\"top\">Transport</th>\n",
              "      <th>Female</th>\n",
              "      <td>3.333333</td>\n",
              "    </tr>\n",
              "    <tr>\n",
              "      <th>Male</th>\n",
              "      <td>54.888889</td>\n",
              "    </tr>\n",
              "  </tbody>\n",
              "</table>\n",
              "</div>"
            ],
            "text/plain": [
              "                           sex\n",
              "profession  sex               \n",
              "Adm         Female   93.037037\n",
              "            Male     44.777778\n",
              "Armed       Male      0.333333\n",
              "Craft       Female    8.000000\n",
              "            Male    141.259259\n",
              "Exec        Female   42.333333\n",
              "            Male    105.518519\n",
              "Farming     Female    2.407407\n",
              "            Male     34.222222\n",
              "Handlers    Female    6.074074\n",
              "            Male     43.925926\n",
              "MachineInsp Female   20.111111\n",
              "            Male     52.703704\n",
              "Other       Female   65.111111\n",
              "            Male     53.851852\n",
              "Prof        Female   55.222222\n",
              "            Male     94.333333\n",
              "Protective  Female    2.814815\n",
              "            Male     21.037037\n",
              "Sales       Female   46.222222\n",
              "            Male     86.518519\n",
              "Servernt    Female    5.000000\n",
              "            Male      0.296296\n",
              "Tech        Female   12.629630\n",
              "            Male     21.148148\n",
              "Transport   Female    3.333333\n",
              "            Male     54.888889"
            ]
          },
          "metadata": {
            "tags": []
          },
          "execution_count": 199
        }
      ]
    },
    {
      "cell_type": "code",
      "metadata": {
        "id": "NGFKXu0Osmw5",
        "colab_type": "code",
        "colab": {}
      },
      "source": [
        ""
      ],
      "execution_count": 0,
      "outputs": []
    }
  ]
}