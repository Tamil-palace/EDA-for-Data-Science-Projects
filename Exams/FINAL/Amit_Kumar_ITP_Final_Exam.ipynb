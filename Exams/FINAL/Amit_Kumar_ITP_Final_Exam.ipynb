{
  "nbformat": 4,
  "nbformat_minor": 0,
  "metadata": {
    "colab": {
      "name": "Amit_Kumar_ITP_Final_Exam.ipynb",
      "provenance": [],
      "collapsed_sections": []
    },
    "kernelspec": {
      "name": "python3",
      "display_name": "Python 3"
    }
  },
  "cells": [
    {
      "cell_type": "markdown",
      "metadata": {
        "id": "fGAvJFiNNat0",
        "colab_type": "text"
      },
      "source": [
        "Q1. Design an air traffic control unit. The runway should be either free or busy, Each plane should\n",
        "request for landing if the plane is given permission for landing the runway should be changed to busy\n",
        "and no plane should be given access to that runway. (5 marks)\n",
        "1. Make a list of free runways\n",
        "free_run_ways = [3,4,5]\n",
        "2. Make a list of busy runways.\n",
        "busy_run_ways = [1,2]\n",
        "3. when pilot requests for landing give him runway from free runway and\n",
        "remove it from free and add to busy.\n",
        "The runway has given: 4\n",
        "free_run_ways = [3,5]\n",
        "busy_run_ways = [1,2,4]\n",
        "4. If the busy runway is given raise warning.\n",
        "WARNING run way busy\n",
        "5. On landing remove runway from busy and add to free\n",
        "Landed: YES"
      ]
    },
    {
      "cell_type": "code",
      "metadata": {
        "id": "WZocx7CUJGb5",
        "colab_type": "code",
        "colab": {
          "base_uri": "https://localhost:8080/",
          "height": 102
        },
        "outputId": "49abde84-8ff2-4e8b-af67-42af783f70ae"
      },
      "source": [
        "def air_control_unit():\n",
        "  dict_landed ={}\n",
        "  try:\n",
        "    free_run_ways = list((input('Enter list of free runways')))\n",
        "    busy_run_ways =  list((input('Enter list of free runways')))\n",
        "    run_ways = free_run_ways+busy_run_ways\n",
        "    request = str(input('Please Enter the runway request'))\n",
        "    if request in busy_run_ways:\n",
        "      print('WARNING run way busy')\n",
        "    elif request in free_run_ways:\n",
        "      free_run_ways.remove(request)\n",
        "      busy_run_ways.append(request)\n",
        "      dict_landed[request] ='YES'\n",
        "      print(f'Request has been applied and updated free runways:{free_run_ways} & updated busy runways:{busy_run_ways}')\n",
        "    else:\n",
        "      assert request in run_ways ,'No Runway present with this ID'\n",
        "    \n",
        "    busy_run_ways.remove(request)\n",
        "    free_run_ways.append(request)\n",
        "    print(dict_landed)\n",
        "  except AssertionError as e:\n",
        "    print (e)\n",
        "\n",
        "air_control_unit()\n"
      ],
      "execution_count": 116,
      "outputs": [
        {
          "output_type": "stream",
          "text": [
            "Enter list of free runways123\n",
            "Enter list of free runways56\n",
            "Please Enter the runway request2\n",
            "Request has been applied and updated free runways:['1', '3'] & updated busy runways:['5', '6', '2']\n",
            "{'2': 'YES'}\n"
          ],
          "name": "stdout"
        }
      ]
    },
    {
      "cell_type": "markdown",
      "metadata": {
        "id": "fcTezdpZNbS9",
        "colab_type": "text"
      },
      "source": [
        ". Create a dictionary with a single alphabet as the key and an integer as the corresponding value.\n",
        "Write a program to find out the highest 3 values in the dictionary. You are free to choose any number of\n",
        "key and value pairs. Innovative code gets more marks as an advantage (5 marks)"
      ]
    },
    {
      "cell_type": "code",
      "metadata": {
        "id": "5y-L19JtJ9e5",
        "colab_type": "code",
        "colab": {
          "base_uri": "https://localhost:8080/",
          "height": 204
        },
        "outputId": "dc35da28-4959-428b-de92-9072ec81a28f"
      },
      "source": [
        "def highest_dict():\n",
        "  length_of_dict =  int(input('Enter the length of dictionary you want to create'))\n",
        "  created_dict = {}\n",
        "  for i in range(length_of_dict):\n",
        "    ele = int(input(f'Enter value of the {i} element:'))\n",
        "    created_dict[chr(65+i)] = ele\n",
        "  print(created_dict)\n",
        "  sorted_keys = sorted(created_dict.values())\n",
        "  a= sorted_keys[::-1]\n",
        "  for i in a[0:3]:\n",
        "    print(list(created_dict.keys())[list(created_dict.values()).index(i)],i)\n",
        "    \n",
        "  \n",
        "\n",
        "highest_dict()#{'A': 67, 'B': 23, 'C': 45, 'D': 56, 'E': 12, 'F': 69}"
      ],
      "execution_count": 22,
      "outputs": [
        {
          "output_type": "stream",
          "text": [
            "Enter the length of dictionary you want to create6\n",
            "Enter value of the 0 element:67\n",
            "Enter value of the 1 element:23\n",
            "Enter value of the 2 element:45\n",
            "Enter value of the 3 element:56\n",
            "Enter value of the 4 element:12\n",
            "Enter value of the 5 element:69\n",
            "{'A': 67, 'B': 23, 'C': 45, 'D': 56, 'E': 12, 'F': 69}\n",
            "F 69\n",
            "A 67\n",
            "D 56\n"
          ],
          "name": "stdout"
        }
      ]
    },
    {
      "cell_type": "markdown",
      "metadata": {
        "id": "g5Joy33GPFJO",
        "colab_type": "text"
      },
      "source": [
        "Write a program using list comprehension to print the Fibonacci Sequence in the comma-separated form\n",
        "with a given n input by user input."
      ]
    },
    {
      "cell_type": "code",
      "metadata": {
        "id": "vcRute0MOEhW",
        "colab_type": "code",
        "colab": {
          "base_uri": "https://localhost:8080/",
          "height": 51
        },
        "outputId": "4a0908ec-2897-4a38-844a-51a3688cd222"
      },
      "source": [
        "def fibonacci():\n",
        "  n =  int(input('Enter the Number'))\n",
        "  fib_seq =[0,1]\n",
        "  if n>1:\n",
        "     [fib_seq.append(fib_seq[i-1]+fib_seq[i-2]) for i in range(2,n-1) ]\n",
        "\n",
        "\n",
        "  print(', '.join(map(str,fib_seq)))\n",
        "   \n",
        "fibonacci()"
      ],
      "execution_count": 114,
      "outputs": [
        {
          "output_type": "stream",
          "text": [
            "Enter the Number5\n",
            "0, 1, 1, 2\n"
          ],
          "name": "stdout"
        }
      ]
    },
    {
      "cell_type": "markdown",
      "metadata": {
        "id": "EOYDw083XPNX",
        "colab_type": "text"
      },
      "source": [
        "Q4. In a Flipkart sale, all the people who took the phone and also ordered phone cover, other people\n",
        "who took shoes also ordered socks and based on the people's choice recommend them the item they are\n",
        "most likely to order? (5 marks)\n",
        "1. This is a list of products and recommendations. items = [('mobile','cover'),('shoe','socks')]\n",
        "2. Take input from the customer\n",
        "3. Search for the product in items list and return the recommended product. if the input is mobile\n",
        "suggest mobile cover, if the input is shoe suggest socks\n",
        "4. Take input from user YES or NO, if he is interested. Do you want to buy cover: YES\n",
        "5. Return items in the shopping list like -\n",
        "If the mobile is bought, then it should also suggest cover."
      ]
    },
    {
      "cell_type": "code",
      "metadata": {
        "id": "3iCLcSMpWvXh",
        "colab_type": "code",
        "colab": {
          "base_uri": "https://localhost:8080/",
          "height": 85
        },
        "outputId": "26a76981-2baa-498a-d1de-797279bac474"
      },
      "source": [
        "def flipkart_recommend():\n",
        "  items = [('mobile','cover'),('shoe','socks')]\n",
        "  prod  =  str(input('Enter the Product you want to buy(Mobile/Shoe):'))\n",
        "  shoppin_list =[]\n",
        "  for i in range(len(items)):\n",
        "    if prod.lower() in items[i]:\n",
        "      print (f'{prod} is available and suggested product is {items[i][1]}')\n",
        "      choice = input(f'Do you want to buy the {items[i][1]}(YES/NO) ?')\n",
        "      if choice.lower()=='yes':\n",
        "        shoppin_list.append(f'If the {prod} is bought, then it should also suggest {items[i][1]}.')\n",
        "        print(shoppin_list[0])\n",
        "\n",
        "\n",
        "flipkart_recommend()"
      ],
      "execution_count": 119,
      "outputs": [
        {
          "output_type": "stream",
          "text": [
            "Enter the Product you want to buy(Mobile/Shoe):Mobile\n",
            "Mobile is available and suggested product is cover\n",
            "Do you want to buy the cover(YES/NO) ?yes\n",
            "If the Mobile is bought, then it should also suggest cover.\n"
          ],
          "name": "stdout"
        }
      ]
    },
    {
      "cell_type": "markdown",
      "metadata": {
        "id": "Z5ES8bZvc2MC",
        "colab_type": "text"
      },
      "source": [
        "Q5. There is a wood log cutting factory. We are calculating the revenue and the no. of pieces that the\n",
        "wood is cut into. We are given a wood log of length n cms and a table of prices p[i] for i = 1, 2, …, n. Here\n",
        "p[i] is the price of a wood log of length ’i’ cms. We have to find the optimal way of cutting the wood log to\n",
        "make the furniture so that maximum revenue can be generated by selling the pieces of wood. (10 Marks)"
      ]
    },
    {
      "cell_type": "code",
      "metadata": {
        "id": "RsSsX4NvZUSa",
        "colab_type": "code",
        "colab": {
          "base_uri": "https://localhost:8080/",
          "height": 136
        },
        "outputId": "085c760e-34ff-4583-eef3-bbc7b039148d"
      },
      "source": [
        "\n",
        "def optimum_log_cut():\n",
        "  price = []\n",
        "  n = int(input('Enter the length of the log in centimeters:'))\n",
        "  i = 0\n",
        "  while i < n:\n",
        "    amount = int(input(f'Enter the price of cutting wood log in {i+1} partition: '))\n",
        "    price.append(amount)\n",
        "    i = i+1\n",
        "  a = max(price)\n",
        "  b = min(price)\n",
        "  revenue = a+b\n",
        "  ind1 = price.index(a)\n",
        "  ind2 = price.index(b)\n",
        "  max_x = ind1+1\n",
        "  min_n = ind2+1\n",
        "  print ('The maximum revenue that can be obtained : ',revenue)\n",
        "  print ('The rod needs to be cut into length(s) of ',min_n,max_x)\n",
        "\n",
        "optimum_log_cut()"
      ],
      "execution_count": 95,
      "outputs": [
        {
          "output_type": "stream",
          "text": [
            "Enter the length of the log in centimeters:4\n",
            "Enter the price of wood log 1: 2\n",
            "Enter the price of wood log 2: 5\n",
            "Enter the price of wood log 3: 6\n",
            "Enter the price of wood log 4: 10\n",
            "The maximum revenue that can be obtained :  12\n",
            "The rod needs to be cut into length(s) of  1 4\n"
          ],
          "name": "stdout"
        }
      ]
    },
    {
      "cell_type": "markdown",
      "metadata": {
        "id": "yIldeqUGdTrS",
        "colab_type": "text"
      },
      "source": [
        "Q6. An Ecommerce portal has a list of items available with them in each category (inventory) in the form of\n",
        "the list within the Dictionary. (10 marks)\n",
        "1. For example Inventory= {'Men': ['Shirt','Suit','Trouser','Jeans'], 'Women':\n",
        "['Saree','Dress_suit','Handbag','Jewellery'],'Home_appliances':\n",
        "['TV','Refrigerator'],'Kids':['Toys','Bags','Books']}\n",
        "2. Write a program which will take the name of an item, the user wants to buy and search it in the inventory.\n",
        "3. if it’s found in the inventory then print a message like 'item is available'. otherwise ask the user 'Would you\n",
        "like to continue buying: yes or no'. If the user gives 'yes ' then repeat searching in the inventory otherwise\n",
        "program should stop the execution"
      ]
    },
    {
      "cell_type": "code",
      "metadata": {
        "id": "aRT2-zcNZUKV",
        "colab_type": "code",
        "colab": {
          "base_uri": "https://localhost:8080/",
          "height": 85
        },
        "outputId": "901f9e8b-4e09-4a44-9bac-033400bab379"
      },
      "source": [
        "def ecommerce_search():\n",
        "  inventory  = {'Men': ['Shirt','Suit','Trouser','Jeans'], 'Women': ['Saree','Dress_suit','Handbag','Jewellery'],'Home_appliances': ['TV','Refrigerator'],'Kids':['Toys','Bags','Books']}\n",
        "  elements =[]\n",
        "  for category in  list(inventory.values()):\n",
        "    for stock in category:\n",
        "      elements.append(stock.lower())\n",
        "  choice=' '\n",
        "  while(choice.lower() !='no'):\n",
        "    prod =  str(input('Enter the product you want to buy: '))\n",
        "    if prod.lower().strip() in elements:\n",
        "          print('Item is available')\n",
        "          choice='no'\n",
        "    else:\n",
        "      choice = str(input('Item is unavailable. Do you want to Continue Shopping ? '))\n",
        "  \n",
        "ecommerce_search()"
      ],
      "execution_count": 93,
      "outputs": [
        {
          "output_type": "stream",
          "text": [
            "Enter the product you want to buy: kurta\n",
            "Item is unavailable. Do you want to Continue Shopping?yes\n",
            "Enter the product you want to buy: handbag\n",
            "Item is available\n"
          ],
          "name": "stdout"
        }
      ]
    },
    {
      "cell_type": "markdown",
      "metadata": {
        "id": "A4QKgQJwopwY",
        "colab_type": "text"
      },
      "source": [
        "In a pathology lab test, there is n number of samples for testing the health condition of a patient,\n",
        "each slide has 5 components, Sugar level, Blood pressure, Heartbeat rate, weight, fat percentage, based\n",
        "on input as provided by the patient's blood report. (15 marks)\n",
        "1. Create a sample input for a healthy patient and also take random samples from a patient like\n",
        "\"Sugar level\":15, \"Blood pressure\":32, \"Heartbeat rate\":71, \"weight\":65, \"fat percentage\":10.\n",
        "2. Compare inputs with healthy patient data. If the patient data is not matching with the healthy\n",
        "patient’s data, provide a warning.\n",
        "3. Provide difference in readings to the patient."
      ]
    },
    {
      "cell_type": "code",
      "metadata": {
        "id": "TobqxNDImYbj",
        "colab_type": "code",
        "colab": {
          "base_uri": "https://localhost:8080/",
          "height": 241
        },
        "outputId": "3dd45f0f-c46d-458b-a727-113287ac6c6d"
      },
      "source": [
        "def lab_report():\n",
        "  # sample input for a healthy patient\n",
        "  sample_healthy = { \"sugar_level\":15, \"blood_pressure\":32, \"heart_rate\":71, \"weight\":65, \"fat_percentage\":10.}\n",
        "  print(f'Healthy Sample: {sample_healthy}')\n",
        "  \n",
        "  # Take input from user for patient sample\n",
        "  patient_sample = {}\n",
        "  for i in list(sample_healthy.keys()):\n",
        "    ele = float(input(f'Enter {i} for the patient: '))\n",
        "    patient_sample[i] = ele\n",
        " \n",
        "  # Initialising difference with 0\n",
        "  difference=0\n",
        "  difference_dict={}\n",
        "  for i in list(sample_healthy.keys()):\n",
        "    difference = patient_sample[i]-sample_healthy[i]\n",
        "    difference_dict[i] = difference\n",
        "  print('Reading Difference of Patient with Healthy Sample:',difference_dict)\n",
        "\n",
        "  #Validation with HEalthy sample for the patient Readings\n",
        "\n",
        "  for i in (list(sample_healthy.keys())):\n",
        "    difference = patient_sample[i]-sample_healthy[i]\n",
        "    if difference >0:\n",
        "      print(f'WARNING!! {i.upper()} for the patient is not matching.It is GREATER by {difference} from Healthy sample')\n",
        "    elif difference<0:\n",
        "      print(f'WARNING!! {i.upper()} for the patient is not matching.It is LOWER by {abs(difference)} from Healthy sample')\n",
        "    else:\n",
        "      print(f'{i.upper()} is  MATCHING with Healthy sample')\n",
        "\n",
        "  \n",
        "lab_report()\n",
        "\n",
        "\n",
        "\n"
      ],
      "execution_count": 113,
      "outputs": [
        {
          "output_type": "stream",
          "text": [
            "Healthy Sample: {'sugar_level': 15, 'blood_pressure': 32, 'heart_rate': 71, 'weight': 65, 'fat_percentage': 10.0}\n",
            "Enter sugar_level for the patient: 54\n",
            "Enter blood_pressure for the patient: 23\n",
            "Enter heart_rate for the patient: 76\n",
            "Enter weight for the patient: 23\n",
            "Enter fat_percentage for the patient: 9\n",
            "Reading Difference of Patient with Healthy Sample: {'sugar_level': 39.0, 'blood_pressure': -9.0, 'heart_rate': 5.0, 'weight': -42.0, 'fat_percentage': -1.0}\n",
            "WARNING!! SUGAR_LEVEL for the patient is not matching.It is GREATER by 39.0 from Healthy sample\n",
            "WARNING!! BLOOD_PRESSURE for the patient is not matching.It is LOWER by 9.0 from Healthy sample\n",
            "WARNING!! HEART_RATE for the patient is not matching.It is GREATER by 5.0 from Healthy sample\n",
            "WARNING!! WEIGHT for the patient is not matching.It is LOWER by 42.0 from Healthy sample\n",
            "WARNING!! FAT_PERCENTAGE for the patient is not matching.It is LOWER by 1.0 from Healthy sample\n"
          ],
          "name": "stdout"
        }
      ]
    },
    {
      "cell_type": "markdown",
      "metadata": {
        "id": "7qKBcLbNt87Q",
        "colab_type": "text"
      },
      "source": [
        " Create a scientific calculator using python. The calculator should give a menu to the user asking the\n",
        "type of mathematical operation to be performed (1. Arithmetic 2. Trigonometric 3. Logarithmic).\n",
        "According to the choice of the user, operations are performed on the numbers entered. Any innovation\n",
        "in this basic calculator model will be given more marks"
      ]
    },
    {
      "cell_type": "code",
      "metadata": {
        "id": "skp4oZQeqEMz",
        "colab_type": "code",
        "colab": {
          "base_uri": "https://localhost:8080/",
          "height": 153
        },
        "outputId": "390a254f-789b-4bf4-f26e-5124519b5413"
      },
      "source": [
        "import math\n",
        "def scientific_calculator():\n",
        "  option={1:'Arithmetic',2:'Trignometric',3:'Logarithmic'}\n",
        "  for k,v in option.items():\n",
        "      print(k,':',v)\n",
        "  choice=int(input(\"Which type of mathematical operation to be performed?\"))\n",
        "  if choice==1:\n",
        "      print('1.Addition 2. Subtraction 3. Multiplication 4. Division')\n",
        "      op = input('Enter the operation you want to perfrom').lower()\n",
        "    \n",
        "    \n",
        "      if op == \"1\":\n",
        "          firstNumber = float(input('what is the first number would you like to add?'))\n",
        "          secondNumber = float(input('what is the second number would you like to add?'))\n",
        "          print (\"The Addition of the first number with the second numbers is\", firstNumber + secondNumber )\n",
        "      elif op == \"2\":\n",
        "          firstNumber = float(input('what is the first number would you like to subtract?'))\n",
        "          secondNumber = float(input('what is the second number would you like to subtract?'))\n",
        "        \n",
        "          print ('The Subtraction of the first number with the second numbers is', firstNumber - secondNumber )\n",
        "      elif op == \"3\":\n",
        "          firstNumber = float(input('what is the first number would you like to multiply?'))\n",
        "          secondNumber = float(input('what is the second number would you like to multiply?'))\n",
        "        \n",
        "          print ('The Multiplication of the first number with the second numbers is', firstNumber * secondNumber )\n",
        "      elif op == \"4\":\n",
        "          firstNumber = float(input('what is the first number would you like to divide?'))\n",
        "          secondNumber = float(input('what is the second number would you like to divide?'))\n",
        "          print ('The Division of the first number with the second numbers is', firstNumber / secondNumber )\n",
        "    \n",
        "  elif choice==2:\n",
        "      print(\"Enter sin cos or tan\")\n",
        "      op = input('enter the Trigonometry operator you want (sin/cos/tan)').lower()\n",
        "      secondNumber = float(input('enter the Degree?value'))\n",
        "      if op == \"sin\":\n",
        "          print (\"sin(\", secondNumber, \")=\", math.sin(secondNumber ))\n",
        "      elif op == \"cos\":\n",
        "          print (\"cos(\", secondNumber, \")=\", math.cos(secondNumber ))\n",
        "      elif op == \"tan\":\n",
        "          print (\"tan(\", secondNumber, \")=\", math.tan(secondNumber ))\n",
        "  elif choice==3:\n",
        "      op = input('enter the sign').lower()\n",
        "      num = float(input('enter the second no.'))\n",
        "      if op == \"log\":\n",
        "          print(\"log(\", num , \")= \", math.log(num))\n",
        "  else:\n",
        "      print(\"Incorrect operator\")\n",
        "\n",
        "scientific_calculator()\n"
      ],
      "execution_count": 105,
      "outputs": [
        {
          "output_type": "stream",
          "text": [
            "1 : Arithmetic\n",
            "2 : Trignometric\n",
            "3 : Logarithmic\n",
            "Which type of mathematical operation to be performed?2\n",
            "Enter sin cos or tan\n",
            "enter the Trignomerntry operator you want (sin/cos/tan)tan\n",
            "enter the Degree?value45\n",
            "tan( 45.0 )= 1.6197751905438615\n"
          ],
          "name": "stdout"
        }
      ]
    },
    {
      "cell_type": "code",
      "metadata": {
        "id": "jgtkFG3VusYV",
        "colab_type": "code",
        "colab": {}
      },
      "source": [
        "2\n"
      ],
      "execution_count": 0,
      "outputs": []
    }
  ]
}