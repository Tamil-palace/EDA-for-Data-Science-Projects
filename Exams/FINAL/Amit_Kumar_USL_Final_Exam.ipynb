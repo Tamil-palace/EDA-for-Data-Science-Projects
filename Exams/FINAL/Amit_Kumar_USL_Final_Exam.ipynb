{
  "nbformat": 4,
  "nbformat_minor": 0,
  "metadata": {
    "colab": {
      "name": "Amit_Kumar_USL_Final_Exam",
      "provenance": [],
      "collapsed_sections": []
    },
    "kernelspec": {
      "name": "python3",
      "display_name": "Python 3"
    }
  },
  "cells": [
    {
      "cell_type": "code",
      "metadata": {
        "id": "nzIHZJvXdccs",
        "colab_type": "code",
        "colab": {
          "resources": {
            "http://localhost:8080/nbextensions/google.colab/files.js": {
              "data": "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",
              "ok": true,
              "headers": [
                [
                  "content-type",
                  "application/javascript"
                ]
              ],
              "status": 200,
              "status_text": ""
            }
          },
          "base_uri": "https://localhost:8080/",
          "height": 278
        },
        "outputId": "72059b10-51ab-4a45-a4cd-3959ed4a740f"
      },
      "source": [
        "import pandas as pd\n",
        "import numpy as np\n",
        "import io\n",
        "from google.colab import files\n",
        "uploaded =  files.upload()\n",
        "df = pd.read_csv(io.BytesIO(uploaded['indicator_estimated_prevalence_150.csv']))\n",
        "df.head()"
      ],
      "execution_count": 4,
      "outputs": [
        {
          "output_type": "display_data",
          "data": {
            "text/html": [
              "\n",
              "     <input type=\"file\" id=\"files-3afca959-81f4-4b77-abdf-2a2030656d92\" name=\"files[]\" multiple disabled />\n",
              "     <output id=\"result-3afca959-81f4-4b77-abdf-2a2030656d92\">\n",
              "      Upload widget is only available when the cell has been executed in the\n",
              "      current browser session. Please rerun this cell to enable.\n",
              "      </output>\n",
              "      <script src=\"/nbextensions/google.colab/files.js\"></script> "
            ],
            "text/plain": [
              "<IPython.core.display.HTML object>"
            ]
          },
          "metadata": {
            "tags": []
          }
        },
        {
          "output_type": "stream",
          "text": [
            "Saving indicator_estimated_prevalence_150.csv to indicator_estimated_prevalence_150 (1).csv\n"
          ],
          "name": "stdout"
        },
        {
          "output_type": "execute_result",
          "data": {
            "text/html": [
              "<div>\n",
              "<style scoped>\n",
              "    .dataframe tbody tr th:only-of-type {\n",
              "        vertical-align: middle;\n",
              "    }\n",
              "\n",
              "    .dataframe tbody tr th {\n",
              "        vertical-align: top;\n",
              "    }\n",
              "\n",
              "    .dataframe thead th {\n",
              "        text-align: right;\n",
              "    }\n",
              "</style>\n",
              "<table border=\"1\" class=\"dataframe\">\n",
              "  <thead>\n",
              "    <tr style=\"text-align: right;\">\n",
              "      <th></th>\n",
              "      <th>TB prevalence, all forms (per 100 000 population per year)</th>\n",
              "      <th>1990</th>\n",
              "      <th>1991</th>\n",
              "      <th>1992</th>\n",
              "      <th>1993</th>\n",
              "      <th>1994</th>\n",
              "      <th>1995</th>\n",
              "      <th>1996</th>\n",
              "      <th>1997</th>\n",
              "      <th>1998</th>\n",
              "      <th>1999</th>\n",
              "      <th>2000</th>\n",
              "      <th>2001</th>\n",
              "      <th>2002</th>\n",
              "      <th>2003</th>\n",
              "      <th>2004</th>\n",
              "      <th>2005</th>\n",
              "      <th>2006</th>\n",
              "      <th>2007</th>\n",
              "      <th>class</th>\n",
              "    </tr>\n",
              "  </thead>\n",
              "  <tbody>\n",
              "    <tr>\n",
              "      <th>0</th>\n",
              "      <td>Slovakia</td>\n",
              "      <td>55</td>\n",
              "      <td>56</td>\n",
              "      <td>59</td>\n",
              "      <td>59</td>\n",
              "      <td>56</td>\n",
              "      <td>51</td>\n",
              "      <td>46</td>\n",
              "      <td>42</td>\n",
              "      <td>38</td>\n",
              "      <td>35</td>\n",
              "      <td>32</td>\n",
              "      <td>30</td>\n",
              "      <td>29</td>\n",
              "      <td>26</td>\n",
              "      <td>25</td>\n",
              "      <td>21</td>\n",
              "      <td>20</td>\n",
              "      <td>20</td>\n",
              "      <td>1</td>\n",
              "    </tr>\n",
              "    <tr>\n",
              "      <th>1</th>\n",
              "      <td>Burkina Faso</td>\n",
              "      <td>179</td>\n",
              "      <td>196</td>\n",
              "      <td>208</td>\n",
              "      <td>221</td>\n",
              "      <td>233</td>\n",
              "      <td>246</td>\n",
              "      <td>251</td>\n",
              "      <td>271</td>\n",
              "      <td>286</td>\n",
              "      <td>308</td>\n",
              "      <td>338</td>\n",
              "      <td>368</td>\n",
              "      <td>398</td>\n",
              "      <td>419</td>\n",
              "      <td>426</td>\n",
              "      <td>421</td>\n",
              "      <td>411</td>\n",
              "      <td>403</td>\n",
              "      <td>2</td>\n",
              "    </tr>\n",
              "    <tr>\n",
              "      <th>2</th>\n",
              "      <td>Kyrgyzstan</td>\n",
              "      <td>90</td>\n",
              "      <td>93</td>\n",
              "      <td>93</td>\n",
              "      <td>93</td>\n",
              "      <td>101</td>\n",
              "      <td>118</td>\n",
              "      <td>141</td>\n",
              "      <td>165</td>\n",
              "      <td>147</td>\n",
              "      <td>146</td>\n",
              "      <td>156</td>\n",
              "      <td>169</td>\n",
              "      <td>153</td>\n",
              "      <td>145</td>\n",
              "      <td>139</td>\n",
              "      <td>136</td>\n",
              "      <td>135</td>\n",
              "      <td>134</td>\n",
              "      <td>1</td>\n",
              "    </tr>\n",
              "    <tr>\n",
              "      <th>3</th>\n",
              "      <td>Oman</td>\n",
              "      <td>40</td>\n",
              "      <td>36</td>\n",
              "      <td>29</td>\n",
              "      <td>25</td>\n",
              "      <td>22</td>\n",
              "      <td>22</td>\n",
              "      <td>15</td>\n",
              "      <td>15</td>\n",
              "      <td>14</td>\n",
              "      <td>14</td>\n",
              "      <td>13</td>\n",
              "      <td>14</td>\n",
              "      <td>13</td>\n",
              "      <td>13</td>\n",
              "      <td>12</td>\n",
              "      <td>13</td>\n",
              "      <td>13</td>\n",
              "      <td>14</td>\n",
              "      <td>1</td>\n",
              "    </tr>\n",
              "    <tr>\n",
              "      <th>4</th>\n",
              "      <td>Sweden</td>\n",
              "      <td>5</td>\n",
              "      <td>5</td>\n",
              "      <td>6</td>\n",
              "      <td>6</td>\n",
              "      <td>5</td>\n",
              "      <td>5</td>\n",
              "      <td>5</td>\n",
              "      <td>4</td>\n",
              "      <td>4</td>\n",
              "      <td>4</td>\n",
              "      <td>4</td>\n",
              "      <td>4</td>\n",
              "      <td>4</td>\n",
              "      <td>4</td>\n",
              "      <td>4</td>\n",
              "      <td>4</td>\n",
              "      <td>4</td>\n",
              "      <td>5</td>\n",
              "      <td>1</td>\n",
              "    </tr>\n",
              "  </tbody>\n",
              "</table>\n",
              "</div>"
            ],
            "text/plain": [
              "  TB prevalence, all forms (per 100 000 population per year) 1990  ... 2007 class\n",
              "0                                           Slovakia           55  ...   20     1\n",
              "1                                       Burkina Faso          179  ...  403     2\n",
              "2                                         Kyrgyzstan           90  ...  134     1\n",
              "3                                               Oman           40  ...   14     1\n",
              "4                                             Sweden            5  ...    5     1\n",
              "\n",
              "[5 rows x 20 columns]"
            ]
          },
          "metadata": {
            "tags": []
          },
          "execution_count": 4
        }
      ]
    },
    {
      "cell_type": "code",
      "metadata": {
        "id": "iPbkTbCJkf6E",
        "colab_type": "code",
        "colab": {}
      },
      "source": [
        "import seaborn as sns\n",
        "import matplotlib.pyplot as plt\n"
      ],
      "execution_count": 0,
      "outputs": []
    },
    {
      "cell_type": "code",
      "metadata": {
        "id": "GNVdzEKieipu",
        "colab_type": "code",
        "colab": {
          "base_uri": "https://localhost:8080/",
          "height": 221
        },
        "outputId": "7ece91b6-df36-4668-93fc-36fdfddf22b3"
      },
      "source": [
        "df.head()"
      ],
      "execution_count": 5,
      "outputs": [
        {
          "output_type": "execute_result",
          "data": {
            "text/html": [
              "<div>\n",
              "<style scoped>\n",
              "    .dataframe tbody tr th:only-of-type {\n",
              "        vertical-align: middle;\n",
              "    }\n",
              "\n",
              "    .dataframe tbody tr th {\n",
              "        vertical-align: top;\n",
              "    }\n",
              "\n",
              "    .dataframe thead th {\n",
              "        text-align: right;\n",
              "    }\n",
              "</style>\n",
              "<table border=\"1\" class=\"dataframe\">\n",
              "  <thead>\n",
              "    <tr style=\"text-align: right;\">\n",
              "      <th></th>\n",
              "      <th>TB prevalence, all forms (per 100 000 population per year)</th>\n",
              "      <th>1990</th>\n",
              "      <th>1991</th>\n",
              "      <th>1992</th>\n",
              "      <th>1993</th>\n",
              "      <th>1994</th>\n",
              "      <th>1995</th>\n",
              "      <th>1996</th>\n",
              "      <th>1997</th>\n",
              "      <th>1998</th>\n",
              "      <th>1999</th>\n",
              "      <th>2000</th>\n",
              "      <th>2001</th>\n",
              "      <th>2002</th>\n",
              "      <th>2003</th>\n",
              "      <th>2004</th>\n",
              "      <th>2005</th>\n",
              "      <th>2006</th>\n",
              "      <th>2007</th>\n",
              "      <th>class</th>\n",
              "    </tr>\n",
              "  </thead>\n",
              "  <tbody>\n",
              "    <tr>\n",
              "      <th>0</th>\n",
              "      <td>Slovakia</td>\n",
              "      <td>55</td>\n",
              "      <td>56</td>\n",
              "      <td>59</td>\n",
              "      <td>59</td>\n",
              "      <td>56</td>\n",
              "      <td>51</td>\n",
              "      <td>46</td>\n",
              "      <td>42</td>\n",
              "      <td>38</td>\n",
              "      <td>35</td>\n",
              "      <td>32</td>\n",
              "      <td>30</td>\n",
              "      <td>29</td>\n",
              "      <td>26</td>\n",
              "      <td>25</td>\n",
              "      <td>21</td>\n",
              "      <td>20</td>\n",
              "      <td>20</td>\n",
              "      <td>1</td>\n",
              "    </tr>\n",
              "    <tr>\n",
              "      <th>1</th>\n",
              "      <td>Burkina Faso</td>\n",
              "      <td>179</td>\n",
              "      <td>196</td>\n",
              "      <td>208</td>\n",
              "      <td>221</td>\n",
              "      <td>233</td>\n",
              "      <td>246</td>\n",
              "      <td>251</td>\n",
              "      <td>271</td>\n",
              "      <td>286</td>\n",
              "      <td>308</td>\n",
              "      <td>338</td>\n",
              "      <td>368</td>\n",
              "      <td>398</td>\n",
              "      <td>419</td>\n",
              "      <td>426</td>\n",
              "      <td>421</td>\n",
              "      <td>411</td>\n",
              "      <td>403</td>\n",
              "      <td>2</td>\n",
              "    </tr>\n",
              "    <tr>\n",
              "      <th>2</th>\n",
              "      <td>Kyrgyzstan</td>\n",
              "      <td>90</td>\n",
              "      <td>93</td>\n",
              "      <td>93</td>\n",
              "      <td>93</td>\n",
              "      <td>101</td>\n",
              "      <td>118</td>\n",
              "      <td>141</td>\n",
              "      <td>165</td>\n",
              "      <td>147</td>\n",
              "      <td>146</td>\n",
              "      <td>156</td>\n",
              "      <td>169</td>\n",
              "      <td>153</td>\n",
              "      <td>145</td>\n",
              "      <td>139</td>\n",
              "      <td>136</td>\n",
              "      <td>135</td>\n",
              "      <td>134</td>\n",
              "      <td>1</td>\n",
              "    </tr>\n",
              "    <tr>\n",
              "      <th>3</th>\n",
              "      <td>Oman</td>\n",
              "      <td>40</td>\n",
              "      <td>36</td>\n",
              "      <td>29</td>\n",
              "      <td>25</td>\n",
              "      <td>22</td>\n",
              "      <td>22</td>\n",
              "      <td>15</td>\n",
              "      <td>15</td>\n",
              "      <td>14</td>\n",
              "      <td>14</td>\n",
              "      <td>13</td>\n",
              "      <td>14</td>\n",
              "      <td>13</td>\n",
              "      <td>13</td>\n",
              "      <td>12</td>\n",
              "      <td>13</td>\n",
              "      <td>13</td>\n",
              "      <td>14</td>\n",
              "      <td>1</td>\n",
              "    </tr>\n",
              "    <tr>\n",
              "      <th>4</th>\n",
              "      <td>Sweden</td>\n",
              "      <td>5</td>\n",
              "      <td>5</td>\n",
              "      <td>6</td>\n",
              "      <td>6</td>\n",
              "      <td>5</td>\n",
              "      <td>5</td>\n",
              "      <td>5</td>\n",
              "      <td>4</td>\n",
              "      <td>4</td>\n",
              "      <td>4</td>\n",
              "      <td>4</td>\n",
              "      <td>4</td>\n",
              "      <td>4</td>\n",
              "      <td>4</td>\n",
              "      <td>4</td>\n",
              "      <td>4</td>\n",
              "      <td>4</td>\n",
              "      <td>5</td>\n",
              "      <td>1</td>\n",
              "    </tr>\n",
              "  </tbody>\n",
              "</table>\n",
              "</div>"
            ],
            "text/plain": [
              "  TB prevalence, all forms (per 100 000 population per year) 1990  ... 2007 class\n",
              "0                                           Slovakia           55  ...   20     1\n",
              "1                                       Burkina Faso          179  ...  403     2\n",
              "2                                         Kyrgyzstan           90  ...  134     1\n",
              "3                                               Oman           40  ...   14     1\n",
              "4                                             Sweden            5  ...    5     1\n",
              "\n",
              "[5 rows x 20 columns]"
            ]
          },
          "metadata": {
            "tags": []
          },
          "execution_count": 5
        }
      ]
    },
    {
      "cell_type": "markdown",
      "metadata": {
        "id": "bmo97Jj3fo47",
        "colab_type": "text"
      },
      "source": [
        "#1. Data Understanding (5 marks)\n"
      ]
    },
    {
      "cell_type": "markdown",
      "metadata": {
        "id": "XqL9a1kYfrTU",
        "colab_type": "text"
      },
      "source": [
        "a. Read the dataset (tab, csv, xls, txt, inbuilt dataset). What are the number of rows and no. of cols\n",
        "& types of variables (continuous, categorical etc.)? (1 MARK)\n",
        "b. Calculate five-point summary for numerical variables (1 MARK)\n",
        "c. Summarize observations for categorical variables – no. of categories, % observations in each\n",
        "category. (1 MARK)\n",
        "d. Generate the covariance and correlation tables for the data (1 MARK)\n",
        "e. Create Visualization plots to find the relationship amongst the variables. (1 MARK)"
      ]
    },
    {
      "cell_type": "code",
      "metadata": {
        "id": "JyZfsaUJfKfn",
        "colab_type": "code",
        "colab": {
          "base_uri": "https://localhost:8080/",
          "height": 34
        },
        "outputId": "6de3b018-9bea-4e61-a4af-0dc3ecfe543c"
      },
      "source": [
        "df.shape"
      ],
      "execution_count": 6,
      "outputs": [
        {
          "output_type": "execute_result",
          "data": {
            "text/plain": [
              "(150, 20)"
            ]
          },
          "metadata": {
            "tags": []
          },
          "execution_count": 6
        }
      ]
    },
    {
      "cell_type": "code",
      "metadata": {
        "id": "IEhclcUjf27z",
        "colab_type": "code",
        "colab": {
          "base_uri": "https://localhost:8080/",
          "height": 102
        },
        "outputId": "5b20d6e1-ef76-444a-a53a-38c18927a828"
      },
      "source": [
        "df.columns"
      ],
      "execution_count": 7,
      "outputs": [
        {
          "output_type": "execute_result",
          "data": {
            "text/plain": [
              "Index(['TB prevalence, all forms (per 100 000 population per year)', '1990',\n",
              "       '1991', '1992', '1993', '1994', '1995', '1996', '1997', '1998', '1999',\n",
              "       '2000', '2001', '2002', '2003', '2004', '2005', '2006', '2007',\n",
              "       'class'],\n",
              "      dtype='object')"
            ]
          },
          "metadata": {
            "tags": []
          },
          "execution_count": 7
        }
      ]
    },
    {
      "cell_type": "code",
      "metadata": {
        "id": "1PcYoGplf5B4",
        "colab_type": "code",
        "colab": {
          "base_uri": "https://localhost:8080/",
          "height": 442
        },
        "outputId": "23597e7b-b5ea-41ee-f99c-98489b590fa6"
      },
      "source": [
        "df.info()"
      ],
      "execution_count": 8,
      "outputs": [
        {
          "output_type": "stream",
          "text": [
            "<class 'pandas.core.frame.DataFrame'>\n",
            "RangeIndex: 150 entries, 0 to 149\n",
            "Data columns (total 20 columns):\n",
            "TB prevalence, all forms (per 100 000 population per year)    150 non-null object\n",
            "1990                                                          150 non-null object\n",
            "1991                                                          150 non-null object\n",
            "1992                                                          150 non-null object\n",
            "1993                                                          150 non-null object\n",
            "1994                                                          150 non-null object\n",
            "1995                                                          150 non-null object\n",
            "1996                                                          150 non-null int64\n",
            "1997                                                          150 non-null int64\n",
            "1998                                                          150 non-null int64\n",
            "1999                                                          150 non-null int64\n",
            "2000                                                          150 non-null int64\n",
            "2001                                                          150 non-null int64\n",
            "2002                                                          150 non-null int64\n",
            "2003                                                          150 non-null int64\n",
            "2004                                                          150 non-null object\n",
            "2005                                                          150 non-null object\n",
            "2006                                                          150 non-null object\n",
            "2007                                                          150 non-null object\n",
            "class                                                         150 non-null int64\n",
            "dtypes: int64(9), object(11)\n",
            "memory usage: 23.6+ KB\n"
          ],
          "name": "stdout"
        }
      ]
    },
    {
      "cell_type": "code",
      "metadata": {
        "id": "oMzVQ_xSf9eR",
        "colab_type": "code",
        "colab": {
          "base_uri": "https://localhost:8080/",
          "height": 204
        },
        "outputId": "ff9d515b-6591-4fa6-f31b-c6dccfd20412"
      },
      "source": [
        "df = df.rename(columns={'TB prevalence, all forms (per 100 000 population per year)':'TB'})\n",
        "df.head()"
      ],
      "execution_count": 11,
      "outputs": [
        {
          "output_type": "execute_result",
          "data": {
            "text/html": [
              "<div>\n",
              "<style scoped>\n",
              "    .dataframe tbody tr th:only-of-type {\n",
              "        vertical-align: middle;\n",
              "    }\n",
              "\n",
              "    .dataframe tbody tr th {\n",
              "        vertical-align: top;\n",
              "    }\n",
              "\n",
              "    .dataframe thead th {\n",
              "        text-align: right;\n",
              "    }\n",
              "</style>\n",
              "<table border=\"1\" class=\"dataframe\">\n",
              "  <thead>\n",
              "    <tr style=\"text-align: right;\">\n",
              "      <th></th>\n",
              "      <th>TB</th>\n",
              "      <th>1990</th>\n",
              "      <th>1991</th>\n",
              "      <th>1992</th>\n",
              "      <th>1993</th>\n",
              "      <th>1994</th>\n",
              "      <th>1995</th>\n",
              "      <th>1996</th>\n",
              "      <th>1997</th>\n",
              "      <th>1998</th>\n",
              "      <th>1999</th>\n",
              "      <th>2000</th>\n",
              "      <th>2001</th>\n",
              "      <th>2002</th>\n",
              "      <th>2003</th>\n",
              "      <th>2004</th>\n",
              "      <th>2005</th>\n",
              "      <th>2006</th>\n",
              "      <th>2007</th>\n",
              "      <th>class</th>\n",
              "    </tr>\n",
              "  </thead>\n",
              "  <tbody>\n",
              "    <tr>\n",
              "      <th>0</th>\n",
              "      <td>Slovakia</td>\n",
              "      <td>55</td>\n",
              "      <td>56</td>\n",
              "      <td>59</td>\n",
              "      <td>59</td>\n",
              "      <td>56</td>\n",
              "      <td>51</td>\n",
              "      <td>46</td>\n",
              "      <td>42</td>\n",
              "      <td>38</td>\n",
              "      <td>35</td>\n",
              "      <td>32</td>\n",
              "      <td>30</td>\n",
              "      <td>29</td>\n",
              "      <td>26</td>\n",
              "      <td>25</td>\n",
              "      <td>21</td>\n",
              "      <td>20</td>\n",
              "      <td>20</td>\n",
              "      <td>1</td>\n",
              "    </tr>\n",
              "    <tr>\n",
              "      <th>1</th>\n",
              "      <td>Burkina Faso</td>\n",
              "      <td>179</td>\n",
              "      <td>196</td>\n",
              "      <td>208</td>\n",
              "      <td>221</td>\n",
              "      <td>233</td>\n",
              "      <td>246</td>\n",
              "      <td>251</td>\n",
              "      <td>271</td>\n",
              "      <td>286</td>\n",
              "      <td>308</td>\n",
              "      <td>338</td>\n",
              "      <td>368</td>\n",
              "      <td>398</td>\n",
              "      <td>419</td>\n",
              "      <td>426</td>\n",
              "      <td>421</td>\n",
              "      <td>411</td>\n",
              "      <td>403</td>\n",
              "      <td>2</td>\n",
              "    </tr>\n",
              "    <tr>\n",
              "      <th>2</th>\n",
              "      <td>Kyrgyzstan</td>\n",
              "      <td>90</td>\n",
              "      <td>93</td>\n",
              "      <td>93</td>\n",
              "      <td>93</td>\n",
              "      <td>101</td>\n",
              "      <td>118</td>\n",
              "      <td>141</td>\n",
              "      <td>165</td>\n",
              "      <td>147</td>\n",
              "      <td>146</td>\n",
              "      <td>156</td>\n",
              "      <td>169</td>\n",
              "      <td>153</td>\n",
              "      <td>145</td>\n",
              "      <td>139</td>\n",
              "      <td>136</td>\n",
              "      <td>135</td>\n",
              "      <td>134</td>\n",
              "      <td>1</td>\n",
              "    </tr>\n",
              "    <tr>\n",
              "      <th>3</th>\n",
              "      <td>Oman</td>\n",
              "      <td>40</td>\n",
              "      <td>36</td>\n",
              "      <td>29</td>\n",
              "      <td>25</td>\n",
              "      <td>22</td>\n",
              "      <td>22</td>\n",
              "      <td>15</td>\n",
              "      <td>15</td>\n",
              "      <td>14</td>\n",
              "      <td>14</td>\n",
              "      <td>13</td>\n",
              "      <td>14</td>\n",
              "      <td>13</td>\n",
              "      <td>13</td>\n",
              "      <td>12</td>\n",
              "      <td>13</td>\n",
              "      <td>13</td>\n",
              "      <td>14</td>\n",
              "      <td>1</td>\n",
              "    </tr>\n",
              "    <tr>\n",
              "      <th>4</th>\n",
              "      <td>Sweden</td>\n",
              "      <td>5</td>\n",
              "      <td>5</td>\n",
              "      <td>6</td>\n",
              "      <td>6</td>\n",
              "      <td>5</td>\n",
              "      <td>5</td>\n",
              "      <td>5</td>\n",
              "      <td>4</td>\n",
              "      <td>4</td>\n",
              "      <td>4</td>\n",
              "      <td>4</td>\n",
              "      <td>4</td>\n",
              "      <td>4</td>\n",
              "      <td>4</td>\n",
              "      <td>4</td>\n",
              "      <td>4</td>\n",
              "      <td>4</td>\n",
              "      <td>5</td>\n",
              "      <td>1</td>\n",
              "    </tr>\n",
              "  </tbody>\n",
              "</table>\n",
              "</div>"
            ],
            "text/plain": [
              "             TB 1990 1991 1992 1993 1994  ... 2003  2004  2005  2006  2007  class\n",
              "0      Slovakia   55   56   59   59   56  ...   26    25    21    20    20      1\n",
              "1  Burkina Faso  179  196  208  221  233  ...  419   426   421   411   403      2\n",
              "2    Kyrgyzstan   90   93   93   93  101  ...  145   139   136   135   134      1\n",
              "3          Oman   40   36   29   25   22  ...   13    12    13    13    14      1\n",
              "4        Sweden    5    5    6    6    5  ...    4     4     4     4     5      1\n",
              "\n",
              "[5 rows x 20 columns]"
            ]
          },
          "metadata": {
            "tags": []
          },
          "execution_count": 11
        }
      ]
    },
    {
      "cell_type": "code",
      "metadata": {
        "id": "Dd8r9Idnghpe",
        "colab_type": "code",
        "colab": {
          "base_uri": "https://localhost:8080/",
          "height": 221
        },
        "outputId": "4460f61e-1253-4258-ccf2-1fb475beec59"
      },
      "source": [
        "# Presence of Categorical Variable is not there as We can see that data is consisting of changing values of TB prevelance in each region over the span."
      ],
      "execution_count": 14,
      "outputs": [
        {
          "output_type": "execute_result",
          "data": {
            "text/plain": [
              "10     4\n",
              "14     4\n",
              "42     3\n",
              "88     3\n",
              "11     2\n",
              "      ..\n",
              "114    1\n",
              "263    1\n",
              "134    1\n",
              "436    1\n",
              "215    1\n",
              "Name: 1990, Length: 122, dtype: int64"
            ]
          },
          "metadata": {
            "tags": []
          },
          "execution_count": 14
        }
      ]
    },
    {
      "cell_type": "code",
      "metadata": {
        "id": "bbbnV9fegsKv",
        "colab_type": "code",
        "colab": {}
      },
      "source": [
        "df['1990'] =  pd.to_numeric(df['1990'],errors='coerce')\n",
        "df['1991'] =  pd.to_numeric(df['1991'],errors='coerce')\n",
        "df['1992'] =  pd.to_numeric(df['1992'],errors='coerce')\n",
        "df['1993'] =  pd.to_numeric(df['1993'],errors='coerce')\n",
        "df['1994'] =  pd.to_numeric(df['1994'],errors='coerce')\n",
        "df['1995'] =  pd.to_numeric(df['1995'],errors='coerce')\n",
        "df['2004'] =  pd.to_numeric(df['2004'],errors='coerce')\n",
        "df['2005'] =  pd.to_numeric(df['2005'],errors='coerce')\n",
        "df['2006'] =  pd.to_numeric(df['2006'],errors='coerce')\n",
        "df['2007'] =  pd.to_numeric(df['2007'],errors='coerce')\n"
      ],
      "execution_count": 0,
      "outputs": []
    },
    {
      "cell_type": "code",
      "metadata": {
        "id": "TnC9P-5UhqD8",
        "colab_type": "code",
        "colab": {
          "base_uri": "https://localhost:8080/",
          "height": 442
        },
        "outputId": "b966f39e-c104-4018-aa65-8f981ce87b62"
      },
      "source": [
        "df.info()"
      ],
      "execution_count": 22,
      "outputs": [
        {
          "output_type": "stream",
          "text": [
            "<class 'pandas.core.frame.DataFrame'>\n",
            "RangeIndex: 150 entries, 0 to 149\n",
            "Data columns (total 20 columns):\n",
            "TB       150 non-null object\n",
            "1990     148 non-null float64\n",
            "1991     148 non-null float64\n",
            "1992     149 non-null float64\n",
            "1993     149 non-null float64\n",
            "1994     149 non-null float64\n",
            "1995     149 non-null float64\n",
            "1996     150 non-null int64\n",
            "1997     150 non-null int64\n",
            "1998     150 non-null int64\n",
            "1999     150 non-null int64\n",
            "2000     150 non-null int64\n",
            "2001     150 non-null int64\n",
            "2002     150 non-null int64\n",
            "2003     150 non-null int64\n",
            "2004     149 non-null float64\n",
            "2005     149 non-null float64\n",
            "2006     149 non-null float64\n",
            "2007     149 non-null float64\n",
            "class    150 non-null int64\n",
            "dtypes: float64(10), int64(9), object(1)\n",
            "memory usage: 23.6+ KB\n"
          ],
          "name": "stdout"
        }
      ]
    },
    {
      "cell_type": "code",
      "metadata": {
        "id": "SriTEeYyjbm5",
        "colab_type": "code",
        "colab": {
          "base_uri": "https://localhost:8080/",
          "height": 317
        },
        "outputId": "a47f5b71-4f65-4dd1-a01e-142b21506568"
      },
      "source": [
        "df['class'] = df['class'].astype(str)\n",
        "df.describe()\n",
        "# Five point summary for the Numerical variables."
      ],
      "execution_count": 24,
      "outputs": [
        {
          "output_type": "execute_result",
          "data": {
            "text/html": [
              "<div>\n",
              "<style scoped>\n",
              "    .dataframe tbody tr th:only-of-type {\n",
              "        vertical-align: middle;\n",
              "    }\n",
              "\n",
              "    .dataframe tbody tr th {\n",
              "        vertical-align: top;\n",
              "    }\n",
              "\n",
              "    .dataframe thead th {\n",
              "        text-align: right;\n",
              "    }\n",
              "</style>\n",
              "<table border=\"1\" class=\"dataframe\">\n",
              "  <thead>\n",
              "    <tr style=\"text-align: right;\">\n",
              "      <th></th>\n",
              "      <th>1990</th>\n",
              "      <th>1991</th>\n",
              "      <th>1992</th>\n",
              "      <th>1993</th>\n",
              "      <th>1994</th>\n",
              "      <th>1995</th>\n",
              "      <th>1996</th>\n",
              "      <th>1997</th>\n",
              "      <th>1998</th>\n",
              "      <th>1999</th>\n",
              "      <th>2000</th>\n",
              "      <th>2001</th>\n",
              "      <th>2002</th>\n",
              "      <th>2003</th>\n",
              "      <th>2004</th>\n",
              "      <th>2005</th>\n",
              "      <th>2006</th>\n",
              "      <th>2007</th>\n",
              "    </tr>\n",
              "  </thead>\n",
              "  <tbody>\n",
              "    <tr>\n",
              "      <th>count</th>\n",
              "      <td>148.000000</td>\n",
              "      <td>148.000000</td>\n",
              "      <td>149.000000</td>\n",
              "      <td>149.000000</td>\n",
              "      <td>149.000000</td>\n",
              "      <td>149.000000</td>\n",
              "      <td>150.000000</td>\n",
              "      <td>150.000000</td>\n",
              "      <td>150.000000</td>\n",
              "      <td>150.000000</td>\n",
              "      <td>150.000000</td>\n",
              "      <td>150.000000</td>\n",
              "      <td>150.000000</td>\n",
              "      <td>150.000000</td>\n",
              "      <td>149.000000</td>\n",
              "      <td>149.000000</td>\n",
              "      <td>149.000000</td>\n",
              "      <td>149.000000</td>\n",
              "    </tr>\n",
              "    <tr>\n",
              "      <th>mean</th>\n",
              "      <td>184.797297</td>\n",
              "      <td>184.513514</td>\n",
              "      <td>188.167785</td>\n",
              "      <td>185.872483</td>\n",
              "      <td>183.469799</td>\n",
              "      <td>183.510067</td>\n",
              "      <td>183.493333</td>\n",
              "      <td>185.880000</td>\n",
              "      <td>183.573333</td>\n",
              "      <td>186.826667</td>\n",
              "      <td>184.520000</td>\n",
              "      <td>185.500000</td>\n",
              "      <td>186.553333</td>\n",
              "      <td>184.326667</td>\n",
              "      <td>176.557047</td>\n",
              "      <td>173.255034</td>\n",
              "      <td>170.818792</td>\n",
              "      <td>168.630872</td>\n",
              "    </tr>\n",
              "    <tr>\n",
              "      <th>std</th>\n",
              "      <td>199.851746</td>\n",
              "      <td>197.376793</td>\n",
              "      <td>204.109914</td>\n",
              "      <td>200.178916</td>\n",
              "      <td>197.039664</td>\n",
              "      <td>194.955283</td>\n",
              "      <td>192.801033</td>\n",
              "      <td>193.767865</td>\n",
              "      <td>189.695989</td>\n",
              "      <td>197.930933</td>\n",
              "      <td>202.723329</td>\n",
              "      <td>209.753795</td>\n",
              "      <td>210.561363</td>\n",
              "      <td>215.452777</td>\n",
              "      <td>205.587470</td>\n",
              "      <td>205.420931</td>\n",
              "      <td>204.186622</td>\n",
              "      <td>205.326087</td>\n",
              "    </tr>\n",
              "    <tr>\n",
              "      <th>min</th>\n",
              "      <td>5.000000</td>\n",
              "      <td>5.000000</td>\n",
              "      <td>4.000000</td>\n",
              "      <td>6.000000</td>\n",
              "      <td>5.000000</td>\n",
              "      <td>5.000000</td>\n",
              "      <td>0.000000</td>\n",
              "      <td>0.000000</td>\n",
              "      <td>0.000000</td>\n",
              "      <td>4.000000</td>\n",
              "      <td>0.000000</td>\n",
              "      <td>0.000000</td>\n",
              "      <td>4.000000</td>\n",
              "      <td>0.000000</td>\n",
              "      <td>0.000000</td>\n",
              "      <td>0.000000</td>\n",
              "      <td>0.000000</td>\n",
              "      <td>0.000000</td>\n",
              "    </tr>\n",
              "    <tr>\n",
              "      <th>25%</th>\n",
              "      <td>41.500000</td>\n",
              "      <td>39.500000</td>\n",
              "      <td>37.000000</td>\n",
              "      <td>37.000000</td>\n",
              "      <td>35.000000</td>\n",
              "      <td>34.000000</td>\n",
              "      <td>34.250000</td>\n",
              "      <td>30.750000</td>\n",
              "      <td>30.250000</td>\n",
              "      <td>28.500000</td>\n",
              "      <td>27.000000</td>\n",
              "      <td>25.250000</td>\n",
              "      <td>26.250000</td>\n",
              "      <td>24.250000</td>\n",
              "      <td>22.000000</td>\n",
              "      <td>21.000000</td>\n",
              "      <td>20.000000</td>\n",
              "      <td>20.000000</td>\n",
              "    </tr>\n",
              "    <tr>\n",
              "      <th>50%</th>\n",
              "      <td>98.500000</td>\n",
              "      <td>93.000000</td>\n",
              "      <td>92.000000</td>\n",
              "      <td>91.000000</td>\n",
              "      <td>91.000000</td>\n",
              "      <td>91.000000</td>\n",
              "      <td>91.000000</td>\n",
              "      <td>93.000000</td>\n",
              "      <td>89.500000</td>\n",
              "      <td>90.500000</td>\n",
              "      <td>87.500000</td>\n",
              "      <td>82.000000</td>\n",
              "      <td>81.000000</td>\n",
              "      <td>71.500000</td>\n",
              "      <td>71.000000</td>\n",
              "      <td>68.000000</td>\n",
              "      <td>69.000000</td>\n",
              "      <td>65.000000</td>\n",
              "    </tr>\n",
              "    <tr>\n",
              "      <th>75%</th>\n",
              "      <td>289.000000</td>\n",
              "      <td>313.000000</td>\n",
              "      <td>325.000000</td>\n",
              "      <td>318.000000</td>\n",
              "      <td>312.000000</td>\n",
              "      <td>315.000000</td>\n",
              "      <td>319.500000</td>\n",
              "      <td>329.250000</td>\n",
              "      <td>337.750000</td>\n",
              "      <td>348.500000</td>\n",
              "      <td>342.500000</td>\n",
              "      <td>343.750000</td>\n",
              "      <td>354.750000</td>\n",
              "      <td>347.500000</td>\n",
              "      <td>313.000000</td>\n",
              "      <td>289.000000</td>\n",
              "      <td>289.000000</td>\n",
              "      <td>283.000000</td>\n",
              "    </tr>\n",
              "    <tr>\n",
              "      <th>max</th>\n",
              "      <td>924.000000</td>\n",
              "      <td>862.000000</td>\n",
              "      <td>986.000000</td>\n",
              "      <td>966.000000</td>\n",
              "      <td>947.000000</td>\n",
              "      <td>928.000000</td>\n",
              "      <td>910.000000</td>\n",
              "      <td>853.000000</td>\n",
              "      <td>698.000000</td>\n",
              "      <td>701.000000</td>\n",
              "      <td>761.000000</td>\n",
              "      <td>832.000000</td>\n",
              "      <td>932.000000</td>\n",
              "      <td>960.000000</td>\n",
              "      <td>830.000000</td>\n",
              "      <td>866.000000</td>\n",
              "      <td>902.000000</td>\n",
              "      <td>941.000000</td>\n",
              "    </tr>\n",
              "  </tbody>\n",
              "</table>\n",
              "</div>"
            ],
            "text/plain": [
              "             1990        1991        1992  ...        2005        2006        2007\n",
              "count  148.000000  148.000000  149.000000  ...  149.000000  149.000000  149.000000\n",
              "mean   184.797297  184.513514  188.167785  ...  173.255034  170.818792  168.630872\n",
              "std    199.851746  197.376793  204.109914  ...  205.420931  204.186622  205.326087\n",
              "min      5.000000    5.000000    4.000000  ...    0.000000    0.000000    0.000000\n",
              "25%     41.500000   39.500000   37.000000  ...   21.000000   20.000000   20.000000\n",
              "50%     98.500000   93.000000   92.000000  ...   68.000000   69.000000   65.000000\n",
              "75%    289.000000  313.000000  325.000000  ...  289.000000  289.000000  283.000000\n",
              "max    924.000000  862.000000  986.000000  ...  866.000000  902.000000  941.000000\n",
              "\n",
              "[8 rows x 18 columns]"
            ]
          },
          "metadata": {
            "tags": []
          },
          "execution_count": 24
        }
      ]
    },
    {
      "cell_type": "code",
      "metadata": {
        "id": "c0Bb6gYojkRU",
        "colab_type": "code",
        "colab": {}
      },
      "source": [
        "correlation = df.corr()"
      ],
      "execution_count": 0,
      "outputs": []
    },
    {
      "cell_type": "code",
      "metadata": {
        "id": "wubOFOO2lHqT",
        "colab_type": "code",
        "colab": {
          "base_uri": "https://localhost:8080/",
          "height": 627
        },
        "outputId": "0375e7f4-3196-4187-8033-3a65415cfbb5"
      },
      "source": [
        "correlation"
      ],
      "execution_count": 29,
      "outputs": [
        {
          "output_type": "execute_result",
          "data": {
            "text/html": [
              "<div>\n",
              "<style scoped>\n",
              "    .dataframe tbody tr th:only-of-type {\n",
              "        vertical-align: middle;\n",
              "    }\n",
              "\n",
              "    .dataframe tbody tr th {\n",
              "        vertical-align: top;\n",
              "    }\n",
              "\n",
              "    .dataframe thead th {\n",
              "        text-align: right;\n",
              "    }\n",
              "</style>\n",
              "<table border=\"1\" class=\"dataframe\">\n",
              "  <thead>\n",
              "    <tr style=\"text-align: right;\">\n",
              "      <th></th>\n",
              "      <th>1990</th>\n",
              "      <th>1991</th>\n",
              "      <th>1992</th>\n",
              "      <th>1993</th>\n",
              "      <th>1994</th>\n",
              "      <th>1995</th>\n",
              "      <th>1996</th>\n",
              "      <th>1997</th>\n",
              "      <th>1998</th>\n",
              "      <th>1999</th>\n",
              "      <th>2000</th>\n",
              "      <th>2001</th>\n",
              "      <th>2002</th>\n",
              "      <th>2003</th>\n",
              "      <th>2004</th>\n",
              "      <th>2005</th>\n",
              "      <th>2006</th>\n",
              "      <th>2007</th>\n",
              "    </tr>\n",
              "  </thead>\n",
              "  <tbody>\n",
              "    <tr>\n",
              "      <th>1990</th>\n",
              "      <td>1.000000</td>\n",
              "      <td>0.996068</td>\n",
              "      <td>0.989901</td>\n",
              "      <td>0.985588</td>\n",
              "      <td>0.978378</td>\n",
              "      <td>0.968046</td>\n",
              "      <td>0.945074</td>\n",
              "      <td>0.929609</td>\n",
              "      <td>0.917028</td>\n",
              "      <td>0.888523</td>\n",
              "      <td>0.877448</td>\n",
              "      <td>0.850602</td>\n",
              "      <td>0.810991</td>\n",
              "      <td>0.797713</td>\n",
              "      <td>0.782927</td>\n",
              "      <td>0.770028</td>\n",
              "      <td>0.768335</td>\n",
              "      <td>0.753008</td>\n",
              "    </tr>\n",
              "    <tr>\n",
              "      <th>1991</th>\n",
              "      <td>0.996068</td>\n",
              "      <td>1.000000</td>\n",
              "      <td>0.997730</td>\n",
              "      <td>0.995009</td>\n",
              "      <td>0.986143</td>\n",
              "      <td>0.981892</td>\n",
              "      <td>0.958772</td>\n",
              "      <td>0.944749</td>\n",
              "      <td>0.933787</td>\n",
              "      <td>0.901168</td>\n",
              "      <td>0.890901</td>\n",
              "      <td>0.866695</td>\n",
              "      <td>0.829715</td>\n",
              "      <td>0.818223</td>\n",
              "      <td>0.806050</td>\n",
              "      <td>0.792936</td>\n",
              "      <td>0.791539</td>\n",
              "      <td>0.772967</td>\n",
              "    </tr>\n",
              "    <tr>\n",
              "      <th>1992</th>\n",
              "      <td>0.989901</td>\n",
              "      <td>0.997730</td>\n",
              "      <td>1.000000</td>\n",
              "      <td>0.997941</td>\n",
              "      <td>0.991763</td>\n",
              "      <td>0.989638</td>\n",
              "      <td>0.969762</td>\n",
              "      <td>0.959366</td>\n",
              "      <td>0.937355</td>\n",
              "      <td>0.902934</td>\n",
              "      <td>0.891119</td>\n",
              "      <td>0.872447</td>\n",
              "      <td>0.837801</td>\n",
              "      <td>0.817627</td>\n",
              "      <td>0.802708</td>\n",
              "      <td>0.789069</td>\n",
              "      <td>0.785996</td>\n",
              "      <td>0.769952</td>\n",
              "    </tr>\n",
              "    <tr>\n",
              "      <th>1993</th>\n",
              "      <td>0.985588</td>\n",
              "      <td>0.995009</td>\n",
              "      <td>0.997941</td>\n",
              "      <td>1.000000</td>\n",
              "      <td>0.996049</td>\n",
              "      <td>0.995727</td>\n",
              "      <td>0.976871</td>\n",
              "      <td>0.964982</td>\n",
              "      <td>0.944083</td>\n",
              "      <td>0.913140</td>\n",
              "      <td>0.903471</td>\n",
              "      <td>0.885778</td>\n",
              "      <td>0.853090</td>\n",
              "      <td>0.834071</td>\n",
              "      <td>0.819039</td>\n",
              "      <td>0.805636</td>\n",
              "      <td>0.801810</td>\n",
              "      <td>0.785640</td>\n",
              "    </tr>\n",
              "    <tr>\n",
              "      <th>1994</th>\n",
              "      <td>0.978378</td>\n",
              "      <td>0.986143</td>\n",
              "      <td>0.991763</td>\n",
              "      <td>0.996049</td>\n",
              "      <td>1.000000</td>\n",
              "      <td>0.995886</td>\n",
              "      <td>0.978931</td>\n",
              "      <td>0.968637</td>\n",
              "      <td>0.949492</td>\n",
              "      <td>0.927033</td>\n",
              "      <td>0.918055</td>\n",
              "      <td>0.900721</td>\n",
              "      <td>0.869411</td>\n",
              "      <td>0.851594</td>\n",
              "      <td>0.833179</td>\n",
              "      <td>0.821412</td>\n",
              "      <td>0.815378</td>\n",
              "      <td>0.803360</td>\n",
              "    </tr>\n",
              "    <tr>\n",
              "      <th>1995</th>\n",
              "      <td>0.968046</td>\n",
              "      <td>0.981892</td>\n",
              "      <td>0.989638</td>\n",
              "      <td>0.995727</td>\n",
              "      <td>0.995886</td>\n",
              "      <td>1.000000</td>\n",
              "      <td>0.985403</td>\n",
              "      <td>0.976924</td>\n",
              "      <td>0.960035</td>\n",
              "      <td>0.933388</td>\n",
              "      <td>0.926308</td>\n",
              "      <td>0.911529</td>\n",
              "      <td>0.881350</td>\n",
              "      <td>0.864981</td>\n",
              "      <td>0.850517</td>\n",
              "      <td>0.838049</td>\n",
              "      <td>0.833044</td>\n",
              "      <td>0.817023</td>\n",
              "    </tr>\n",
              "    <tr>\n",
              "      <th>1996</th>\n",
              "      <td>0.945074</td>\n",
              "      <td>0.958772</td>\n",
              "      <td>0.969762</td>\n",
              "      <td>0.976871</td>\n",
              "      <td>0.978931</td>\n",
              "      <td>0.985403</td>\n",
              "      <td>1.000000</td>\n",
              "      <td>0.988894</td>\n",
              "      <td>0.972385</td>\n",
              "      <td>0.953888</td>\n",
              "      <td>0.938888</td>\n",
              "      <td>0.926413</td>\n",
              "      <td>0.906192</td>\n",
              "      <td>0.884035</td>\n",
              "      <td>0.862270</td>\n",
              "      <td>0.851320</td>\n",
              "      <td>0.848785</td>\n",
              "      <td>0.832810</td>\n",
              "    </tr>\n",
              "    <tr>\n",
              "      <th>1997</th>\n",
              "      <td>0.929609</td>\n",
              "      <td>0.944749</td>\n",
              "      <td>0.959366</td>\n",
              "      <td>0.964982</td>\n",
              "      <td>0.968637</td>\n",
              "      <td>0.976924</td>\n",
              "      <td>0.988894</td>\n",
              "      <td>1.000000</td>\n",
              "      <td>0.988906</td>\n",
              "      <td>0.968048</td>\n",
              "      <td>0.955437</td>\n",
              "      <td>0.944078</td>\n",
              "      <td>0.905250</td>\n",
              "      <td>0.904253</td>\n",
              "      <td>0.888423</td>\n",
              "      <td>0.877338</td>\n",
              "      <td>0.873592</td>\n",
              "      <td>0.857802</td>\n",
              "    </tr>\n",
              "    <tr>\n",
              "      <th>1998</th>\n",
              "      <td>0.917028</td>\n",
              "      <td>0.933787</td>\n",
              "      <td>0.937355</td>\n",
              "      <td>0.944083</td>\n",
              "      <td>0.949492</td>\n",
              "      <td>0.960035</td>\n",
              "      <td>0.972385</td>\n",
              "      <td>0.988906</td>\n",
              "      <td>1.000000</td>\n",
              "      <td>0.980995</td>\n",
              "      <td>0.976141</td>\n",
              "      <td>0.963719</td>\n",
              "      <td>0.927620</td>\n",
              "      <td>0.932887</td>\n",
              "      <td>0.921106</td>\n",
              "      <td>0.911837</td>\n",
              "      <td>0.908075</td>\n",
              "      <td>0.892685</td>\n",
              "    </tr>\n",
              "    <tr>\n",
              "      <th>1999</th>\n",
              "      <td>0.888523</td>\n",
              "      <td>0.901168</td>\n",
              "      <td>0.902934</td>\n",
              "      <td>0.913140</td>\n",
              "      <td>0.927033</td>\n",
              "      <td>0.933388</td>\n",
              "      <td>0.953888</td>\n",
              "      <td>0.968048</td>\n",
              "      <td>0.980995</td>\n",
              "      <td>1.000000</td>\n",
              "      <td>0.985584</td>\n",
              "      <td>0.977584</td>\n",
              "      <td>0.949163</td>\n",
              "      <td>0.950651</td>\n",
              "      <td>0.939083</td>\n",
              "      <td>0.933548</td>\n",
              "      <td>0.929528</td>\n",
              "      <td>0.924785</td>\n",
              "    </tr>\n",
              "    <tr>\n",
              "      <th>2000</th>\n",
              "      <td>0.877448</td>\n",
              "      <td>0.890901</td>\n",
              "      <td>0.891119</td>\n",
              "      <td>0.903471</td>\n",
              "      <td>0.918055</td>\n",
              "      <td>0.926308</td>\n",
              "      <td>0.938888</td>\n",
              "      <td>0.955437</td>\n",
              "      <td>0.976141</td>\n",
              "      <td>0.985584</td>\n",
              "      <td>1.000000</td>\n",
              "      <td>0.992968</td>\n",
              "      <td>0.956603</td>\n",
              "      <td>0.966929</td>\n",
              "      <td>0.958085</td>\n",
              "      <td>0.953545</td>\n",
              "      <td>0.948688</td>\n",
              "      <td>0.940612</td>\n",
              "    </tr>\n",
              "    <tr>\n",
              "      <th>2001</th>\n",
              "      <td>0.850602</td>\n",
              "      <td>0.866695</td>\n",
              "      <td>0.872447</td>\n",
              "      <td>0.885778</td>\n",
              "      <td>0.900721</td>\n",
              "      <td>0.911529</td>\n",
              "      <td>0.926413</td>\n",
              "      <td>0.944078</td>\n",
              "      <td>0.963719</td>\n",
              "      <td>0.977584</td>\n",
              "      <td>0.992968</td>\n",
              "      <td>1.000000</td>\n",
              "      <td>0.962556</td>\n",
              "      <td>0.975437</td>\n",
              "      <td>0.970161</td>\n",
              "      <td>0.966792</td>\n",
              "      <td>0.961487</td>\n",
              "      <td>0.952741</td>\n",
              "    </tr>\n",
              "    <tr>\n",
              "      <th>2002</th>\n",
              "      <td>0.810991</td>\n",
              "      <td>0.829715</td>\n",
              "      <td>0.837801</td>\n",
              "      <td>0.853090</td>\n",
              "      <td>0.869411</td>\n",
              "      <td>0.881350</td>\n",
              "      <td>0.906192</td>\n",
              "      <td>0.905250</td>\n",
              "      <td>0.927620</td>\n",
              "      <td>0.949163</td>\n",
              "      <td>0.956603</td>\n",
              "      <td>0.962556</td>\n",
              "      <td>1.000000</td>\n",
              "      <td>0.976674</td>\n",
              "      <td>0.969099</td>\n",
              "      <td>0.965433</td>\n",
              "      <td>0.960209</td>\n",
              "      <td>0.953398</td>\n",
              "    </tr>\n",
              "    <tr>\n",
              "      <th>2003</th>\n",
              "      <td>0.797713</td>\n",
              "      <td>0.818223</td>\n",
              "      <td>0.817627</td>\n",
              "      <td>0.834071</td>\n",
              "      <td>0.851594</td>\n",
              "      <td>0.864981</td>\n",
              "      <td>0.884035</td>\n",
              "      <td>0.904253</td>\n",
              "      <td>0.932887</td>\n",
              "      <td>0.950651</td>\n",
              "      <td>0.966929</td>\n",
              "      <td>0.975437</td>\n",
              "      <td>0.976674</td>\n",
              "      <td>1.000000</td>\n",
              "      <td>0.995744</td>\n",
              "      <td>0.993112</td>\n",
              "      <td>0.988086</td>\n",
              "      <td>0.981147</td>\n",
              "    </tr>\n",
              "    <tr>\n",
              "      <th>2004</th>\n",
              "      <td>0.782927</td>\n",
              "      <td>0.806050</td>\n",
              "      <td>0.802708</td>\n",
              "      <td>0.819039</td>\n",
              "      <td>0.833179</td>\n",
              "      <td>0.850517</td>\n",
              "      <td>0.862270</td>\n",
              "      <td>0.888423</td>\n",
              "      <td>0.921106</td>\n",
              "      <td>0.939083</td>\n",
              "      <td>0.958085</td>\n",
              "      <td>0.970161</td>\n",
              "      <td>0.969099</td>\n",
              "      <td>0.995744</td>\n",
              "      <td>1.000000</td>\n",
              "      <td>0.995887</td>\n",
              "      <td>0.992793</td>\n",
              "      <td>0.984106</td>\n",
              "    </tr>\n",
              "    <tr>\n",
              "      <th>2005</th>\n",
              "      <td>0.770028</td>\n",
              "      <td>0.792936</td>\n",
              "      <td>0.789069</td>\n",
              "      <td>0.805636</td>\n",
              "      <td>0.821412</td>\n",
              "      <td>0.838049</td>\n",
              "      <td>0.851320</td>\n",
              "      <td>0.877338</td>\n",
              "      <td>0.911837</td>\n",
              "      <td>0.933548</td>\n",
              "      <td>0.953545</td>\n",
              "      <td>0.966792</td>\n",
              "      <td>0.965433</td>\n",
              "      <td>0.993112</td>\n",
              "      <td>0.995887</td>\n",
              "      <td>1.000000</td>\n",
              "      <td>0.998165</td>\n",
              "      <td>0.993404</td>\n",
              "    </tr>\n",
              "    <tr>\n",
              "      <th>2006</th>\n",
              "      <td>0.768335</td>\n",
              "      <td>0.791539</td>\n",
              "      <td>0.785996</td>\n",
              "      <td>0.801810</td>\n",
              "      <td>0.815378</td>\n",
              "      <td>0.833044</td>\n",
              "      <td>0.848785</td>\n",
              "      <td>0.873592</td>\n",
              "      <td>0.908075</td>\n",
              "      <td>0.929528</td>\n",
              "      <td>0.948688</td>\n",
              "      <td>0.961487</td>\n",
              "      <td>0.960209</td>\n",
              "      <td>0.988086</td>\n",
              "      <td>0.992793</td>\n",
              "      <td>0.998165</td>\n",
              "      <td>1.000000</td>\n",
              "      <td>0.994845</td>\n",
              "    </tr>\n",
              "    <tr>\n",
              "      <th>2007</th>\n",
              "      <td>0.753008</td>\n",
              "      <td>0.772967</td>\n",
              "      <td>0.769952</td>\n",
              "      <td>0.785640</td>\n",
              "      <td>0.803360</td>\n",
              "      <td>0.817023</td>\n",
              "      <td>0.832810</td>\n",
              "      <td>0.857802</td>\n",
              "      <td>0.892685</td>\n",
              "      <td>0.924785</td>\n",
              "      <td>0.940612</td>\n",
              "      <td>0.952741</td>\n",
              "      <td>0.953398</td>\n",
              "      <td>0.981147</td>\n",
              "      <td>0.984106</td>\n",
              "      <td>0.993404</td>\n",
              "      <td>0.994845</td>\n",
              "      <td>1.000000</td>\n",
              "    </tr>\n",
              "  </tbody>\n",
              "</table>\n",
              "</div>"
            ],
            "text/plain": [
              "          1990      1991      1992  ...      2005      2006      2007\n",
              "1990  1.000000  0.996068  0.989901  ...  0.770028  0.768335  0.753008\n",
              "1991  0.996068  1.000000  0.997730  ...  0.792936  0.791539  0.772967\n",
              "1992  0.989901  0.997730  1.000000  ...  0.789069  0.785996  0.769952\n",
              "1993  0.985588  0.995009  0.997941  ...  0.805636  0.801810  0.785640\n",
              "1994  0.978378  0.986143  0.991763  ...  0.821412  0.815378  0.803360\n",
              "1995  0.968046  0.981892  0.989638  ...  0.838049  0.833044  0.817023\n",
              "1996  0.945074  0.958772  0.969762  ...  0.851320  0.848785  0.832810\n",
              "1997  0.929609  0.944749  0.959366  ...  0.877338  0.873592  0.857802\n",
              "1998  0.917028  0.933787  0.937355  ...  0.911837  0.908075  0.892685\n",
              "1999  0.888523  0.901168  0.902934  ...  0.933548  0.929528  0.924785\n",
              "2000  0.877448  0.890901  0.891119  ...  0.953545  0.948688  0.940612\n",
              "2001  0.850602  0.866695  0.872447  ...  0.966792  0.961487  0.952741\n",
              "2002  0.810991  0.829715  0.837801  ...  0.965433  0.960209  0.953398\n",
              "2003  0.797713  0.818223  0.817627  ...  0.993112  0.988086  0.981147\n",
              "2004  0.782927  0.806050  0.802708  ...  0.995887  0.992793  0.984106\n",
              "2005  0.770028  0.792936  0.789069  ...  1.000000  0.998165  0.993404\n",
              "2006  0.768335  0.791539  0.785996  ...  0.998165  1.000000  0.994845\n",
              "2007  0.753008  0.772967  0.769952  ...  0.993404  0.994845  1.000000\n",
              "\n",
              "[18 rows x 18 columns]"
            ]
          },
          "metadata": {
            "tags": []
          },
          "execution_count": 29
        }
      ]
    },
    {
      "cell_type": "code",
      "metadata": {
        "id": "YHYZyf5JlT_J",
        "colab_type": "code",
        "colab": {}
      },
      "source": [
        "covariance = df.cov()"
      ],
      "execution_count": 0,
      "outputs": []
    },
    {
      "cell_type": "code",
      "metadata": {
        "id": "0dVr723wlT5-",
        "colab_type": "code",
        "colab": {
          "base_uri": "https://localhost:8080/",
          "height": 627
        },
        "outputId": "79725ffd-0758-459f-b1fa-27e317dea527"
      },
      "source": [
        "covariance"
      ],
      "execution_count": 31,
      "outputs": [
        {
          "output_type": "execute_result",
          "data": {
            "text/html": [
              "<div>\n",
              "<style scoped>\n",
              "    .dataframe tbody tr th:only-of-type {\n",
              "        vertical-align: middle;\n",
              "    }\n",
              "\n",
              "    .dataframe tbody tr th {\n",
              "        vertical-align: top;\n",
              "    }\n",
              "\n",
              "    .dataframe thead th {\n",
              "        text-align: right;\n",
              "    }\n",
              "</style>\n",
              "<table border=\"1\" class=\"dataframe\">\n",
              "  <thead>\n",
              "    <tr style=\"text-align: right;\">\n",
              "      <th></th>\n",
              "      <th>1990</th>\n",
              "      <th>1991</th>\n",
              "      <th>1992</th>\n",
              "      <th>1993</th>\n",
              "      <th>1994</th>\n",
              "      <th>1995</th>\n",
              "      <th>1996</th>\n",
              "      <th>1997</th>\n",
              "      <th>1998</th>\n",
              "      <th>1999</th>\n",
              "      <th>2000</th>\n",
              "      <th>2001</th>\n",
              "      <th>2002</th>\n",
              "      <th>2003</th>\n",
              "      <th>2004</th>\n",
              "      <th>2005</th>\n",
              "      <th>2006</th>\n",
              "      <th>2007</th>\n",
              "    </tr>\n",
              "  </thead>\n",
              "  <tbody>\n",
              "    <tr>\n",
              "      <th>1990</th>\n",
              "      <td>39940.720537</td>\n",
              "      <td>39291.002758</td>\n",
              "      <td>38353.600754</td>\n",
              "      <td>37464.013881</td>\n",
              "      <td>36630.587240</td>\n",
              "      <td>35919.091101</td>\n",
              "      <td>33816.481522</td>\n",
              "      <td>33943.423423</td>\n",
              "      <td>33601.614911</td>\n",
              "      <td>34132.916621</td>\n",
              "      <td>34392.731109</td>\n",
              "      <td>34411.014065</td>\n",
              "      <td>32418.770914</td>\n",
              "      <td>32797.770362</td>\n",
              "      <td>32097.983085</td>\n",
              "      <td>31565.087332</td>\n",
              "      <td>31318.898603</td>\n",
              "      <td>30842.186156</td>\n",
              "    </tr>\n",
              "    <tr>\n",
              "      <th>1991</th>\n",
              "      <td>39291.002758</td>\n",
              "      <td>38957.598456</td>\n",
              "      <td>38178.210517</td>\n",
              "      <td>37353.729914</td>\n",
              "      <td>36464.104615</td>\n",
              "      <td>35981.663541</td>\n",
              "      <td>33881.782864</td>\n",
              "      <td>34069.046148</td>\n",
              "      <td>33791.956058</td>\n",
              "      <td>34189.950910</td>\n",
              "      <td>34487.599559</td>\n",
              "      <td>34627.851443</td>\n",
              "      <td>32756.512778</td>\n",
              "      <td>33224.420298</td>\n",
              "      <td>32636.703622</td>\n",
              "      <td>32101.624563</td>\n",
              "      <td>31865.149844</td>\n",
              "      <td>31267.576025</td>\n",
              "    </tr>\n",
              "    <tr>\n",
              "      <th>1992</th>\n",
              "      <td>38353.600754</td>\n",
              "      <td>38178.210517</td>\n",
              "      <td>41660.856793</td>\n",
              "      <td>40774.359378</td>\n",
              "      <td>39886.467939</td>\n",
              "      <td>39379.967894</td>\n",
              "      <td>37276.241112</td>\n",
              "      <td>37262.743651</td>\n",
              "      <td>35499.452567</td>\n",
              "      <td>35757.139216</td>\n",
              "      <td>35972.065708</td>\n",
              "      <td>36464.178442</td>\n",
              "      <td>34564.609741</td>\n",
              "      <td>34461.371486</td>\n",
              "      <td>33683.574823</td>\n",
              "      <td>33084.443406</td>\n",
              "      <td>32757.564393</td>\n",
              "      <td>32267.994785</td>\n",
              "    </tr>\n",
              "    <tr>\n",
              "      <th>1993</th>\n",
              "      <td>37464.013881</td>\n",
              "      <td>37353.729914</td>\n",
              "      <td>40774.359378</td>\n",
              "      <td>40071.598494</td>\n",
              "      <td>39287.344096</td>\n",
              "      <td>38859.193860</td>\n",
              "      <td>36826.344323</td>\n",
              "      <td>36759.027798</td>\n",
              "      <td>35065.670914</td>\n",
              "      <td>35464.865817</td>\n",
              "      <td>35768.299791</td>\n",
              "      <td>36308.333303</td>\n",
              "      <td>34517.570651</td>\n",
              "      <td>34477.400644</td>\n",
              "      <td>33706.943134</td>\n",
              "      <td>33128.492200</td>\n",
              "      <td>32773.071331</td>\n",
              "      <td>32291.337747</td>\n",
              "    </tr>\n",
              "    <tr>\n",
              "      <th>1994</th>\n",
              "      <td>36630.587240</td>\n",
              "      <td>36464.104615</td>\n",
              "      <td>39886.467939</td>\n",
              "      <td>39287.344096</td>\n",
              "      <td>38824.629149</td>\n",
              "      <td>38255.893887</td>\n",
              "      <td>36325.239978</td>\n",
              "      <td>36319.624116</td>\n",
              "      <td>34713.510430</td>\n",
              "      <td>35439.788455</td>\n",
              "      <td>35775.658308</td>\n",
              "      <td>36341.844232</td>\n",
              "      <td>34626.259976</td>\n",
              "      <td>34649.726646</td>\n",
              "      <td>33751.162208</td>\n",
              "      <td>33247.521268</td>\n",
              "      <td>32804.991112</td>\n",
              "      <td>32501.843506</td>\n",
              "    </tr>\n",
              "    <tr>\n",
              "      <th>1995</th>\n",
              "      <td>35919.091101</td>\n",
              "      <td>35981.663541</td>\n",
              "      <td>39379.967894</td>\n",
              "      <td>38859.193860</td>\n",
              "      <td>38255.893887</td>\n",
              "      <td>38007.562398</td>\n",
              "      <td>36178.609196</td>\n",
              "      <td>36242.827997</td>\n",
              "      <td>34727.660938</td>\n",
              "      <td>35305.279975</td>\n",
              "      <td>35715.415699</td>\n",
              "      <td>36388.855977</td>\n",
              "      <td>34730.453882</td>\n",
              "      <td>34822.086613</td>\n",
              "      <td>34089.045030</td>\n",
              "      <td>33562.112280</td>\n",
              "      <td>33161.214674</td>\n",
              "      <td>32704.959822</td>\n",
              "    </tr>\n",
              "    <tr>\n",
              "      <th>1996</th>\n",
              "      <td>33816.481522</td>\n",
              "      <td>33881.782864</td>\n",
              "      <td>37276.241112</td>\n",
              "      <td>36826.344323</td>\n",
              "      <td>36325.239978</td>\n",
              "      <td>36178.609196</td>\n",
              "      <td>37172.238210</td>\n",
              "      <td>36943.724027</td>\n",
              "      <td>35563.601163</td>\n",
              "      <td>36401.602864</td>\n",
              "      <td>36696.688054</td>\n",
              "      <td>37464.832215</td>\n",
              "      <td>36788.161432</td>\n",
              "      <td>36722.388098</td>\n",
              "      <td>33384.357519</td>\n",
              "      <td>32933.716760</td>\n",
              "      <td>32638.338518</td>\n",
              "      <td>32202.750635</td>\n",
              "    </tr>\n",
              "    <tr>\n",
              "      <th>1997</th>\n",
              "      <td>33943.423423</td>\n",
              "      <td>34069.046148</td>\n",
              "      <td>37262.743651</td>\n",
              "      <td>36759.027798</td>\n",
              "      <td>36319.624116</td>\n",
              "      <td>36242.827997</td>\n",
              "      <td>36943.724027</td>\n",
              "      <td>37545.985503</td>\n",
              "      <td>36349.203490</td>\n",
              "      <td>37127.213960</td>\n",
              "      <td>37530.780940</td>\n",
              "      <td>38370.691275</td>\n",
              "      <td>36934.227919</td>\n",
              "      <td>37750.583087</td>\n",
              "      <td>34757.047841</td>\n",
              "      <td>34295.566026</td>\n",
              "      <td>33943.940640</td>\n",
              "      <td>33516.432886</td>\n",
              "    </tr>\n",
              "    <tr>\n",
              "      <th>1998</th>\n",
              "      <td>33601.614911</td>\n",
              "      <td>33791.956058</td>\n",
              "      <td>35499.452567</td>\n",
              "      <td>35065.670914</td>\n",
              "      <td>34713.510430</td>\n",
              "      <td>34727.660938</td>\n",
              "      <td>35563.601163</td>\n",
              "      <td>36349.203490</td>\n",
              "      <td>35984.568412</td>\n",
              "      <td>36833.147025</td>\n",
              "      <td>37538.290470</td>\n",
              "      <td>38345.838926</td>\n",
              "      <td>37051.579955</td>\n",
              "      <td>38127.603400</td>\n",
              "      <td>35136.621440</td>\n",
              "      <td>34754.874388</td>\n",
              "      <td>34403.515282</td>\n",
              "      <td>34009.173272</td>\n",
              "    </tr>\n",
              "    <tr>\n",
              "      <th>1999</th>\n",
              "      <td>34132.916621</td>\n",
              "      <td>34189.950910</td>\n",
              "      <td>35757.139216</td>\n",
              "      <td>35464.865817</td>\n",
              "      <td>35439.788455</td>\n",
              "      <td>35305.279975</td>\n",
              "      <td>36401.602864</td>\n",
              "      <td>37127.213960</td>\n",
              "      <td>36833.147025</td>\n",
              "      <td>39176.654318</td>\n",
              "      <td>39546.761879</td>\n",
              "      <td>40586.140940</td>\n",
              "      <td>39557.881790</td>\n",
              "      <td>40540.312036</td>\n",
              "      <td>37457.856793</td>\n",
              "      <td>37206.910258</td>\n",
              "      <td>36824.102349</td>\n",
              "      <td>36840.673454</td>\n",
              "    </tr>\n",
              "    <tr>\n",
              "      <th>2000</th>\n",
              "      <td>34392.731109</td>\n",
              "      <td>34487.599559</td>\n",
              "      <td>35972.065708</td>\n",
              "      <td>35768.299791</td>\n",
              "      <td>35775.658308</td>\n",
              "      <td>35715.415699</td>\n",
              "      <td>36696.688054</td>\n",
              "      <td>37530.780940</td>\n",
              "      <td>37538.290470</td>\n",
              "      <td>39546.761879</td>\n",
              "      <td>41096.747919</td>\n",
              "      <td>42222.986577</td>\n",
              "      <td>40833.274094</td>\n",
              "      <td>42232.835705</td>\n",
              "      <td>38955.283557</td>\n",
              "      <td>38739.258525</td>\n",
              "      <td>38310.341738</td>\n",
              "      <td>38196.214901</td>\n",
              "    </tr>\n",
              "    <tr>\n",
              "      <th>2001</th>\n",
              "      <td>34411.014065</td>\n",
              "      <td>34627.851443</td>\n",
              "      <td>36464.178442</td>\n",
              "      <td>36308.333303</td>\n",
              "      <td>36341.844232</td>\n",
              "      <td>36388.855977</td>\n",
              "      <td>37464.832215</td>\n",
              "      <td>38370.691275</td>\n",
              "      <td>38345.838926</td>\n",
              "      <td>40586.140940</td>\n",
              "      <td>42222.986577</td>\n",
              "      <td>43996.654362</td>\n",
              "      <td>42512.298658</td>\n",
              "      <td>44081.963087</td>\n",
              "      <td>40841.695130</td>\n",
              "      <td>40666.880691</td>\n",
              "      <td>40200.734310</td>\n",
              "      <td>40057.330401</td>\n",
              "    </tr>\n",
              "    <tr>\n",
              "      <th>2002</th>\n",
              "      <td>32418.770914</td>\n",
              "      <td>32756.512778</td>\n",
              "      <td>34564.609741</td>\n",
              "      <td>34517.570651</td>\n",
              "      <td>34626.259976</td>\n",
              "      <td>34730.453882</td>\n",
              "      <td>36788.161432</td>\n",
              "      <td>36934.227919</td>\n",
              "      <td>37051.579955</td>\n",
              "      <td>39557.881790</td>\n",
              "      <td>40833.274094</td>\n",
              "      <td>42512.298658</td>\n",
              "      <td>44336.087740</td>\n",
              "      <td>44307.831454</td>\n",
              "      <td>40270.927852</td>\n",
              "      <td>40086.095184</td>\n",
              "      <td>39629.607156</td>\n",
              "      <td>39568.082895</td>\n",
              "    </tr>\n",
              "    <tr>\n",
              "      <th>2003</th>\n",
              "      <td>32797.770362</td>\n",
              "      <td>33224.420298</td>\n",
              "      <td>34461.371486</td>\n",
              "      <td>34477.400644</td>\n",
              "      <td>34649.726646</td>\n",
              "      <td>34822.086613</td>\n",
              "      <td>36722.388098</td>\n",
              "      <td>37750.583087</td>\n",
              "      <td>38127.603400</td>\n",
              "      <td>40540.312036</td>\n",
              "      <td>42232.835705</td>\n",
              "      <td>44081.963087</td>\n",
              "      <td>44307.831454</td>\n",
              "      <td>46419.899284</td>\n",
              "      <td>42272.486305</td>\n",
              "      <td>42126.590604</td>\n",
              "      <td>41661.555823</td>\n",
              "      <td>41599.815164</td>\n",
              "    </tr>\n",
              "    <tr>\n",
              "      <th>2004</th>\n",
              "      <td>32097.983085</td>\n",
              "      <td>32636.703622</td>\n",
              "      <td>33683.574823</td>\n",
              "      <td>33706.943134</td>\n",
              "      <td>33751.162208</td>\n",
              "      <td>34089.045030</td>\n",
              "      <td>33384.357519</td>\n",
              "      <td>34757.047841</td>\n",
              "      <td>35136.621440</td>\n",
              "      <td>37457.856793</td>\n",
              "      <td>38955.283557</td>\n",
              "      <td>40841.695130</td>\n",
              "      <td>40270.927852</td>\n",
              "      <td>42272.486305</td>\n",
              "      <td>42266.207872</td>\n",
              "      <td>42058.282650</td>\n",
              "      <td>41675.662434</td>\n",
              "      <td>41541.531335</td>\n",
              "    </tr>\n",
              "    <tr>\n",
              "      <th>2005</th>\n",
              "      <td>31565.087332</td>\n",
              "      <td>32101.624563</td>\n",
              "      <td>33084.443406</td>\n",
              "      <td>33128.492200</td>\n",
              "      <td>33247.521268</td>\n",
              "      <td>33562.112280</td>\n",
              "      <td>32933.716760</td>\n",
              "      <td>34295.566026</td>\n",
              "      <td>34754.874388</td>\n",
              "      <td>37206.910258</td>\n",
              "      <td>38739.258525</td>\n",
              "      <td>40666.880691</td>\n",
              "      <td>40086.095184</td>\n",
              "      <td>42126.590604</td>\n",
              "      <td>42058.282650</td>\n",
              "      <td>42197.758843</td>\n",
              "      <td>41867.228959</td>\n",
              "      <td>41900.088019</td>\n",
              "    </tr>\n",
              "    <tr>\n",
              "      <th>2006</th>\n",
              "      <td>31318.898603</td>\n",
              "      <td>31865.149844</td>\n",
              "      <td>32757.564393</td>\n",
              "      <td>32773.071331</td>\n",
              "      <td>32804.991112</td>\n",
              "      <td>33161.214674</td>\n",
              "      <td>32638.338518</td>\n",
              "      <td>33943.940640</td>\n",
              "      <td>34403.515282</td>\n",
              "      <td>36824.102349</td>\n",
              "      <td>38310.341738</td>\n",
              "      <td>40200.734310</td>\n",
              "      <td>39629.607156</td>\n",
              "      <td>41661.555823</td>\n",
              "      <td>41675.662434</td>\n",
              "      <td>41867.228959</td>\n",
              "      <td>41692.176401</td>\n",
              "      <td>41708.716443</td>\n",
              "    </tr>\n",
              "    <tr>\n",
              "      <th>2007</th>\n",
              "      <td>30842.186156</td>\n",
              "      <td>31267.576025</td>\n",
              "      <td>32267.994785</td>\n",
              "      <td>32291.337747</td>\n",
              "      <td>32501.843506</td>\n",
              "      <td>32704.959822</td>\n",
              "      <td>32202.750635</td>\n",
              "      <td>33516.432886</td>\n",
              "      <td>34009.173272</td>\n",
              "      <td>36840.673454</td>\n",
              "      <td>38196.214901</td>\n",
              "      <td>40057.330401</td>\n",
              "      <td>39568.082895</td>\n",
              "      <td>41599.815164</td>\n",
              "      <td>41541.531335</td>\n",
              "      <td>41900.088019</td>\n",
              "      <td>41708.716443</td>\n",
              "      <td>42158.802013</td>\n",
              "    </tr>\n",
              "  </tbody>\n",
              "</table>\n",
              "</div>"
            ],
            "text/plain": [
              "              1990          1991  ...          2006          2007\n",
              "1990  39940.720537  39291.002758  ...  31318.898603  30842.186156\n",
              "1991  39291.002758  38957.598456  ...  31865.149844  31267.576025\n",
              "1992  38353.600754  38178.210517  ...  32757.564393  32267.994785\n",
              "1993  37464.013881  37353.729914  ...  32773.071331  32291.337747\n",
              "1994  36630.587240  36464.104615  ...  32804.991112  32501.843506\n",
              "1995  35919.091101  35981.663541  ...  33161.214674  32704.959822\n",
              "1996  33816.481522  33881.782864  ...  32638.338518  32202.750635\n",
              "1997  33943.423423  34069.046148  ...  33943.940640  33516.432886\n",
              "1998  33601.614911  33791.956058  ...  34403.515282  34009.173272\n",
              "1999  34132.916621  34189.950910  ...  36824.102349  36840.673454\n",
              "2000  34392.731109  34487.599559  ...  38310.341738  38196.214901\n",
              "2001  34411.014065  34627.851443  ...  40200.734310  40057.330401\n",
              "2002  32418.770914  32756.512778  ...  39629.607156  39568.082895\n",
              "2003  32797.770362  33224.420298  ...  41661.555823  41599.815164\n",
              "2004  32097.983085  32636.703622  ...  41675.662434  41541.531335\n",
              "2005  31565.087332  32101.624563  ...  41867.228959  41900.088019\n",
              "2006  31318.898603  31865.149844  ...  41692.176401  41708.716443\n",
              "2007  30842.186156  31267.576025  ...  41708.716443  42158.802013\n",
              "\n",
              "[18 rows x 18 columns]"
            ]
          },
          "metadata": {
            "tags": []
          },
          "execution_count": 31
        }
      ]
    },
    {
      "cell_type": "code",
      "metadata": {
        "id": "aCMD_hGakW3i",
        "colab_type": "code",
        "colab": {
          "base_uri": "https://localhost:8080/",
          "height": 504
        },
        "outputId": "21c5853b-4052-421a-a16c-b45c7ddc270b"
      },
      "source": [
        "plt.figure(figsize=(18,8))\n",
        "sns.heatmap(correlation,annot=True)"
      ],
      "execution_count": 28,
      "outputs": [
        {
          "output_type": "execute_result",
          "data": {
            "text/plain": [
              "<matplotlib.axes._subplots.AxesSubplot at 0x7f93670e2470>"
            ]
          },
          "metadata": {
            "tags": []
          },
          "execution_count": 28
        },
        {
          "output_type": "display_data",
          "data": {
            "image/png": "[encoded data removed]",
            "text/plain": [
              "<Figure size 1296x576 with 2 Axes>"
            ]
          },
          "metadata": {
            "tags": []
          }
        }
      ]
    },
    {
      "cell_type": "code",
      "metadata": {
        "id": "VxthCLnEknd1",
        "colab_type": "code",
        "colab": {
          "base_uri": "https://localhost:8080/",
          "height": 500
        },
        "outputId": "d5d97673-3fae-43d8-ae65-75009b812a7d"
      },
      "source": [
        "plt.figure(figsize=(18,8))\n",
        "sns.heatmap(covariance)"
      ],
      "execution_count": 33,
      "outputs": [
        {
          "output_type": "execute_result",
          "data": {
            "text/plain": [
              "<matplotlib.axes._subplots.AxesSubplot at 0x7f9366e0dfd0>"
            ]
          },
          "metadata": {
            "tags": []
          },
          "execution_count": 33
        },
        {
          "output_type": "display_data",
          "data": {
            "image/png": "[encoded data removed]",
            "text/plain": [
              "<Figure size 1296x576 with 2 Axes>"
            ]
          },
          "metadata": {
            "tags": []
          }
        }
      ]
    },
    {
      "cell_type": "markdown",
      "metadata": {
        "id": "3mEk1Asvl0C-",
        "colab_type": "text"
      },
      "source": [
        "#2. Dimensionality Reduction (10 marks)\n"
      ]
    },
    {
      "cell_type": "markdown",
      "metadata": {
        "id": "S79AiLOcl7jg",
        "colab_type": "text"
      },
      "source": [
        "1. How will you decide when to apply PCA based on the correlation? (2 marks)\n",
        "2. Apply PCA on the above dataset and determine the number of PCA components to be used so\n",
        "that 95% of the variance in data is explained by the same. (8 marks)\n"
      ]
    },
    {
      "cell_type": "markdown",
      "metadata": {
        "id": "zb8Eng-ImCEa",
        "colab_type": "text"
      },
      "source": [
        "From the above visualisation maps and also from Correlation Matrix We can see following properties:\n",
        "1. There are multiple features present in the data set with High Mutlicollinearity.\n",
        "2. There are multiple Features present in the data set those are Highly Correlated ranging from 0.75 to 1.\n",
        "3. There are multiple Features present in the data set those are Moderatly \n",
        "Correlated 0.45 to 0.7.\n",
        "4. There are very Few Features with Low Correlation i.e less than 0.3.\n",
        "5. Thus , it raises the need for applying Feature Selection which implies selecting only those features which will explain the variances and also help in buliding a model without the need of those many redundant features.\n",
        "As,High number of Features may lead to complexity of the Model and Variance Error.\n",
        "6. For this we can use PCA i.e. Principal Component Analysis which will calculate the Principal Componenents which will explain our variations and also help in building our Model."
      ]
    },
    {
      "cell_type": "code",
      "metadata": {
        "id": "1GinLSwZlhLg",
        "colab_type": "code",
        "colab": {}
      },
      "source": [
        "from sklearn.decomposition import PCA"
      ],
      "execution_count": 0,
      "outputs": []
    },
    {
      "cell_type": "code",
      "metadata": {
        "id": "oeJJ0HBUn9fV",
        "colab_type": "code",
        "colab": {}
      },
      "source": [
        "# Initialise the PCA with expected explained variance\n",
        "pca = PCA(random_state=0)\n"
      ],
      "execution_count": 0,
      "outputs": []
    },
    {
      "cell_type": "code",
      "metadata": {
        "id": "FrjZhLuGodaI",
        "colab_type": "code",
        "colab": {
          "base_uri": "https://localhost:8080/",
          "height": 224
        },
        "outputId": "d5180fdd-c8ab-45d2-b0fa-f3f60f7218a2"
      },
      "source": [
        "from sklearn.preprocessing import StandardScaler\n",
        "# Before Applying PCA we need to standardise the data.\n",
        "#Also we can remove cluster labels given\n",
        "column_names = ['1990','1991','1992','1993','1994','1995','1996','1997','1998','1999','2000','2001','2002','2003','2004','2005','2006','2007']\n",
        "X = df.drop(['class','TB'],axis=1)\n",
        "y=  df['class']\n",
        "X_scaled = StandardScaler().fit_transform(X)\n",
        "X_scaled = pd.DataFrame(X_scaled,columns=column_names)\n",
        "X_scaled.head()\n"
      ],
      "execution_count": 56,
      "outputs": [
        {
          "output_type": "execute_result",
          "data": {
            "text/html": [
              "<div>\n",
              "<style scoped>\n",
              "    .dataframe tbody tr th:only-of-type {\n",
              "        vertical-align: middle;\n",
              "    }\n",
              "\n",
              "    .dataframe tbody tr th {\n",
              "        vertical-align: top;\n",
              "    }\n",
              "\n",
              "    .dataframe thead th {\n",
              "        text-align: right;\n",
              "    }\n",
              "</style>\n",
              "<table border=\"1\" class=\"dataframe\">\n",
              "  <thead>\n",
              "    <tr style=\"text-align: right;\">\n",
              "      <th></th>\n",
              "      <th>1990</th>\n",
              "      <th>1991</th>\n",
              "      <th>1992</th>\n",
              "      <th>1993</th>\n",
              "      <th>1994</th>\n",
              "      <th>1995</th>\n",
              "      <th>1996</th>\n",
              "      <th>1997</th>\n",
              "      <th>1998</th>\n",
              "      <th>1999</th>\n",
              "      <th>2000</th>\n",
              "      <th>2001</th>\n",
              "      <th>2002</th>\n",
              "      <th>2003</th>\n",
              "      <th>2004</th>\n",
              "      <th>2005</th>\n",
              "      <th>2006</th>\n",
              "      <th>2007</th>\n",
              "    </tr>\n",
              "  </thead>\n",
              "  <tbody>\n",
              "    <tr>\n",
              "      <th>0</th>\n",
              "      <td>-0.651673</td>\n",
              "      <td>-0.653318</td>\n",
              "      <td>-0.634969</td>\n",
              "      <td>-0.635933</td>\n",
              "      <td>-0.649106</td>\n",
              "      <td>-0.681987</td>\n",
              "      <td>-0.715525</td>\n",
              "      <td>-0.745026</td>\n",
              "      <td>-0.769974</td>\n",
              "      <td>-0.769639</td>\n",
              "      <td>-0.754876</td>\n",
              "      <td>-0.743829</td>\n",
              "      <td>-0.750760</td>\n",
              "      <td>-0.737317</td>\n",
              "      <td>-0.739676</td>\n",
              "      <td>-0.743685</td>\n",
              "      <td>-0.741123</td>\n",
              "      <td>-0.726319</td>\n",
              "    </tr>\n",
              "    <tr>\n",
              "      <th>1</th>\n",
              "      <td>-0.029106</td>\n",
              "      <td>0.058393</td>\n",
              "      <td>0.097492</td>\n",
              "      <td>0.176072</td>\n",
              "      <td>0.252220</td>\n",
              "      <td>0.321616</td>\n",
              "      <td>0.351309</td>\n",
              "      <td>0.440760</td>\n",
              "      <td>0.541761</td>\n",
              "      <td>0.614251</td>\n",
              "      <td>0.759627</td>\n",
              "      <td>0.872982</td>\n",
              "      <td>1.007569</td>\n",
              "      <td>1.092859</td>\n",
              "      <td>1.217410</td>\n",
              "      <td>1.210103</td>\n",
              "      <td>1.180250</td>\n",
              "      <td>1.145298</td>\n",
              "    </tr>\n",
              "    <tr>\n",
              "      <th>2</th>\n",
              "      <td>-0.475949</td>\n",
              "      <td>-0.465223</td>\n",
              "      <td>-0.467830</td>\n",
              "      <td>-0.465512</td>\n",
              "      <td>-0.419956</td>\n",
              "      <td>-0.337159</td>\n",
              "      <td>-0.221138</td>\n",
              "      <td>-0.108119</td>\n",
              "      <td>-0.193446</td>\n",
              "      <td>-0.206958</td>\n",
              "      <td>-0.141156</td>\n",
              "      <td>-0.078927</td>\n",
              "      <td>-0.159886</td>\n",
              "      <td>-0.183142</td>\n",
              "      <td>-0.183298</td>\n",
              "      <td>-0.181971</td>\n",
              "      <td>-0.176013</td>\n",
              "      <td>-0.169232</td>\n",
              "    </tr>\n",
              "    <tr>\n",
              "      <th>3</th>\n",
              "      <td>-0.726984</td>\n",
              "      <td>-0.754992</td>\n",
              "      <td>-0.782444</td>\n",
              "      <td>-0.806354</td>\n",
              "      <td>-0.822243</td>\n",
              "      <td>-0.831241</td>\n",
              "      <td>-0.876851</td>\n",
              "      <td>-0.884834</td>\n",
              "      <td>-0.896916</td>\n",
              "      <td>-0.876092</td>\n",
              "      <td>-0.848914</td>\n",
              "      <td>-0.820364</td>\n",
              "      <td>-0.827002</td>\n",
              "      <td>-0.797858</td>\n",
              "      <td>-0.803123</td>\n",
              "      <td>-0.782761</td>\n",
              "      <td>-0.775521</td>\n",
              "      <td>-0.755639</td>\n",
              "    </tr>\n",
              "    <tr>\n",
              "      <th>4</th>\n",
              "      <td>-0.902708</td>\n",
              "      <td>-0.912585</td>\n",
              "      <td>-0.895509</td>\n",
              "      <td>-0.901589</td>\n",
              "      <td>-0.908811</td>\n",
              "      <td>-0.918734</td>\n",
              "      <td>-0.928892</td>\n",
              "      <td>-0.941793</td>\n",
              "      <td>-0.949809</td>\n",
              "      <td>-0.926784</td>\n",
              "      <td>-0.893458</td>\n",
              "      <td>-0.868199</td>\n",
              "      <td>-0.869888</td>\n",
              "      <td>-0.839770</td>\n",
              "      <td>-0.842167</td>\n",
              "      <td>-0.826721</td>\n",
              "      <td>-0.819747</td>\n",
              "      <td>-0.799620</td>\n",
              "    </tr>\n",
              "  </tbody>\n",
              "</table>\n",
              "</div>"
            ],
            "text/plain": [
              "       1990      1991      1992  ...      2005      2006      2007\n",
              "0 -0.651673 -0.653318 -0.634969  ... -0.743685 -0.741123 -0.726319\n",
              "1 -0.029106  0.058393  0.097492  ...  1.210103  1.180250  1.145298\n",
              "2 -0.475949 -0.465223 -0.467830  ... -0.181971 -0.176013 -0.169232\n",
              "3 -0.726984 -0.754992 -0.782444  ... -0.782761 -0.775521 -0.755639\n",
              "4 -0.902708 -0.912585 -0.895509  ... -0.826721 -0.819747 -0.799620\n",
              "\n",
              "[5 rows x 18 columns]"
            ]
          },
          "metadata": {
            "tags": []
          },
          "execution_count": 56
        }
      ]
    },
    {
      "cell_type": "code",
      "metadata": {
        "id": "94NydlTFxU17",
        "colab_type": "code",
        "colab": {}
      },
      "source": [
        "X_scaled = X_scaled.dropna()\n",
        "pca_model = pca.fit(X_scaled)"
      ],
      "execution_count": 0,
      "outputs": []
    },
    {
      "cell_type": "code",
      "metadata": {
        "id": "6Z3dEprqvgzD",
        "colab_type": "code",
        "colab": {
          "base_uri": "https://localhost:8080/",
          "height": 102
        },
        "outputId": "30c15243-35a6-4dd4-d796-4e19687eaad2"
      },
      "source": [
        "pca_model.explained_variance_ratio_"
      ],
      "execution_count": 62,
      "outputs": [
        {
          "output_type": "execute_result",
          "data": {
            "text/plain": [
              "array([9.21943130e-01, 6.18018078e-02, 6.19900601e-03, 2.91595820e-03,\n",
              "       2.38970916e-03, 1.54415569e-03, 1.02660287e-03, 7.15513649e-04,\n",
              "       4.51499179e-04, 3.60571159e-04, 2.37515440e-04, 1.19903451e-04,\n",
              "       9.25311592e-05, 7.46523326e-05, 7.23214680e-05, 3.53284736e-05,\n",
              "       1.32037752e-05, 6.59002077e-06])"
            ]
          },
          "metadata": {
            "tags": []
          },
          "execution_count": 62
        }
      ]
    },
    {
      "cell_type": "code",
      "metadata": {
        "id": "4TR3RKZiwFgY",
        "colab_type": "code",
        "colab": {
          "base_uri": "https://localhost:8080/",
          "height": 85
        },
        "outputId": "f2bc8f58-9e89-4197-8853-3683e9a3ff8b"
      },
      "source": [
        "np.cumsum(pca_model.explained_variance_ratio_)"
      ],
      "execution_count": 63,
      "outputs": [
        {
          "output_type": "execute_result",
          "data": {
            "text/plain": [
              "array([0.92194313, 0.98374494, 0.98994394, 0.9928599 , 0.99524961,\n",
              "       0.99679377, 0.99782037, 0.99853588, 0.99898738, 0.99934795,\n",
              "       0.99958547, 0.99970537, 0.9997979 , 0.99987256, 0.99994488,\n",
              "       0.99998021, 0.99999341, 1.        ])"
            ]
          },
          "metadata": {
            "tags": []
          },
          "execution_count": 63
        }
      ]
    },
    {
      "cell_type": "code",
      "metadata": {
        "id": "XXR7m8RlzTsA",
        "colab_type": "code",
        "colab": {
          "base_uri": "https://localhost:8080/",
          "height": 295
        },
        "outputId": "73b4bcce-c5b4-4129-ace8-c01d727a89a1"
      },
      "source": [
        "#Plotting the Cumulative Summation of the Explained Variance\n",
        "plt.figure()\n",
        "plt.plot(np.cumsum(pca_model.explained_variance_ratio_))\n",
        "plt.xlabel('Number of Components')\n",
        "plt.ylabel('Variance (%)') #for each component\n",
        "plt.title('TB Dataset Explained Variance')\n",
        "plt.show()"
      ],
      "execution_count": 65,
      "outputs": [
        {
          "output_type": "display_data",
          "data": {
            "image/png": "[encoded data removed]",
            "text/plain": [
              "<Figure size 432x288 with 1 Axes>"
            ]
          },
          "metadata": {
            "tags": []
          }
        }
      ]
    },
    {
      "cell_type": "markdown",
      "metadata": {
        "id": "99X8ihouyle0",
        "colab_type": "text"
      },
      "source": [
        "# Thus from above output we can say that 5 components can explain our whole data set."
      ]
    },
    {
      "cell_type": "markdown",
      "metadata": {
        "id": "-gn3-Tloz1Uf",
        "colab_type": "text"
      },
      "source": [
        "#3. Clustering: Use PCA dimensions to cluster the data. Apply K-means and Agglomerative clustering.\n",
        "(30 Marks)\n",
        "Some pointers which would help you, but don’t be limited by these\n",
        "a. Find the optimal K Value. (5 marks)\n",
        "b. Apply Clustering and find out if the data points have been clustered correctly using appropriate\n",
        "visualization (20 marks)\n",
        "UNSUPERVISED LEARNING\n",
        "c. Evaluate the clusters formed using appropriate metrics to support the model built and compare\n",
        "both the models. (5 marks)\n"
      ]
    },
    {
      "cell_type": "code",
      "metadata": {
        "id": "wOINyHuyykZ5",
        "colab_type": "code",
        "colab": {}
      },
      "source": [
        "# K- Means Clustering\n",
        "from sklearn.cluster import KMeans"
      ],
      "execution_count": 0,
      "outputs": []
    },
    {
      "cell_type": "code",
      "metadata": {
        "id": "6HUo8C8Iyeoh",
        "colab_type": "code",
        "colab": {
          "base_uri": "https://localhost:8080/",
          "height": 204
        },
        "outputId": "292294e6-977d-4254-8196-c1427ec5f005"
      },
      "source": [
        "# As we selected 3 components for our analysis because it is explaining data set thoroughly .\n",
        "pca_model =  PCA(n_components=3)\n",
        "df_pca=pd.DataFrame(pca_model.fit_transform(X_scaled),columns=[\"pc1\",\"pc2\",'pc3'])\n",
        "df_pca.head()"
      ],
      "execution_count": 80,
      "outputs": [
        {
          "output_type": "execute_result",
          "data": {
            "text/html": [
              "<div>\n",
              "<style scoped>\n",
              "    .dataframe tbody tr th:only-of-type {\n",
              "        vertical-align: middle;\n",
              "    }\n",
              "\n",
              "    .dataframe tbody tr th {\n",
              "        vertical-align: top;\n",
              "    }\n",
              "\n",
              "    .dataframe thead th {\n",
              "        text-align: right;\n",
              "    }\n",
              "</style>\n",
              "<table border=\"1\" class=\"dataframe\">\n",
              "  <thead>\n",
              "    <tr style=\"text-align: right;\">\n",
              "      <th></th>\n",
              "      <th>pc1</th>\n",
              "      <th>pc2</th>\n",
              "      <th>pc3</th>\n",
              "    </tr>\n",
              "  </thead>\n",
              "  <tbody>\n",
              "    <tr>\n",
              "      <th>0</th>\n",
              "      <td>-2.930719</td>\n",
              "      <td>0.129749</td>\n",
              "      <td>-0.055565</td>\n",
              "    </tr>\n",
              "    <tr>\n",
              "      <th>1</th>\n",
              "      <td>2.778856</td>\n",
              "      <td>-1.779665</td>\n",
              "      <td>-0.013797</td>\n",
              "    </tr>\n",
              "    <tr>\n",
              "      <th>2</th>\n",
              "      <td>-0.988644</td>\n",
              "      <td>-0.464402</td>\n",
              "      <td>0.351879</td>\n",
              "    </tr>\n",
              "    <tr>\n",
              "      <th>3</th>\n",
              "      <td>-3.359093</td>\n",
              "      <td>-0.028867</td>\n",
              "      <td>-0.126507</td>\n",
              "    </tr>\n",
              "    <tr>\n",
              "      <th>4</th>\n",
              "      <td>-3.658999</td>\n",
              "      <td>-0.168818</td>\n",
              "      <td>-0.045919</td>\n",
              "    </tr>\n",
              "  </tbody>\n",
              "</table>\n",
              "</div>"
            ],
            "text/plain": [
              "        pc1       pc2       pc3\n",
              "0 -2.930719  0.129749 -0.055565\n",
              "1  2.778856 -1.779665 -0.013797\n",
              "2 -0.988644 -0.464402  0.351879\n",
              "3 -3.359093 -0.028867 -0.126507\n",
              "4 -3.658999 -0.168818 -0.045919"
            ]
          },
          "metadata": {
            "tags": []
          },
          "execution_count": 80
        }
      ]
    },
    {
      "cell_type": "code",
      "metadata": {
        "id": "ICsK1Km60ZZB",
        "colab_type": "code",
        "colab": {
          "base_uri": "https://localhost:8080/",
          "height": 359
        },
        "outputId": "1c395e17-312b-42a4-cf36-621ad4b82239"
      },
      "source": [
        "# Optimal K-value\n",
        "kmeans = KMeans()\n",
        "cluster_range = range(2,12)  # Selecting the cluster range\n",
        "cluster_inertia = []\n",
        "for n in cluster_range:\n",
        "    model = KMeans(n)\n",
        "    model.fit(df_pca)  # Using PCA components for Analysis\n",
        "    cluster_inertia.append(model.inertia_)\n",
        "Inertia_Frame = pd.DataFrame({'k-value/Number Of Clusters':cluster_range,'Value of Inertia Obtained':cluster_inertia})\n",
        "Inertia_Frame"
      ],
      "execution_count": 81,
      "outputs": [
        {
          "output_type": "execute_result",
          "data": {
            "text/html": [
              "<div>\n",
              "<style scoped>\n",
              "    .dataframe tbody tr th:only-of-type {\n",
              "        vertical-align: middle;\n",
              "    }\n",
              "\n",
              "    .dataframe tbody tr th {\n",
              "        vertical-align: top;\n",
              "    }\n",
              "\n",
              "    .dataframe thead th {\n",
              "        text-align: right;\n",
              "    }\n",
              "</style>\n",
              "<table border=\"1\" class=\"dataframe\">\n",
              "  <thead>\n",
              "    <tr style=\"text-align: right;\">\n",
              "      <th></th>\n",
              "      <th>k-value/Number Of Clusters</th>\n",
              "      <th>Value of Inertia Obtained</th>\n",
              "    </tr>\n",
              "  </thead>\n",
              "  <tbody>\n",
              "    <tr>\n",
              "      <th>0</th>\n",
              "      <td>2</td>\n",
              "      <td>553.622833</td>\n",
              "    </tr>\n",
              "    <tr>\n",
              "      <th>1</th>\n",
              "      <td>3</td>\n",
              "      <td>346.999927</td>\n",
              "    </tr>\n",
              "    <tr>\n",
              "      <th>2</th>\n",
              "      <td>4</td>\n",
              "      <td>262.775199</td>\n",
              "    </tr>\n",
              "    <tr>\n",
              "      <th>3</th>\n",
              "      <td>5</td>\n",
              "      <td>191.651636</td>\n",
              "    </tr>\n",
              "    <tr>\n",
              "      <th>4</th>\n",
              "      <td>6</td>\n",
              "      <td>157.079036</td>\n",
              "    </tr>\n",
              "    <tr>\n",
              "      <th>5</th>\n",
              "      <td>7</td>\n",
              "      <td>131.373230</td>\n",
              "    </tr>\n",
              "    <tr>\n",
              "      <th>6</th>\n",
              "      <td>8</td>\n",
              "      <td>107.903530</td>\n",
              "    </tr>\n",
              "    <tr>\n",
              "      <th>7</th>\n",
              "      <td>9</td>\n",
              "      <td>96.296837</td>\n",
              "    </tr>\n",
              "    <tr>\n",
              "      <th>8</th>\n",
              "      <td>10</td>\n",
              "      <td>87.691570</td>\n",
              "    </tr>\n",
              "    <tr>\n",
              "      <th>9</th>\n",
              "      <td>11</td>\n",
              "      <td>77.682101</td>\n",
              "    </tr>\n",
              "  </tbody>\n",
              "</table>\n",
              "</div>"
            ],
            "text/plain": [
              "   k-value/Number Of Clusters  Value of Inertia Obtained\n",
              "0                           2                 553.622833\n",
              "1                           3                 346.999927\n",
              "2                           4                 262.775199\n",
              "3                           5                 191.651636\n",
              "4                           6                 157.079036\n",
              "5                           7                 131.373230\n",
              "6                           8                 107.903530\n",
              "7                           9                  96.296837\n",
              "8                          10                  87.691570\n",
              "9                          11                  77.682101"
            ]
          },
          "metadata": {
            "tags": []
          },
          "execution_count": 81
        }
      ]
    },
    {
      "cell_type": "markdown",
      "metadata": {
        "id": "_eur8REK3_Gn",
        "colab_type": "text"
      },
      "source": [
        "There is a high decrease in inertia 2-3 and after that there is almost constant decrease \n",
        "Thus we can say that there are 3 prominent clusters ."
      ]
    },
    {
      "cell_type": "code",
      "metadata": {
        "id": "X0V9Ab2x2fTm",
        "colab_type": "code",
        "colab": {
          "base_uri": "https://localhost:8080/",
          "height": 367
        },
        "outputId": "121a23ee-d48e-4f94-aba2-4c0e37d8571e"
      },
      "source": [
        "plt.figure(figsize=(12,5))\n",
        "sns.lineplot(x=cluster_range,y=cluster_inertia,marker=\"o\",color='g')\n",
        "plt.xlabel('Number Of Clusters(k-value)')\n",
        "plt.ylabel('Value/Amount of Inertia')\n",
        "plt.title('Elbow Plot')"
      ],
      "execution_count": 82,
      "outputs": [
        {
          "output_type": "execute_result",
          "data": {
            "text/plain": [
              "Text(0.5, 1.0, 'Elbow Plot')"
            ]
          },
          "metadata": {
            "tags": []
          },
          "execution_count": 82
        },
        {
          "output_type": "display_data",
          "data": {
            "image/png": "[encoded data removed]",
            "text/plain": [
              "<Figure size 864x360 with 1 Axes>"
            ]
          },
          "metadata": {
            "tags": []
          }
        }
      ]
    },
    {
      "cell_type": "markdown",
      "metadata": {
        "id": "RrjIYYNR4TZX",
        "colab_type": "text"
      },
      "source": [
        "From the Elbow plot also we can see that Sudden change or elbow is unfolding at 3 after that clusters are decreasing inertia in a constant fashion with respect to previous clusters."
      ]
    },
    {
      "cell_type": "code",
      "metadata": {
        "id": "fxt7evRx3J1D",
        "colab_type": "code",
        "colab": {
          "base_uri": "https://localhost:8080/",
          "height": 34
        },
        "outputId": "34c32bbb-e1ab-4da8-8d7c-c7b491350060"
      },
      "source": [
        "# Selecting 3 clusters for the Kmeans and creating model\n",
        "model = KMeans(n_clusters=3,n_init=10,random_state=0)\n",
        "model.fit(df_pca)\n",
        "print('Inertia of Model',model.inertia_)\n",
        "centroids = model.cluster_centers_\n"
      ],
      "execution_count": 94,
      "outputs": [
        {
          "output_type": "stream",
          "text": [
            "Inertia of Model 346.99992735492924\n"
          ],
          "name": "stdout"
        }
      ]
    },
    {
      "cell_type": "code",
      "metadata": {
        "id": "kic-qDnq5ANk",
        "colab_type": "code",
        "colab": {}
      },
      "source": [
        "centroids_df = pd.DataFrame(centroids,columns=df_pca.columns)\n"
      ],
      "execution_count": 0,
      "outputs": []
    },
    {
      "cell_type": "code",
      "metadata": {
        "id": "kZj72Tp45GWJ",
        "colab_type": "code",
        "colab": {
          "base_uri": "https://localhost:8080/",
          "height": 265
        },
        "outputId": "035dc44e-4ac5-4f47-9921-1367e1f4a74f"
      },
      "source": [
        "model.predict(df_pca)\n",
        "df_labelled = pd.DataFrame(df_pca)\n",
        "df_labelled[\"clusters\"] = prediction\n",
        "colors = ['r', 'g', 'b', 'y', 'c', 'm']\n",
        "fig, ax = plt.subplots()\n",
        "c = np.array([3,3])\n",
        "\n",
        "for i in prediction:\n",
        "       points = np.array(df_labelled.loc[df_labelled['clusters'] == i])\n",
        "       #c[i] = np.mean(points, axis=0)\n",
        "       ax.scatter(points[:, 0], points[:, 1], s=7, c=colors[i])\n"
      ],
      "execution_count": 100,
      "outputs": [
        {
          "output_type": "display_data",
          "data": {
            "image/png": "[encoded data removed]",
            "text/plain": [
              "<Figure size 432x288 with 1 Axes>"
            ]
          },
          "metadata": {
            "tags": []
          }
        }
      ]
    },
    {
      "cell_type": "code",
      "metadata": {
        "id": "YiHUAfYD-5Cz",
        "colab_type": "code",
        "colab": {
          "base_uri": "https://localhost:8080/",
          "height": 85
        },
        "outputId": "6914a3bf-3278-4ad3-f762-f43ca59f3f02"
      },
      "source": [
        "df_pca['clusters'].value_counts()"
      ],
      "execution_count": 103,
      "outputs": [
        {
          "output_type": "execute_result",
          "data": {
            "text/plain": [
              "0    98\n",
              "1    37\n",
              "2    13\n",
              "Name: clusters, dtype: int64"
            ]
          },
          "metadata": {
            "tags": []
          },
          "execution_count": 103
        }
      ]
    },
    {
      "cell_type": "code",
      "metadata": {
        "id": "A1B1tjdjBBVe",
        "colab_type": "code",
        "colab": {
          "base_uri": "https://localhost:8080/",
          "height": 742
        },
        "outputId": "a83c54b6-0467-4cb0-bd19-e1a10b1c120c"
      },
      "source": [
        "sns.pairplot(df_pca,diag_kind='kde')"
      ],
      "execution_count": 114,
      "outputs": [
        {
          "output_type": "execute_result",
          "data": {
            "text/plain": [
              "<seaborn.axisgrid.PairGrid at 0x7f935e5bde48>"
            ]
          },
          "metadata": {
            "tags": []
          },
          "execution_count": 114
        },
        {
          "output_type": "display_data",
          "data": {
            "image/png": "[encoded data removed]",
            "text/plain": [
              "<Figure size 720x720 with 20 Axes>"
            ]
          },
          "metadata": {
            "tags": []
          }
        }
      ]
    },
    {
      "cell_type": "markdown",
      "metadata": {
        "id": "utDthYiH9BTb",
        "colab_type": "text"
      },
      "source": [
        "## Above we can see that Data points are spreaded as per clusters formed 0,1,2 using Principal Components."
      ]
    },
    {
      "cell_type": "code",
      "metadata": {
        "id": "HUJ3bvJW6JUb",
        "colab_type": "code",
        "colab": {
          "base_uri": "https://localhost:8080/",
          "height": 68
        },
        "outputId": "059203e6-bef3-4516-8597-d7d293467138"
      },
      "source": [
        "# Agglomerative Clustering \n",
        "\n",
        "from sklearn.cluster import AgglomerativeClustering\n",
        "model_agg = AgglomerativeClustering(n_clusters=2,affinity='euclidean',linkage='ward')\n",
        "model_agg.fit(df_pca)\n"
      ],
      "execution_count": 101,
      "outputs": [
        {
          "output_type": "execute_result",
          "data": {
            "text/plain": [
              "AgglomerativeClustering(affinity='euclidean', compute_full_tree='auto',\n",
              "                        connectivity=None, distance_threshold=None,\n",
              "                        linkage='ward', memory=None, n_clusters=2)"
            ]
          },
          "metadata": {
            "tags": []
          },
          "execution_count": 101
        }
      ]
    },
    {
      "cell_type": "code",
      "metadata": {
        "id": "iYBGIAlo90MM",
        "colab_type": "code",
        "colab": {
          "base_uri": "https://localhost:8080/",
          "height": 1000
        },
        "outputId": "c2a90d89-adf6-44d8-bc6c-55bfbb4b7330"
      },
      "source": [
        "from scipy.cluster.hierarchy import dendrogram,linkage\n",
        "plt.figure(figsize=(15,15))\n",
        "Z = linkage(df_pca,'ward')\n",
        "dendrogram(Z,leaf_rotation=90.0,p=5,color_threshold=450,leaf_font_size=12,truncate_mode='level')\n",
        "plt.tight_layout()"
      ],
      "execution_count": 102,
      "outputs": [
        {
          "output_type": "display_data",
          "data": {
            "image/png": "[encoded data removed]",
            "text/plain": [
              "<Figure size 1080x1080 with 1 Axes>"
            ]
          },
          "metadata": {
            "tags": []
          }
        }
      ]
    },
    {
      "cell_type": "markdown",
      "metadata": {
        "id": "qoVOTwAH-LTH",
        "colab_type": "text"
      },
      "source": [
        "## From the above dendrogram we can see that if we cut the box from 20 distance we can see that there is no intersection with any of the other clusters.\n",
        "## After Cutting we can see that there are 3 prominent clusters we can see from the plot"
      ]
    },
    {
      "cell_type": "code",
      "metadata": {
        "id": "o0aOCThW8wO8",
        "colab_type": "code",
        "colab": {
          "base_uri": "https://localhost:8080/",
          "height": 68
        },
        "outputId": "5bc3ef98-9cca-48e3-f252-8b82407c63cd"
      },
      "source": [
        "# Thus Chossing three clusters and modelling Agglomerative:\n",
        "# By default if we are choosing ward linkage Euclidean Distance will be calculated.\n",
        "# As we have continuous data we can easily go with Euclidedan Distance for good modelling\n",
        "from sklearn.cluster import AgglomerativeClustering\n",
        "model_agg = AgglomerativeClustering(n_clusters=3,affinity='euclidean',linkage='ward')\n",
        "model_agg.fit(df_pca.drop('clusters',axis=1))"
      ],
      "execution_count": 108,
      "outputs": [
        {
          "output_type": "execute_result",
          "data": {
            "text/plain": [
              "AgglomerativeClustering(affinity='euclidean', compute_full_tree='auto',\n",
              "                        connectivity=None, distance_threshold=None,\n",
              "                        linkage='ward', memory=None, n_clusters=3)"
            ]
          },
          "metadata": {
            "tags": []
          },
          "execution_count": 108
        }
      ]
    },
    {
      "cell_type": "code",
      "metadata": {
        "id": "m6Bag3_Q_dJG",
        "colab_type": "code",
        "colab": {
          "base_uri": "https://localhost:8080/",
          "height": 136
        },
        "outputId": "26706a75-78c1-4148-9a72-d03208da248b"
      },
      "source": [
        "model_agg.labels_"
      ],
      "execution_count": 109,
      "outputs": [
        {
          "output_type": "execute_result",
          "data": {
            "text/plain": [
              "array([1, 0, 1, 1, 1, 1, 1, 1, 0, 1, 1, 1, 1, 1, 1, 2, 1, 1, 2, 0, 1, 1,\n",
              "       1, 0, 1, 0, 0, 0, 1, 0, 1, 1, 2, 1, 1, 2, 0, 1, 0, 1, 1, 0, 2, 0,\n",
              "       1, 1, 2, 1, 1, 1, 0, 1, 2, 1, 0, 0, 1, 1, 0, 0, 1, 1, 2, 0, 1, 0,\n",
              "       1, 1, 1, 1, 0, 1, 1, 1, 1, 0, 0, 1, 1, 1, 1, 1, 1, 0, 0, 1, 1, 1,\n",
              "       1, 1, 1, 0, 1, 1, 0, 1, 0, 0, 1, 1, 2, 1, 0, 1, 0, 0, 1, 1, 1, 2,\n",
              "       0, 0, 1, 1, 1, 0, 1, 1, 0, 1, 1, 1, 2, 1, 0, 1, 1, 0, 1, 1, 1, 0,\n",
              "       1, 1, 1, 1, 1, 0, 1, 0, 1, 1, 1, 0, 2, 1, 0, 1])"
            ]
          },
          "metadata": {
            "tags": []
          },
          "execution_count": 109
        }
      ]
    },
    {
      "cell_type": "code",
      "metadata": {
        "id": "SQWV8mbJ_guT",
        "colab_type": "code",
        "colab": {
          "base_uri": "https://localhost:8080/",
          "height": 265
        },
        "outputId": "d729b471-3979-4b28-91a3-11604b39b11d"
      },
      "source": [
        "prediction = model_agg.fit_predict(df_pca)\n",
        "df_labelled = pd.DataFrame(df_pca)\n",
        "df_labelled[\"clusters\"] = prediction\n",
        "colors = ['r', 'g', 'b', 'y', 'c', 'm']\n",
        "fig, ax = plt.subplots()\n",
        "c = np.array([3,3])\n",
        "\n",
        "for i in prediction:\n",
        "       points = np.array(df_labelled.loc[df_labelled['clusters'] == i])\n",
        "       #c[i] = np.mean(points, axis=0)\n",
        "       ax.scatter(points[:, 0], points[:, 1], s=7, c=colors[i])"
      ],
      "execution_count": 110,
      "outputs": [
        {
          "output_type": "display_data",
          "data": {
            "image/png": "[encoded data removed]",
            "text/plain": [
              "<Figure size 432x288 with 1 Axes>"
            ]
          },
          "metadata": {
            "tags": []
          }
        }
      ]
    },
    {
      "cell_type": "markdown",
      "metadata": {
        "id": "oI7WVS6nAnID",
        "colab_type": "text"
      },
      "source": [
        "## Above we can see visualisation after Agglomerative Clustering that how data points are clustered after creating selecting number of clusters as 3 by Dendrogram Approach"
      ]
    },
    {
      "cell_type": "markdown",
      "metadata": {
        "id": "-qncedPlBxGa",
        "colab_type": "text"
      },
      "source": [
        "## Hence from Above we can observe that for both Agglomertaive(Divisive,Bottom-Top Approach) and K-Means(Distance Based i.e Euclidian,Manhattan,l1,l2) ,in both of the heirarchial approaches clusters are sepaarated and came out to be 3.\n",
        "## K-Means Clustering\n",
        "##1. optimal-K =  Number of Clusters = 3\n",
        "##2. Evaluation Metrics:\n",
        "   ### 1. Elbow Plot\n",
        "   ### 2. Visualisation of CLusters with respect to the Data Points\n",
        "   ### 3. Calculation of Inertia which was majorly changing from 2-3.\n",
        "## Agglomerative Clustering\n",
        "### We calculated the number of clusters as 3 from the dendrogram.\n",
        "  ### 1. Evaluation Metrics was dendrogram which was truncated at 20 distance and 3  prominent clusters were formed."
      ]
    },
    {
      "cell_type": "markdown",
      "metadata": {
        "id": "OSkFb0jGDlYF",
        "colab_type": "text"
      },
      "source": [
        "#4. Use the cluster labels from the best method above and convert the problem to a supervised learning\n",
        "classification. (15 marks)\n",
        "a. Split dataset into train and test (70:30) (2 marks)\n",
        "b. Are both train and test representative of the overall data? How would you ascertain this\n",
        "statistically? (3 marks)\n",
        "c. In case of a Supervised Machine Learning Problem, how will you decide when to apply\n",
        "PCA & How do you improve the accuracy of the model? Write clearly the changes that\n",
        "you will make before re-fitting the model. Fit the final model. Please feel free to have any number\n",
        "of iterations to get to the final answer. Marks are awarded based on the quality of final model\n",
        "you are able to achieve. (10 marks)"
      ]
    },
    {
      "cell_type": "code",
      "metadata": {
        "id": "o2StZ0PUD-bn",
        "colab_type": "code",
        "colab": {
          "base_uri": "https://localhost:8080/",
          "height": 85
        },
        "outputId": "4e25c6a8-0a7c-4619-f7a1-5449a3ab4bbd"
      },
      "source": [
        "df.head()  # original data set\n",
        "# We will drop the column class and add KMeans provided labels for supervised learning.\n",
        "df_suv = df.drop('class',axis=1)\n",
        "df_suv['labels'] = model_agg.labels_\n",
        "df_suv['labels'].value_counts()"
      ],
      "execution_count": 173,
      "outputs": [
        {
          "output_type": "execute_result",
          "data": {
            "text/plain": [
              "1    94\n",
              "0    42\n",
              "2    12\n",
              "Name: labels, dtype: int64"
            ]
          },
          "metadata": {
            "tags": []
          },
          "execution_count": 173
        }
      ]
    },
    {
      "cell_type": "code",
      "metadata": {
        "id": "S65e3FxNEGo5",
        "colab_type": "code",
        "colab": {
          "base_uri": "https://localhost:8080/",
          "height": 85
        },
        "outputId": "f5bf4671-818c-43f0-b39e-e21225cef372"
      },
      "source": [
        "df_suv['labels'].value_counts()"
      ],
      "execution_count": 174,
      "outputs": [
        {
          "output_type": "execute_result",
          "data": {
            "text/plain": [
              "1    94\n",
              "0    42\n",
              "2    12\n",
              "Name: labels, dtype: int64"
            ]
          },
          "metadata": {
            "tags": []
          },
          "execution_count": 174
        }
      ]
    },
    {
      "cell_type": "code",
      "metadata": {
        "id": "fc0C4ItDFxhi",
        "colab_type": "code",
        "colab": {}
      },
      "source": [
        "X =  df_suv.drop('labels',axis=1)\n",
        "y = df_suv['labels']"
      ],
      "execution_count": 0,
      "outputs": []
    },
    {
      "cell_type": "code",
      "metadata": {
        "id": "q1okF1y0FboZ",
        "colab_type": "code",
        "colab": {
          "base_uri": "https://localhost:8080/",
          "height": 51
        },
        "outputId": "87575491-676a-41c9-a803-1ef0cca8c54d"
      },
      "source": [
        "# Train and Test split 70:30\n",
        "from sklearn.model_selection import train_test_split\n",
        "Xtrain, Xtest, ytrain, ytest = train_test_split( X, y, test_size=0.3, random_state=0)\n",
        "print(Xtrain.shape)\n",
        "print(Xtest.shape)"
      ],
      "execution_count": 176,
      "outputs": [
        {
          "output_type": "stream",
          "text": [
            "(103, 19)\n",
            "(45, 19)\n"
          ],
          "name": "stdout"
        }
      ]
    },
    {
      "cell_type": "code",
      "metadata": {
        "id": "ThMgUKg3JL47",
        "colab_type": "code",
        "colab": {
          "base_uri": "https://localhost:8080/",
          "height": 34
        },
        "outputId": "7a3bf734-8d96-4a89-9b35-1f11b3a27318"
      },
      "source": [
        "#Xtrain.dropna(inplace=True)\n",
        "#Xtrain.drop(Xtrain.index[13],inplace=True)\n",
        "Xtest.isna().sum().sum()"
      ],
      "execution_count": 177,
      "outputs": [
        {
          "output_type": "execute_result",
          "data": {
            "text/plain": [
              "0"
            ]
          },
          "metadata": {
            "tags": []
          },
          "execution_count": 177
        }
      ]
    },
    {
      "cell_type": "markdown",
      "metadata": {
        "id": "e-Yy7NFKHDHh",
        "colab_type": "text"
      },
      "source": [
        "### 1. As we can see from above that there are 18 features and Training Data set is 105 while test data set is 45 rows only .\n",
        "### 2. We can say that dimensions are not evenly spreaded for proper training of the model.\n",
        "### 3. Problem of Dimensionality aka Curse of dimensionlaity can arise in this case.\n",
        "### 4. Feature selection can be done as we have already seen that there is a high multicollinearity between features.\n",
        "### 5. PCA can help in the feature selection leading to improving our model./\n"
      ]
    },
    {
      "cell_type": "code",
      "metadata": {
        "id": "OfcTUKA1M72s",
        "colab_type": "code",
        "colab": {}
      },
      "source": [
        "from sklearn.linear_model import LogisticRegression\n",
        "from sklearn.model_selection import cross_val_score\n",
        "from sklearn import metrics\n",
        "from sklearn import model_selection\n",
        "from sklearn.tree import DecisionTreeClassifier\n",
        "from sklearn.linear_model import LogisticRegression\n",
        "from sklearn.naive_bayes import GaussianNB\n",
        "from sklearn.neighbors import KNeighborsClassifier\n",
        "from sklearn.tree import DecisionTreeClassifier\n",
        "from sklearn.ensemble import RandomForestClassifier,BaggingClassifier,AdaBoostClassifier,GradientBoostingClassifier\n",
        "LR= LogisticRegression()\n",
        "dt=DecisionTreeClassifier()\n",
        "DT=DecisionTreeClassifier()\n",
        "RF=RandomForestClassifier(criterion='entropy')"
      ],
      "execution_count": 0,
      "outputs": []
    },
    {
      "cell_type": "code",
      "metadata": {
        "id": "K4SAiSncGKxp",
        "colab_type": "code",
        "colab": {
          "base_uri": "https://localhost:8080/",
          "height": 68
        },
        "outputId": "c240bd4e-964e-4f9a-a7bf-0fce3fca0b68"
      },
      "source": [
        "models = []\n",
        "models.append(('Logistic Regression',LR))\n",
        "models.append(('DT',dt))\n",
        "models.append(('RandomForest',RF))\n",
        "results = []\n",
        "names = []\n",
        "for name, model in models:\n",
        "    kfold = model_selection.KFold(shuffle=True,random_state=0)\n",
        "    cv_results = model_selection.cross_val_score(model,Xtrain,ytrain,cv=kfold,scoring='f1_weighted')\n",
        "    results.append(np.sqrt(np.abs(cv_results)))\n",
        "    names.append(name)\n",
        "    print(\"%s: %f (%f)\" % (name, 1-np.mean(cv_results),np.std(cv_results,ddof=1)))\n"
      ],
      "execution_count": 179,
      "outputs": [
        {
          "output_type": "stream",
          "text": [
            "Logistic Regression: nan (nan)\n",
            "DT: nan (nan)\n",
            "RandomForest: nan (nan)\n"
          ],
          "name": "stdout"
        }
      ]
    },
    {
      "cell_type": "markdown",
      "metadata": {
        "id": "0lXYl_SJOABE",
        "colab_type": "text"
      },
      "source": [
        "## With PCA :\n"
      ]
    },
    {
      "cell_type": "code",
      "metadata": {
        "id": "p6h7JaClIYUq",
        "colab_type": "code",
        "colab": {
          "base_uri": "https://localhost:8080/",
          "height": 51
        },
        "outputId": "71de5bcb-8146-4023-be5a-c68a3faf60d8"
      },
      "source": [
        "X_pca=  df_pca.drop('clusters',axis=1)\n",
        "y_pca= df_pca['clusters']\n",
        "from sklearn.model_selection import train_test_split\n",
        "Xtrain_pca, Xtest_pca, ytrain_pca, ytest_pca = train_test_split( X_pca, y_pca, test_size=0.3, random_state=0)\n",
        "print(Xtrain_pca.shape)\n",
        "print(Xtest_pca.shape)"
      ],
      "execution_count": 181,
      "outputs": [
        {
          "output_type": "stream",
          "text": [
            "(103, 3)\n",
            "(45, 3)\n"
          ],
          "name": "stdout"
        }
      ]
    },
    {
      "cell_type": "code",
      "metadata": {
        "id": "UK8ixg94OInn",
        "colab_type": "code",
        "colab": {
          "base_uri": "https://localhost:8080/",
          "height": 68
        },
        "outputId": "8b8a85a5-019d-467d-9c98-e7e1f7ae52d3"
      },
      "source": [
        "models = []\n",
        "models.append(('Logistic Regression',LR))\n",
        "models.append(('DT',dt))\n",
        "models.append(('RandomForest',RF))\n",
        "results = []\n",
        "names = []\n",
        "for name, model in models:\n",
        "    kfold = model_selection.KFold(shuffle=True,random_state=0)\n",
        "    cv_results = model_selection.cross_val_score(model,Xtrain_pca,ytrain_pca,cv=kfold,scoring='f1_weighted')\n",
        "    results.append(np.sqrt(np.abs(cv_results)))\n",
        "    names.append(name)\n",
        "    print(\"%s: %f (%f)\" % (name, 1-np.mean(cv_results),np.std(cv_results,ddof=1)))\n"
      ],
      "execution_count": 182,
      "outputs": [
        {
          "output_type": "stream",
          "text": [
            "Logistic Regression: 0.025443 (0.025446)\n",
            "DT: 0.029698 (0.027204)\n",
            "RandomForest: 0.056950 (0.075727)\n"
          ],
          "name": "stdout"
        }
      ]
    },
    {
      "cell_type": "markdown",
      "metadata": {
        "id": "8koa5ovSO1nZ",
        "colab_type": "text"
      },
      "source": [
        "# Hence From Above we can perceive that We have to do PCA as there are very less number of Components.\n",
        "# Also after doing PCA we applied Logistic,Decision Tree and RandomForest Classifiers .\n",
        "# From This we can see that Random Forest is Behaving Accurately with PCA as there is too much of mutlicollinearity in the data itself."
      ]
    },
    {
      "cell_type": "markdown",
      "metadata": {
        "id": "ipRTMZUwPjsD",
        "colab_type": "text"
      },
      "source": [
        "#a. Summarize the overall fit of the model. Compare all the clustering and classification models built\n",
        "and list down the measures to prove that it is a good model.\n",
        "b. Write down a business interpretation/explanation of the model.\n",
        "c. Which variables are affecting the target the most and explain the relationship. Feel free to use\n",
        "charts or graphs to explain.\n",
        "d. What changes from the base model had the most effect on model performance?\n",
        "e. What are the key risks to your results and interpretation?"
      ]
    },
    {
      "cell_type": "markdown",
      "metadata": {
        "id": "cq5WARczPnvC",
        "colab_type": "text"
      },
      "source": [
        "# 1. Random Forest for our dataset is good Model .As it can Handles Multi Class and Distance base algorithm easily also bias error can be removed in our data set which can be there due to less training of the data.\n",
        "# 2. As we can see from the clusters TB has spread in the Cluster 1 the most and then 2 and then 0 .Thus we can tell business to focus medicines of TB Cure there and medicine of TV prevention in the cluster 0.\n",
        "# 3. As it is spreading over the year thus there is no specific information can be retrieved from the given featurres. We can say over the year it is increasing gradually in each clusters.\n",
        "#4.  Base Model has less number of data set with compared to number of features available thus PCA i.e. Feature selection is necessary for improving the model.Thus decreaing multicollinearity.\n",
        "#.5. Key risks are. Multicollinearity in data set. Less training Data Sample.Risk of leaving some points while PCA as it lowers the dimensions space.Also,statistical analysis of the classes impacting or not. "
      ]
    },
    {
      "cell_type": "code",
      "metadata": {
        "id": "VcGg3H6PQE4a",
        "colab_type": "code",
        "colab": {
          "base_uri": "https://localhost:8080/",
          "height": 293
        },
        "outputId": "1d94ec52-6310-4398-8512-7dfe9da9afa5"
      },
      "source": [
        "df_suv['TB'].groupby(df_suv['labels']).agg({'labels':'count'}).plot.bar()"
      ],
      "execution_count": 190,
      "outputs": [
        {
          "output_type": "execute_result",
          "data": {
            "text/plain": [
              "<matplotlib.axes._subplots.AxesSubplot at 0x7f935d9a5978>"
            ]
          },
          "metadata": {
            "tags": []
          },
          "execution_count": 190
        },
        {
          "output_type": "display_data",
          "data": {
            "image/png": "[encoded data removed]",
            "text/plain": [
              "<Figure size 432x288 with 1 Axes>"
            ]
          },
          "metadata": {
            "tags": []
          }
        }
      ]
    },
    {
      "cell_type": "markdown",
      "metadata": {
        "id": "Dfz7nY3_Q_mj",
        "colab_type": "text"
      },
      "source": [
        ""
      ]
    },
    {
      "cell_type": "code",
      "metadata": {
        "id": "iAWId2cXQjt_",
        "colab_type": "code",
        "colab": {
          "base_uri": "https://localhost:8080/",
          "height": 296
        },
        "outputId": "9045a45c-1a31-46de-e266-6fac77b5970f"
      },
      "source": [
        "sns.scatterplot(df_suv['TB'],df_suv['labels'])"
      ],
      "execution_count": 188,
      "outputs": [
        {
          "output_type": "execute_result",
          "data": {
            "text/plain": [
              "<matplotlib.axes._subplots.AxesSubplot at 0x7f935dca2a20>"
            ]
          },
          "metadata": {
            "tags": []
          },
          "execution_count": 188
        },
        {
          "output_type": "display_data",
          "data": {
            "image/png": "[encoded data removed]",
            "text/plain": [
              "<Figure size 432x288 with 1 Axes>"
            ]
          },
          "metadata": {
            "tags": []
          }
        }
      ]
    },
    {
      "cell_type": "markdown",
      "metadata": {
        "id": "Q9_XjEoHPnrY",
        "colab_type": "text"
      },
      "source": [
        "sns.scatterplot(d]"
      ]
    },
    {
      "cell_type": "markdown",
      "metadata": {
        "id": "5Z_LDr1gPnne",
        "colab_type": "text"
      },
      "source": [
        ""
      ]
    },
    {
      "cell_type": "markdown",
      "metadata": {
        "id": "lFe_JBiEPnkQ",
        "colab_type": "text"
      },
      "source": [
        ""
      ]
    },
    {
      "cell_type": "code",
      "metadata": {
        "id": "O7oyD89vOt2K",
        "colab_type": "code",
        "colab": {}
      },
      "source": [
        ""
      ],
      "execution_count": 0,
      "outputs": []
    }
  ]
}