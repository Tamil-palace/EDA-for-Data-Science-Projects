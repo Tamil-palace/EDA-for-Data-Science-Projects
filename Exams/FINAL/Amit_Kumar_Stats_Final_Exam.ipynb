{
  "nbformat": 4,
  "nbformat_minor": 0,
  "metadata": {
    "colab": {
      "name": "Amit_Kumar_Stats_Final_Exam.ipynb",
      "provenance": [],
      "collapsed_sections": []
    },
    "kernelspec": {
      "name": "python3",
      "display_name": "Python 3"
    }
  },
  "cells": [
    {
      "cell_type": "code",
      "metadata": {
        "id": "KqG9Ns7IqES2",
        "colab_type": "code",
        "colab": {}
      },
      "source": [
        "import numpy as np\n",
        "import pandas as pd\n",
        "import scipy.stats as stats\n",
        "import math\n",
        "import seaborn as sns\n",
        "import matplotlib.pyplot as plt\n",
        "from scipy.stats import ttest_rel,ttest_ind,ttest_1samp\n",
        "import statsmodels.api as sm\n",
        "from   statsmodels.formula.api import ols\n",
        "from statsmodels.stats.anova import anova_lm\n",
        "import warnings \n",
        "warnings.filterwarnings('ignore')\n",
        "from scipy.stats import ttest_1samp,ttest_ind, wilcoxon,levene,bartlett,shapiro,mannwhitneyu\n",
        "import numpy       as np\n",
        "import pandas      as pd\n",
        "import scipy.stats as stats\n",
        "import warnings"
      ],
      "execution_count": 0,
      "outputs": []
    },
    {
      "cell_type": "markdown",
      "metadata": {
        "id": "ZI0MIuuoqy91",
        "colab_type": "text"
      },
      "source": [
        "Question 1. The Bangalore International Airport Ltd.(BIAL) maintains statistics for mishandled baggage per 1,000\n",
        "\n",
        "airline passengers. In the last year 2018-19, on an average they mishandled 1.5 baggage per 1,000\n",
        "customers. What is the probability that in the next 1,000 customers, BIAL will have\n",
        "1. no mishandled baggage (1 MARK)\n",
        "2. at least one mishandled baggage (2MARK)\n",
        "3. at most 3 mishandled baggage(2MARK)"
      ]
    },
    {
      "cell_type": "code",
      "metadata": {
        "id": "_siD-8XBqcEf",
        "colab_type": "code",
        "colab": {}
      },
      "source": [
        "#Given that \n",
        "n = 1000  # Total number of passengers\n",
        "mu = 1.5  # Average number of mishandled bags per 1000\n",
        "p = 1.5/1000"
      ],
      "execution_count": 0,
      "outputs": []
    },
    {
      "cell_type": "code",
      "metadata": {
        "id": "Yz3_8YRHqb7-",
        "colab_type": "code",
        "colab": {
          "base_uri": "https://localhost:8080/",
          "height": 34
        },
        "outputId": "c48669e5-0526-4aac-debb-58dce6edfd3a"
      },
      "source": [
        "# no mishandled baggage\n",
        "stats.binom.cdf(0,1000,p)"
      ],
      "execution_count": 83,
      "outputs": [
        {
          "output_type": "execute_result",
          "data": {
            "text/plain": [
              "0.22287902884342548"
            ]
          },
          "metadata": {
            "tags": []
          },
          "execution_count": 83
        }
      ]
    },
    {
      "cell_type": "code",
      "metadata": {
        "id": "95eQoDb9TLFe",
        "colab_type": "code",
        "colab": {
          "base_uri": "https://localhost:8080/",
          "height": 34
        },
        "outputId": "339ce359-54c3-48de-de2d-ad32ebf8abb3"
      },
      "source": [
        "1-stats.binom.cdf(0,1000,p)"
      ],
      "execution_count": 84,
      "outputs": [
        {
          "output_type": "execute_result",
          "data": {
            "text/plain": [
              "0.7771209711565745"
            ]
          },
          "metadata": {
            "tags": []
          },
          "execution_count": 84
        }
      ]
    },
    {
      "cell_type": "code",
      "metadata": {
        "id": "dSHu0v-9TWQG",
        "colab_type": "code",
        "colab": {
          "base_uri": "https://localhost:8080/",
          "height": 34
        },
        "outputId": "8072523c-830f-4987-e216-942952341022"
      },
      "source": [
        "1-stats.binom.cdf(3,1000,p)"
      ],
      "execution_count": 89,
      "outputs": [
        {
          "output_type": "execute_result",
          "data": {
            "text/plain": [
              "0.06550111057355135"
            ]
          },
          "metadata": {
            "tags": []
          },
          "execution_count": 89
        }
      ]
    },
    {
      "cell_type": "markdown",
      "metadata": {
        "id": "b-CeFtZZsyen",
        "colab_type": "text"
      },
      "source": [
        "Question 2. The below data contains the weight of 20 random ‘LAYS’ pockets in grams.\n",
        "9.0, 8.8, 10.2, 7.4,9.5, 7.0, 6.6, 9.6, 9.9, 7.6, 7.4, 11.6, 10.4, 11.1, 8.5, 10.0, 10.7, 10.3, 11.2, and 8.0\n",
        "1. Is the mean weight of all(Population) LAYS pockets μ = 10grams different from the mean weight\n",
        "of this sample? (3 MARKS)\n",
        "2. Find the 95% confidence interval. (2 MARKS)"
      ]
    },
    {
      "cell_type": "code",
      "metadata": {
        "id": "Cm8D0cKos3jB",
        "colab_type": "code",
        "colab": {}
      },
      "source": [
        "lays_data = [9.0, 8.8, 10.2, 7.4,9.5, 7.0, 6.6, 9.6, 9.9, 7.6, 7.4, 11.6, 10.4, 11.1, 8.5, 10.0, 10.7, 10.3, 11.2,8.0]"
      ],
      "execution_count": 0,
      "outputs": []
    },
    {
      "cell_type": "markdown",
      "metadata": {
        "id": "DAIzW3fytgBK",
        "colab_type": "text"
      },
      "source": [
        " We have to check whether mean weight of all(Population) LAYS pockets μ = 10grams different from the mean weight of this sample\n",
        "For this we have to make Hypothesis Testing .\n",
        "Given is the population mean mup = 10 grams.\n",
        "Thus,Creating Null and Alternate Hypothesis:\n",
        "1. H0: Mean weights of Population is equal to Mean weight of the sample.\n",
        "2. Ha: Mean weights of Population is not equal to Mean weight of the sample.\n",
        "\n",
        "We will be using t-test for this hypothesis as sample size is less than 30 and std is unknown."
      ]
    },
    {
      "cell_type": "code",
      "metadata": {
        "id": "zAvovoTVtFoO",
        "colab_type": "code",
        "colab": {
          "base_uri": "https://localhost:8080/",
          "height": 34
        },
        "outputId": "93ec3989-a212-412e-ab0f-d4bcf6226d18"
      },
      "source": [
        "stats.ttest_1samp(lays_data,10)\n"
      ],
      "execution_count": 5,
      "outputs": [
        {
          "output_type": "execute_result",
          "data": {
            "text/plain": [
              "Ttest_1sampResult(statistic=-2.249161158076392, pvalue=0.03655562279112455)"
            ]
          },
          "metadata": {
            "tags": []
          },
          "execution_count": 5
        }
      ]
    },
    {
      "cell_type": "markdown",
      "metadata": {
        "id": "nuKpxsiEurFc",
        "colab_type": "text"
      },
      "source": [
        "Assuming alpha = 0.05 ,From the above we can see that pvalue is less than alpha.\n",
        "1. Hence probablity of HO being true is less.Rejecting Null Hypothesis.\n",
        "2. Hence Population mean is not equal to the sample mean."
      ]
    },
    {
      "cell_type": "code",
      "metadata": {
        "id": "-9LplFUvug9z",
        "colab_type": "code",
        "colab": {
          "base_uri": "https://localhost:8080/",
          "height": 34
        },
        "outputId": "1ae93574-48d6-441d-b7fc-2e85d75fb25e"
      },
      "source": [
        "# 95 % confidence Interval\n",
        "#i.e alpha=0.05\n",
        "mu = 10\n",
        "sigma = np.std(lays_data)/np.sqrt(len(lays_data))\n",
        "stats.norm.interval(0.95,mu,sigma)"
      ],
      "execution_count": 7,
      "outputs": [
        {
          "output_type": "execute_result",
          "data": {
            "text/plain": [
              "(9.35449009435897, 10.64550990564103)"
            ]
          },
          "metadata": {
            "tags": []
          },
          "execution_count": 7
        }
      ]
    },
    {
      "cell_type": "markdown",
      "metadata": {
        "id": "RyZyI2VPv8hy",
        "colab_type": "text"
      },
      "source": [
        "Thus for 95% confidence interval values are lying between 9.35 and 10.64 .\n",
        "It depicts our range of certainity."
      ]
    },
    {
      "cell_type": "markdown",
      "metadata": {
        "id": "jEBd2XCPwUc3",
        "colab_type": "text"
      },
      "source": [
        "Question 3: . A set of final examination grades in SMDM course is normally distributed with a mean of 70 and a\n",
        "standard deviation of 10. If the professor gives grade A for top 10% of the class regardless of the\n",
        "scores, are you better off with a grade of 81 in this exam or 62 on a different exam, where the mean\n",
        "is 62 and standard deviation is 3? Show your answer statistically and explain? [5 MARKS]"
      ]
    },
    {
      "cell_type": "code",
      "metadata": {
        "id": "udZCK6XNv38t",
        "colab_type": "code",
        "colab": {
          "base_uri": "https://localhost:8080/",
          "height": 51
        },
        "outputId": "d986fb54-0a76-4dcb-db70-45249916e8ff"
      },
      "source": [
        "# We have been given that data is normally distributed with following statistical parameters:\n",
        "mu_1 = 70 \n",
        "sigma_1 = 10\n",
        "# Also it has been given that for other test following are the statistical parameters:\n",
        "mu_2 =62\n",
        "sigma_2 =3\n",
        "\n",
        "#Probablity of getting 81 in First exam:\n",
        "\n",
        "print('Probablity of getting 81 in First exam',1-stats.norm.cdf(81,mu_1,sigma_1))\n",
        "#Probablity of getting 62 on a Second Exam:\n",
        "print('Probablity of getting 62 on a Second Exam:',1-stats.norm.cdf(62,mu_2,sigma_2))\n"
      ],
      "execution_count": 20,
      "outputs": [
        {
          "output_type": "stream",
          "text": [
            "Probablity of getting 81 in First exam 0.13566606094638267\n",
            "Probablity of getting 62 on a Second Exam: 0.5\n"
          ],
          "name": "stdout"
        }
      ]
    },
    {
      "cell_type": "code",
      "metadata": {
        "id": "FWFKJ7jPyCe3",
        "colab_type": "code",
        "colab": {
          "base_uri": "https://localhost:8080/",
          "height": 51
        },
        "outputId": "5eaf5aa5-3737-43fc-8d15-53f1a4687984"
      },
      "source": [
        "# Also lets find the confidence interval for both of the test:\n",
        "\n",
        "#ASSUME: ALPHA=0.10 Thus 90% Confidence Interval\n",
        "\n",
        "#Confidence Interval of getting 81 in First exam:\n",
        "\n",
        "print('Confidence Interval of getting 81 in First exam',stats.norm.interval(0.9,mu_1,sigma_1))\n",
        "#Confidence Interval of getting 62 on a Second Exam:\n",
        "print('Confidence Interval of getting 62 on a Second Exam:',stats.norm.interval(0.90,mu_2,sigma_2))"
      ],
      "execution_count": 22,
      "outputs": [
        {
          "output_type": "stream",
          "text": [
            "Confidence Interval of getting 81 in First exam (53.55146373048527, 86.44853626951472)\n",
            "Confidence Interval of getting 62 on a Second Exam: (57.06543911914558, 66.93456088085442)\n"
          ],
          "name": "stdout"
        }
      ]
    },
    {
      "cell_type": "markdown",
      "metadata": {
        "id": "ORVevSDQ0__W",
        "colab_type": "text"
      },
      "source": [
        "### Hence we can infer that for getting A grade regardless of the mark we have to be in top 10% . Thus there is high Probality of Happening that in second test. "
      ]
    },
    {
      "cell_type": "markdown",
      "metadata": {
        "id": "ACg08t6B1the",
        "colab_type": "text"
      },
      "source": [
        "Question 4: 4. A company manufacturing Cola has studied the effect of its latest advertising campaign and then\n",
        "measured the number of cans of Cola purchased. A simple linear regression model was fitted for\n",
        "number of cans of Cola purchased (Y) with number of advertisements (X). The fitted regression model\n",
        "is Y = 3.331 + 1.711 X. The coefficient of determination was 0.619, but the adjusted R-square was\n",
        "0.555.\n",
        "1. Find the coefficient of correlation between X and Y (1 mark)\n",
        "2. Interpret the values on regression coefficient, correlation coefficient, coefficient\n",
        " of determination and adjusted R-square (4 marks"
      ]
    },
    {
      "cell_type": "code",
      "metadata": {
        "id": "PW34-z320xAv",
        "colab_type": "code",
        "colab": {}
      },
      "source": [
        "# we have been given that y=3.331+1.711x \n",
        "#y= 3.331 + 1.711*x\n",
        "\n",
        "# thus coefficient of correlation between x and y is 1.711"
      ],
      "execution_count": 0,
      "outputs": []
    },
    {
      "cell_type": "code",
      "metadata": {
        "id": "af8NwPiA3Jv_",
        "colab_type": "code",
        "colab": {}
      },
      "source": [
        "from sklearn.linear_model import  LinearRegression\n",
        "linear = LinearRegression()\n",
        "\n"
      ],
      "execution_count": 0,
      "outputs": []
    },
    {
      "cell_type": "markdown",
      "metadata": {
        "id": "KtEa7TRD5oj0",
        "colab_type": "text"
      },
      "source": [
        "5. Multiple myeloma or blood plasma cancer is characterised by increased by blood vessel\n",
        "formulation(angiogenesis) in the bone marrow that is a predictive factor in survival. One treatment\n",
        "approach used for multiple myeloma is stem cell transplantation with the patient’s own stem cells.\n",
        "the data is given below represent the bone marrow micro vessel density for patients who had a\n",
        "complete response to the stem cell transplant (as measured by blood and urine tests). The\n",
        "measurements were taken immediately prior to the stem cell transplant and at the time the complete\n",
        "response was determined. (10 MARKS)"
      ]
    },
    {
      "cell_type": "code",
      "metadata": {
        "id": "lff8vu5J5pdJ",
        "colab_type": "code",
        "colab": {}
      },
      "source": [
        "# given that :\n",
        "before_treatment = [158,189,202,353,416,426,441]\n",
        "after_treatment =  [284,214,101,227,290,176,290]"
      ],
      "execution_count": 0,
      "outputs": []
    },
    {
      "cell_type": "code",
      "metadata": {
        "id": "wH3Ij18q6M4D",
        "colab_type": "code",
        "colab": {}
      },
      "source": [
        "#a. At the 0.05 level of significance, is there evidence that the mean bone marrow micro vessel\n",
        "#density is higher before the stem cell transplant than after the stem cell transplant? (5 MARKS)\n",
        "\n",
        "alpha=0.05"
      ],
      "execution_count": 0,
      "outputs": []
    },
    {
      "cell_type": "markdown",
      "metadata": {
        "id": "pHOX1Ztx6bMC",
        "colab_type": "text"
      },
      "source": [
        "For this check we have to do hypothesis testing :\n",
        "1. H0:  bone marrow micro vessel density is not higher before the stem cell transplant than after the stem cell transplant.\n",
        "2. H1:  bone marrow micro vessel density is higher before the stem cell transplant than after the stem cell transplant.\n",
        "\n",
        "Now the data is paired as we checking the impact of treatment on the same patients.Also there are two samples.\n",
        " Thus select two paired t-test for the validation of hypothesis."
      ]
    },
    {
      "cell_type": "code",
      "metadata": {
        "id": "EC5IV9IV6qaM",
        "colab_type": "code",
        "colab": {
          "base_uri": "https://localhost:8080/",
          "height": 34
        },
        "outputId": "63a62947-8647-49fe-a93a-0b80fc122dfa"
      },
      "source": [
        "stats.ttest_rel(before_treatment,after_treatment)"
      ],
      "execution_count": 27,
      "outputs": [
        {
          "output_type": "execute_result",
          "data": {
            "text/plain": [
              "Ttest_relResult(statistic=1.8424550291027728, pvalue=0.11498626687185708)"
            ]
          },
          "metadata": {
            "tags": []
          },
          "execution_count": 27
        }
      ]
    },
    {
      "cell_type": "markdown",
      "metadata": {
        "id": "WomVBBcG7ILR",
        "colab_type": "text"
      },
      "source": [
        "From the above we can see that p-value is 0.11 which is greater than our assumed alpha =0.05.\n",
        "1. We fail to reject Null hypothesis.\n",
        "2. Thus bone marrow micro vessel density is not higher before the stem cell transplant than after the stem cell transplant holds true."
      ]
    },
    {
      "cell_type": "code",
      "metadata": {
        "id": "Ci0pyV8C7GNp",
        "colab_type": "code",
        "colab": {
          "base_uri": "https://localhost:8080/",
          "height": 34
        },
        "outputId": "bc5c9e35-e31d-4e34-ffa0-3d65986e859e"
      },
      "source": [
        "#Interpret the meaning of test statistic and p-value from the result.\n",
        "t_stats = stats.ttest_rel(before_treatment,after_treatment)[0]\n",
        "t_critical =  stats.t.ppf(0.95,12)\n",
        "print('t_critical',t_critical)"
      ],
      "execution_count": 31,
      "outputs": [
        {
          "output_type": "stream",
          "text": [
            "t_critical 1.782287555649159\n"
          ],
          "name": "stdout"
        }
      ]
    },
    {
      "cell_type": "markdown",
      "metadata": {
        "id": "MMkWuHLs-TLn",
        "colab_type": "text"
      },
      "source": [
        "### Thus we can infer that from above that test_statistics is greater than test_critical after selection of t-test. This can be interpreted in our decision making that we are failing to reject null Hypothesis. \n",
        "### Similary,p-value is coming out to be greater than alpha taken which leads us to interpret that probablity of H0 being true holds true and there is no increase in bone marrow density even after the treatement."
      ]
    },
    {
      "cell_type": "code",
      "metadata": {
        "id": "FNjiVG6p85j5",
        "colab_type": "code",
        "colab": {
          "base_uri": "https://localhost:8080/",
          "height": 34
        },
        "outputId": "1d595279-acee-47da-ee0c-72a837710728"
      },
      "source": [
        "#c. Construct and interpret the 95% confidence interval estimation of the mean difference in bone\n",
        "#marrow micro vessel density before and after stem cell transplant. (2 MARKS)\n",
        "\n",
        "\n",
        "#Before Treatment \n",
        "mu_before = np.mean(before_treatment)\n",
        "standard_error_before = np.std(before_treatment)/np.sqrt(len(before_treatment)-1)\n",
        "stats.norm.interval(0.95,mu_before,standard_error_before)"
      ],
      "execution_count": 34,
      "outputs": [
        {
          "output_type": "execute_result",
          "data": {
            "text/plain": [
              "(219.87531179993334, 404.410402485781)"
            ]
          },
          "metadata": {
            "tags": []
          },
          "execution_count": 34
        }
      ]
    },
    {
      "cell_type": "code",
      "metadata": {
        "id": "4HrM7gum__hh",
        "colab_type": "code",
        "colab": {
          "base_uri": "https://localhost:8080/",
          "height": 34
        },
        "outputId": "99f3c7f5-9504-449c-c144-8d11872f48d9"
      },
      "source": [
        "#After Treatment \n",
        "mu_after = np.mean(after_treatment)\n",
        "standard_error_after = np.std(after_treatment)/np.sqrt(len(after_treatment)-1)\n",
        "stats.norm.interval(0.95,mu_after,standard_error_after)"
      ],
      "execution_count": 35,
      "outputs": [
        {
          "output_type": "execute_result",
          "data": {
            "text/plain": [
              "(173.76988854574063, 278.2301114542594)"
            ]
          },
          "metadata": {
            "tags": []
          },
          "execution_count": 35
        }
      ]
    },
    {
      "cell_type": "markdown",
      "metadata": {
        "id": "kHOqhz6wAfnL",
        "colab_type": "text"
      },
      "source": [
        "After,constructing and observing 95% confidence intervals for patients measurements before and after treatment we can interpret that:\n",
        "1. Certainity lies between measurements 219.87 to 404.41 before treatment\n",
        "2. Certainity lies changes after treatement to the measurements 173.76 to 278.23"
      ]
    },
    {
      "cell_type": "markdown",
      "metadata": {
        "id": "0IPjepbRBRd7",
        "colab_type": "text"
      },
      "source": [
        "Question 6. The mass of N1=20 acorns from oak trees up wind from a coal power plant and N2=30 acorns from\n",
        "oak trees downwind from the same coal power plant are measured. Are the acorns from trees\n",
        "downwind less massive then the ones from up wind? The sample sizes are not equal but we will\n",
        "assume that the population variance of sample 1 and sample 2 are equal. alpha = 0.05,\n",
        "Samples are given below. State the Null and Alternate hypothesis. Which test would be used here?\n",
        "Do you reject or retain the H0 based on your test? Find and interpret the t-statistic, confidence\n",
        "Interval and p-value. (10 MARKS)\n",
        "1. Sample up wind:x1 = [10.8, 10.0, 8.2, 9.9, 11.6, 10.1, 11.3, 10.3, 10.7, 9.7, 7.8, 9.6, 9.7, 11.6,10.3, 9.8, 12.3, 11.0, 10.4, 10.4]\n",
        "2. sample downwind: x2 = [7.8, 7.5, 9.5, 11.7, 8.1, 8.8, 8.8, 7.7, 9.7, 7.0, 9.0, 9.7, 11.3, 8.7, 8.8,10.9, 10.3, 9.6, 8.4, 6.6, 7.2, 7.6, 11.5, 6.6, 8.6, 10.5, 8.4, 8.5, 10.2, 9.2]\n"
      ]
    },
    {
      "cell_type": "code",
      "metadata": {
        "id": "qreaZqMUASdW",
        "colab_type": "code",
        "colab": {}
      },
      "source": [
        "# Given that:\n",
        " x1 = [10.8, 10.0, 8.2, 9.9, 11.6, 10.1, 11.3, 10.3, 10.7, 9.7, 7.8, 9.6, 9.7, 11.6,10.3, 9.8, 12.3, 11.0, 10.4, 10.4]\n",
        "x2  = [7.8, 7.5, 9.5, 11.7, 8.1, 8.8, 8.8, 7.7, 9.7, 7.0, 9.0, 9.7, 11.3, 8.7, 8.8,10.9, 10.3, 9.6, 8.4, 6.6, 7.2, 7.6, 11.5, 6.6, 8.6, 10.5, 8.4, 8.5, 10.2, 9.2]"
      ],
      "execution_count": 0,
      "outputs": []
    },
    {
      "cell_type": "code",
      "metadata": {
        "id": "YMXOKqfmB2lB",
        "colab_type": "code",
        "colab": {
          "base_uri": "https://localhost:8080/",
          "height": 51
        },
        "outputId": "63306f7e-802e-4ec3-bb4e-9f0bae759ecb"
      },
      "source": [
        "# Test of Normality \n",
        "# Assume alpha =0.05\n",
        "shapiro(x1),shapiro(x2)"
      ],
      "execution_count": 42,
      "outputs": [
        {
          "output_type": "execute_result",
          "data": {
            "text/plain": [
              "((0.9515844583511353, 0.3917829096317291),\n",
              " (0.9714616537094116, 0.579898476600647))"
            ]
          },
          "metadata": {
            "tags": []
          },
          "execution_count": 42
        }
      ]
    },
    {
      "cell_type": "markdown",
      "metadata": {
        "id": "54-PvlTyCChV",
        "colab_type": "text"
      },
      "source": [
        "### we can see that Data is Normal as p value is greater than alpha and H0 hold true . Unable to Reject Null Hypothesis for Normality.As given that variance is assumed to be equal thus there is no need for Test of Variance."
      ]
    },
    {
      "cell_type": "code",
      "metadata": {
        "id": "Z10QUgrGB2a4",
        "colab_type": "code",
        "colab": {
          "base_uri": "https://localhost:8080/",
          "height": 34
        },
        "outputId": "7d35020a-b618-4eeb-fda3-d7d8b6fa40f9"
      },
      "source": [
        "# Test of Normality\n",
        "shapiro(x2)"
      ],
      "execution_count": 39,
      "outputs": [
        {
          "output_type": "execute_result",
          "data": {
            "text/plain": [
              "(0.9714616537094116, 0.579898476600647)"
            ]
          },
          "metadata": {
            "tags": []
          },
          "execution_count": 39
        }
      ]
    },
    {
      "cell_type": "code",
      "metadata": {
        "id": "RdwqN-r5CArG",
        "colab_type": "code",
        "colab": {}
      },
      "source": [
        "#State the Null and Alternate hypothesis\n"
      ],
      "execution_count": 0,
      "outputs": []
    },
    {
      "cell_type": "markdown",
      "metadata": {
        "id": "-RYmaruNDWjg",
        "colab_type": "text"
      },
      "source": [
        "### H0: acorns from trees downwind are not less massive then the ones from up wind\n",
        "### Ha: acorns from trees downwind are less massive then the ones from up wind"
      ]
    },
    {
      "cell_type": "markdown",
      "metadata": {
        "id": "xz3kkRrtDpme",
        "colab_type": "text"
      },
      "source": [
        "###We have given number of samples as 30 and also population standard error is unknown. There are two independent samples .\n",
        "###Thus we will go with two samples unpaired t test."
      ]
    },
    {
      "cell_type": "code",
      "metadata": {
        "id": "3Jczb3FQDkxr",
        "colab_type": "code",
        "colab": {
          "base_uri": "https://localhost:8080/",
          "height": 51
        },
        "outputId": "4222ef42-781e-479e-c724-a80d7677b7d8"
      },
      "source": [
        "print(stats.ttest_ind(x1,x2))\n",
        "# size  = len(x1)+len(x2)-2\n",
        "print('t_critical',stats.t.ppf(0.95,48))"
      ],
      "execution_count": 44,
      "outputs": [
        {
          "output_type": "stream",
          "text": [
            "Ttest_indResult(statistic=3.5981947686898033, pvalue=0.0007560337478801464)\n",
            "t_critical 1.6772241953450393\n"
          ],
          "name": "stdout"
        }
      ]
    },
    {
      "cell_type": "code",
      "metadata": {
        "id": "4RWIyf5OE1BG",
        "colab_type": "code",
        "colab": {
          "base_uri": "https://localhost:8080/",
          "height": 34
        },
        "outputId": "02022d61-593e-41c7-e6b3-051c5fb4c666"
      },
      "source": [
        "mu_x1 = np.mean(x1)\n",
        "standard_error_x1 = np.std(x1)/np.sqrt(len(x1)-1)\n",
        "stats.norm.interval(0.95,mu_x1,standard_error_x1)"
      ],
      "execution_count": 47,
      "outputs": [
        {
          "output_type": "execute_result",
          "data": {
            "text/plain": [
              "(9.806660119026201, 10.743339880973803)"
            ]
          },
          "metadata": {
            "tags": []
          },
          "execution_count": 47
        }
      ]
    },
    {
      "cell_type": "code",
      "metadata": {
        "id": "cN_jHSC6FDei",
        "colab_type": "code",
        "colab": {
          "base_uri": "https://localhost:8080/",
          "height": 34
        },
        "outputId": "8d906895-ec2f-4333-f300-62dc2eac664c"
      },
      "source": [
        "mu_x2 = np.mean(x2)\n",
        "standard_error_x2 = np.std(x2)/np.sqrt(len(x2)-1)\n",
        "stats.norm.interval(0.95,mu_x2,standard_error_x2)"
      ],
      "execution_count": 46,
      "outputs": [
        {
          "output_type": "execute_result",
          "data": {
            "text/plain": [
              "(8.43572255355793, 9.444277446442069)"
            ]
          },
          "metadata": {
            "tags": []
          },
          "execution_count": 46
        }
      ]
    },
    {
      "cell_type": "markdown",
      "metadata": {
        "id": "niyuAx18EYD3",
        "colab_type": "text"
      },
      "source": [
        "### From above we can see that:\n",
        "1. t_stat> t_critical  # Reject Null Hypothesis\n",
        "2. pvalue< 0.05      # Reject Null Hypothesis\n",
        "\n",
        "Thus Probablity of H0 is very less likely and acorns from trees downwind are less massive then the ones from up wind.\n",
        "After,constructing and observing 95% confidence intervals for patients measurements before and after treatment we can interpret that:\n",
        "\n",
        "Certainity lies between measurements 9.86 to 10.74 before treatment\n",
        "Certainity lies changes after treatement to the measurements 8.43 to 9.44\n"
      ]
    },
    {
      "cell_type": "markdown",
      "metadata": {
        "id": "brlxj8mHExoS",
        "colab_type": "text"
      },
      "source": [
        "7. a) The below data is scores of ‘BRICS’ countries on ‘Starting a business’. It is collected from\n",
        "‘Doingbusineess.org’, a part of World Bank Group. Is the score of ‘Starting a business depends on the\n",
        "country or time or both?\n",
        "1. State your hypothesis statements and level of significance (2 MARKS)\n",
        "2. State which test do you apply assuming the ‘score’ follows normal distribution and determine the\n",
        "test results. (4 MARKS)\n",
        "3. Interpret the results obtained (2 MARKS)\n"
      ]
    },
    {
      "cell_type": "code",
      "metadata": {
        "id": "qRuDDdBNEDwQ",
        "colab_type": "code",
        "colab": {}
      },
      "source": [
        "# Hypothesis\n",
        " # Ho :  Starting a business does not depends on the country or time or both\n",
        " # Ha :  Starting a business depends on the country or time or both\n",
        "\n",
        "\n",
        "# Assuming alpha =0.05"
      ],
      "execution_count": 0,
      "outputs": []
    },
    {
      "cell_type": "code",
      "metadata": {
        "id": "_YcQKwzaJnOY",
        "colab_type": "code",
        "colab": {}
      },
      "source": [
        "# For the stated Hypothesis as there are multiple category and we can apply Two way Anova can be applied"
      ],
      "execution_count": 0,
      "outputs": []
    },
    {
      "cell_type": "code",
      "metadata": {
        "id": "1k9aHTmvJnKV",
        "colab_type": "code",
        "colab": {}
      },
      "source": [
        "df = {'Country':['Brazil','Russia','India','China','South Africa'],\n",
        "                 '2018':[81.3,93.1,73.9,94.1,81.2],\n",
        "      '2019':[80.3,93,81,93.4,81.2],\n",
        "      '2020':[64.8,93,81.6,85.4,80]}\n",
        "\n",
        "rdf = pd.DataFrame(df)\n",
        "rdf\n",
        "x1 = rdf['2018']\n",
        "x2 = rdf['2019']\n",
        "\n",
        "x3 = rdf['2020']\n",
        "cou = rdf['Country']\n",
        "y=x1+x2+x3"
      ],
      "execution_count": 0,
      "outputs": []
    },
    {
      "cell_type": "code",
      "metadata": {
        "id": "33q1nFVxJnAr",
        "colab_type": "code",
        "colab": {
          "base_uri": "https://localhost:8080/",
          "height": 520
        },
        "outputId": "02170144-8a15-4ae2-9698-52b3e6d5a6a2"
      },
      "source": [
        "import statsmodels.formula.api as smf\n",
        "model = smf.ols('y~x1+x2+x3',rdf).fit()\n",
        "model.summary()"
      ],
      "execution_count": 92,
      "outputs": [
        {
          "output_type": "execute_result",
          "data": {
            "text/html": [
              "<table class=\"simpletable\">\n",
              "<caption>OLS Regression Results</caption>\n",
              "<tr>\n",
              "  <th>Dep. Variable:</th>            <td>y</td>        <th>  R-squared:         </th> <td>   1.000</td> \n",
              "</tr>\n",
              "<tr>\n",
              "  <th>Model:</th>                   <td>OLS</td>       <th>  Adj. R-squared:    </th> <td>   1.000</td> \n",
              "</tr>\n",
              "<tr>\n",
              "  <th>Method:</th>             <td>Least Squares</td>  <th>  F-statistic:       </th> <td>1.210e+27</td>\n",
              "</tr>\n",
              "<tr>\n",
              "  <th>Date:</th>             <td>Thu, 23 Jan 2020</td> <th>  Prob (F-statistic):</th> <td>2.11e-14</td> \n",
              "</tr>\n",
              "<tr>\n",
              "  <th>Time:</th>                 <td>07:32:36</td>     <th>  Log-Likelihood:    </th> <td>  136.38</td> \n",
              "</tr>\n",
              "<tr>\n",
              "  <th>No. Observations:</th>      <td>     5</td>      <th>  AIC:               </th> <td>  -264.8</td> \n",
              "</tr>\n",
              "<tr>\n",
              "  <th>Df Residuals:</th>          <td>     1</td>      <th>  BIC:               </th> <td>  -266.3</td> \n",
              "</tr>\n",
              "<tr>\n",
              "  <th>Df Model:</th>              <td>     3</td>      <th>                     </th>     <td> </td>    \n",
              "</tr>\n",
              "<tr>\n",
              "  <th>Covariance Type:</th>      <td>nonrobust</td>    <th>                     </th>     <td> </td>    \n",
              "</tr>\n",
              "</table>\n",
              "<table class=\"simpletable\">\n",
              "<tr>\n",
              "      <td></td>         <th>coef</th>     <th>std err</th>      <th>t</th>      <th>P>|t|</th>  <th>[0.025</th>    <th>0.975]</th>  \n",
              "</tr>\n",
              "<tr>\n",
              "  <th>Intercept</th> <td>-2.274e-13</td> <td> 6.14e-12</td> <td>   -0.037</td> <td> 0.976</td> <td>-7.82e-11</td> <td> 7.78e-11</td>\n",
              "</tr>\n",
              "<tr>\n",
              "  <th>x1</th>        <td>    1.0000</td> <td> 1.61e-13</td> <td> 6.22e+12</td> <td> 0.000</td> <td>    1.000</td> <td>    1.000</td>\n",
              "</tr>\n",
              "<tr>\n",
              "  <th>x2</th>        <td>    1.0000</td> <td> 2.61e-13</td> <td> 3.84e+12</td> <td> 0.000</td> <td>    1.000</td> <td>    1.000</td>\n",
              "</tr>\n",
              "<tr>\n",
              "  <th>x3</th>        <td>    1.0000</td> <td> 7.43e-14</td> <td> 1.35e+13</td> <td> 0.000</td> <td>    1.000</td> <td>    1.000</td>\n",
              "</tr>\n",
              "</table>\n",
              "<table class=\"simpletable\">\n",
              "<tr>\n",
              "  <th>Omnibus:</th>       <td>   nan</td> <th>  Durbin-Watson:     </th> <td>   0.071</td>\n",
              "</tr>\n",
              "<tr>\n",
              "  <th>Prob(Omnibus):</th> <td>   nan</td> <th>  Jarque-Bera (JB):  </th> <td>   0.638</td>\n",
              "</tr>\n",
              "<tr>\n",
              "  <th>Skew:</th>          <td> 0.000</td> <th>  Prob(JB):          </th> <td>   0.727</td>\n",
              "</tr>\n",
              "<tr>\n",
              "  <th>Kurtosis:</th>      <td> 1.250</td> <th>  Cond. No.          </th> <td>2.60e+03</td>\n",
              "</tr>\n",
              "</table><br/><br/>Warnings:<br/>[1] Standard Errors assume that the covariance matrix of the errors is correctly specified.<br/>[2] The condition number is large, 2.6e+03. This might indicate that there are<br/>strong multicollinearity or other numerical problems."
            ],
            "text/plain": [
              "<class 'statsmodels.iolib.summary.Summary'>\n",
              "\"\"\"\n",
              "                            OLS Regression Results                            \n",
              "==============================================================================\n",
              "Dep. Variable:                      y   R-squared:                       1.000\n",
              "Model:                            OLS   Adj. R-squared:                  1.000\n",
              "Method:                 Least Squares   F-statistic:                 1.210e+27\n",
              "Date:                Thu, 23 Jan 2020   Prob (F-statistic):           2.11e-14\n",
              "Time:                        07:32:36   Log-Likelihood:                 136.38\n",
              "No. Observations:                   5   AIC:                            -264.8\n",
              "Df Residuals:                       1   BIC:                            -266.3\n",
              "Df Model:                           3                                         \n",
              "Covariance Type:            nonrobust                                         \n",
              "==============================================================================\n",
              "                 coef    std err          t      P>|t|      [0.025      0.975]\n",
              "------------------------------------------------------------------------------\n",
              "Intercept  -2.274e-13   6.14e-12     -0.037      0.976   -7.82e-11    7.78e-11\n",
              "x1             1.0000   1.61e-13   6.22e+12      0.000       1.000       1.000\n",
              "x2             1.0000   2.61e-13   3.84e+12      0.000       1.000       1.000\n",
              "x3             1.0000   7.43e-14   1.35e+13      0.000       1.000       1.000\n",
              "==============================================================================\n",
              "Omnibus:                          nan   Durbin-Watson:                   0.071\n",
              "Prob(Omnibus):                    nan   Jarque-Bera (JB):                0.638\n",
              "Skew:                           0.000   Prob(JB):                        0.727\n",
              "Kurtosis:                       1.250   Cond. No.                     2.60e+03\n",
              "==============================================================================\n",
              "\n",
              "Warnings:\n",
              "[1] Standard Errors assume that the covariance matrix of the errors is correctly specified.\n",
              "[2] The condition number is large, 2.6e+03. This might indicate that there are\n",
              "strong multicollinearity or other numerical problems.\n",
              "\"\"\""
            ]
          },
          "metadata": {
            "tags": []
          },
          "execution_count": 92
        }
      ]
    },
    {
      "cell_type": "markdown",
      "metadata": {
        "id": "d_cHXZJOUWai",
        "colab_type": "text"
      },
      "source": [
        "Thus there is correlation for year."
      ]
    },
    {
      "cell_type": "markdown",
      "metadata": {
        "id": "zjRtcnk4MobM",
        "colab_type": "text"
      },
      "source": [
        "b) Four brands of bulbs were tested for their life time (in ‘000 hours). From the following data\n",
        "obtained, test whether the life duration of the bulbs is significantly different. If it is significant,\n",
        "which pair of methods (Make type) has significantly different (Post hoc analysis) And write your\n",
        "inferences. (7 marks)"
      ]
    },
    {
      "cell_type": "code",
      "metadata": {
        "id": "NragiwESMqD1",
        "colab_type": "code",
        "colab": {}
      },
      "source": [
        "# Given That\n",
        "make_1 = [20,23,18,17]\n",
        "make_2 = [19,15,17,20,16]\n",
        "make_3 = [21,19,20,17,16]\n",
        "make_4 = [15,17,16,18]"
      ],
      "execution_count": 0,
      "outputs": []
    },
    {
      "cell_type": "code",
      "metadata": {
        "id": "yOMMdvsnNFjX",
        "colab_type": "code",
        "colab": {}
      },
      "source": [
        "# H0: Life duration of bulbs are not significantly different\n",
        "# Ha : Life duration of bulbs are  significantly different\n",
        "\n",
        "# Assuming significance level to be 0.05"
      ],
      "execution_count": 0,
      "outputs": []
    },
    {
      "cell_type": "code",
      "metadata": {
        "id": "KT2YcWKsNX7U",
        "colab_type": "code",
        "colab": {
          "base_uri": "https://localhost:8080/",
          "height": 85
        },
        "outputId": "2aa7c121-afb4-4574-ecea-8647627473de"
      },
      "source": [
        "shapiro(make_1),shapiro(make_2),shapiro(make_3),shapiro(make_4)\n",
        "# All of them are normal."
      ],
      "execution_count": 59,
      "outputs": [
        {
          "output_type": "execute_result",
          "data": {
            "text/plain": [
              "((0.9456305503845215, 0.6889368295669556),\n",
              " (0.9523516893386841, 0.753974437713623),\n",
              " (0.9523513913154602, 0.7539724707603455),\n",
              " (0.9929120540618896, 0.97187739610672))"
            ]
          },
          "metadata": {
            "tags": []
          },
          "execution_count": 59
        }
      ]
    },
    {
      "cell_type": "code",
      "metadata": {
        "id": "wPsXQ7sWN10B",
        "colab_type": "code",
        "colab": {
          "base_uri": "https://localhost:8080/",
          "height": 34
        },
        "outputId": "9779fbe0-5c8a-460f-d4e9-d6d8a19cb079"
      },
      "source": [
        "levene(make_1,make_2,make_3,make_4)\n",
        "# Variance are differnt"
      ],
      "execution_count": 61,
      "outputs": [
        {
          "output_type": "execute_result",
          "data": {
            "text/plain": [
              "LeveneResult(statistic=0.5483184333759047, pvalue=0.6574155870897542)"
            ]
          },
          "metadata": {
            "tags": []
          },
          "execution_count": 61
        }
      ]
    },
    {
      "cell_type": "code",
      "metadata": {
        "id": "WPgr7sGrOAzf",
        "colab_type": "code",
        "colab": {
          "base_uri": "https://localhost:8080/",
          "height": 34
        },
        "outputId": "4f2afc4d-65b4-46ff-c0da-112e260bb7ed"
      },
      "source": [
        "# Selecting f test for the samples as there are four samples with diffeerent lenghts\n",
        "\n",
        "\n",
        "stats.f_oneway(make_1,make_2,make_3,make_4)"
      ],
      "execution_count": 62,
      "outputs": [
        {
          "output_type": "execute_result",
          "data": {
            "text/plain": [
              "F_onewayResult(statistic=1.6688741721854305, pvalue=0.21909520543565303)"
            ]
          },
          "metadata": {
            "tags": []
          },
          "execution_count": 62
        }
      ]
    },
    {
      "cell_type": "markdown",
      "metadata": {
        "id": "0l4v3QLrOcm1",
        "colab_type": "text"
      },
      "source": [
        "# From the above we can see that p value is greater than 0.05 assumed alpha . Thus We are unable to reject Null hypothesis."
      ]
    },
    {
      "cell_type": "code",
      "metadata": {
        "id": "whAq6Zi7OaXP",
        "colab_type": "code",
        "colab": {
          "base_uri": "https://localhost:8080/",
          "height": 34
        },
        "outputId": "5b547446-6960-429a-adde-d7be2bc5212b"
      },
      "source": [
        "\n",
        "# No of columns-1 =3\n",
        "# no of observation-number of columns = ddof\n",
        "stats.f.isf(0.05, 3,14)  # F-critical"
      ],
      "execution_count": 66,
      "outputs": [
        {
          "output_type": "execute_result",
          "data": {
            "text/plain": [
              "3.3438886781189123"
            ]
          },
          "metadata": {
            "tags": []
          },
          "execution_count": 66
        }
      ]
    },
    {
      "cell_type": "markdown",
      "metadata": {
        "id": "flkkvf5jPlI4",
        "colab_type": "text"
      },
      "source": [
        "Thus we are unable to reject null hypothesis.Life Duration of Bulbs are not significantly different."
      ]
    },
    {
      "cell_type": "markdown",
      "metadata": {
        "id": "jg7iPR-VQGbA",
        "colab_type": "text"
      },
      "source": [
        "d)\n",
        "d. The following data relates to the scores obtained by a salesman of a company in an intelligence\n",
        "test and their weekly sales (in Rs.1000’s):\n",
        "Salesman: A B C D E F G H I\n",
        "Test Score: 50 60 50 60 80 50 80 40 70\n",
        "Weekly Sales: 30 60 40 50 60 30 70 50 60\n",
        "1. Obtain the regression equation of sales on intelligence test scores of the salesman. and\n",
        "write your inferences on the results of regression model. (10 marks)\n",
        "2. If the intelligence test score of a salesman is 65, what would be his expected weekly sales?"
      ]
    },
    {
      "cell_type": "code",
      "metadata": {
        "id": "6dRrS9pqO1y2",
        "colab_type": "code",
        "colab": {
          "base_uri": "https://localhost:8080/",
          "height": 328
        },
        "outputId": "fe272e7b-a9da-4f47-b416-1ce18c1bb951"
      },
      "source": [
        "df = {'Salesman':['A','B','C','D','E','F','G','H','I'],\n",
        "                 'Test Score':[50,60,50,60,80,50,80,40,70],\n",
        "      'Weekly Sales': [30,60,40,50,60,30,70,50,60]}\n",
        "\n",
        "rdf = pd.DataFrame(df)\n",
        "rdf"
      ],
      "execution_count": 69,
      "outputs": [
        {
          "output_type": "execute_result",
          "data": {
            "text/html": [
              "<div>\n",
              "<style scoped>\n",
              "    .dataframe tbody tr th:only-of-type {\n",
              "        vertical-align: middle;\n",
              "    }\n",
              "\n",
              "    .dataframe tbody tr th {\n",
              "        vertical-align: top;\n",
              "    }\n",
              "\n",
              "    .dataframe thead th {\n",
              "        text-align: right;\n",
              "    }\n",
              "</style>\n",
              "<table border=\"1\" class=\"dataframe\">\n",
              "  <thead>\n",
              "    <tr style=\"text-align: right;\">\n",
              "      <th></th>\n",
              "      <th>Salesman</th>\n",
              "      <th>Test Score</th>\n",
              "      <th>Weekly Sales</th>\n",
              "    </tr>\n",
              "  </thead>\n",
              "  <tbody>\n",
              "    <tr>\n",
              "      <th>0</th>\n",
              "      <td>A</td>\n",
              "      <td>50</td>\n",
              "      <td>30</td>\n",
              "    </tr>\n",
              "    <tr>\n",
              "      <th>1</th>\n",
              "      <td>B</td>\n",
              "      <td>60</td>\n",
              "      <td>60</td>\n",
              "    </tr>\n",
              "    <tr>\n",
              "      <th>2</th>\n",
              "      <td>C</td>\n",
              "      <td>50</td>\n",
              "      <td>40</td>\n",
              "    </tr>\n",
              "    <tr>\n",
              "      <th>3</th>\n",
              "      <td>D</td>\n",
              "      <td>60</td>\n",
              "      <td>50</td>\n",
              "    </tr>\n",
              "    <tr>\n",
              "      <th>4</th>\n",
              "      <td>E</td>\n",
              "      <td>80</td>\n",
              "      <td>60</td>\n",
              "    </tr>\n",
              "    <tr>\n",
              "      <th>5</th>\n",
              "      <td>F</td>\n",
              "      <td>50</td>\n",
              "      <td>30</td>\n",
              "    </tr>\n",
              "    <tr>\n",
              "      <th>6</th>\n",
              "      <td>G</td>\n",
              "      <td>80</td>\n",
              "      <td>70</td>\n",
              "    </tr>\n",
              "    <tr>\n",
              "      <th>7</th>\n",
              "      <td>H</td>\n",
              "      <td>40</td>\n",
              "      <td>50</td>\n",
              "    </tr>\n",
              "    <tr>\n",
              "      <th>8</th>\n",
              "      <td>I</td>\n",
              "      <td>70</td>\n",
              "      <td>60</td>\n",
              "    </tr>\n",
              "  </tbody>\n",
              "</table>\n",
              "</div>"
            ],
            "text/plain": [
              "  Salesman  Test Score  Weekly Sales\n",
              "0        A          50            30\n",
              "1        B          60            60\n",
              "2        C          50            40\n",
              "3        D          60            50\n",
              "4        E          80            60\n",
              "5        F          50            30\n",
              "6        G          80            70\n",
              "7        H          40            50\n",
              "8        I          70            60"
            ]
          },
          "metadata": {
            "tags": []
          },
          "execution_count": 69
        }
      ]
    },
    {
      "cell_type": "code",
      "metadata": {
        "id": "U7CcgG2LScdF",
        "colab_type": "code",
        "colab": {
          "base_uri": "https://localhost:8080/",
          "height": 444
        },
        "outputId": "7e6c801a-468a-4d7e-98f0-2481e2f7c9c0"
      },
      "source": [
        "import statsmodels.formula.api as smf\n",
        "model = smf.ols('y~x',df).fit()\n",
        "model.summary()"
      ],
      "execution_count": 77,
      "outputs": [
        {
          "output_type": "execute_result",
          "data": {
            "text/html": [
              "<table class=\"simpletable\">\n",
              "<caption>OLS Regression Results</caption>\n",
              "<tr>\n",
              "  <th>Dep. Variable:</th>            <td>y</td>        <th>  R-squared:         </th> <td>   0.563</td>\n",
              "</tr>\n",
              "<tr>\n",
              "  <th>Model:</th>                   <td>OLS</td>       <th>  Adj. R-squared:    </th> <td>   0.500</td>\n",
              "</tr>\n",
              "<tr>\n",
              "  <th>Method:</th>             <td>Least Squares</td>  <th>  F-statistic:       </th> <td>   9.000</td>\n",
              "</tr>\n",
              "<tr>\n",
              "  <th>Date:</th>             <td>Thu, 23 Jan 2020</td> <th>  Prob (F-statistic):</th>  <td>0.0199</td> \n",
              "</tr>\n",
              "<tr>\n",
              "  <th>Time:</th>                 <td>07:24:47</td>     <th>  Log-Likelihood:    </th> <td> -32.363</td>\n",
              "</tr>\n",
              "<tr>\n",
              "  <th>No. Observations:</th>      <td>     9</td>      <th>  AIC:               </th> <td>   68.73</td>\n",
              "</tr>\n",
              "<tr>\n",
              "  <th>Df Residuals:</th>          <td>     7</td>      <th>  BIC:               </th> <td>   69.12</td>\n",
              "</tr>\n",
              "<tr>\n",
              "  <th>Df Model:</th>              <td>     1</td>      <th>                     </th>     <td> </td>   \n",
              "</tr>\n",
              "<tr>\n",
              "  <th>Covariance Type:</th>      <td>nonrobust</td>    <th>                     </th>     <td> </td>   \n",
              "</tr>\n",
              "</table>\n",
              "<table class=\"simpletable\">\n",
              "<tr>\n",
              "      <td></td>         <th>coef</th>     <th>std err</th>      <th>t</th>      <th>P>|t|</th>  <th>[0.025</th>    <th>0.975]</th>  \n",
              "</tr>\n",
              "<tr>\n",
              "  <th>Intercept</th> <td>    5.0000</td> <td>   15.366</td> <td>    0.325</td> <td> 0.754</td> <td>  -31.335</td> <td>   41.335</td>\n",
              "</tr>\n",
              "<tr>\n",
              "  <th>x</th>         <td>    0.7500</td> <td>    0.250</td> <td>    3.000</td> <td> 0.020</td> <td>    0.159</td> <td>    1.341</td>\n",
              "</tr>\n",
              "</table>\n",
              "<table class=\"simpletable\">\n",
              "<tr>\n",
              "  <th>Omnibus:</th>       <td> 0.173</td> <th>  Durbin-Watson:     </th> <td>   1.875</td>\n",
              "</tr>\n",
              "<tr>\n",
              "  <th>Prob(Omnibus):</th> <td> 0.917</td> <th>  Jarque-Bera (JB):  </th> <td>   0.358</td>\n",
              "</tr>\n",
              "<tr>\n",
              "  <th>Skew:</th>          <td> 0.076</td> <th>  Prob(JB):          </th> <td>   0.836</td>\n",
              "</tr>\n",
              "<tr>\n",
              "  <th>Kurtosis:</th>      <td> 2.035</td> <th>  Cond. No.          </th> <td>    283.</td>\n",
              "</tr>\n",
              "</table><br/><br/>Warnings:<br/>[1] Standard Errors assume that the covariance matrix of the errors is correctly specified."
            ],
            "text/plain": [
              "<class 'statsmodels.iolib.summary.Summary'>\n",
              "\"\"\"\n",
              "                            OLS Regression Results                            \n",
              "==============================================================================\n",
              "Dep. Variable:                      y   R-squared:                       0.563\n",
              "Model:                            OLS   Adj. R-squared:                  0.500\n",
              "Method:                 Least Squares   F-statistic:                     9.000\n",
              "Date:                Thu, 23 Jan 2020   Prob (F-statistic):             0.0199\n",
              "Time:                        07:24:47   Log-Likelihood:                -32.363\n",
              "No. Observations:                   9   AIC:                             68.73\n",
              "Df Residuals:                       7   BIC:                             69.12\n",
              "Df Model:                           1                                         \n",
              "Covariance Type:            nonrobust                                         \n",
              "==============================================================================\n",
              "                 coef    std err          t      P>|t|      [0.025      0.975]\n",
              "------------------------------------------------------------------------------\n",
              "Intercept      5.0000     15.366      0.325      0.754     -31.335      41.335\n",
              "x              0.7500      0.250      3.000      0.020       0.159       1.341\n",
              "==============================================================================\n",
              "Omnibus:                        0.173   Durbin-Watson:                   1.875\n",
              "Prob(Omnibus):                  0.917   Jarque-Bera (JB):                0.358\n",
              "Skew:                           0.076   Prob(JB):                        0.836\n",
              "Kurtosis:                       2.035   Cond. No.                         283.\n",
              "==============================================================================\n",
              "\n",
              "Warnings:\n",
              "[1] Standard Errors assume that the covariance matrix of the errors is correctly specified.\n",
              "\"\"\""
            ]
          },
          "metadata": {
            "tags": []
          },
          "execution_count": 77
        }
      ]
    },
    {
      "cell_type": "markdown",
      "metadata": {
        "id": "Ew9GV4b9Sk63",
        "colab_type": "text"
      },
      "source": [
        "# We have got the coefficient of determination as 0.53\n",
        "# It has good correlation with x."
      ]
    },
    {
      "cell_type": "code",
      "metadata": {
        "id": "5Vw31IrcSkia",
        "colab_type": "code",
        "colab": {}
      },
      "source": [
        ""
      ],
      "execution_count": 0,
      "outputs": []
    },
    {
      "cell_type": "code",
      "metadata": {
        "id": "ImVc3tJJQ9yQ",
        "colab_type": "code",
        "colab": {
          "base_uri": "https://localhost:8080/",
          "height": 34
        },
        "outputId": "6ffdd6ff-6190-41a3-ba3a-14d05d06c36f"
      },
      "source": [
        "from sklearn.model_selection import train_test_split\n",
        "from sklearn.linear_model import LinearRegression\n",
        "y= rdf['Weekly Sales']\n",
        "x= rdf[['Test Score']]\n",
        "\n",
        "x_train,x_test,y_train,y_test = train_test_split(x,y,test_size = 0.3)\n",
        "lr = LinearRegression()\n",
        "lr.fit(x_train,y_train)"
      ],
      "execution_count": 72,
      "outputs": [
        {
          "output_type": "execute_result",
          "data": {
            "text/plain": [
              "LinearRegression(copy_X=True, fit_intercept=True, n_jobs=None, normalize=False)"
            ]
          },
          "metadata": {
            "tags": []
          },
          "execution_count": 72
        }
      ]
    },
    {
      "cell_type": "code",
      "metadata": {
        "id": "oU5vNGPwRuwY",
        "colab_type": "code",
        "colab": {
          "base_uri": "https://localhost:8080/",
          "height": 34
        },
        "outputId": "d09cc5e9-8060-4a2c-9195-4dd424f9fbaf"
      },
      "source": [
        "lr.intercept_"
      ],
      "execution_count": 73,
      "outputs": [
        {
          "output_type": "execute_result",
          "data": {
            "text/plain": [
              "21.666666666666664"
            ]
          },
          "metadata": {
            "tags": []
          },
          "execution_count": 73
        }
      ]
    },
    {
      "cell_type": "code",
      "metadata": {
        "id": "zki_f7rSR4zr",
        "colab_type": "code",
        "colab": {
          "base_uri": "https://localhost:8080/",
          "height": 34
        },
        "outputId": "608f9113-1936-4b87-b709-e1352915b8f0"
      },
      "source": [
        "lr.coef_[0]"
      ],
      "execution_count": 75,
      "outputs": [
        {
          "output_type": "execute_result",
          "data": {
            "text/plain": [
              "0.5"
            ]
          },
          "metadata": {
            "tags": []
          },
          "execution_count": 75
        }
      ]
    },
    {
      "cell_type": "code",
      "metadata": {
        "id": "AW5jGwczR6XI",
        "colab_type": "code",
        "colab": {}
      },
      "source": [
        "# y = 21.66+0.5*x\n",
        "# Weekly Sales = 21.66+ 0.5*Test SCore"
      ],
      "execution_count": 0,
      "outputs": []
    },
    {
      "cell_type": "code",
      "metadata": {
        "id": "xYjgJL-9SJ4i",
        "colab_type": "code",
        "colab": {
          "base_uri": "https://localhost:8080/",
          "height": 34
        },
        "outputId": "3303dbbf-4f16-42f8-c99a-3f3bd688e697"
      },
      "source": [
        "lr.intercept_+0.5*65  # Value of Weekly Sales."
      ],
      "execution_count": 76,
      "outputs": [
        {
          "output_type": "execute_result",
          "data": {
            "text/plain": [
              "54.166666666666664"
            ]
          },
          "metadata": {
            "tags": []
          },
          "execution_count": 76
        }
      ]
    },
    {
      "cell_type": "code",
      "metadata": {
        "id": "wxh_J2VsSRcL",
        "colab_type": "code",
        "colab": {}
      },
      "source": [
        ""
      ],
      "execution_count": 0,
      "outputs": []
    }
  ]
}