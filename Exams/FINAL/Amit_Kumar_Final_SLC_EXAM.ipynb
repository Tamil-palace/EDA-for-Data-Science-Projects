{
  "nbformat": 4,
  "nbformat_minor": 0,
  "metadata": {
    "colab": {
      "name": "Amit_Kumar_Final_SLC_EXAM.ipynb",
      "provenance": [],
      "collapsed_sections": []
    },
    "kernelspec": {
      "name": "python3",
      "display_name": "Python 3"
    }
  },
  "cells": [
    {
      "cell_type": "code",
      "metadata": {
        "id": "-Cgk_eA_vZxY",
        "colab_type": "code",
        "colab": {
          "base_uri": "https://localhost:8080/",
          "height": 105
        },
        "outputId": "3161ce23-1ebc-42b4-d605-0d32ac7f3beb"
      },
      "source": [
        "# importing the libraries\n",
        "\n",
        "import numpy as np\n",
        "import pandas as pd\n",
        "import seaborn as sns\n",
        "import matplotlib.pyplot as plt\n",
        "import sklearn\n",
        "from imblearn.over_sampling import SMOTE\n",
        "\n",
        "\n",
        "from pandas import Series, DataFrame\n",
        "from pylab import rcParams\n",
        "from sklearn import preprocessing\n",
        "from sklearn.linear_model import LogisticRegression\n",
        "#from sklearn.cross_validation import train_test_split\n",
        "from sklearn import metrics \n",
        "from sklearn.metrics import classification_report"
      ],
      "execution_count": 49,
      "outputs": [
        {
          "output_type": "stream",
          "text": [
            "/usr/local/lib/python3.6/dist-packages/sklearn/externals/six.py:31: FutureWarning: The module is deprecated in version 0.21 and will be removed in version 0.23 since we've dropped support for Python 2.7. Please rely on the official version of six (https://pypi.org/project/six/).\n",
            "  \"(https://pypi.org/project/six/).\", FutureWarning)\n",
            "/usr/local/lib/python3.6/dist-packages/sklearn/utils/deprecation.py:144: FutureWarning: The sklearn.neighbors.base module is  deprecated in version 0.22 and will be removed in version 0.24. The corresponding classes / functions should instead be imported from sklearn.neighbors. Anything that cannot be imported from sklearn.neighbors is now part of the private API.\n",
            "  warnings.warn(message, FutureWarning)\n"
          ],
          "name": "stderr"
        }
      ]
    },
    {
      "cell_type": "code",
      "metadata": {
        "id": "m-9e1q1k1gar",
        "colab_type": "code",
        "colab": {
          "resources": {
            "http://localhost:8080/nbextensions/google.colab/files.js": {
              "data": "Ly8gQ29weXJpZ2h0IDIwMTcgR29vZ2xlIExMQwovLwovLyBMaWNlbnNlZCB1bmRlciB0aGUgQXBhY2hlIExpY2Vuc2UsIFZlcnNpb24gMi4wICh0aGUgIkxpY2Vuc2UiKTsKLy8geW91IG1heSBub3QgdXNlIHRoaXMgZmlsZSBleGNlcHQgaW4gY29tcGxpYW5jZSB3aXRoIHRoZSBMaWNlbnNlLgovLyBZb3UgbWF5IG9idGFpbiBhIGNvcHkgb2YgdGhlIExpY2Vuc2UgYXQKLy8KLy8gICAgICBodHRwOi8vd3d3LmFwYWNoZS5vcmcvbGljZW5zZXMvTElDRU5TRS0yLjAKLy8KLy8gVW5sZXNzIHJlcXVpcmVkIGJ5IGFwcGxpY2FibGUgbGF3IG9yIGFncmVlZCB0byBpbiB3cml0aW5nLCBzb2Z0d2FyZQovLyBkaXN0cmlidXRlZCB1bmRlciB0aGUgTGljZW5zZSBpcyBkaXN0cmlidXRlZCBvbiBhbiAiQVMgSVMiIEJBU0lTLAovLyBXSVRIT1VUIFdBUlJBTlRJRVMgT1IgQ09ORElUSU9OUyBPRiBBTlkgS0lORCwgZWl0aGVyIGV4cHJlc3Mgb3IgaW1wbGllZC4KLy8gU2VlIHRoZSBMaWNlbnNlIGZvciB0aGUgc3BlY2lmaWMgbGFuZ3VhZ2UgZ292ZXJuaW5nIHBlcm1pc3Npb25zIGFuZAovLyBsaW1pdGF0aW9ucyB1bmRlciB0aGUgTGljZW5zZS4KCi8qKgogKiBAZmlsZW92ZXJ2aWV3IEhlbHBlcnMgZm9yIGdvb2dsZS5jb2xhYiBQeXRob24gbW9kdWxlLgogKi8KKGZ1bmN0aW9uKHNjb3BlKSB7CmZ1bmN0aW9uIHNwYW4odGV4dCwgc3R5bGVBdHRyaWJ1dGVzID0ge30pIHsKICBjb25zdCBlbGVtZW50ID0gZG9jdW1lbnQuY3JlYXRlRWxlbWVudCgnc3BhbicpOwogIGVsZW1lbnQudGV4dENvbnRlbnQgPSB0ZXh0OwogIGZvciAoY29uc3Qga2V5IG9mIE9iamVjdC5rZXlzKHN0eWxlQXR0cmlidXRlcykpIHsKICAgIGVsZW1lbnQuc3R5bGVba2V5XSA9IHN0eWxlQXR0cmlidXRlc1trZXldOwogIH0KICByZXR1cm4gZWxlbWVudDsKfQoKLy8gTWF4IG51bWJlciBvZiBieXRlcyB3aGljaCB3aWxsIGJlIHVwbG9hZGVkIGF0IGEgdGltZS4KY29uc3QgTUFYX1BBWUxPQURfU0laRSA9IDEwMCAqIDEwMjQ7Ci8vIE1heCBhbW91bnQgb2YgdGltZSB0byBibG9jayB3YWl0aW5nIGZvciB0aGUgdXNlci4KY29uc3QgRklMRV9DSEFOR0VfVElNRU9VVF9NUyA9IDMwICogMTAwMDsKCmZ1bmN0aW9uIF91cGxvYWRGaWxlcyhpbnB1dElkLCBvdXRwdXRJZCkgewogIGNvbnN0IHN0ZXBzID0gdXBsb2FkRmlsZXNTdGVwKGlucHV0SWQsIG91dHB1dElkKTsKICBjb25zdCBvdXRwdXRFbGVtZW50ID0gZG9jdW1lbnQuZ2V0RWxlbWVudEJ5SWQob3V0cHV0SWQpOwogIC8vIENhY2hlIHN0ZXBzIG9uIHRoZSBvdXRwdXRFbGVtZW50IHRvIG1ha2UgaXQgYXZhaWxhYmxlIGZvciB0aGUgbmV4dCBjYWxsCiAgLy8gdG8gdXBsb2FkRmlsZXNDb250aW51ZSBmcm9tIFB5dGhvbi4KICBvdXRwdXRFbGVtZW50LnN0ZXBzID0gc3RlcHM7CgogIHJldHVybiBfdXBsb2FkRmlsZXNDb250aW51ZShvdXRwdXRJZCk7Cn0KCi8vIFRoaXMgaXMgcm91Z2hseSBhbiBhc3luYyBnZW5lcmF0b3IgKG5vdCBzdXBwb3J0ZWQgaW4gdGhlIGJyb3dzZXIgeWV0KSwKLy8gd2hlcmUgdGhlcmUgYXJlIG11bHRpcGxlIGFzeW5jaHJvbm91cyBzdGVwcyBhbmQgdGhlIFB5dGhvbiBzaWRlIGlzIGdvaW5nCi8vIHRvIHBvbGwgZm9yIGNvbXBsZXRpb24gb2YgZWFjaCBzdGVwLgovLyBUaGlzIHVzZXMgYSBQcm9taXNlIHRvIGJsb2NrIHRoZSBweXRob24gc2lkZSBvbiBjb21wbGV0aW9uIG9mIGVhY2ggc3RlcCwKLy8gdGhlbiBwYXNzZXMgdGhlIHJlc3VsdCBvZiB0aGUgcHJldmlvdXMgc3RlcCBhcyB0aGUgaW5wdXQgdG8gdGhlIG5leHQgc3RlcC4KZnVuY3Rpb24gX3VwbG9hZEZpbGVzQ29udGludWUob3V0cHV0SWQpIHsKICBjb25zdCBvdXRwdXRFbGVtZW50ID0gZG9jdW1lbnQuZ2V0RWxlbWVudEJ5SWQob3V0cHV0SWQpOwogIGNvbnN0IHN0ZXBzID0gb3V0cHV0RWxlbWVudC5zdGVwczsKCiAgY29uc3QgbmV4dCA9IHN0ZXBzLm5leHQob3V0cHV0RWxlbWVudC5sYXN0UHJvbWlzZVZhbHVlKTsKICByZXR1cm4gUHJvbWlzZS5yZXNvbHZlKG5leHQudmFsdWUucHJvbWlzZSkudGhlbigodmFsdWUpID0+IHsKICAgIC8vIENhY2hlIHRoZSBsYXN0IHByb21pc2UgdmFsdWUgdG8gbWFrZSBpdCBhdmFpbGFibGUgdG8gdGhlIG5leHQKICAgIC8vIHN0ZXAgb2YgdGhlIGdlbmVyYXRvci4KICAgIG91dHB1dEVsZW1lbnQubGFzdFByb21pc2VWYWx1ZSA9IHZhbHVlOwogICAgcmV0dXJuIG5leHQudmFsdWUucmVzcG9uc2U7CiAgfSk7Cn0KCi8qKgogKiBHZW5lcmF0b3IgZnVuY3Rpb24gd2hpY2ggaXMgY2FsbGVkIGJldHdlZW4gZWFjaCBhc3luYyBzdGVwIG9mIHRoZSB1cGxvYWQKICogcHJvY2Vzcy4KICogQHBhcmFtIHtzdHJpbmd9IGlucHV0SWQgRWxlbWVudCBJRCBvZiB0aGUgaW5wdXQgZmlsZSBwaWNrZXIgZWxlbWVudC4KICogQHBhcmFtIHtzdHJpbmd9IG91dHB1dElkIEVsZW1lbnQgSUQgb2YgdGhlIG91dHB1dCBkaXNwbGF5LgogKiBAcmV0dXJuIHshSXRlcmFibGU8IU9iamVjdD59IEl0ZXJhYmxlIG9mIG5leHQgc3RlcHMuCiAqLwpmdW5jdGlvbiogdXBsb2FkRmlsZXNTdGVwKGlucHV0SWQsIG91dHB1dElkKSB7CiAgY29uc3QgaW5wdXRFbGVtZW50ID0gZG9jdW1lbnQuZ2V0RWxlbWVudEJ5SWQoaW5wdXRJZCk7CiAgaW5wdXRFbGVtZW50LmRpc2FibGVkID0gZmFsc2U7CgogIGNvbnN0IG91dHB1dEVsZW1lbnQgPSBkb2N1bWVudC5nZXRFbGVtZW50QnlJZChvdXRwdXRJZCk7CiAgb3V0cHV0RWxlbWVudC5pbm5lckhUTUwgPSAnJzsKCiAgY29uc3QgcGlja2VkUHJvbWlzZSA9IG5ldyBQcm9taXNlKChyZXNvbHZlKSA9PiB7CiAgICBpbnB1dEVsZW1lbnQuYWRkRXZlbnRMaXN0ZW5lcignY2hhbmdlJywgKGUpID0+IHsKICAgICAgcmVzb2x2ZShlLnRhcmdldC5maWxlcyk7CiAgICB9KTsKICB9KTsKCiAgY29uc3QgY2FuY2VsID0gZG9jdW1lbnQuY3JlYXRlRWxlbWVudCgnYnV0dG9uJyk7CiAgaW5wdXRFbGVtZW50LnBhcmVudEVsZW1lbnQuYXBwZW5kQ2hpbGQoY2FuY2VsKTsKICBjYW5jZWwudGV4dENvbnRlbnQgPSAnQ2FuY2VsIHVwbG9hZCc7CiAgY29uc3QgY2FuY2VsUHJvbWlzZSA9IG5ldyBQcm9taXNlKChyZXNvbHZlKSA9PiB7CiAgICBjYW5jZWwub25jbGljayA9ICgpID0+IHsKICAgICAgcmVzb2x2ZShudWxsKTsKICAgIH07CiAgfSk7CgogIC8vIENhbmNlbCB1cGxvYWQgaWYgdXNlciBoYXNuJ3QgcGlja2VkIGFueXRoaW5nIGluIHRpbWVvdXQuCiAgY29uc3QgdGltZW91dFByb21pc2UgPSBuZXcgUHJvbWlzZSgocmVzb2x2ZSkgPT4gewogICAgc2V0VGltZW91dCgoKSA9PiB7CiAgICAgIHJlc29sdmUobnVsbCk7CiAgICB9LCBGSUxFX0NIQU5HRV9USU1FT1VUX01TKTsKICB9KTsKCiAgLy8gV2FpdCBmb3IgdGhlIHVzZXIgdG8gcGljayB0aGUgZmlsZXMuCiAgY29uc3QgZmlsZXMgPSB5aWVsZCB7CiAgICBwcm9taXNlOiBQcm9taXNlLnJhY2UoW3BpY2tlZFByb21pc2UsIHRpbWVvdXRQcm9taXNlLCBjYW5jZWxQcm9taXNlXSksCiAgICByZXNwb25zZTogewogICAgICBhY3Rpb246ICdzdGFydGluZycsCiAgICB9CiAgfTsKCiAgaWYgKCFmaWxlcykgewogICAgcmV0dXJuIHsKICAgICAgcmVzcG9uc2U6IHsKICAgICAgICBhY3Rpb246ICdjb21wbGV0ZScsCiAgICAgIH0KICAgIH07CiAgfQoKICBjYW5jZWwucmVtb3ZlKCk7CgogIC8vIERpc2FibGUgdGhlIGlucHV0IGVsZW1lbnQgc2luY2UgZnVydGhlciBwaWNrcyBhcmUgbm90IGFsbG93ZWQuCiAgaW5wdXRFbGVtZW50LmRpc2FibGVkID0gdHJ1ZTsKCiAgZm9yIChjb25zdCBmaWxlIG9mIGZpbGVzKSB7CiAgICBjb25zdCBsaSA9IGRvY3VtZW50LmNyZWF0ZUVsZW1lbnQoJ2xpJyk7CiAgICBsaS5hcHBlbmQoc3BhbihmaWxlLm5hbWUsIHtmb250V2VpZ2h0OiAnYm9sZCd9KSk7CiAgICBsaS5hcHBlbmQoc3BhbigKICAgICAgICBgKCR7ZmlsZS50eXBlIHx8ICduL2EnfSkgLSAke2ZpbGUuc2l6ZX0gYnl0ZXMsIGAgKwogICAgICAgIGBsYXN0IG1vZGlmaWVkOiAkewogICAgICAgICAgICBmaWxlLmxhc3RNb2RpZmllZERhdGUgPyBmaWxlLmxhc3RNb2RpZmllZERhdGUudG9Mb2NhbGVEYXRlU3RyaW5nKCkgOgogICAgICAgICAgICAgICAgICAgICAgICAgICAgICAgICAgICAnbi9hJ30gLSBgKSk7CiAgICBjb25zdCBwZXJjZW50ID0gc3BhbignMCUgZG9uZScpOwogICAgbGkuYXBwZW5kQ2hpbGQocGVyY2VudCk7CgogICAgb3V0cHV0RWxlbWVudC5hcHBlbmRDaGlsZChsaSk7CgogICAgY29uc3QgZmlsZURhdGFQcm9taXNlID0gbmV3IFByb21pc2UoKHJlc29sdmUpID0+IHsKICAgICAgY29uc3QgcmVhZGVyID0gbmV3IEZpbGVSZWFkZXIoKTsKICAgICAgcmVhZGVyLm9ubG9hZCA9IChlKSA9PiB7CiAgICAgICAgcmVzb2x2ZShlLnRhcmdldC5yZXN1bHQpOwogICAgICB9OwogICAgICByZWFkZXIucmVhZEFzQXJyYXlCdWZmZXIoZmlsZSk7CiAgICB9KTsKICAgIC8vIFdhaXQgZm9yIHRoZSBkYXRhIHRvIGJlIHJlYWR5LgogICAgbGV0IGZpbGVEYXRhID0geWllbGQgewogICAgICBwcm9taXNlOiBmaWxlRGF0YVByb21pc2UsCiAgICAgIHJlc3BvbnNlOiB7CiAgICAgICAgYWN0aW9uOiAnY29udGludWUnLAogICAgICB9CiAgICB9OwoKICAgIC8vIFVzZSBhIGNodW5rZWQgc2VuZGluZyB0byBhdm9pZCBtZXNzYWdlIHNpemUgbGltaXRzLiBTZWUgYi82MjExNTY2MC4KICAgIGxldCBwb3NpdGlvbiA9IDA7CiAgICB3aGlsZSAocG9zaXRpb24gPCBmaWxlRGF0YS5ieXRlTGVuZ3RoKSB7CiAgICAgIGNvbnN0IGxlbmd0aCA9IE1hdGgubWluKGZpbGVEYXRhLmJ5dGVMZW5ndGggLSBwb3NpdGlvbiwgTUFYX1BBWUxPQURfU0laRSk7CiAgICAgIGNvbnN0IGNodW5rID0gbmV3IFVpbnQ4QXJyYXkoZmlsZURhdGEsIHBvc2l0aW9uLCBsZW5ndGgpOwogICAgICBwb3NpdGlvbiArPSBsZW5ndGg7CgogICAgICBjb25zdCBiYXNlNjQgPSBidG9hKFN0cmluZy5mcm9tQ2hhckNvZGUuYXBwbHkobnVsbCwgY2h1bmspKTsKICAgICAgeWllbGQgewogICAgICAgIHJlc3BvbnNlOiB7CiAgICAgICAgICBhY3Rpb246ICdhcHBlbmQnLAogICAgICAgICAgZmlsZTogZmlsZS5uYW1lLAogICAgICAgICAgZGF0YTogYmFzZTY0LAogICAgICAgIH0sCiAgICAgIH07CiAgICAgIHBlcmNlbnQudGV4dENvbnRlbnQgPQogICAgICAgICAgYCR7TWF0aC5yb3VuZCgocG9zaXRpb24gLyBmaWxlRGF0YS5ieXRlTGVuZ3RoKSAqIDEwMCl9JSBkb25lYDsKICAgIH0KICB9CgogIC8vIEFsbCBkb25lLgogIHlpZWxkIHsKICAgIHJlc3BvbnNlOiB7CiAgICAgIGFjdGlvbjogJ2NvbXBsZXRlJywKICAgIH0KICB9Owp9CgpzY29wZS5nb29nbGUgPSBzY29wZS5nb29nbGUgfHwge307CnNjb3BlLmdvb2dsZS5jb2xhYiA9IHNjb3BlLmdvb2dsZS5jb2xhYiB8fCB7fTsKc2NvcGUuZ29vZ2xlLmNvbGFiLl9maWxlcyA9IHsKICBfdXBsb2FkRmlsZXMsCiAgX3VwbG9hZEZpbGVzQ29udGludWUsCn07Cn0pKHNlbGYpOwo=",
              "ok": true,
              "headers": [
                [
                  "content-type",
                  "application/javascript"
                ]
              ],
              "status": 200,
              "status_text": ""
            }
          },
          "base_uri": "https://localhost:8080/",
          "height": 74
        },
        "outputId": "1f40435f-c44a-4e7c-8ca7-eb49675c0693"
      },
      "source": [
        "from google.colab import files\n",
        "import io\n",
        "uploaded = files.upload()\n",
        "bank =  pd.read_csv(io.BytesIO(uploaded['bank.csv']))\n"
      ],
      "execution_count": 4,
      "outputs": [
        {
          "output_type": "display_data",
          "data": {
            "text/html": [
              "\n",
              "     <input type=\"file\" id=\"files-214ed006-ef6f-40fe-854e-19c9ffbf05fb\" name=\"files[]\" multiple disabled />\n",
              "     <output id=\"result-214ed006-ef6f-40fe-854e-19c9ffbf05fb\">\n",
              "      Upload widget is only available when the cell has been executed in the\n",
              "      current browser session. Please rerun this cell to enable.\n",
              "      </output>\n",
              "      <script src=\"/nbextensions/google.colab/files.js\"></script> "
            ],
            "text/plain": [
              "<IPython.core.display.HTML object>"
            ]
          },
          "metadata": {
            "tags": []
          }
        },
        {
          "output_type": "stream",
          "text": [
            "Saving bank.csv to bank.csv\n"
          ],
          "name": "stdout"
        }
      ]
    },
    {
      "cell_type": "code",
      "metadata": {
        "id": "Y0-IljSD1wtB",
        "colab_type": "code",
        "colab": {
          "base_uri": "https://localhost:8080/",
          "height": 224
        },
        "outputId": "5a939408-fb08-4335-cde6-dbe814b9597c"
      },
      "source": [
        "bank.head()"
      ],
      "execution_count": 5,
      "outputs": [
        {
          "output_type": "execute_result",
          "data": {
            "text/html": [
              "<div>\n",
              "<style scoped>\n",
              "    .dataframe tbody tr th:only-of-type {\n",
              "        vertical-align: middle;\n",
              "    }\n",
              "\n",
              "    .dataframe tbody tr th {\n",
              "        vertical-align: top;\n",
              "    }\n",
              "\n",
              "    .dataframe thead th {\n",
              "        text-align: right;\n",
              "    }\n",
              "</style>\n",
              "<table border=\"1\" class=\"dataframe\">\n",
              "  <thead>\n",
              "    <tr style=\"text-align: right;\">\n",
              "      <th></th>\n",
              "      <th>age</th>\n",
              "      <th>job</th>\n",
              "      <th>marital</th>\n",
              "      <th>education</th>\n",
              "      <th>default</th>\n",
              "      <th>housing</th>\n",
              "      <th>loan</th>\n",
              "      <th>contact</th>\n",
              "      <th>month</th>\n",
              "      <th>day_of_week</th>\n",
              "      <th>duration</th>\n",
              "      <th>campaign</th>\n",
              "      <th>pdays</th>\n",
              "      <th>previous</th>\n",
              "      <th>poutcome</th>\n",
              "      <th>emp.var.rate</th>\n",
              "      <th>cons.price.idx</th>\n",
              "      <th>cons.conf.idx</th>\n",
              "      <th>euribor3m</th>\n",
              "      <th>nr.employed</th>\n",
              "      <th>y</th>\n",
              "    </tr>\n",
              "  </thead>\n",
              "  <tbody>\n",
              "    <tr>\n",
              "      <th>0</th>\n",
              "      <td>31</td>\n",
              "      <td>blue-collar</td>\n",
              "      <td>married</td>\n",
              "      <td>basic.6y</td>\n",
              "      <td>unknown</td>\n",
              "      <td>no</td>\n",
              "      <td>no</td>\n",
              "      <td>cellular</td>\n",
              "      <td>jul</td>\n",
              "      <td>mon</td>\n",
              "      <td>196</td>\n",
              "      <td>2</td>\n",
              "      <td>999</td>\n",
              "      <td>0</td>\n",
              "      <td>nonexistent</td>\n",
              "      <td>1.4</td>\n",
              "      <td>93.918</td>\n",
              "      <td>-42.7</td>\n",
              "      <td>4.960</td>\n",
              "      <td>5228.1</td>\n",
              "      <td>no</td>\n",
              "    </tr>\n",
              "    <tr>\n",
              "      <th>1</th>\n",
              "      <td>32</td>\n",
              "      <td>housemaid</td>\n",
              "      <td>single</td>\n",
              "      <td>university.degree</td>\n",
              "      <td>unknown</td>\n",
              "      <td>yes</td>\n",
              "      <td>no</td>\n",
              "      <td>cellular</td>\n",
              "      <td>jul</td>\n",
              "      <td>tue</td>\n",
              "      <td>71</td>\n",
              "      <td>4</td>\n",
              "      <td>999</td>\n",
              "      <td>0</td>\n",
              "      <td>nonexistent</td>\n",
              "      <td>1.4</td>\n",
              "      <td>93.918</td>\n",
              "      <td>-42.7</td>\n",
              "      <td>4.961</td>\n",
              "      <td>5228.1</td>\n",
              "      <td>no</td>\n",
              "    </tr>\n",
              "    <tr>\n",
              "      <th>2</th>\n",
              "      <td>26</td>\n",
              "      <td>admin.</td>\n",
              "      <td>married</td>\n",
              "      <td>high.school</td>\n",
              "      <td>no</td>\n",
              "      <td>yes</td>\n",
              "      <td>no</td>\n",
              "      <td>cellular</td>\n",
              "      <td>apr</td>\n",
              "      <td>mon</td>\n",
              "      <td>61</td>\n",
              "      <td>1</td>\n",
              "      <td>999</td>\n",
              "      <td>0</td>\n",
              "      <td>nonexistent</td>\n",
              "      <td>-1.8</td>\n",
              "      <td>93.075</td>\n",
              "      <td>-47.1</td>\n",
              "      <td>1.405</td>\n",
              "      <td>5099.1</td>\n",
              "      <td>no</td>\n",
              "    </tr>\n",
              "    <tr>\n",
              "      <th>3</th>\n",
              "      <td>44</td>\n",
              "      <td>blue-collar</td>\n",
              "      <td>married</td>\n",
              "      <td>basic.4y</td>\n",
              "      <td>unknown</td>\n",
              "      <td>no</td>\n",
              "      <td>no</td>\n",
              "      <td>cellular</td>\n",
              "      <td>may</td>\n",
              "      <td>fri</td>\n",
              "      <td>361</td>\n",
              "      <td>3</td>\n",
              "      <td>999</td>\n",
              "      <td>0</td>\n",
              "      <td>nonexistent</td>\n",
              "      <td>-1.8</td>\n",
              "      <td>92.893</td>\n",
              "      <td>-46.2</td>\n",
              "      <td>1.313</td>\n",
              "      <td>5099.1</td>\n",
              "      <td>no</td>\n",
              "    </tr>\n",
              "    <tr>\n",
              "      <th>4</th>\n",
              "      <td>32</td>\n",
              "      <td>technician</td>\n",
              "      <td>married</td>\n",
              "      <td>unknown</td>\n",
              "      <td>no</td>\n",
              "      <td>yes</td>\n",
              "      <td>no</td>\n",
              "      <td>cellular</td>\n",
              "      <td>jul</td>\n",
              "      <td>fri</td>\n",
              "      <td>107</td>\n",
              "      <td>2</td>\n",
              "      <td>999</td>\n",
              "      <td>0</td>\n",
              "      <td>nonexistent</td>\n",
              "      <td>1.4</td>\n",
              "      <td>93.918</td>\n",
              "      <td>-42.7</td>\n",
              "      <td>4.963</td>\n",
              "      <td>5228.1</td>\n",
              "      <td>no</td>\n",
              "    </tr>\n",
              "  </tbody>\n",
              "</table>\n",
              "</div>"
            ],
            "text/plain": [
              "   age          job  marital  ... euribor3m nr.employed   y\n",
              "0   31  blue-collar  married  ...     4.960      5228.1  no\n",
              "1   32    housemaid   single  ...     4.961      5228.1  no\n",
              "2   26       admin.  married  ...     1.405      5099.1  no\n",
              "3   44  blue-collar  married  ...     1.313      5099.1  no\n",
              "4   32   technician  married  ...     4.963      5228.1  no\n",
              "\n",
              "[5 rows x 21 columns]"
            ]
          },
          "metadata": {
            "tags": []
          },
          "execution_count": 5
        }
      ]
    },
    {
      "cell_type": "markdown",
      "metadata": {
        "id": "xixEfnKB2Z6o",
        "colab_type": "text"
      },
      "source": [
        "2. Summarize important observations from the data set (5 MARKS)\n",
        "Some pointers which would help you, but don’t be limited by these\n",
        "  1. Find out number of rows; no. & types of variables (continuous, categorical etc.)\n",
        "  2. Calculate five-point summary for numerical variables\n",
        "  3. Summarize observations for categorical variables – no. of categories, % observations in each\n",
        "category"
      ]
    },
    {
      "cell_type": "code",
      "metadata": {
        "id": "FptqKe6G1__D",
        "colab_type": "code",
        "colab": {
          "base_uri": "https://localhost:8080/",
          "height": 34
        },
        "outputId": "45c58f87-5bb8-4cc4-b75a-0c80a2adb3b2"
      },
      "source": [
        "bank.shape"
      ],
      "execution_count": 6,
      "outputs": [
        {
          "output_type": "execute_result",
          "data": {
            "text/plain": [
              "(2000, 21)"
            ]
          },
          "metadata": {
            "tags": []
          },
          "execution_count": 6
        }
      ]
    },
    {
      "cell_type": "code",
      "metadata": {
        "id": "PolPfJr62hZf",
        "colab_type": "code",
        "colab": {
          "base_uri": "https://localhost:8080/",
          "height": 51
        },
        "outputId": "cf026f1c-d980-4efd-bbda-f237bb7ed611"
      },
      "source": [
        "print(f\"Number of Categorical Columns:{bank.select_dtypes(include='object').shape[1]}\")\n",
        "print(f\"Number of Continuous Columns:{bank.select_dtypes(exclude='object').shape[1]}\")"
      ],
      "execution_count": 11,
      "outputs": [
        {
          "output_type": "stream",
          "text": [
            "Number of Categorical Columns:11\n",
            "Number of Continuous Columns:10\n"
          ],
          "name": "stdout"
        }
      ]
    },
    {
      "cell_type": "code",
      "metadata": {
        "id": "Pu30cpMa2lIx",
        "colab_type": "code",
        "colab": {
          "base_uri": "https://localhost:8080/",
          "height": 317
        },
        "outputId": "d8d36da3-04c2-4761-ba65-55c6842d6212"
      },
      "source": [
        "bank.select_dtypes(exclude='object').describe()"
      ],
      "execution_count": 12,
      "outputs": [
        {
          "output_type": "execute_result",
          "data": {
            "text/html": [
              "<div>\n",
              "<style scoped>\n",
              "    .dataframe tbody tr th:only-of-type {\n",
              "        vertical-align: middle;\n",
              "    }\n",
              "\n",
              "    .dataframe tbody tr th {\n",
              "        vertical-align: top;\n",
              "    }\n",
              "\n",
              "    .dataframe thead th {\n",
              "        text-align: right;\n",
              "    }\n",
              "</style>\n",
              "<table border=\"1\" class=\"dataframe\">\n",
              "  <thead>\n",
              "    <tr style=\"text-align: right;\">\n",
              "      <th></th>\n",
              "      <th>age</th>\n",
              "      <th>duration</th>\n",
              "      <th>campaign</th>\n",
              "      <th>pdays</th>\n",
              "      <th>previous</th>\n",
              "      <th>emp.var.rate</th>\n",
              "      <th>cons.price.idx</th>\n",
              "      <th>cons.conf.idx</th>\n",
              "      <th>euribor3m</th>\n",
              "      <th>nr.employed</th>\n",
              "    </tr>\n",
              "  </thead>\n",
              "  <tbody>\n",
              "    <tr>\n",
              "      <th>count</th>\n",
              "      <td>2000.000000</td>\n",
              "      <td>2000.000000</td>\n",
              "      <td>2000.000000</td>\n",
              "      <td>2000.000000</td>\n",
              "      <td>2000.000000</td>\n",
              "      <td>2000.000000</td>\n",
              "      <td>2000.000000</td>\n",
              "      <td>2000.000000</td>\n",
              "      <td>2000.000000</td>\n",
              "      <td>2000.000000</td>\n",
              "    </tr>\n",
              "    <tr>\n",
              "      <th>mean</th>\n",
              "      <td>40.245500</td>\n",
              "      <td>250.380000</td>\n",
              "      <td>2.635500</td>\n",
              "      <td>964.745000</td>\n",
              "      <td>0.171000</td>\n",
              "      <td>0.101350</td>\n",
              "      <td>93.579410</td>\n",
              "      <td>-40.585500</td>\n",
              "      <td>3.637492</td>\n",
              "      <td>5167.775650</td>\n",
              "    </tr>\n",
              "    <tr>\n",
              "      <th>std</th>\n",
              "      <td>10.484188</td>\n",
              "      <td>245.386067</td>\n",
              "      <td>3.169174</td>\n",
              "      <td>181.260237</td>\n",
              "      <td>0.492829</td>\n",
              "      <td>1.551405</td>\n",
              "      <td>0.564451</td>\n",
              "      <td>4.563541</td>\n",
              "      <td>1.725587</td>\n",
              "      <td>71.453919</td>\n",
              "    </tr>\n",
              "    <tr>\n",
              "      <th>min</th>\n",
              "      <td>18.000000</td>\n",
              "      <td>4.000000</td>\n",
              "      <td>1.000000</td>\n",
              "      <td>1.000000</td>\n",
              "      <td>0.000000</td>\n",
              "      <td>-3.400000</td>\n",
              "      <td>92.201000</td>\n",
              "      <td>-50.800000</td>\n",
              "      <td>0.634000</td>\n",
              "      <td>4963.600000</td>\n",
              "    </tr>\n",
              "    <tr>\n",
              "      <th>25%</th>\n",
              "      <td>32.000000</td>\n",
              "      <td>103.000000</td>\n",
              "      <td>1.000000</td>\n",
              "      <td>999.000000</td>\n",
              "      <td>0.000000</td>\n",
              "      <td>-1.800000</td>\n",
              "      <td>93.075000</td>\n",
              "      <td>-42.700000</td>\n",
              "      <td>1.354000</td>\n",
              "      <td>5099.100000</td>\n",
              "    </tr>\n",
              "    <tr>\n",
              "      <th>50%</th>\n",
              "      <td>38.000000</td>\n",
              "      <td>173.000000</td>\n",
              "      <td>2.000000</td>\n",
              "      <td>999.000000</td>\n",
              "      <td>0.000000</td>\n",
              "      <td>1.100000</td>\n",
              "      <td>93.749000</td>\n",
              "      <td>-41.800000</td>\n",
              "      <td>4.857000</td>\n",
              "      <td>5191.000000</td>\n",
              "    </tr>\n",
              "    <tr>\n",
              "      <th>75%</th>\n",
              "      <td>48.000000</td>\n",
              "      <td>306.250000</td>\n",
              "      <td>3.000000</td>\n",
              "      <td>999.000000</td>\n",
              "      <td>0.000000</td>\n",
              "      <td>1.400000</td>\n",
              "      <td>93.994000</td>\n",
              "      <td>-36.400000</td>\n",
              "      <td>4.961000</td>\n",
              "      <td>5228.100000</td>\n",
              "    </tr>\n",
              "    <tr>\n",
              "      <th>max</th>\n",
              "      <td>85.000000</td>\n",
              "      <td>2635.000000</td>\n",
              "      <td>40.000000</td>\n",
              "      <td>999.000000</td>\n",
              "      <td>5.000000</td>\n",
              "      <td>1.400000</td>\n",
              "      <td>94.767000</td>\n",
              "      <td>-26.900000</td>\n",
              "      <td>5.000000</td>\n",
              "      <td>5228.100000</td>\n",
              "    </tr>\n",
              "  </tbody>\n",
              "</table>\n",
              "</div>"
            ],
            "text/plain": [
              "               age     duration  ...    euribor3m  nr.employed\n",
              "count  2000.000000  2000.000000  ...  2000.000000  2000.000000\n",
              "mean     40.245500   250.380000  ...     3.637492  5167.775650\n",
              "std      10.484188   245.386067  ...     1.725587    71.453919\n",
              "min      18.000000     4.000000  ...     0.634000  4963.600000\n",
              "25%      32.000000   103.000000  ...     1.354000  5099.100000\n",
              "50%      38.000000   173.000000  ...     4.857000  5191.000000\n",
              "75%      48.000000   306.250000  ...     4.961000  5228.100000\n",
              "max      85.000000  2635.000000  ...     5.000000  5228.100000\n",
              "\n",
              "[8 rows x 10 columns]"
            ]
          },
          "metadata": {
            "tags": []
          },
          "execution_count": 12
        }
      ]
    },
    {
      "cell_type": "code",
      "metadata": {
        "id": "TawX70784JtQ",
        "colab_type": "code",
        "colab": {
          "base_uri": "https://localhost:8080/",
          "height": 1000
        },
        "outputId": "fd704ce5-eaec-45e0-ed1b-82a54e63b8c9"
      },
      "source": [
        "for i in bank.select_dtypes(include='object').columns:\n",
        "  print(f'Number of Categories for {i}:{bank[i].nunique()}')\n",
        "  print(f\"Percentage of Categories for {i}:\",(bank[i].value_counts()/bank[i].shape[0])*100)\n",
        "\n"
      ],
      "execution_count": 20,
      "outputs": [
        {
          "output_type": "stream",
          "text": [
            "Number of Categories for job:12\n",
            "Percentage of Categories for job: admin.           26.55\n",
            "blue-collar      21.45\n",
            "technician       16.40\n",
            "services          9.60\n",
            "management        8.00\n",
            "retired           4.80\n",
            "entrepreneur      3.05\n",
            "housemaid         2.80\n",
            "self-employed     2.45\n",
            "student           2.15\n",
            "unemployed        2.10\n",
            "unknown           0.65\n",
            "Name: job, dtype: float64\n",
            "Number of Categories for marital:4\n",
            "Percentage of Categories for marital: married     59.65\n",
            "single      28.25\n",
            "divorced    11.90\n",
            "unknown      0.20\n",
            "Name: marital, dtype: float64\n",
            "Number of Categories for education:8\n",
            "Percentage of Categories for education: university.degree      28.40\n",
            "high.school            26.15\n",
            "basic.9y               13.00\n",
            "professional.course    12.15\n",
            "basic.4y               10.75\n",
            "basic.6y                4.90\n",
            "unknown                 4.60\n",
            "illiterate              0.05\n",
            "Name: education, dtype: float64\n",
            "Number of Categories for default:2\n",
            "Percentage of Categories for default: no         78.6\n",
            "unknown    21.4\n",
            "Name: default, dtype: float64\n",
            "Number of Categories for housing:3\n",
            "Percentage of Categories for housing: yes        53.55\n",
            "no         43.85\n",
            "unknown     2.60\n",
            "Name: housing, dtype: float64\n",
            "Number of Categories for loan:3\n",
            "Percentage of Categories for loan: no         81.95\n",
            "yes        15.45\n",
            "unknown     2.60\n",
            "Name: loan, dtype: float64\n",
            "Number of Categories for contact:2\n",
            "Percentage of Categories for contact: cellular     63.3\n",
            "telephone    36.7\n",
            "Name: contact, dtype: float64\n",
            "Number of Categories for month:10\n",
            "Percentage of Categories for month: may    34.10\n",
            "jul    17.60\n",
            "aug    14.80\n",
            "jun    12.35\n",
            "nov     9.75\n",
            "apr     6.65\n",
            "oct     1.60\n",
            "mar     1.40\n",
            "sep     1.25\n",
            "dec     0.50\n",
            "Name: month, dtype: float64\n",
            "Number of Categories for day_of_week:5\n",
            "Percentage of Categories for day_of_week: wed    21.30\n",
            "thu    20.10\n",
            "mon    20.00\n",
            "tue    19.85\n",
            "fri    18.75\n",
            "Name: day_of_week, dtype: float64\n",
            "Number of Categories for poutcome:3\n",
            "Percentage of Categories for poutcome: nonexistent    86.45\n",
            "failure        10.35\n",
            "success         3.20\n",
            "Name: poutcome, dtype: float64\n",
            "Number of Categories for y:2\n",
            "Percentage of Categories for y: no     90.1\n",
            "yes     9.9\n",
            "Name: y, dtype: float64\n"
          ],
          "name": "stdout"
        }
      ]
    },
    {
      "cell_type": "markdown",
      "metadata": {
        "id": "fZn1oit-5tYP",
        "colab_type": "text"
      },
      "source": [
        "3. Check for defects in the data. Perform necessary actions to ‘fix’ these defects (5 MARKS)\n",
        "Some pointers which would help you, but don’t be limited by these\n",
        "  1. Do variables have missing/null values?\n",
        "  2. Do variables have outliers?\n",
        "  3. Is the Target distributed evenly? Is it a defect? If Yes, what steps are being taken to rectify\n",
        "the problem. \n"
      ]
    },
    {
      "cell_type": "code",
      "metadata": {
        "id": "NS6OBErw4tgf",
        "colab_type": "code",
        "colab": {}
      },
      "source": [
        "bank[bank['pdays']==999].shape\n",
        "# Thus there are 1931 rows with 999 values in pdays .That mean they had been contacted  for the first time.\n",
        "# Thus Replacing 999 with 0 for which implies they had never been contacted before.\n",
        "bank['pdays'] = bank['pdays'].apply(lambda x: 0 if x ==999 else x)\n"
      ],
      "execution_count": 0,
      "outputs": []
    },
    {
      "cell_type": "code",
      "metadata": {
        "id": "OnoGPz-b-Wqp",
        "colab_type": "code",
        "colab": {
          "base_uri": "https://localhost:8080/",
          "height": 1000
        },
        "outputId": "e8800782-fd17-4fcc-9e14-d9bd0abe358f"
      },
      "source": [
        "for cols in bank.select_dtypes(exclude='object').columns:\n",
        "  sns.boxplot(bank[cols])\n",
        "  plt.figure()"
      ],
      "execution_count": 46,
      "outputs": [
        {
          "output_type": "display_data",
          "data": {
            "image/png": "[encoded data removed]",
            "text/plain": [
              "<Figure size 432x288 with 1 Axes>"
            ]
          },
          "metadata": {
            "tags": []
          }
        },
        {
          "output_type": "display_data",
          "data": {
            "image/png": "[encoded data removed]",
            "text/plain": [
              "<Figure size 432x288 with 1 Axes>"
            ]
          },
          "metadata": {
            "tags": []
          }
        },
        {
          "output_type": "display_data",
          "data": {
            "image/png": "[encoded data removed]",
            "text/plain": [
              "<Figure size 432x288 with 1 Axes>"
            ]
          },
          "metadata": {
            "tags": []
          }
        },
        {
          "output_type": "display_data",
          "data": {
            "image/png": "[encoded data removed]",
            "text/plain": [
              "<Figure size 432x288 with 1 Axes>"
            ]
          },
          "metadata": {
            "tags": []
          }
        },
        {
          "output_type": "display_data",
          "data": {
            "image/png": "[encoded data removed]",
            "text/plain": [
              "<Figure size 432x288 with 1 Axes>"
            ]
          },
          "metadata": {
            "tags": []
          }
        },
        {
          "output_type": "display_data",
          "data": {
            "image/png": "[encoded data removed]",
            "text/plain": [
              "<Figure size 432x288 with 1 Axes>"
            ]
          },
          "metadata": {
            "tags": []
          }
        },
        {
          "output_type": "display_data",
          "data": {
            "image/png": "[encoded data removed]",
            "text/plain": [
              "<Figure size 432x288 with 1 Axes>"
            ]
          },
          "metadata": {
            "tags": []
          }
        },
        {
          "output_type": "display_data",
          "data": {
            "image/png": "[encoded data removed]",
            "text/plain": [
              "<Figure size 432x288 with 1 Axes>"
            ]
          },
          "metadata": {
            "tags": []
          }
        },
        {
          "output_type": "display_data",
          "data": {
            "image/png": "[encoded data removed]",
            "text/plain": [
              "<Figure size 432x288 with 1 Axes>"
            ]
          },
          "metadata": {
            "tags": []
          }
        },
        {
          "output_type": "display_data",
          "data": {
            "image/png": "[encoded data removed]",
            "text/plain": [
              "<Figure size 432x288 with 1 Axes>"
            ]
          },
          "metadata": {
            "tags": []
          }
        },
        {
          "output_type": "display_data",
          "data": {
            "text/plain": [
              "<Figure size 432x288 with 0 Axes>"
            ]
          },
          "metadata": {
            "tags": []
          }
        }
      ]
    },
    {
      "cell_type": "markdown",
      "metadata": {
        "id": "RSpSSZXX7JCj",
        "colab_type": "text"
      },
      "source": [
        "### From above we can see that in age ,pdays,duration,campaign,previous,cons.conf.idx there are outliers present from the boxplots.\n",
        "\n",
        "### After observing the domain and data we have decided not to treat the outliers as they are just extreme values .These values if capped or imputed they might effect our predictve model.\n",
        "### Also there can be biased prediction ,we might loose some useful information."
      ]
    },
    {
      "cell_type": "code",
      "metadata": {
        "id": "McmB3nM864rQ",
        "colab_type": "code",
        "colab": {
          "base_uri": "https://localhost:8080/",
          "height": 68
        },
        "outputId": "6d2a9a16-5da0-48c8-b52f-ede04c373faf"
      },
      "source": [
        "bank['y'].value_counts()/bank.shape[0]\n",
        "\n",
        "# We can see that there is 90% of no and only 10 % of yes data present in the sample data.\n",
        "# Thus Target variable is not evenly distributed which is a defect and our model might be biased if we use this.\n",
        "#Thus we can use Over Sampling Technique.SMOTE"
      ],
      "execution_count": 48,
      "outputs": [
        {
          "output_type": "execute_result",
          "data": {
            "text/plain": [
              "no     0.901\n",
              "yes    0.099\n",
              "Name: y, dtype: float64"
            ]
          },
          "metadata": {
            "tags": []
          },
          "execution_count": 48
        }
      ]
    },
    {
      "cell_type": "markdown",
      "metadata": {
        "id": "gXAfJY2FEY4z",
        "colab_type": "text"
      },
      "source": [
        "### Before going further we are doing Encoding .\n",
        "### One Hot Encoding has been used"
      ]
    },
    {
      "cell_type": "code",
      "metadata": {
        "id": "93-7Wne7C7CE",
        "colab_type": "code",
        "colab": {}
      },
      "source": [
        "df = pd.get_dummies(bank,drop_first=True)"
      ],
      "execution_count": 0,
      "outputs": []
    },
    {
      "cell_type": "code",
      "metadata": {
        "id": "i4xGFH9cEm3T",
        "colab_type": "code",
        "colab": {
          "base_uri": "https://localhost:8080/",
          "height": 34
        },
        "outputId": "2d463d18-1019-437e-879a-1ea175db281c"
      },
      "source": [
        "df.shape\n"
      ],
      "execution_count": 54,
      "outputs": [
        {
          "output_type": "execute_result",
          "data": {
            "text/plain": [
              "(2000, 53)"
            ]
          },
          "metadata": {
            "tags": []
          },
          "execution_count": 54
        }
      ]
    },
    {
      "cell_type": "code",
      "metadata": {
        "id": "9A7NAsvdIMiO",
        "colab_type": "code",
        "colab": {}
      },
      "source": [
        "df_ori = bank.copy()\n",
        "from sklearn.preprocessing import LabelEncoder\n",
        "\n",
        "le = LabelEncoder()\n",
        "bank_columns = bank.select_dtypes(include='object').columns\n",
        "df = bank.select_dtypes(include='object').apply(le.fit_transform)\n"
      ],
      "execution_count": 0,
      "outputs": []
    },
    {
      "cell_type": "code",
      "metadata": {
        "id": "niy0xR5pJeEt",
        "colab_type": "code",
        "colab": {
          "base_uri": "https://localhost:8080/",
          "height": 224
        },
        "outputId": "59937756-e500-4d86-9977-16974ec24275"
      },
      "source": [
        "bank.head()"
      ],
      "execution_count": 63,
      "outputs": [
        {
          "output_type": "execute_result",
          "data": {
            "text/html": [
              "<div>\n",
              "<style scoped>\n",
              "    .dataframe tbody tr th:only-of-type {\n",
              "        vertical-align: middle;\n",
              "    }\n",
              "\n",
              "    .dataframe tbody tr th {\n",
              "        vertical-align: top;\n",
              "    }\n",
              "\n",
              "    .dataframe thead th {\n",
              "        text-align: right;\n",
              "    }\n",
              "</style>\n",
              "<table border=\"1\" class=\"dataframe\">\n",
              "  <thead>\n",
              "    <tr style=\"text-align: right;\">\n",
              "      <th></th>\n",
              "      <th>age</th>\n",
              "      <th>job</th>\n",
              "      <th>marital</th>\n",
              "      <th>education</th>\n",
              "      <th>default</th>\n",
              "      <th>housing</th>\n",
              "      <th>loan</th>\n",
              "      <th>contact</th>\n",
              "      <th>month</th>\n",
              "      <th>day_of_week</th>\n",
              "      <th>duration</th>\n",
              "      <th>campaign</th>\n",
              "      <th>pdays</th>\n",
              "      <th>previous</th>\n",
              "      <th>poutcome</th>\n",
              "      <th>emp.var.rate</th>\n",
              "      <th>cons.price.idx</th>\n",
              "      <th>cons.conf.idx</th>\n",
              "      <th>euribor3m</th>\n",
              "      <th>nr.employed</th>\n",
              "      <th>y</th>\n",
              "    </tr>\n",
              "  </thead>\n",
              "  <tbody>\n",
              "    <tr>\n",
              "      <th>0</th>\n",
              "      <td>31</td>\n",
              "      <td>blue-collar</td>\n",
              "      <td>married</td>\n",
              "      <td>basic.6y</td>\n",
              "      <td>unknown</td>\n",
              "      <td>no</td>\n",
              "      <td>no</td>\n",
              "      <td>cellular</td>\n",
              "      <td>jul</td>\n",
              "      <td>mon</td>\n",
              "      <td>196</td>\n",
              "      <td>2</td>\n",
              "      <td>0</td>\n",
              "      <td>0</td>\n",
              "      <td>nonexistent</td>\n",
              "      <td>1.4</td>\n",
              "      <td>93.918</td>\n",
              "      <td>-42.7</td>\n",
              "      <td>4.960</td>\n",
              "      <td>5228.1</td>\n",
              "      <td>no</td>\n",
              "    </tr>\n",
              "    <tr>\n",
              "      <th>1</th>\n",
              "      <td>32</td>\n",
              "      <td>housemaid</td>\n",
              "      <td>single</td>\n",
              "      <td>university.degree</td>\n",
              "      <td>unknown</td>\n",
              "      <td>yes</td>\n",
              "      <td>no</td>\n",
              "      <td>cellular</td>\n",
              "      <td>jul</td>\n",
              "      <td>tue</td>\n",
              "      <td>71</td>\n",
              "      <td>4</td>\n",
              "      <td>0</td>\n",
              "      <td>0</td>\n",
              "      <td>nonexistent</td>\n",
              "      <td>1.4</td>\n",
              "      <td>93.918</td>\n",
              "      <td>-42.7</td>\n",
              "      <td>4.961</td>\n",
              "      <td>5228.1</td>\n",
              "      <td>no</td>\n",
              "    </tr>\n",
              "    <tr>\n",
              "      <th>2</th>\n",
              "      <td>26</td>\n",
              "      <td>admin.</td>\n",
              "      <td>married</td>\n",
              "      <td>high.school</td>\n",
              "      <td>no</td>\n",
              "      <td>yes</td>\n",
              "      <td>no</td>\n",
              "      <td>cellular</td>\n",
              "      <td>apr</td>\n",
              "      <td>mon</td>\n",
              "      <td>61</td>\n",
              "      <td>1</td>\n",
              "      <td>0</td>\n",
              "      <td>0</td>\n",
              "      <td>nonexistent</td>\n",
              "      <td>-1.8</td>\n",
              "      <td>93.075</td>\n",
              "      <td>-47.1</td>\n",
              "      <td>1.405</td>\n",
              "      <td>5099.1</td>\n",
              "      <td>no</td>\n",
              "    </tr>\n",
              "    <tr>\n",
              "      <th>3</th>\n",
              "      <td>44</td>\n",
              "      <td>blue-collar</td>\n",
              "      <td>married</td>\n",
              "      <td>basic.4y</td>\n",
              "      <td>unknown</td>\n",
              "      <td>no</td>\n",
              "      <td>no</td>\n",
              "      <td>cellular</td>\n",
              "      <td>may</td>\n",
              "      <td>fri</td>\n",
              "      <td>361</td>\n",
              "      <td>3</td>\n",
              "      <td>0</td>\n",
              "      <td>0</td>\n",
              "      <td>nonexistent</td>\n",
              "      <td>-1.8</td>\n",
              "      <td>92.893</td>\n",
              "      <td>-46.2</td>\n",
              "      <td>1.313</td>\n",
              "      <td>5099.1</td>\n",
              "      <td>no</td>\n",
              "    </tr>\n",
              "    <tr>\n",
              "      <th>4</th>\n",
              "      <td>32</td>\n",
              "      <td>technician</td>\n",
              "      <td>married</td>\n",
              "      <td>unknown</td>\n",
              "      <td>no</td>\n",
              "      <td>yes</td>\n",
              "      <td>no</td>\n",
              "      <td>cellular</td>\n",
              "      <td>jul</td>\n",
              "      <td>fri</td>\n",
              "      <td>107</td>\n",
              "      <td>2</td>\n",
              "      <td>0</td>\n",
              "      <td>0</td>\n",
              "      <td>nonexistent</td>\n",
              "      <td>1.4</td>\n",
              "      <td>93.918</td>\n",
              "      <td>-42.7</td>\n",
              "      <td>4.963</td>\n",
              "      <td>5228.1</td>\n",
              "      <td>no</td>\n",
              "    </tr>\n",
              "  </tbody>\n",
              "</table>\n",
              "</div>"
            ],
            "text/plain": [
              "   age          job  marital  ... euribor3m nr.employed   y\n",
              "0   31  blue-collar  married  ...     4.960      5228.1  no\n",
              "1   32    housemaid   single  ...     4.961      5228.1  no\n",
              "2   26       admin.  married  ...     1.405      5099.1  no\n",
              "3   44  blue-collar  married  ...     1.313      5099.1  no\n",
              "4   32   technician  married  ...     4.963      5228.1  no\n",
              "\n",
              "[5 rows x 21 columns]"
            ]
          },
          "metadata": {
            "tags": []
          },
          "execution_count": 63
        }
      ]
    },
    {
      "cell_type": "code",
      "metadata": {
        "id": "mEiBasjrJUuE",
        "colab_type": "code",
        "colab": {
          "base_uri": "https://localhost:8080/",
          "height": 224
        },
        "outputId": "33dbe05b-cbf9-4193-8766-f5ddf54bbdbb"
      },
      "source": [
        "df.head()\n",
        "\n",
        "final_df = pd.concat([df,bank.select_dtypes(exclude='object')],axis=1)\n",
        "final_df.head()"
      ],
      "execution_count": 65,
      "outputs": [
        {
          "output_type": "execute_result",
          "data": {
            "text/html": [
              "<div>\n",
              "<style scoped>\n",
              "    .dataframe tbody tr th:only-of-type {\n",
              "        vertical-align: middle;\n",
              "    }\n",
              "\n",
              "    .dataframe tbody tr th {\n",
              "        vertical-align: top;\n",
              "    }\n",
              "\n",
              "    .dataframe thead th {\n",
              "        text-align: right;\n",
              "    }\n",
              "</style>\n",
              "<table border=\"1\" class=\"dataframe\">\n",
              "  <thead>\n",
              "    <tr style=\"text-align: right;\">\n",
              "      <th></th>\n",
              "      <th>job</th>\n",
              "      <th>marital</th>\n",
              "      <th>education</th>\n",
              "      <th>default</th>\n",
              "      <th>housing</th>\n",
              "      <th>loan</th>\n",
              "      <th>contact</th>\n",
              "      <th>month</th>\n",
              "      <th>day_of_week</th>\n",
              "      <th>poutcome</th>\n",
              "      <th>y</th>\n",
              "      <th>age</th>\n",
              "      <th>duration</th>\n",
              "      <th>campaign</th>\n",
              "      <th>pdays</th>\n",
              "      <th>previous</th>\n",
              "      <th>emp.var.rate</th>\n",
              "      <th>cons.price.idx</th>\n",
              "      <th>cons.conf.idx</th>\n",
              "      <th>euribor3m</th>\n",
              "      <th>nr.employed</th>\n",
              "    </tr>\n",
              "  </thead>\n",
              "  <tbody>\n",
              "    <tr>\n",
              "      <th>0</th>\n",
              "      <td>1</td>\n",
              "      <td>1</td>\n",
              "      <td>1</td>\n",
              "      <td>1</td>\n",
              "      <td>0</td>\n",
              "      <td>0</td>\n",
              "      <td>0</td>\n",
              "      <td>3</td>\n",
              "      <td>1</td>\n",
              "      <td>1</td>\n",
              "      <td>0</td>\n",
              "      <td>31</td>\n",
              "      <td>196</td>\n",
              "      <td>2</td>\n",
              "      <td>0</td>\n",
              "      <td>0</td>\n",
              "      <td>1.4</td>\n",
              "      <td>93.918</td>\n",
              "      <td>-42.7</td>\n",
              "      <td>4.960</td>\n",
              "      <td>5228.1</td>\n",
              "    </tr>\n",
              "    <tr>\n",
              "      <th>1</th>\n",
              "      <td>3</td>\n",
              "      <td>2</td>\n",
              "      <td>6</td>\n",
              "      <td>1</td>\n",
              "      <td>2</td>\n",
              "      <td>0</td>\n",
              "      <td>0</td>\n",
              "      <td>3</td>\n",
              "      <td>3</td>\n",
              "      <td>1</td>\n",
              "      <td>0</td>\n",
              "      <td>32</td>\n",
              "      <td>71</td>\n",
              "      <td>4</td>\n",
              "      <td>0</td>\n",
              "      <td>0</td>\n",
              "      <td>1.4</td>\n",
              "      <td>93.918</td>\n",
              "      <td>-42.7</td>\n",
              "      <td>4.961</td>\n",
              "      <td>5228.1</td>\n",
              "    </tr>\n",
              "    <tr>\n",
              "      <th>2</th>\n",
              "      <td>0</td>\n",
              "      <td>1</td>\n",
              "      <td>3</td>\n",
              "      <td>0</td>\n",
              "      <td>2</td>\n",
              "      <td>0</td>\n",
              "      <td>0</td>\n",
              "      <td>0</td>\n",
              "      <td>1</td>\n",
              "      <td>1</td>\n",
              "      <td>0</td>\n",
              "      <td>26</td>\n",
              "      <td>61</td>\n",
              "      <td>1</td>\n",
              "      <td>0</td>\n",
              "      <td>0</td>\n",
              "      <td>-1.8</td>\n",
              "      <td>93.075</td>\n",
              "      <td>-47.1</td>\n",
              "      <td>1.405</td>\n",
              "      <td>5099.1</td>\n",
              "    </tr>\n",
              "    <tr>\n",
              "      <th>3</th>\n",
              "      <td>1</td>\n",
              "      <td>1</td>\n",
              "      <td>0</td>\n",
              "      <td>1</td>\n",
              "      <td>0</td>\n",
              "      <td>0</td>\n",
              "      <td>0</td>\n",
              "      <td>6</td>\n",
              "      <td>0</td>\n",
              "      <td>1</td>\n",
              "      <td>0</td>\n",
              "      <td>44</td>\n",
              "      <td>361</td>\n",
              "      <td>3</td>\n",
              "      <td>0</td>\n",
              "      <td>0</td>\n",
              "      <td>-1.8</td>\n",
              "      <td>92.893</td>\n",
              "      <td>-46.2</td>\n",
              "      <td>1.313</td>\n",
              "      <td>5099.1</td>\n",
              "    </tr>\n",
              "    <tr>\n",
              "      <th>4</th>\n",
              "      <td>9</td>\n",
              "      <td>1</td>\n",
              "      <td>7</td>\n",
              "      <td>0</td>\n",
              "      <td>2</td>\n",
              "      <td>0</td>\n",
              "      <td>0</td>\n",
              "      <td>3</td>\n",
              "      <td>0</td>\n",
              "      <td>1</td>\n",
              "      <td>0</td>\n",
              "      <td>32</td>\n",
              "      <td>107</td>\n",
              "      <td>2</td>\n",
              "      <td>0</td>\n",
              "      <td>0</td>\n",
              "      <td>1.4</td>\n",
              "      <td>93.918</td>\n",
              "      <td>-42.7</td>\n",
              "      <td>4.963</td>\n",
              "      <td>5228.1</td>\n",
              "    </tr>\n",
              "  </tbody>\n",
              "</table>\n",
              "</div>"
            ],
            "text/plain": [
              "   job  marital  education  ...  cons.conf.idx  euribor3m  nr.employed\n",
              "0    1        1          1  ...          -42.7      4.960       5228.1\n",
              "1    3        2          6  ...          -42.7      4.961       5228.1\n",
              "2    0        1          3  ...          -47.1      1.405       5099.1\n",
              "3    1        1          0  ...          -46.2      1.313       5099.1\n",
              "4    9        1          7  ...          -42.7      4.963       5228.1\n",
              "\n",
              "[5 rows x 21 columns]"
            ]
          },
          "metadata": {
            "tags": []
          },
          "execution_count": 65
        }
      ]
    },
    {
      "cell_type": "code",
      "metadata": {
        "id": "RUkg4RYtKVS4",
        "colab_type": "code",
        "colab": {
          "base_uri": "https://localhost:8080/",
          "height": 34
        },
        "outputId": "468df570-6819-4c7a-a1c1-86da66c12fbd"
      },
      "source": [
        "final_df.shape"
      ],
      "execution_count": 66,
      "outputs": [
        {
          "output_type": "execute_result",
          "data": {
            "text/plain": [
              "(2000, 21)"
            ]
          },
          "metadata": {
            "tags": []
          },
          "execution_count": 66
        }
      ]
    },
    {
      "cell_type": "markdown",
      "metadata": {
        "id": "kR9wqoFIEviE",
        "colab_type": "text"
      },
      "source": [
        "## We can not use this for our encoding as this might lead to curse of dimensionality.\n",
        "## Thus our Final df is label encoded."
      ]
    },
    {
      "cell_type": "code",
      "metadata": {
        "id": "WZ1NO8NM8qmU",
        "colab_type": "code",
        "colab": {
          "base_uri": "https://localhost:8080/",
          "height": 71
        },
        "outputId": "51849b85-1306-41b2-a720-4220ddfd0290"
      },
      "source": [
        "X=final_df.drop('y',axis=1)\n",
        "y=final_df['y']\n",
        "X, y = SMOTE(ratio='minority').fit_resample(X, y)\n"
      ],
      "execution_count": 93,
      "outputs": [
        {
          "output_type": "stream",
          "text": [
            "/usr/local/lib/python3.6/dist-packages/sklearn/utils/deprecation.py:87: FutureWarning: Function safe_indexing is deprecated; safe_indexing is deprecated in version 0.22 and will be removed in version 0.24.\n",
            "  warnings.warn(msg, category=FutureWarning)\n"
          ],
          "name": "stderr"
        }
      ]
    },
    {
      "cell_type": "code",
      "metadata": {
        "id": "v7reya8R9wl-",
        "colab_type": "code",
        "colab": {
          "base_uri": "https://localhost:8080/",
          "height": 34
        },
        "outputId": "44b18284-ed82-4dde-8f4d-9c016beae2c4"
      },
      "source": [
        "X.shape,y.shape"
      ],
      "execution_count": 94,
      "outputs": [
        {
          "output_type": "execute_result",
          "data": {
            "text/plain": [
              "((3604, 20), (3604,))"
            ]
          },
          "metadata": {
            "tags": []
          },
          "execution_count": 94
        }
      ]
    },
    {
      "cell_type": "code",
      "metadata": {
        "id": "5KdAQPG0K05t",
        "colab_type": "code",
        "colab": {
          "base_uri": "https://localhost:8080/",
          "height": 34
        },
        "outputId": "72c92ef0-636e-4340-aa5c-1841c7009ef9"
      },
      "source": [
        "y[y==1].shape,y[y==0].shape"
      ],
      "execution_count": 95,
      "outputs": [
        {
          "output_type": "execute_result",
          "data": {
            "text/plain": [
              "((1802,), (1802,))"
            ]
          },
          "metadata": {
            "tags": []
          },
          "execution_count": 95
        }
      ]
    },
    {
      "cell_type": "markdown",
      "metadata": {
        "id": "HNwAO-31Mdwm",
        "colab_type": "text"
      },
      "source": [
        "## Thus now we are able to see that classes are divided properly after applying SMOTE and imbalance in Target variable is gone."
      ]
    },
    {
      "cell_type": "code",
      "metadata": {
        "id": "yQygSHcsOapn",
        "colab_type": "code",
        "colab": {
          "base_uri": "https://localhost:8080/",
          "height": 102
        },
        "outputId": "42ece99a-e0f1-4abb-b281-825c137048e5"
      },
      "source": [
        "final_df.drop('y',axis=1).columns"
      ],
      "execution_count": 96,
      "outputs": [
        {
          "output_type": "execute_result",
          "data": {
            "text/plain": [
              "Index(['job', 'marital', 'education', 'default', 'housing', 'loan', 'contact',\n",
              "       'month', 'day_of_week', 'poutcome', 'age', 'duration', 'campaign',\n",
              "       'pdays', 'previous', 'emp.var.rate', 'cons.price.idx', 'cons.conf.idx',\n",
              "       'euribor3m', 'nr.employed'],\n",
              "      dtype='object')"
            ]
          },
          "metadata": {
            "tags": []
          },
          "execution_count": 96
        }
      ]
    },
    {
      "cell_type": "code",
      "metadata": {
        "id": "iGGmFEPeMdJd",
        "colab_type": "code",
        "colab": {
          "base_uri": "https://localhost:8080/",
          "height": 102
        },
        "outputId": "56d34064-c0fe-419a-8efe-0fc5b4f7d3b9"
      },
      "source": [
        "#X = pd.DataFrame(X,columns=final_df.drop('y',axis=1).columns)\n",
        "X.columns\n",
        "#X.rename({0:''})"
      ],
      "execution_count": 92,
      "outputs": [
        {
          "output_type": "execute_result",
          "data": {
            "text/plain": [
              "Index(['job', 'marital', 'education', 'default', 'housing', 'loan', 'contact',\n",
              "       'month', 'day_of_week', 'poutcome', 'age', 'duration', 'campaign',\n",
              "       'pdays', 'previous', 'emp.var.rate', 'cons.price.idx', 'cons.conf.idx',\n",
              "       'euribor3m', 'nr.employed'],\n",
              "      dtype='object')"
            ]
          },
          "metadata": {
            "tags": []
          },
          "execution_count": 92
        }
      ]
    },
    {
      "cell_type": "code",
      "metadata": {
        "id": "KsJiohkSK9Sj",
        "colab_type": "code",
        "colab": {
          "base_uri": "https://localhost:8080/",
          "height": 204
        },
        "outputId": "454b5b6d-23d3-4883-a760-ed810a67454a"
      },
      "source": [
        "y = pd.DataFrame(y)\n",
        "y.head()"
      ],
      "execution_count": 82,
      "outputs": [
        {
          "output_type": "execute_result",
          "data": {
            "text/html": [
              "<div>\n",
              "<style scoped>\n",
              "    .dataframe tbody tr th:only-of-type {\n",
              "        vertical-align: middle;\n",
              "    }\n",
              "\n",
              "    .dataframe tbody tr th {\n",
              "        vertical-align: top;\n",
              "    }\n",
              "\n",
              "    .dataframe thead th {\n",
              "        text-align: right;\n",
              "    }\n",
              "</style>\n",
              "<table border=\"1\" class=\"dataframe\">\n",
              "  <thead>\n",
              "    <tr style=\"text-align: right;\">\n",
              "      <th></th>\n",
              "      <th>0</th>\n",
              "    </tr>\n",
              "  </thead>\n",
              "  <tbody>\n",
              "    <tr>\n",
              "      <th>0</th>\n",
              "      <td>0</td>\n",
              "    </tr>\n",
              "    <tr>\n",
              "      <th>1</th>\n",
              "      <td>0</td>\n",
              "    </tr>\n",
              "    <tr>\n",
              "      <th>2</th>\n",
              "      <td>0</td>\n",
              "    </tr>\n",
              "    <tr>\n",
              "      <th>3</th>\n",
              "      <td>0</td>\n",
              "    </tr>\n",
              "    <tr>\n",
              "      <th>4</th>\n",
              "      <td>0</td>\n",
              "    </tr>\n",
              "  </tbody>\n",
              "</table>\n",
              "</div>"
            ],
            "text/plain": [
              "   0\n",
              "0  0\n",
              "1  0\n",
              "2  0\n",
              "3  0\n",
              "4  0"
            ]
          },
          "metadata": {
            "tags": []
          },
          "execution_count": 82
        }
      ]
    },
    {
      "cell_type": "markdown",
      "metadata": {
        "id": "11g4bbEnPYqJ",
        "colab_type": "text"
      },
      "source": [
        "1. Plot relevant categorical plots. Find out which are the variables most correlated or appear to\n",
        "be in causation with Target? Do you want to exclude some variables from the model based\n",
        "on this analysis? What other actions will you take?\n",
        "2. Plot all independent variables with the target & find out the relationship? Perform the\n",
        "Relevant Tests to find out if the Independent variables are associated with the Target\n",
        "Variable.\n",
        "Hint: based on your observations you may want to transform features or create additional\n",
        "features."
      ]
    },
    {
      "cell_type": "code",
      "metadata": {
        "id": "4hypvBI8M-ar",
        "colab_type": "code",
        "colab": {
          "base_uri": "https://localhost:8080/",
          "height": 224
        },
        "outputId": "5c52e604-4e64-47ea-ff58-cb28aa1c87ef"
      },
      "source": [
        "final_df.head()"
      ],
      "execution_count": 137,
      "outputs": [
        {
          "output_type": "execute_result",
          "data": {
            "text/html": [
              "<div>\n",
              "<style scoped>\n",
              "    .dataframe tbody tr th:only-of-type {\n",
              "        vertical-align: middle;\n",
              "    }\n",
              "\n",
              "    .dataframe tbody tr th {\n",
              "        vertical-align: top;\n",
              "    }\n",
              "\n",
              "    .dataframe thead th {\n",
              "        text-align: right;\n",
              "    }\n",
              "</style>\n",
              "<table border=\"1\" class=\"dataframe\">\n",
              "  <thead>\n",
              "    <tr style=\"text-align: right;\">\n",
              "      <th></th>\n",
              "      <th>job</th>\n",
              "      <th>marital</th>\n",
              "      <th>education</th>\n",
              "      <th>default</th>\n",
              "      <th>housing</th>\n",
              "      <th>loan</th>\n",
              "      <th>contact</th>\n",
              "      <th>month</th>\n",
              "      <th>day_of_week</th>\n",
              "      <th>poutcome</th>\n",
              "      <th>y</th>\n",
              "      <th>age</th>\n",
              "      <th>duration</th>\n",
              "      <th>campaign</th>\n",
              "      <th>pdays</th>\n",
              "      <th>previous</th>\n",
              "      <th>emp.var.rate</th>\n",
              "      <th>cons.price.idx</th>\n",
              "      <th>cons.conf.idx</th>\n",
              "      <th>euribor3m</th>\n",
              "      <th>nr.employed</th>\n",
              "    </tr>\n",
              "  </thead>\n",
              "  <tbody>\n",
              "    <tr>\n",
              "      <th>0</th>\n",
              "      <td>1</td>\n",
              "      <td>1</td>\n",
              "      <td>1</td>\n",
              "      <td>1</td>\n",
              "      <td>0</td>\n",
              "      <td>0</td>\n",
              "      <td>0</td>\n",
              "      <td>3</td>\n",
              "      <td>1</td>\n",
              "      <td>1</td>\n",
              "      <td>0</td>\n",
              "      <td>31</td>\n",
              "      <td>196</td>\n",
              "      <td>2</td>\n",
              "      <td>0</td>\n",
              "      <td>0</td>\n",
              "      <td>1.4</td>\n",
              "      <td>93.918</td>\n",
              "      <td>-42.7</td>\n",
              "      <td>4.960</td>\n",
              "      <td>5228.1</td>\n",
              "    </tr>\n",
              "    <tr>\n",
              "      <th>1</th>\n",
              "      <td>3</td>\n",
              "      <td>2</td>\n",
              "      <td>6</td>\n",
              "      <td>1</td>\n",
              "      <td>2</td>\n",
              "      <td>0</td>\n",
              "      <td>0</td>\n",
              "      <td>3</td>\n",
              "      <td>3</td>\n",
              "      <td>1</td>\n",
              "      <td>0</td>\n",
              "      <td>32</td>\n",
              "      <td>71</td>\n",
              "      <td>4</td>\n",
              "      <td>0</td>\n",
              "      <td>0</td>\n",
              "      <td>1.4</td>\n",
              "      <td>93.918</td>\n",
              "      <td>-42.7</td>\n",
              "      <td>4.961</td>\n",
              "      <td>5228.1</td>\n",
              "    </tr>\n",
              "    <tr>\n",
              "      <th>2</th>\n",
              "      <td>0</td>\n",
              "      <td>1</td>\n",
              "      <td>3</td>\n",
              "      <td>0</td>\n",
              "      <td>2</td>\n",
              "      <td>0</td>\n",
              "      <td>0</td>\n",
              "      <td>0</td>\n",
              "      <td>1</td>\n",
              "      <td>1</td>\n",
              "      <td>0</td>\n",
              "      <td>26</td>\n",
              "      <td>61</td>\n",
              "      <td>1</td>\n",
              "      <td>0</td>\n",
              "      <td>0</td>\n",
              "      <td>-1.8</td>\n",
              "      <td>93.075</td>\n",
              "      <td>-47.1</td>\n",
              "      <td>1.405</td>\n",
              "      <td>5099.1</td>\n",
              "    </tr>\n",
              "    <tr>\n",
              "      <th>3</th>\n",
              "      <td>1</td>\n",
              "      <td>1</td>\n",
              "      <td>0</td>\n",
              "      <td>1</td>\n",
              "      <td>0</td>\n",
              "      <td>0</td>\n",
              "      <td>0</td>\n",
              "      <td>6</td>\n",
              "      <td>0</td>\n",
              "      <td>1</td>\n",
              "      <td>0</td>\n",
              "      <td>44</td>\n",
              "      <td>361</td>\n",
              "      <td>3</td>\n",
              "      <td>0</td>\n",
              "      <td>0</td>\n",
              "      <td>-1.8</td>\n",
              "      <td>92.893</td>\n",
              "      <td>-46.2</td>\n",
              "      <td>1.313</td>\n",
              "      <td>5099.1</td>\n",
              "    </tr>\n",
              "    <tr>\n",
              "      <th>4</th>\n",
              "      <td>9</td>\n",
              "      <td>1</td>\n",
              "      <td>7</td>\n",
              "      <td>0</td>\n",
              "      <td>2</td>\n",
              "      <td>0</td>\n",
              "      <td>0</td>\n",
              "      <td>3</td>\n",
              "      <td>0</td>\n",
              "      <td>1</td>\n",
              "      <td>0</td>\n",
              "      <td>32</td>\n",
              "      <td>107</td>\n",
              "      <td>2</td>\n",
              "      <td>0</td>\n",
              "      <td>0</td>\n",
              "      <td>1.4</td>\n",
              "      <td>93.918</td>\n",
              "      <td>-42.7</td>\n",
              "      <td>4.963</td>\n",
              "      <td>5228.1</td>\n",
              "    </tr>\n",
              "  </tbody>\n",
              "</table>\n",
              "</div>"
            ],
            "text/plain": [
              "   job  marital  education  ...  cons.conf.idx  euribor3m  nr.employed\n",
              "0    1        1          1  ...          -42.7      4.960       5228.1\n",
              "1    3        2          6  ...          -42.7      4.961       5228.1\n",
              "2    0        1          3  ...          -47.1      1.405       5099.1\n",
              "3    1        1          0  ...          -46.2      1.313       5099.1\n",
              "4    9        1          7  ...          -42.7      4.963       5228.1\n",
              "\n",
              "[5 rows x 21 columns]"
            ]
          },
          "metadata": {
            "tags": []
          },
          "execution_count": 137
        }
      ]
    },
    {
      "cell_type": "code",
      "metadata": {
        "id": "jTjtMUUoXOM2",
        "colab_type": "code",
        "colab": {
          "base_uri": "https://localhost:8080/",
          "height": 68
        },
        "outputId": "31110673-d1d6-4c2b-a8e8-ebbe1fccc39a"
      },
      "source": [
        "X= pd.DataFrame(X)\n",
        "y= pd.DataFrame(y)\n",
        "\n",
        "from sklearn.preprocessing import StandardScaler\n",
        "a = X.columns\n",
        "sc =  StandardScaler()\n",
        "df_scaled=pd.DataFrame(sc.fit_transform(X),columns=final_df.drop('y',axis=1).columns)\n",
        "df_scaled.head()\n",
        "\n",
        "df_original = pd.concat([df_scaled,y],axis=1)\n",
        "df_original.rename(columns={0:'y'},inplace=True)\n",
        "df_original['y'].value_counts()"
      ],
      "execution_count": 159,
      "outputs": [
        {
          "output_type": "execute_result",
          "data": {
            "text/plain": [
              "1    1802\n",
              "0    1802\n",
              "Name: y, dtype: int64"
            ]
          },
          "metadata": {
            "tags": []
          },
          "execution_count": 159
        }
      ]
    },
    {
      "cell_type": "code",
      "metadata": {
        "id": "tnVMJgbgYkdB",
        "colab_type": "code",
        "colab": {}
      },
      "source": [
        ""
      ],
      "execution_count": 0,
      "outputs": []
    },
    {
      "cell_type": "code",
      "metadata": {
        "id": "CWhA06NmPjqr",
        "colab_type": "code",
        "colab": {
          "base_uri": "https://localhost:8080/",
          "height": 1000
        },
        "outputId": "0662422b-3b52-40dc-8c3e-c6139409e414"
      },
      "source": [
        "for col in bank.select_dtypes(include='object').columns:\n",
        "    plt.figure(figsize=(12,5))\n",
        "    print(sns.countplot(bank[col],hue=bank['y'],orient='v'))\n",
        "    plt.show()\n"
      ],
      "execution_count": 129,
      "outputs": [
        {
          "output_type": "stream",
          "text": [
            "AxesSubplot(0.125,0.125;0.775x0.755)\n"
          ],
          "name": "stdout"
        },
        {
          "output_type": "display_data",
          "data": {
            "image/png": "[encoded data removed]",
            "text/plain": [
              "<Figure size 864x360 with 1 Axes>"
            ]
          },
          "metadata": {
            "tags": []
          }
        },
        {
          "output_type": "stream",
          "text": [
            "AxesSubplot(0.125,0.125;0.775x0.755)\n"
          ],
          "name": "stdout"
        },
        {
          "output_type": "display_data",
          "data": {
            "image/png": "[encoded data removed]",
            "text/plain": [
              "<Figure size 864x360 with 1 Axes>"
            ]
          },
          "metadata": {
            "tags": []
          }
        },
        {
          "output_type": "stream",
          "text": [
            "AxesSubplot(0.125,0.125;0.775x0.755)\n"
          ],
          "name": "stdout"
        },
        {
          "output_type": "display_data",
          "data": {
            "image/png": "[encoded data removed]",
            "text/plain": [
              "<Figure size 864x360 with 1 Axes>"
            ]
          },
          "metadata": {
            "tags": []
          }
        },
        {
          "output_type": "stream",
          "text": [
            "AxesSubplot(0.125,0.125;0.775x0.755)\n"
          ],
          "name": "stdout"
        },
        {
          "output_type": "display_data",
          "data": {
            "image/png": "[encoded data removed]",
            "text/plain": [
              "<Figure size 864x360 with 1 Axes>"
            ]
          },
          "metadata": {
            "tags": []
          }
        },
        {
          "output_type": "stream",
          "text": [
            "AxesSubplot(0.125,0.125;0.775x0.755)\n"
          ],
          "name": "stdout"
        },
        {
          "output_type": "display_data",
          "data": {
            "image/png": "[encoded data removed]",
            "text/plain": [
              "<Figure size 864x360 with 1 Axes>"
            ]
          },
          "metadata": {
            "tags": []
          }
        },
        {
          "output_type": "stream",
          "text": [
            "AxesSubplot(0.125,0.125;0.775x0.755)\n"
          ],
          "name": "stdout"
        },
        {
          "output_type": "display_data",
          "data": {
            "image/png": "[encoded data removed]",
            "text/plain": [
              "<Figure size 864x360 with 1 Axes>"
            ]
          },
          "metadata": {
            "tags": []
          }
        },
        {
          "output_type": "stream",
          "text": [
            "AxesSubplot(0.125,0.125;0.775x0.755)\n"
          ],
          "name": "stdout"
        },
        {
          "output_type": "display_data",
          "data": {
            "image/png": "[encoded data removed]",
            "text/plain": [
              "<Figure size 864x360 with 1 Axes>"
            ]
          },
          "metadata": {
            "tags": []
          }
        },
        {
          "output_type": "stream",
          "text": [
            "AxesSubplot(0.125,0.125;0.775x0.755)\n"
          ],
          "name": "stdout"
        },
        {
          "output_type": "display_data",
          "data": {
            "image/png": "[encoded data removed]",
            "text/plain": [
              "<Figure size 864x360 with 1 Axes>"
            ]
          },
          "metadata": {
            "tags": []
          }
        },
        {
          "output_type": "stream",
          "text": [
            "AxesSubplot(0.125,0.125;0.775x0.755)\n"
          ],
          "name": "stdout"
        },
        {
          "output_type": "display_data",
          "data": {
            "image/png": "[encoded data removed]",
            "text/plain": [
              "<Figure size 864x360 with 1 Axes>"
            ]
          },
          "metadata": {
            "tags": []
          }
        },
        {
          "output_type": "stream",
          "text": [
            "AxesSubplot(0.125,0.125;0.775x0.755)\n"
          ],
          "name": "stdout"
        },
        {
          "output_type": "display_data",
          "data": {
            "image/png": "[encoded data removed]",
            "text/plain": [
              "<Figure size 864x360 with 1 Axes>"
            ]
          },
          "metadata": {
            "tags": []
          }
        },
        {
          "output_type": "stream",
          "text": [
            "AxesSubplot(0.125,0.125;0.775x0.755)\n"
          ],
          "name": "stdout"
        },
        {
          "output_type": "display_data",
          "data": {
            "image/png": "[encoded data removed]",
            "text/plain": [
              "<Figure size 864x360 with 1 Axes>"
            ]
          },
          "metadata": {
            "tags": []
          }
        }
      ]
    },
    {
      "cell_type": "code",
      "metadata": {
        "id": "tQh4DKUbRR-3",
        "colab_type": "code",
        "colab": {
          "base_uri": "https://localhost:8080/",
          "height": 579
        },
        "outputId": "e54590db-4e47-40cd-b9ce-7c7a903fdd8d"
      },
      "source": [
        "\n",
        "plt.figure(figsize=(18,8))\n",
        "sns.heatmap(df_original.corr(),annot=True)"
      ],
      "execution_count": 160,
      "outputs": [
        {
          "output_type": "execute_result",
          "data": {
            "text/plain": [
              "<matplotlib.axes._subplots.AxesSubplot at 0x7fcd22cb1358>"
            ]
          },
          "metadata": {
            "tags": []
          },
          "execution_count": 160
        },
        {
          "output_type": "display_data",
          "data": {
            "image/png": "[encoded data removed]",
            "text/plain": [
              "<Figure size 1296x576 with 2 Axes>"
            ]
          },
          "metadata": {
            "tags": []
          }
        }
      ]
    },
    {
      "cell_type": "markdown",
      "metadata": {
        "id": "JnLpXWcgbU0C",
        "colab_type": "text"
      },
      "source": [
        "## From graph we can see that we can remove:\n",
        "cons.price.idx\n",
        "cons.conf.idx\n",
        "They are not having any impact.\n",
        "\n",
        "Moreover correlation is distributed thus we can not select features from heatmap only."
      ]
    },
    {
      "cell_type": "code",
      "metadata": {
        "id": "asJKK2rhbRyU",
        "colab_type": "code",
        "colab": {
          "base_uri": "https://localhost:8080/",
          "height": 897
        },
        "outputId": "d2afce9c-b94c-4a2f-99dd-51ef95b2661b"
      },
      "source": [
        "import statsmodels.api as sm\n",
        "\n",
        "X = df_original.drop(['y'],axis=1)\n",
        "y =  df_original[['y']]\n",
        "XC= sm.add_constant(X)\n",
        "model = sm.OLS(y,XC)\n",
        "model.fit().summary()\n"
      ],
      "execution_count": 164,
      "outputs": [
        {
          "output_type": "stream",
          "text": [
            "/usr/local/lib/python3.6/dist-packages/numpy/core/fromnumeric.py:2495: FutureWarning: Method .ptp is deprecated and will be removed in a future version. Use numpy.ptp instead.\n",
            "  return ptp(axis=axis, out=out, **kwargs)\n"
          ],
          "name": "stderr"
        },
        {
          "output_type": "execute_result",
          "data": {
            "text/html": [
              "<table class=\"simpletable\">\n",
              "<caption>OLS Regression Results</caption>\n",
              "<tr>\n",
              "  <th>Dep. Variable:</th>            <td>y</td>        <th>  R-squared:         </th> <td>   0.530</td>\n",
              "</tr>\n",
              "<tr>\n",
              "  <th>Model:</th>                   <td>OLS</td>       <th>  Adj. R-squared:    </th> <td>   0.527</td>\n",
              "</tr>\n",
              "<tr>\n",
              "  <th>Method:</th>             <td>Least Squares</td>  <th>  F-statistic:       </th> <td>   201.9</td>\n",
              "</tr>\n",
              "<tr>\n",
              "  <th>Date:</th>             <td>Fri, 24 Jan 2020</td> <th>  Prob (F-statistic):</th>  <td>  0.00</td> \n",
              "</tr>\n",
              "<tr>\n",
              "  <th>Time:</th>                 <td>07:26:14</td>     <th>  Log-Likelihood:    </th> <td> -1255.6</td>\n",
              "</tr>\n",
              "<tr>\n",
              "  <th>No. Observations:</th>      <td>  3604</td>      <th>  AIC:               </th> <td>   2553.</td>\n",
              "</tr>\n",
              "<tr>\n",
              "  <th>Df Residuals:</th>          <td>  3583</td>      <th>  BIC:               </th> <td>   2683.</td>\n",
              "</tr>\n",
              "<tr>\n",
              "  <th>Df Model:</th>              <td>    20</td>      <th>                     </th>     <td> </td>   \n",
              "</tr>\n",
              "<tr>\n",
              "  <th>Covariance Type:</th>      <td>nonrobust</td>    <th>                     </th>     <td> </td>   \n",
              "</tr>\n",
              "</table>\n",
              "<table class=\"simpletable\">\n",
              "<tr>\n",
              "         <td></td>           <th>coef</th>     <th>std err</th>      <th>t</th>      <th>P>|t|</th>  <th>[0.025</th>    <th>0.975]</th>  \n",
              "</tr>\n",
              "<tr>\n",
              "  <th>const</th>          <td>    0.5000</td> <td>    0.006</td> <td>   87.303</td> <td> 0.000</td> <td>    0.489</td> <td>    0.511</td>\n",
              "</tr>\n",
              "<tr>\n",
              "  <th>job</th>            <td>   -0.0252</td> <td>    0.006</td> <td>   -4.354</td> <td> 0.000</td> <td>   -0.037</td> <td>   -0.014</td>\n",
              "</tr>\n",
              "<tr>\n",
              "  <th>marital</th>        <td>    0.0106</td> <td>    0.007</td> <td>    1.620</td> <td> 0.105</td> <td>   -0.002</td> <td>    0.023</td>\n",
              "</tr>\n",
              "<tr>\n",
              "  <th>education</th>      <td>    0.0292</td> <td>    0.006</td> <td>    4.790</td> <td> 0.000</td> <td>    0.017</td> <td>    0.041</td>\n",
              "</tr>\n",
              "<tr>\n",
              "  <th>default</th>        <td>   -0.0311</td> <td>    0.006</td> <td>   -5.147</td> <td> 0.000</td> <td>   -0.043</td> <td>   -0.019</td>\n",
              "</tr>\n",
              "<tr>\n",
              "  <th>housing</th>        <td>    0.0235</td> <td>    0.006</td> <td>    4.052</td> <td> 0.000</td> <td>    0.012</td> <td>    0.035</td>\n",
              "</tr>\n",
              "<tr>\n",
              "  <th>loan</th>           <td>   -0.0201</td> <td>    0.006</td> <td>   -3.445</td> <td> 0.001</td> <td>   -0.032</td> <td>   -0.009</td>\n",
              "</tr>\n",
              "<tr>\n",
              "  <th>contact</th>        <td>   -0.0185</td> <td>    0.008</td> <td>   -2.324</td> <td> 0.020</td> <td>   -0.034</td> <td>   -0.003</td>\n",
              "</tr>\n",
              "<tr>\n",
              "  <th>month</th>          <td>   -0.0767</td> <td>    0.007</td> <td>  -10.566</td> <td> 0.000</td> <td>   -0.091</td> <td>   -0.063</td>\n",
              "</tr>\n",
              "<tr>\n",
              "  <th>day_of_week</th>    <td>    0.0040</td> <td>    0.006</td> <td>    0.683</td> <td> 0.495</td> <td>   -0.007</td> <td>    0.015</td>\n",
              "</tr>\n",
              "<tr>\n",
              "  <th>poutcome</th>       <td>    0.0734</td> <td>    0.008</td> <td>    9.295</td> <td> 0.000</td> <td>    0.058</td> <td>    0.089</td>\n",
              "</tr>\n",
              "<tr>\n",
              "  <th>age</th>            <td>    0.0051</td> <td>    0.007</td> <td>    0.736</td> <td> 0.462</td> <td>   -0.008</td> <td>    0.019</td>\n",
              "</tr>\n",
              "<tr>\n",
              "  <th>duration</th>       <td>    0.2455</td> <td>    0.006</td> <td>   41.562</td> <td> 0.000</td> <td>    0.234</td> <td>    0.257</td>\n",
              "</tr>\n",
              "<tr>\n",
              "  <th>campaign</th>       <td>   -0.0202</td> <td>    0.006</td> <td>   -3.405</td> <td> 0.001</td> <td>   -0.032</td> <td>   -0.009</td>\n",
              "</tr>\n",
              "<tr>\n",
              "  <th>pdays</th>          <td>   -0.0077</td> <td>    0.009</td> <td>   -0.838</td> <td> 0.402</td> <td>   -0.026</td> <td>    0.010</td>\n",
              "</tr>\n",
              "<tr>\n",
              "  <th>previous</th>       <td>    0.0127</td> <td>    0.008</td> <td>    1.574</td> <td> 0.116</td> <td>   -0.003</td> <td>    0.029</td>\n",
              "</tr>\n",
              "<tr>\n",
              "  <th>emp.var.rate</th>   <td>   -0.5110</td> <td>    0.036</td> <td>  -14.282</td> <td> 0.000</td> <td>   -0.581</td> <td>   -0.441</td>\n",
              "</tr>\n",
              "<tr>\n",
              "  <th>cons.price.idx</th> <td>    0.1435</td> <td>    0.018</td> <td>    7.758</td> <td> 0.000</td> <td>    0.107</td> <td>    0.180</td>\n",
              "</tr>\n",
              "<tr>\n",
              "  <th>cons.conf.idx</th>  <td>    0.0140</td> <td>    0.010</td> <td>    1.356</td> <td> 0.175</td> <td>   -0.006</td> <td>    0.034</td>\n",
              "</tr>\n",
              "<tr>\n",
              "  <th>euribor3m</th>      <td>    0.2360</td> <td>    0.059</td> <td>    4.032</td> <td> 0.000</td> <td>    0.121</td> <td>    0.351</td>\n",
              "</tr>\n",
              "<tr>\n",
              "  <th>nr.employed</th>    <td>   -0.0479</td> <td>    0.045</td> <td>   -1.066</td> <td> 0.287</td> <td>   -0.136</td> <td>    0.040</td>\n",
              "</tr>\n",
              "</table>\n",
              "<table class=\"simpletable\">\n",
              "<tr>\n",
              "  <th>Omnibus:</th>       <td>157.278</td> <th>  Durbin-Watson:     </th> <td>   1.218</td>\n",
              "</tr>\n",
              "<tr>\n",
              "  <th>Prob(Omnibus):</th> <td> 0.000</td>  <th>  Jarque-Bera (JB):  </th> <td> 201.077</td>\n",
              "</tr>\n",
              "<tr>\n",
              "  <th>Skew:</th>          <td>-0.453</td>  <th>  Prob(JB):          </th> <td>2.17e-44</td>\n",
              "</tr>\n",
              "<tr>\n",
              "  <th>Kurtosis:</th>      <td> 3.719</td>  <th>  Cond. No.          </th> <td>    26.5</td>\n",
              "</tr>\n",
              "</table><br/><br/>Warnings:<br/>[1] Standard Errors assume that the covariance matrix of the errors is correctly specified."
            ],
            "text/plain": [
              "<class 'statsmodels.iolib.summary.Summary'>\n",
              "\"\"\"\n",
              "                            OLS Regression Results                            \n",
              "==============================================================================\n",
              "Dep. Variable:                      y   R-squared:                       0.530\n",
              "Model:                            OLS   Adj. R-squared:                  0.527\n",
              "Method:                 Least Squares   F-statistic:                     201.9\n",
              "Date:                Fri, 24 Jan 2020   Prob (F-statistic):               0.00\n",
              "Time:                        07:26:14   Log-Likelihood:                -1255.6\n",
              "No. Observations:                3604   AIC:                             2553.\n",
              "Df Residuals:                    3583   BIC:                             2683.\n",
              "Df Model:                          20                                         \n",
              "Covariance Type:            nonrobust                                         \n",
              "==================================================================================\n",
              "                     coef    std err          t      P>|t|      [0.025      0.975]\n",
              "----------------------------------------------------------------------------------\n",
              "const              0.5000      0.006     87.303      0.000       0.489       0.511\n",
              "job               -0.0252      0.006     -4.354      0.000      -0.037      -0.014\n",
              "marital            0.0106      0.007      1.620      0.105      -0.002       0.023\n",
              "education          0.0292      0.006      4.790      0.000       0.017       0.041\n",
              "default           -0.0311      0.006     -5.147      0.000      -0.043      -0.019\n",
              "housing            0.0235      0.006      4.052      0.000       0.012       0.035\n",
              "loan              -0.0201      0.006     -3.445      0.001      -0.032      -0.009\n",
              "contact           -0.0185      0.008     -2.324      0.020      -0.034      -0.003\n",
              "month             -0.0767      0.007    -10.566      0.000      -0.091      -0.063\n",
              "day_of_week        0.0040      0.006      0.683      0.495      -0.007       0.015\n",
              "poutcome           0.0734      0.008      9.295      0.000       0.058       0.089\n",
              "age                0.0051      0.007      0.736      0.462      -0.008       0.019\n",
              "duration           0.2455      0.006     41.562      0.000       0.234       0.257\n",
              "campaign          -0.0202      0.006     -3.405      0.001      -0.032      -0.009\n",
              "pdays             -0.0077      0.009     -0.838      0.402      -0.026       0.010\n",
              "previous           0.0127      0.008      1.574      0.116      -0.003       0.029\n",
              "emp.var.rate      -0.5110      0.036    -14.282      0.000      -0.581      -0.441\n",
              "cons.price.idx     0.1435      0.018      7.758      0.000       0.107       0.180\n",
              "cons.conf.idx      0.0140      0.010      1.356      0.175      -0.006       0.034\n",
              "euribor3m          0.2360      0.059      4.032      0.000       0.121       0.351\n",
              "nr.employed       -0.0479      0.045     -1.066      0.287      -0.136       0.040\n",
              "==============================================================================\n",
              "Omnibus:                      157.278   Durbin-Watson:                   1.218\n",
              "Prob(Omnibus):                  0.000   Jarque-Bera (JB):              201.077\n",
              "Skew:                          -0.453   Prob(JB):                     2.17e-44\n",
              "Kurtosis:                       3.719   Cond. No.                         26.5\n",
              "==============================================================================\n",
              "\n",
              "Warnings:\n",
              "[1] Standard Errors assume that the covariance matrix of the errors is correctly specified.\n",
              "\"\"\""
            ]
          },
          "metadata": {
            "tags": []
          },
          "execution_count": 164
        }
      ]
    },
    {
      "cell_type": "markdown",
      "metadata": {
        "id": "-oNHXszVcxb8",
        "colab_type": "text"
      },
      "source": [
        "### From above we can infer that :\n",
        "assuming alpha =0.05\n",
        "###pvalue for marriage ,pdays previous,cons.conf.idx,nr.employed,day_of_week can be removed . \n",
        "### having said that we will be removing duration also from  as given:\n",
        "###Yet, the duration is not known before a call is performed. Also, after the end of the call y is obviously known. Thus, this input should only be included for benchmark purposes and should be discarded if the intention is to have a realistic predictive model."
      ]
    },
    {
      "cell_type": "markdown",
      "metadata": {
        "id": "Iha0EPJceAyO",
        "colab_type": "text"
      },
      "source": [
        "5. Split dataset into train and test (70:30) (5 MARKS)\n",
        "a. Are both train and test representative of the overall data? How would you ascertain this\n",
        "statistically?"
      ]
    },
    {
      "cell_type": "code",
      "metadata": {
        "id": "5y0--8-EcwA6",
        "colab_type": "code",
        "colab": {
          "base_uri": "https://localhost:8080/",
          "height": 224
        },
        "outputId": "fee9745e-244c-452c-c755-5c427f26715f"
      },
      "source": [
        "df_original.head()"
      ],
      "execution_count": 165,
      "outputs": [
        {
          "output_type": "execute_result",
          "data": {
            "text/html": [
              "<div>\n",
              "<style scoped>\n",
              "    .dataframe tbody tr th:only-of-type {\n",
              "        vertical-align: middle;\n",
              "    }\n",
              "\n",
              "    .dataframe tbody tr th {\n",
              "        vertical-align: top;\n",
              "    }\n",
              "\n",
              "    .dataframe thead th {\n",
              "        text-align: right;\n",
              "    }\n",
              "</style>\n",
              "<table border=\"1\" class=\"dataframe\">\n",
              "  <thead>\n",
              "    <tr style=\"text-align: right;\">\n",
              "      <th></th>\n",
              "      <th>job</th>\n",
              "      <th>marital</th>\n",
              "      <th>education</th>\n",
              "      <th>default</th>\n",
              "      <th>housing</th>\n",
              "      <th>loan</th>\n",
              "      <th>contact</th>\n",
              "      <th>month</th>\n",
              "      <th>day_of_week</th>\n",
              "      <th>poutcome</th>\n",
              "      <th>age</th>\n",
              "      <th>duration</th>\n",
              "      <th>campaign</th>\n",
              "      <th>pdays</th>\n",
              "      <th>previous</th>\n",
              "      <th>emp.var.rate</th>\n",
              "      <th>cons.price.idx</th>\n",
              "      <th>cons.conf.idx</th>\n",
              "      <th>euribor3m</th>\n",
              "      <th>nr.employed</th>\n",
              "      <th>y</th>\n",
              "    </tr>\n",
              "  </thead>\n",
              "  <tbody>\n",
              "    <tr>\n",
              "      <th>y</th>\n",
              "      <td>-0.753442</td>\n",
              "      <td>-0.325752</td>\n",
              "      <td>-1.486749</td>\n",
              "      <td>2.446463</td>\n",
              "      <td>-1.261471</td>\n",
              "      <td>-0.476904</td>\n",
              "      <td>-0.669274</td>\n",
              "      <td>-0.488415</td>\n",
              "      <td>-0.802686</td>\n",
              "      <td>-0.015682</td>\n",
              "      <td>-0.849598</td>\n",
              "      <td>-0.519545</td>\n",
              "      <td>-0.123650</td>\n",
              "      <td>-0.337376</td>\n",
              "      <td>-0.498464</td>\n",
              "      <td>1.105353</td>\n",
              "      <td>0.720987</td>\n",
              "      <td>-0.456728</td>\n",
              "      <td>1.058286</td>\n",
              "      <td>1.075906</td>\n",
              "      <td>0</td>\n",
              "    </tr>\n",
              "    <tr>\n",
              "      <th>1</th>\n",
              "      <td>-0.152009</td>\n",
              "      <td>1.366351</td>\n",
              "      <td>1.085385</td>\n",
              "      <td>2.446463</td>\n",
              "      <td>0.962174</td>\n",
              "      <td>-0.476904</td>\n",
              "      <td>-0.669274</td>\n",
              "      <td>-0.488415</td>\n",
              "      <td>0.704908</td>\n",
              "      <td>-0.015682</td>\n",
              "      <td>-0.761627</td>\n",
              "      <td>-0.897045</td>\n",
              "      <td>0.683576</td>\n",
              "      <td>-0.337376</td>\n",
              "      <td>-0.498464</td>\n",
              "      <td>1.105353</td>\n",
              "      <td>0.720987</td>\n",
              "      <td>-0.456728</td>\n",
              "      <td>1.058818</td>\n",
              "      <td>1.075906</td>\n",
              "      <td>0</td>\n",
              "    </tr>\n",
              "    <tr>\n",
              "      <th>2</th>\n",
              "      <td>-1.054158</td>\n",
              "      <td>-0.325752</td>\n",
              "      <td>-0.457895</td>\n",
              "      <td>-0.443481</td>\n",
              "      <td>0.962174</td>\n",
              "      <td>-0.476904</td>\n",
              "      <td>-0.669274</td>\n",
              "      <td>-1.822816</td>\n",
              "      <td>-0.802686</td>\n",
              "      <td>-0.015682</td>\n",
              "      <td>-1.289450</td>\n",
              "      <td>-0.927245</td>\n",
              "      <td>-0.527263</td>\n",
              "      <td>-0.337376</td>\n",
              "      <td>-0.498464</td>\n",
              "      <td>-0.777694</td>\n",
              "      <td>-0.715772</td>\n",
              "      <td>-1.359460</td>\n",
              "      <td>-0.833289</td>\n",
              "      <td>-0.435673</td>\n",
              "      <td>0</td>\n",
              "    </tr>\n",
              "    <tr>\n",
              "      <th>3</th>\n",
              "      <td>-0.753442</td>\n",
              "      <td>-0.325752</td>\n",
              "      <td>-2.001176</td>\n",
              "      <td>2.446463</td>\n",
              "      <td>-1.261471</td>\n",
              "      <td>-0.476904</td>\n",
              "      <td>-0.669274</td>\n",
              "      <td>0.845986</td>\n",
              "      <td>-1.556483</td>\n",
              "      <td>-0.015682</td>\n",
              "      <td>0.294019</td>\n",
              "      <td>-0.021245</td>\n",
              "      <td>0.279963</td>\n",
              "      <td>-0.337376</td>\n",
              "      <td>-0.498464</td>\n",
              "      <td>-0.777694</td>\n",
              "      <td>-1.025961</td>\n",
              "      <td>-1.174810</td>\n",
              "      <td>-0.882241</td>\n",
              "      <td>-0.435673</td>\n",
              "      <td>0</td>\n",
              "    </tr>\n",
              "    <tr>\n",
              "      <th>4</th>\n",
              "      <td>1.652291</td>\n",
              "      <td>-0.325752</td>\n",
              "      <td>1.599812</td>\n",
              "      <td>-0.443481</td>\n",
              "      <td>0.962174</td>\n",
              "      <td>-0.476904</td>\n",
              "      <td>-0.669274</td>\n",
              "      <td>-0.488415</td>\n",
              "      <td>-1.556483</td>\n",
              "      <td>-0.015682</td>\n",
              "      <td>-0.761627</td>\n",
              "      <td>-0.788325</td>\n",
              "      <td>-0.123650</td>\n",
              "      <td>-0.337376</td>\n",
              "      <td>-0.498464</td>\n",
              "      <td>1.105353</td>\n",
              "      <td>0.720987</td>\n",
              "      <td>-0.456728</td>\n",
              "      <td>1.059882</td>\n",
              "      <td>1.075906</td>\n",
              "      <td>0</td>\n",
              "    </tr>\n",
              "  </tbody>\n",
              "</table>\n",
              "</div>"
            ],
            "text/plain": [
              "        job   marital  education  ...  euribor3m  nr.employed  y\n",
              "y -0.753442 -0.325752  -1.486749  ...   1.058286     1.075906  0\n",
              "1 -0.152009  1.366351   1.085385  ...   1.058818     1.075906  0\n",
              "2 -1.054158 -0.325752  -0.457895  ...  -0.833289    -0.435673  0\n",
              "3 -0.753442 -0.325752  -2.001176  ...  -0.882241    -0.435673  0\n",
              "4  1.652291 -0.325752   1.599812  ...   1.059882     1.075906  0\n",
              "\n",
              "[5 rows x 21 columns]"
            ]
          },
          "metadata": {
            "tags": []
          },
          "execution_count": 165
        }
      ]
    },
    {
      "cell_type": "code",
      "metadata": {
        "id": "Con6XDfeeKGl",
        "colab_type": "code",
        "colab": {}
      },
      "source": [
        "df_after_dropped = df_original.drop(['marital','duration','cons.price.idx','cons.conf.idx','nr.employed','euribor3m'],axis=1)"
      ],
      "execution_count": 0,
      "outputs": []
    },
    {
      "cell_type": "code",
      "metadata": {
        "id": "W6U5Gc7hei7Y",
        "colab_type": "code",
        "colab": {
          "base_uri": "https://localhost:8080/",
          "height": 224
        },
        "outputId": "f1f8e707-c584-4b5f-bccb-36ea4b0c71f9"
      },
      "source": [
        "df_after_dropped.head()\n"
      ],
      "execution_count": 170,
      "outputs": [
        {
          "output_type": "execute_result",
          "data": {
            "text/html": [
              "<div>\n",
              "<style scoped>\n",
              "    .dataframe tbody tr th:only-of-type {\n",
              "        vertical-align: middle;\n",
              "    }\n",
              "\n",
              "    .dataframe tbody tr th {\n",
              "        vertical-align: top;\n",
              "    }\n",
              "\n",
              "    .dataframe thead th {\n",
              "        text-align: right;\n",
              "    }\n",
              "</style>\n",
              "<table border=\"1\" class=\"dataframe\">\n",
              "  <thead>\n",
              "    <tr style=\"text-align: right;\">\n",
              "      <th></th>\n",
              "      <th>job</th>\n",
              "      <th>education</th>\n",
              "      <th>default</th>\n",
              "      <th>housing</th>\n",
              "      <th>loan</th>\n",
              "      <th>contact</th>\n",
              "      <th>month</th>\n",
              "      <th>day_of_week</th>\n",
              "      <th>poutcome</th>\n",
              "      <th>age</th>\n",
              "      <th>campaign</th>\n",
              "      <th>pdays</th>\n",
              "      <th>previous</th>\n",
              "      <th>emp.var.rate</th>\n",
              "      <th>y</th>\n",
              "    </tr>\n",
              "  </thead>\n",
              "  <tbody>\n",
              "    <tr>\n",
              "      <th>1</th>\n",
              "      <td>-0.152009</td>\n",
              "      <td>1.085385</td>\n",
              "      <td>2.446463</td>\n",
              "      <td>0.962174</td>\n",
              "      <td>-0.476904</td>\n",
              "      <td>-0.669274</td>\n",
              "      <td>-0.488415</td>\n",
              "      <td>0.704908</td>\n",
              "      <td>-0.015682</td>\n",
              "      <td>-0.761627</td>\n",
              "      <td>0.683576</td>\n",
              "      <td>-0.337376</td>\n",
              "      <td>-0.498464</td>\n",
              "      <td>1.105353</td>\n",
              "      <td>0</td>\n",
              "    </tr>\n",
              "    <tr>\n",
              "      <th>2</th>\n",
              "      <td>-1.054158</td>\n",
              "      <td>-0.457895</td>\n",
              "      <td>-0.443481</td>\n",
              "      <td>0.962174</td>\n",
              "      <td>-0.476904</td>\n",
              "      <td>-0.669274</td>\n",
              "      <td>-1.822816</td>\n",
              "      <td>-0.802686</td>\n",
              "      <td>-0.015682</td>\n",
              "      <td>-1.289450</td>\n",
              "      <td>-0.527263</td>\n",
              "      <td>-0.337376</td>\n",
              "      <td>-0.498464</td>\n",
              "      <td>-0.777694</td>\n",
              "      <td>0</td>\n",
              "    </tr>\n",
              "    <tr>\n",
              "      <th>3</th>\n",
              "      <td>-0.753442</td>\n",
              "      <td>-2.001176</td>\n",
              "      <td>2.446463</td>\n",
              "      <td>-1.261471</td>\n",
              "      <td>-0.476904</td>\n",
              "      <td>-0.669274</td>\n",
              "      <td>0.845986</td>\n",
              "      <td>-1.556483</td>\n",
              "      <td>-0.015682</td>\n",
              "      <td>0.294019</td>\n",
              "      <td>0.279963</td>\n",
              "      <td>-0.337376</td>\n",
              "      <td>-0.498464</td>\n",
              "      <td>-0.777694</td>\n",
              "      <td>0</td>\n",
              "    </tr>\n",
              "    <tr>\n",
              "      <th>4</th>\n",
              "      <td>1.652291</td>\n",
              "      <td>1.599812</td>\n",
              "      <td>-0.443481</td>\n",
              "      <td>0.962174</td>\n",
              "      <td>-0.476904</td>\n",
              "      <td>-0.669274</td>\n",
              "      <td>-0.488415</td>\n",
              "      <td>-1.556483</td>\n",
              "      <td>-0.015682</td>\n",
              "      <td>-0.761627</td>\n",
              "      <td>-0.123650</td>\n",
              "      <td>-0.337376</td>\n",
              "      <td>-0.498464</td>\n",
              "      <td>1.105353</td>\n",
              "      <td>0</td>\n",
              "    </tr>\n",
              "    <tr>\n",
              "      <th>5</th>\n",
              "      <td>1.050858</td>\n",
              "      <td>-0.457895</td>\n",
              "      <td>2.446463</td>\n",
              "      <td>0.962174</td>\n",
              "      <td>-0.476904</td>\n",
              "      <td>1.661901</td>\n",
              "      <td>0.845986</td>\n",
              "      <td>-1.556483</td>\n",
              "      <td>-0.015682</td>\n",
              "      <td>0.469960</td>\n",
              "      <td>-0.527263</td>\n",
              "      <td>-0.337376</td>\n",
              "      <td>-0.498464</td>\n",
              "      <td>0.928817</td>\n",
              "      <td>0</td>\n",
              "    </tr>\n",
              "  </tbody>\n",
              "</table>\n",
              "</div>"
            ],
            "text/plain": [
              "        job  education   default   housing  ...     pdays  previous  emp.var.rate  y\n",
              "1 -0.152009   1.085385  2.446463  0.962174  ... -0.337376 -0.498464      1.105353  0\n",
              "2 -1.054158  -0.457895 -0.443481  0.962174  ... -0.337376 -0.498464     -0.777694  0\n",
              "3 -0.753442  -2.001176  2.446463 -1.261471  ... -0.337376 -0.498464     -0.777694  0\n",
              "4  1.652291   1.599812 -0.443481  0.962174  ... -0.337376 -0.498464      1.105353  0\n",
              "5  1.050858  -0.457895  2.446463  0.962174  ... -0.337376 -0.498464      0.928817  0\n",
              "\n",
              "[5 rows x 15 columns]"
            ]
          },
          "metadata": {
            "tags": []
          },
          "execution_count": 170
        }
      ]
    },
    {
      "cell_type": "code",
      "metadata": {
        "id": "VH_RTPGhe-O1",
        "colab_type": "code",
        "colab": {}
      },
      "source": [
        "from sklearn.model_selection import train_test_split\n",
        "X=  df_after_dropped.drop('y',axis=1)\n",
        "y = df_after_dropped['y']\n",
        "\n",
        "X_train,X_test,y_train,y_test=train_test_split(X,y,test_size=0.3,random_state=26)"
      ],
      "execution_count": 0,
      "outputs": []
    },
    {
      "cell_type": "code",
      "metadata": {
        "id": "_oltHiFse-J7",
        "colab_type": "code",
        "colab": {
          "base_uri": "https://localhost:8080/",
          "height": 34
        },
        "outputId": "fb6e6191-1a2a-4968-961c-62f4be22c669"
      },
      "source": [
        "X_train.shape,X_test.shape,y_train.shape,y_test.shape"
      ],
      "execution_count": 173,
      "outputs": [
        {
          "output_type": "execute_result",
          "data": {
            "text/plain": [
              "((2522, 14), (1081, 14), (2522,), (1081,))"
            ]
          },
          "metadata": {
            "tags": []
          },
          "execution_count": 173
        }
      ]
    },
    {
      "cell_type": "code",
      "metadata": {
        "id": "mK7F4NoBe-Ew",
        "colab_type": "code",
        "colab": {
          "base_uri": "https://localhost:8080/",
          "height": 34
        },
        "outputId": "4833a1e1-6024-4c33-a58f-76b8f36ff505"
      },
      "source": [
        "for cols in X_train.columns:\n",
        "  b = np.mean(np.mean(X_train[cols]))\n",
        "print(b)\n"
      ],
      "execution_count": 178,
      "outputs": [
        {
          "output_type": "stream",
          "text": [
            "-0.01474077309937474\n"
          ],
          "name": "stdout"
        }
      ]
    },
    {
      "cell_type": "code",
      "metadata": {
        "id": "sVNChfDne924",
        "colab_type": "code",
        "colab": {
          "base_uri": "https://localhost:8080/",
          "height": 34
        },
        "outputId": "151d4f25-1a07-4e0d-bc75-00d57414edbd"
      },
      "source": [
        "for cols in X_test.columns:\n",
        "  a = np.mean(np.mean(X_test[cols]))\n",
        "print(a)"
      ],
      "execution_count": 179,
      "outputs": [
        {
          "output_type": "stream",
          "text": [
            "0.03336806352913924\n"
          ],
          "name": "stdout"
        }
      ]
    },
    {
      "cell_type": "code",
      "metadata": {
        "id": "C44kZsrcgFOL",
        "colab_type": "code",
        "colab": {
          "base_uri": "https://localhost:8080/",
          "height": 34
        },
        "outputId": "fcd5aaec-6046-4f80-8a4e-b16c352d8711"
      },
      "source": [
        "for cols in X.columns:\n",
        "  c = np.mean(np.mean(X[cols]))\n",
        "print(c)"
      ],
      "execution_count": 180,
      "outputs": [
        {
          "output_type": "stream",
          "text": [
            "-0.00030678686695013915\n"
          ],
          "name": "stdout"
        }
      ]
    },
    {
      "cell_type": "code",
      "metadata": {
        "id": "q9VJhairgT6s",
        "colab_type": "code",
        "colab": {
          "base_uri": "https://localhost:8080/",
          "height": 34
        },
        "outputId": "461cd92e-092c-4716-d863-b3dd178211c2"
      },
      "source": [
        "(a+b)-c"
      ],
      "execution_count": 183,
      "outputs": [
        {
          "output_type": "execute_result",
          "data": {
            "text/plain": [
              "0.018934077296714643"
            ]
          },
          "metadata": {
            "tags": []
          },
          "execution_count": 183
        }
      ]
    },
    {
      "cell_type": "markdown",
      "metadata": {
        "id": "EC2JVP0Ugy-A",
        "colab_type": "text"
      },
      "source": [
        "Though the sample and population mean will not be equal ever . having said that \n",
        "there is a very less differnce between the means of the samples.\n",
        "Thus we can say that they are good representative of the data."
      ]
    },
    {
      "cell_type": "markdown",
      "metadata": {
        "id": "KCbhx0m3hI3j",
        "colab_type": "text"
      },
      "source": [
        "6. Fit a base model and explain the reason of selecting that model. Please write your key\n",
        "observations. (15 MARKS)\n",
        "  1. What is the overall Accuracy? Please comment on whether it is good or not.\n",
        "  2. What is Precision, Recall and F1 Score and what will be the optimization objective keeping in\n",
        "mind the problem statement.\n",
        "  3. Which variables are significant?\n",
        "  4. What is Cohen’s Kappa Value and what inference do you make from the model\n",
        "  5. Which other key model output parameters do you want to look at? "
      ]
    },
    {
      "cell_type": "code",
      "metadata": {
        "id": "JvOGEvVGTGtb",
        "colab_type": "code",
        "colab": {
          "base_uri": "https://localhost:8080/",
          "height": 170
        },
        "outputId": "e7b4d59a-c013-4ce7-eba9-5b31adc49249"
      },
      "source": [
        "#Chossing Logistic Regression for Base model As there\n",
        "\n",
        "LogReg = LogisticRegression()\n",
        "LogReg.fit(X_train, y_train)\n",
        "\n",
        "X_pred = LogReg.predict(X_train)\n",
        "y_pred = LogReg.predict(X_test)\n",
        "\n",
        "from sklearn.metrics import confusion_matrix\n",
        "confusion_matrix = confusion_matrix(y_train, X_pred)\n",
        "confusion_matrix\n",
        "print(classification_report(y_train, X_pred))\n"
      ],
      "execution_count": 189,
      "outputs": [
        {
          "output_type": "stream",
          "text": [
            "              precision    recall  f1-score   support\n",
            "\n",
            "           0       0.72      0.79      0.75      1245\n",
            "           1       0.77      0.69      0.73      1277\n",
            "\n",
            "    accuracy                           0.74      2522\n",
            "   macro avg       0.75      0.74      0.74      2522\n",
            "weighted avg       0.75      0.74      0.74      2522\n",
            "\n"
          ],
          "name": "stdout"
        }
      ]
    },
    {
      "cell_type": "markdown",
      "metadata": {
        "id": "_rQAm5Z2im5k",
        "colab_type": "text"
      },
      "source": [
        "### As the problem is of 2-class and that means we can use CART algorithm or binary split.\n",
        "### To keep the complexity low and good evaluation metricas . Logistic Model will be good bit for the base modelling.\n",
        "### Confusion Matrix and Other Calssification Reports are also available for cross valiadation.\n",
        "### Score is 75 % which means training data has been able to explain 75% of varations.\n",
        "### As we can infer from the Classification report and Confusion Matrix from train and test thaat they are similar thus Model is getting trained properly."
      ]
    },
    {
      "cell_type": "markdown",
      "metadata": {
        "id": "PZdb1yCzjE55",
        "colab_type": "text"
      },
      "source": [
        "Precision is given as 0.72 for class 1 . That means ability to identify relevant data points is 72%.\n",
        "Recall is given as 0.74 for class 1 . That means ability to identify relevant data points is 72% model’s ability to find all the data points of interest in a dataset."
      ]
    },
    {
      "cell_type": "code",
      "metadata": {
        "id": "K9EArXKKhgTQ",
        "colab_type": "code",
        "colab": {
          "base_uri": "https://localhost:8080/",
          "height": 265
        },
        "outputId": "544b8e29-6a14-4170-dffe-a7b545b3a415"
      },
      "source": [
        "clf = LogisticRegression()\n",
        "clf.fit(X_train, y_train)\n",
        "y_pred = clf.predict(X_test)\n",
        "\n",
        "#AUC Curve\n",
        "y_pred_proba = clf.predict_proba(X_test)[::,1]\n",
        "fpr, tpr, threshold = metrics.roc_curve(y_test,  y_pred_proba)\n",
        "auc = metrics.roc_auc_score(y_test, y_pred_proba)\n",
        "plt.plot(fpr,tpr,color='r',label=\"ROC\")\n",
        "plt.plot([0,1],[0,1],color='b',linestyle='--')\n",
        "\n",
        "plt.legend(loc=4)\n",
        "plt.show()\n",
        "\n"
      ],
      "execution_count": 186,
      "outputs": [
        {
          "output_type": "display_data",
          "data": {
            "image/png": "[encoded data removed]",
            "text/plain": [
              "<Figure size 432x288 with 1 Axes>"
            ]
          },
          "metadata": {
            "tags": []
          }
        }
      ]
    },
    {
      "cell_type": "markdown",
      "metadata": {
        "id": "IiNpCG00jpBy",
        "colab_type": "text"
      },
      "source": [
        "In the graph above, the AUC for the red curve will be greater than that for the red curve, meaning the red model is better at achieving a blend of precision and recall. "
      ]
    },
    {
      "cell_type": "code",
      "metadata": {
        "id": "5sOBWQmFhqPS",
        "colab_type": "code",
        "colab": {
          "base_uri": "https://localhost:8080/",
          "height": 102
        },
        "outputId": "39b177e5-4746-4902-95bb-fff006382264"
      },
      "source": [
        "from sklearn.linear_model import LogisticRegression\n",
        "from sklearn.tree import DecisionTreeClassifier\n",
        "from sklearn.neighbors import KNeighborsClassifier\n",
        "from sklearn.naive_bayes import GaussianNB\n",
        "from sklearn.ensemble import RandomForestClassifier\n",
        "import warnings\n",
        "from sklearn.model_selection import KFold,cross_val_score\n",
        "\n",
        "models = []\n",
        "\n",
        "models.append(('LR', LogisticRegression()))\n",
        "models.append(('RF',RandomForestClassifier()))\n",
        "models.append(('KNN', KNeighborsClassifier()))\n",
        "models.append(('CART', DecisionTreeClassifier()))\n",
        "models.append(('NB', GaussianNB()))\n",
        "\n",
        "\n",
        "results = []\n",
        "names = []\n",
        "x=0\n",
        "c=0\n",
        "for name, model in models:\n",
        "   warnings.simplefilter(\"ignore\")\n",
        "   c=0\n",
        "   kfold = KFold(n_splits=50, random_state=0)\n",
        "   cv_results = cross_val_score(model, X, y, cv=kfold, scoring=\"accuracy\")\n",
        "   results.append(cv_results)\n",
        "   names.append(name)\n",
        "   print(name,cv_results.mean(), cv_results.std())"
      ],
      "execution_count": 187,
      "outputs": [
        {
          "output_type": "stream",
          "text": [
            "LR 0.7229185692541857 0.08461192904575332\n",
            "RF 0.9494901065449011 0.046274358625761285\n",
            "KNN 0.8843150684931509 0.09406164842595104\n",
            "CART 0.9125913242009132 0.07063866605686898\n",
            "NB 0.7201331811263318 0.08862912287161889\n"
          ],
          "name": "stdout"
        }
      ]
    },
    {
      "cell_type": "markdown",
      "metadata": {
        "id": "EvjVyZwPkrxm",
        "colab_type": "text"
      },
      "source": [
        "## Thus selecting Decision Tree from above as the Standarde deviation is less while accuracy is also high though it is less than RF but RF has higher std than DT."
      ]
    },
    {
      "cell_type": "code",
      "metadata": {
        "id": "Vd5vlCHKkq6n",
        "colab_type": "code",
        "colab": {
          "base_uri": "https://localhost:8080/",
          "height": 34
        },
        "outputId": "59789fa2-ce65-4e8a-8866-c7a2c38e2c9d"
      },
      "source": [
        "#Chossing Logistic Regression for Base model As there\n",
        "\n",
        "dt = RandomForestClassifier()\n",
        "dt.fit(X_train, y_train)\n",
        "\n",
        "\n",
        "\n",
        "dt.score(X_train, y_train)\n",
        "# from sklearn.metrics import confusion_matrix\n",
        "# confusion_matrix = confusion_matrix(y_train, X_pred)\n",
        "# confusion_matrix\n",
        "# print(classification_report(y_train, X_pred))\n"
      ],
      "execution_count": 204,
      "outputs": [
        {
          "output_type": "execute_result",
          "data": {
            "text/plain": [
              "0.999603489294211"
            ]
          },
          "metadata": {
            "tags": []
          },
          "execution_count": 204
        }
      ]
    },
    {
      "cell_type": "code",
      "metadata": {
        "id": "D8dfcbpzl-75",
        "colab_type": "code",
        "colab": {
          "base_uri": "https://localhost:8080/",
          "height": 34
        },
        "outputId": "3fe16934-991a-4eb4-a659-e256084492d6"
      },
      "source": [
        "dt.score(X_test, y_test)\n"
      ],
      "execution_count": 205,
      "outputs": [
        {
          "output_type": "execute_result",
          "data": {
            "text/plain": [
              "0.9481961147086031"
            ]
          },
          "metadata": {
            "tags": []
          },
          "execution_count": 205
        }
      ]
    },
    {
      "cell_type": "markdown",
      "metadata": {
        "id": "WvXtZ2UKm0QX",
        "colab_type": "text"
      },
      "source": [
        "## Thus Choosing Final Model as RAndom Forest Clasifier."
      ]
    },
    {
      "cell_type": "markdown",
      "metadata": {
        "id": "b2_4wbwDmJbb",
        "colab_type": "text"
      },
      "source": [
        "After verifying we will go with Random Forest Classifier Only .\n"
      ]
    },
    {
      "cell_type": "markdown",
      "metadata": {
        "id": "mM7p_27QmUT6",
        "colab_type": "text"
      },
      "source": [
        "8. Summarize as follows (10 MARKS)\n",
        "1. Summarize the overall fit of the model and list down the measures to prove that it is a good model\n",
        "2. Write down a business interpretation/explanation of the model – which variables are affecting\n",
        "the target the most and explain the relationship. Feel free to use charts or graphs to explain.\n",
        "3. What changes from the base model had the most effect on model performance?\n",
        "4. What are the key risks to your results and interpretation?"
      ]
    },
    {
      "cell_type": "markdown",
      "metadata": {
        "id": "7BnVfZ3um8Dm",
        "colab_type": "text"
      },
      "source": [
        "### Random Forest has been Chosen from  Logistic ,Decision Tree and KNN . Now the reason being it will train the data and will be able to classify accurately with High Precision and High Recall .\n",
        "### Less Variance Error.\n",
        "\n",
        "\n"
      ]
    },
    {
      "cell_type": "markdown",
      "metadata": {
        "id": "QIw6OkSBnxrb",
        "colab_type": "text"
      },
      "source": [
        "### As we need more people to accept the product. Thus we need to Target large set of people with different age group and stature. Variables like pdays ,duration and previous are good for seeing.\n",
        "\n",
        "\n",
        "```\n",
        "# This is formatted as code\n",
        "```\n",
        "\n"
      ]
    },
    {
      "cell_type": "markdown",
      "metadata": {
        "id": "Gwe4hOCWoK6J",
        "colab_type": "text"
      },
      "source": [
        "###Reducing MultiCollinearity ,Autocollinearity ,selecting features based on the pvalues are the impactful measures. Feature Engineering and extraction for Selction."
      ]
    },
    {
      "cell_type": "markdown",
      "metadata": {
        "id": "S1Fh5j5dolNG",
        "colab_type": "text"
      },
      "source": [
        "Key Risks are:\n",
        "1. Data Leaks .\n",
        "2. Standaridisation and Transformation can lead to information loss.\n",
        "3. Feature selection and Hypothesis testing or statistical analysis can be improved.\n",
        "4. SMOTE has been done . Real Data was imbalanced."
      ]
    },
    {
      "cell_type": "markdown",
      "metadata": {
        "id": "Gow1cF9enlez",
        "colab_type": "text"
      },
      "source": [
        ""
      ]
    },
    {
      "cell_type": "markdown",
      "metadata": {
        "id": "99PXGs-Zm735",
        "colab_type": "text"
      },
      "source": [
        ""
      ]
    },
    {
      "cell_type": "code",
      "metadata": {
        "id": "-O1R8eajmItU",
        "colab_type": "code",
        "colab": {}
      },
      "source": [
        ""
      ],
      "execution_count": 0,
      "outputs": []
    },
    {
      "cell_type": "code",
      "metadata": {
        "id": "4LOYYv3Xh5qx",
        "colab_type": "code",
        "colab": {}
      },
      "source": [
        ""
      ],
      "execution_count": 0,
      "outputs": []
    }
  ]
}