{
  "nbformat": 4,
  "nbformat_minor": 0,
  "metadata": {
    "kernelspec": {
      "display_name": "Python 3",
      "language": "python",
      "name": "python3"
    },
    "language_info": {
      "codemirror_mode": {
        "name": "ipython",
        "version": 3
      },
      "file_extension": ".py",
      "mimetype": "text/x-python",
      "name": "python",
      "nbconvert_exporter": "python",
      "pygments_lexer": "ipython3",
      "version": "3.7.3"
    },
    "colab": {
      "name": "EDA-Takehome-Answers-Day1-1.ipynb",
      "provenance": [],
      "collapsed_sections": []
    }
  },
  "cells": [
    {
      "cell_type": "markdown",
      "metadata": {
        "id": "ZlWa09EtVu1E",
        "colab_type": "text"
      },
      "source": [
        "## Case study 1"
      ]
    },
    {
      "cell_type": "markdown",
      "metadata": {
        "id": "Yh-TW9J-Vu1H",
        "colab_type": "text"
      },
      "source": [
        "### About the Data set (Wine Quality.csv)\n",
        "Attribute Information:\n",
        "\n",
        "The dataset are related to red and white variants of the \"Vinho Verde\" wine. Vinho verde is a unique product from the Minho (northwest) region of Portugal. Medium in alcohol, is it particularly appreciated due to its freshness (specially in the summer). \n",
        "\n",
        "    1 - fixed acidity \n",
        "    2 - volatile acidity \n",
        "    3 - citric acid \n",
        "    4 - residual sugar \n",
        "    5 - chlorides \n",
        "    6 - free sulfur dioxide \n",
        "    7 - total sulfur dioxide \n",
        "    8 - density \n",
        "    9 - pH \n",
        "    10 - sulphates \n",
        "    11 - alcohol Output variable (based on sensory data): \n",
        "    12 - quality (score between 0 and 10)"
      ]
    },
    {
      "cell_type": "markdown",
      "metadata": {
        "id": "YU-9yitTVu1J",
        "colab_type": "text"
      },
      "source": [
        "## 1. Load the libraries:"
      ]
    },
    {
      "cell_type": "code",
      "metadata": {
        "id": "p7rjaM-7Vxqr",
        "colab_type": "code",
        "colab": {}
      },
      "source": [
        "import numpy as np\n",
        "import pandas as pd\n",
        "import seaborn as sns\n",
        "import matplotlib.pyplot as plt"
      ],
      "execution_count": 0,
      "outputs": []
    },
    {
      "cell_type": "markdown",
      "metadata": {
        "id": "xywBbSC-Vu1L",
        "colab_type": "text"
      },
      "source": [
        "## 2. Importing the dataset:"
      ]
    },
    {
      "cell_type": "code",
      "metadata": {
        "id": "RRF-mYdyWCcl",
        "colab_type": "code",
        "colab": {
          "resources": {
            "http://localhost:8080/nbextensions/google.colab/files.js": {
              "data": "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",
              "ok": true,
              "headers": [
                [
                  "content-type",
                  "application/javascript"
                ]
              ],
              "status": 200,
              "status_text": ""
            }
          },
          "base_uri": "https://localhost:8080/",
          "height": 295
        },
        "outputId": "c30eb4c9-fc98-4285-dc1e-d41bc2c67c5d"
      },
      "source": [
        "from google.colab import files\n",
        "uploaded = files.upload()\n",
        "import io\n",
        "data = pd.read_csv(io.BytesIO(uploaded['Wine_data.csv']))\n",
        "data.head(5)"
      ],
      "execution_count": 3,
      "outputs": [
        {
          "output_type": "display_data",
          "data": {
            "text/html": [
              "\n",
              "     <input type=\"file\" id=\"files-693d66c3-143d-42aa-af8f-205e5736d88e\" name=\"files[]\" multiple disabled />\n",
              "     <output id=\"result-693d66c3-143d-42aa-af8f-205e5736d88e\">\n",
              "      Upload widget is only available when the cell has been executed in the\n",
              "      current browser session. Please rerun this cell to enable.\n",
              "      </output>\n",
              "      <script src=\"/nbextensions/google.colab/files.js\"></script> "
            ],
            "text/plain": [
              "<IPython.core.display.HTML object>"
            ]
          },
          "metadata": {
            "tags": []
          }
        },
        {
          "output_type": "stream",
          "text": [
            "Saving Wine_data.csv to Wine_data.csv\n"
          ],
          "name": "stdout"
        },
        {
          "output_type": "execute_result",
          "data": {
            "text/html": [
              "<div>\n",
              "<style scoped>\n",
              "    .dataframe tbody tr th:only-of-type {\n",
              "        vertical-align: middle;\n",
              "    }\n",
              "\n",
              "    .dataframe tbody tr th {\n",
              "        vertical-align: top;\n",
              "    }\n",
              "\n",
              "    .dataframe thead th {\n",
              "        text-align: right;\n",
              "    }\n",
              "</style>\n",
              "<table border=\"1\" class=\"dataframe\">\n",
              "  <thead>\n",
              "    <tr style=\"text-align: right;\">\n",
              "      <th></th>\n",
              "      <th>fixed acidity</th>\n",
              "      <th>volatile acidity</th>\n",
              "      <th>citric acid</th>\n",
              "      <th>residual sugar</th>\n",
              "      <th>chlorides</th>\n",
              "      <th>free sulfur dioxide</th>\n",
              "      <th>total sulfur dioxide</th>\n",
              "      <th>density</th>\n",
              "      <th>pH</th>\n",
              "      <th>sulphates</th>\n",
              "      <th>alcohol</th>\n",
              "      <th>quality</th>\n",
              "    </tr>\n",
              "  </thead>\n",
              "  <tbody>\n",
              "    <tr>\n",
              "      <th>0</th>\n",
              "      <td>7.0</td>\n",
              "      <td>0.27</td>\n",
              "      <td>0.36</td>\n",
              "      <td>20.7</td>\n",
              "      <td>0.045</td>\n",
              "      <td>45.0</td>\n",
              "      <td>170.0</td>\n",
              "      <td>1.0010</td>\n",
              "      <td>3.00</td>\n",
              "      <td>0.45</td>\n",
              "      <td>8.8</td>\n",
              "      <td>6</td>\n",
              "    </tr>\n",
              "    <tr>\n",
              "      <th>1</th>\n",
              "      <td>6.3</td>\n",
              "      <td>0.30</td>\n",
              "      <td>0.34</td>\n",
              "      <td>1.6</td>\n",
              "      <td>0.049</td>\n",
              "      <td>14.0</td>\n",
              "      <td>132.0</td>\n",
              "      <td>0.9940</td>\n",
              "      <td>3.30</td>\n",
              "      <td>0.49</td>\n",
              "      <td>9.5</td>\n",
              "      <td>6</td>\n",
              "    </tr>\n",
              "    <tr>\n",
              "      <th>2</th>\n",
              "      <td>8.1</td>\n",
              "      <td>0.28</td>\n",
              "      <td>0.40</td>\n",
              "      <td>6.9</td>\n",
              "      <td>0.050</td>\n",
              "      <td>30.0</td>\n",
              "      <td>97.0</td>\n",
              "      <td>0.9951</td>\n",
              "      <td>3.26</td>\n",
              "      <td>0.44</td>\n",
              "      <td>10.1</td>\n",
              "      <td>6</td>\n",
              "    </tr>\n",
              "    <tr>\n",
              "      <th>3</th>\n",
              "      <td>7.2</td>\n",
              "      <td>0.23</td>\n",
              "      <td>0.32</td>\n",
              "      <td>8.5</td>\n",
              "      <td>0.058</td>\n",
              "      <td>47.0</td>\n",
              "      <td>186.0</td>\n",
              "      <td>0.9956</td>\n",
              "      <td>3.19</td>\n",
              "      <td>0.40</td>\n",
              "      <td>9.9</td>\n",
              "      <td>6</td>\n",
              "    </tr>\n",
              "    <tr>\n",
              "      <th>4</th>\n",
              "      <td>7.2</td>\n",
              "      <td>0.23</td>\n",
              "      <td>0.32</td>\n",
              "      <td>8.5</td>\n",
              "      <td>0.058</td>\n",
              "      <td>47.0</td>\n",
              "      <td>186.0</td>\n",
              "      <td>0.9956</td>\n",
              "      <td>3.19</td>\n",
              "      <td>0.40</td>\n",
              "      <td>9.9</td>\n",
              "      <td>6</td>\n",
              "    </tr>\n",
              "  </tbody>\n",
              "</table>\n",
              "</div>"
            ],
            "text/plain": [
              "   fixed acidity  volatile acidity  citric acid  ...  sulphates  alcohol  quality\n",
              "0            7.0              0.27         0.36  ...       0.45      8.8        6\n",
              "1            6.3              0.30         0.34  ...       0.49      9.5        6\n",
              "2            8.1              0.28         0.40  ...       0.44     10.1        6\n",
              "3            7.2              0.23         0.32  ...       0.40      9.9        6\n",
              "4            7.2              0.23         0.32  ...       0.40      9.9        6\n",
              "\n",
              "[5 rows x 12 columns]"
            ]
          },
          "metadata": {
            "tags": []
          },
          "execution_count": 3
        }
      ]
    },
    {
      "cell_type": "markdown",
      "metadata": {
        "id": "NclzgNCmVu1N",
        "colab_type": "text"
      },
      "source": [
        "## 3.EDA Descriptive Statistics:"
      ]
    },
    {
      "cell_type": "markdown",
      "metadata": {
        "id": "91TnU39mVu1P",
        "colab_type": "text"
      },
      "source": [
        "### 3.1.  Measures of Central Tendency\n",
        "\n",
        "Measures of Central Tendency define significant, representative and adequate values for a set of data, depending on what you want to analyze. They are the \n",
        "\n",
        "1. mean\n",
        "2. median\n",
        "3. quantiles and mode."
      ]
    },
    {
      "cell_type": "markdown",
      "metadata": {
        "id": "qRirKhNYVu1R",
        "colab_type": "text"
      },
      "source": [
        "### 3.2 Check the  mean ,Mode, Median and Quantile for dataset?"
      ]
    },
    {
      "cell_type": "markdown",
      "metadata": {
        "id": "iKfO6Q8jVu1T",
        "colab_type": "text"
      },
      "source": [
        "#### Mean"
      ]
    },
    {
      "cell_type": "code",
      "metadata": {
        "id": "3FHaX1M5WUGO",
        "colab_type": "code",
        "colab": {
          "base_uri": "https://localhost:8080/",
          "height": 238
        },
        "outputId": "94b23fae-6a6c-40dd-e4a7-471c68fd009e"
      },
      "source": [
        "data.mean()"
      ],
      "execution_count": 4,
      "outputs": [
        {
          "output_type": "execute_result",
          "data": {
            "text/plain": [
              "fixed acidity             6.854788\n",
              "volatile acidity          0.278241\n",
              "citric acid               0.334192\n",
              "residual sugar            6.391415\n",
              "chlorides                 0.045772\n",
              "free sulfur dioxide      35.308085\n",
              "total sulfur dioxide    138.360657\n",
              "density                   0.994027\n",
              "pH                        3.188267\n",
              "sulphates                 0.489847\n",
              "alcohol                  10.514267\n",
              "quality                   5.877909\n",
              "dtype: float64"
            ]
          },
          "metadata": {
            "tags": []
          },
          "execution_count": 4
        }
      ]
    },
    {
      "cell_type": "markdown",
      "metadata": {
        "id": "3_wkfJsAVu1U",
        "colab_type": "text"
      },
      "source": [
        "#### Mode"
      ]
    },
    {
      "cell_type": "code",
      "metadata": {
        "id": "UbZqy486WX2b",
        "colab_type": "code",
        "colab": {
          "base_uri": "https://localhost:8080/",
          "height": 114
        },
        "outputId": "2e3edf74-5906-4c42-9aae-0b3d10fe051d"
      },
      "source": [
        "data.mode()"
      ],
      "execution_count": 5,
      "outputs": [
        {
          "output_type": "execute_result",
          "data": {
            "text/html": [
              "<div>\n",
              "<style scoped>\n",
              "    .dataframe tbody tr th:only-of-type {\n",
              "        vertical-align: middle;\n",
              "    }\n",
              "\n",
              "    .dataframe tbody tr th {\n",
              "        vertical-align: top;\n",
              "    }\n",
              "\n",
              "    .dataframe thead th {\n",
              "        text-align: right;\n",
              "    }\n",
              "</style>\n",
              "<table border=\"1\" class=\"dataframe\">\n",
              "  <thead>\n",
              "    <tr style=\"text-align: right;\">\n",
              "      <th></th>\n",
              "      <th>fixed acidity</th>\n",
              "      <th>volatile acidity</th>\n",
              "      <th>citric acid</th>\n",
              "      <th>residual sugar</th>\n",
              "      <th>chlorides</th>\n",
              "      <th>free sulfur dioxide</th>\n",
              "      <th>total sulfur dioxide</th>\n",
              "      <th>density</th>\n",
              "      <th>pH</th>\n",
              "      <th>sulphates</th>\n",
              "      <th>alcohol</th>\n",
              "      <th>quality</th>\n",
              "    </tr>\n",
              "  </thead>\n",
              "  <tbody>\n",
              "    <tr>\n",
              "      <th>0</th>\n",
              "      <td>6.8</td>\n",
              "      <td>0.28</td>\n",
              "      <td>0.3</td>\n",
              "      <td>1.2</td>\n",
              "      <td>0.044</td>\n",
              "      <td>29.0</td>\n",
              "      <td>111.0</td>\n",
              "      <td>0.992</td>\n",
              "      <td>3.14</td>\n",
              "      <td>0.5</td>\n",
              "      <td>9.4</td>\n",
              "      <td>6</td>\n",
              "    </tr>\n",
              "  </tbody>\n",
              "</table>\n",
              "</div>"
            ],
            "text/plain": [
              "   fixed acidity  volatile acidity  citric acid  ...  sulphates  alcohol  quality\n",
              "0            6.8              0.28          0.3  ...        0.5      9.4        6\n",
              "\n",
              "[1 rows x 12 columns]"
            ]
          },
          "metadata": {
            "tags": []
          },
          "execution_count": 5
        }
      ]
    },
    {
      "cell_type": "markdown",
      "metadata": {
        "id": "GrWx4DKHVu1W",
        "colab_type": "text"
      },
      "source": [
        "#### Median and Quantile"
      ]
    },
    {
      "cell_type": "code",
      "metadata": {
        "id": "Q4gGJ7waWhFE",
        "colab_type": "code",
        "colab": {
          "base_uri": "https://localhost:8080/",
          "height": 238
        },
        "outputId": "f20f0044-81bd-4e07-ea6c-c2300c0a95be"
      },
      "source": [
        "data.median()"
      ],
      "execution_count": 6,
      "outputs": [
        {
          "output_type": "execute_result",
          "data": {
            "text/plain": [
              "fixed acidity             6.80000\n",
              "volatile acidity          0.26000\n",
              "citric acid               0.32000\n",
              "residual sugar            5.20000\n",
              "chlorides                 0.04300\n",
              "free sulfur dioxide      34.00000\n",
              "total sulfur dioxide    134.00000\n",
              "density                   0.99374\n",
              "pH                        3.18000\n",
              "sulphates                 0.47000\n",
              "alcohol                  10.40000\n",
              "quality                   6.00000\n",
              "dtype: float64"
            ]
          },
          "metadata": {
            "tags": []
          },
          "execution_count": 6
        }
      ]
    },
    {
      "cell_type": "markdown",
      "metadata": {
        "id": "5vDt34ukVu1Y",
        "colab_type": "text"
      },
      "source": [
        "### 3.4 check (Quantile 25%,50%,75%) for dataset"
      ]
    },
    {
      "cell_type": "markdown",
      "metadata": {
        "id": "avkiosIUVu1Z",
        "colab_type": "text"
      },
      "source": [
        "#### Quantile 25%"
      ]
    },
    {
      "cell_type": "code",
      "metadata": {
        "id": "lmNzeSo9W_hX",
        "colab_type": "code",
        "colab": {
          "base_uri": "https://localhost:8080/",
          "height": 238
        },
        "outputId": "d636ca0f-f9b3-4313-dc62-242c760ce8e8"
      },
      "source": [
        "data.quantile(0.25)"
      ],
      "execution_count": 7,
      "outputs": [
        {
          "output_type": "execute_result",
          "data": {
            "text/plain": [
              "fixed acidity             6.300000\n",
              "volatile acidity          0.210000\n",
              "citric acid               0.270000\n",
              "residual sugar            1.700000\n",
              "chlorides                 0.036000\n",
              "free sulfur dioxide      23.000000\n",
              "total sulfur dioxide    108.000000\n",
              "density                   0.991723\n",
              "pH                        3.090000\n",
              "sulphates                 0.410000\n",
              "alcohol                   9.500000\n",
              "quality                   5.000000\n",
              "Name: 0.25, dtype: float64"
            ]
          },
          "metadata": {
            "tags": []
          },
          "execution_count": 7
        }
      ]
    },
    {
      "cell_type": "markdown",
      "metadata": {
        "id": "8-7T6inJVu1b",
        "colab_type": "text"
      },
      "source": [
        "\n",
        "#### Quantile 50%"
      ]
    },
    {
      "cell_type": "code",
      "metadata": {
        "id": "H7wN8xK6XEcv",
        "colab_type": "code",
        "colab": {
          "base_uri": "https://localhost:8080/",
          "height": 238
        },
        "outputId": "184507c5-bab4-440d-f735-5f6a1c4e317a"
      },
      "source": [
        "data.quantile(0.5)"
      ],
      "execution_count": 8,
      "outputs": [
        {
          "output_type": "execute_result",
          "data": {
            "text/plain": [
              "fixed acidity             6.80000\n",
              "volatile acidity          0.26000\n",
              "citric acid               0.32000\n",
              "residual sugar            5.20000\n",
              "chlorides                 0.04300\n",
              "free sulfur dioxide      34.00000\n",
              "total sulfur dioxide    134.00000\n",
              "density                   0.99374\n",
              "pH                        3.18000\n",
              "sulphates                 0.47000\n",
              "alcohol                  10.40000\n",
              "quality                   6.00000\n",
              "Name: 0.5, dtype: float64"
            ]
          },
          "metadata": {
            "tags": []
          },
          "execution_count": 8
        }
      ]
    },
    {
      "cell_type": "markdown",
      "metadata": {
        "id": "LU2qN1DmVu1d",
        "colab_type": "text"
      },
      "source": [
        "#### Quantile 75%"
      ]
    },
    {
      "cell_type": "code",
      "metadata": {
        "id": "bNLbSIFRXG8X",
        "colab_type": "code",
        "colab": {
          "base_uri": "https://localhost:8080/",
          "height": 238
        },
        "outputId": "071073ef-73d0-471d-d5e5-4fc63665345c"
      },
      "source": [
        "data.quantile(0.75)"
      ],
      "execution_count": 9,
      "outputs": [
        {
          "output_type": "execute_result",
          "data": {
            "text/plain": [
              "fixed acidity             7.3000\n",
              "volatile acidity          0.3200\n",
              "citric acid               0.3900\n",
              "residual sugar            9.9000\n",
              "chlorides                 0.0500\n",
              "free sulfur dioxide      46.0000\n",
              "total sulfur dioxide    167.0000\n",
              "density                   0.9961\n",
              "pH                        3.2800\n",
              "sulphates                 0.5500\n",
              "alcohol                  11.4000\n",
              "quality                   6.0000\n",
              "Name: 0.75, dtype: float64"
            ]
          },
          "metadata": {
            "tags": []
          },
          "execution_count": 9
        }
      ]
    },
    {
      "cell_type": "markdown",
      "metadata": {
        "id": "58oRq0e3Vu1e",
        "colab_type": "text"
      },
      "source": [
        "## 4. Measures of Dispersion"
      ]
    },
    {
      "cell_type": "markdown",
      "metadata": {
        "id": "RqeUUUC1Vu1g",
        "colab_type": "text"
      },
      "source": [
        "Measures of Dispersion are measures that indicate how spread the data is, or how they vary. The measures of dispersion are range, variance, standard deviation and the absolute deviation, or mean absolute deviation."
      ]
    },
    {
      "cell_type": "markdown",
      "metadata": {
        "id": "3tJoZ5m8Vu1h",
        "colab_type": "text"
      },
      "source": [
        "### 4.1 check the Range,Variance,Standard Deviation,Absolute Deviation or Mean Absolute Deviation?"
      ]
    },
    {
      "cell_type": "markdown",
      "metadata": {
        "id": "BXGpqCszVu1j",
        "colab_type": "text"
      },
      "source": [
        "#### Range"
      ]
    },
    {
      "cell_type": "code",
      "metadata": {
        "id": "2y1tSHiuXTZ8",
        "colab_type": "code",
        "colab": {
          "base_uri": "https://localhost:8080/",
          "height": 238
        },
        "outputId": "f806ce36-9fa9-492b-cc04-dcba7d556c38"
      },
      "source": [
        "data.max()-data.min()"
      ],
      "execution_count": 10,
      "outputs": [
        {
          "output_type": "execute_result",
          "data": {
            "text/plain": [
              "fixed acidity            10.40000\n",
              "volatile acidity          1.02000\n",
              "citric acid               1.66000\n",
              "residual sugar           65.20000\n",
              "chlorides                 0.33700\n",
              "free sulfur dioxide     287.00000\n",
              "total sulfur dioxide    431.00000\n",
              "density                   0.05187\n",
              "pH                        1.10000\n",
              "sulphates                 0.86000\n",
              "alcohol                   6.20000\n",
              "quality                   6.00000\n",
              "dtype: float64"
            ]
          },
          "metadata": {
            "tags": []
          },
          "execution_count": 10
        }
      ]
    },
    {
      "cell_type": "markdown",
      "metadata": {
        "id": "Ea64GTJTVu1l",
        "colab_type": "text"
      },
      "source": [
        "#### Variance"
      ]
    },
    {
      "cell_type": "code",
      "metadata": {
        "id": "EiRi6D2sXaY6",
        "colab_type": "code",
        "colab": {
          "base_uri": "https://localhost:8080/",
          "height": 238
        },
        "outputId": "c7175264-41fb-4f3c-ed67-068aa242e029"
      },
      "source": [
        "data.var()"
      ],
      "execution_count": 11,
      "outputs": [
        {
          "output_type": "execute_result",
          "data": {
            "text/plain": [
              "fixed acidity              0.712114\n",
              "volatile acidity           0.010160\n",
              "citric acid                0.014646\n",
              "residual sugar            25.725770\n",
              "chlorides                  0.000477\n",
              "free sulfur dioxide      289.242720\n",
              "total sulfur dioxide    1806.085491\n",
              "density                    0.000009\n",
              "pH                         0.022801\n",
              "sulphates                  0.013025\n",
              "alcohol                    1.514427\n",
              "quality                    0.784356\n",
              "dtype: float64"
            ]
          },
          "metadata": {
            "tags": []
          },
          "execution_count": 11
        }
      ]
    },
    {
      "cell_type": "markdown",
      "metadata": {
        "id": "NNz8_Dy1Vu1m",
        "colab_type": "text"
      },
      "source": [
        "#### Standard Deviation"
      ]
    },
    {
      "cell_type": "code",
      "metadata": {
        "id": "hoZ2jWFoXd-H",
        "colab_type": "code",
        "colab": {
          "base_uri": "https://localhost:8080/",
          "height": 238
        },
        "outputId": "0f45f8b5-3975-4d7b-9fc3-57fbe41865ea"
      },
      "source": [
        "data.std()"
      ],
      "execution_count": 12,
      "outputs": [
        {
          "output_type": "execute_result",
          "data": {
            "text/plain": [
              "fixed acidity            0.843868\n",
              "volatile acidity         0.100795\n",
              "citric acid              0.121020\n",
              "residual sugar           5.072058\n",
              "chlorides                0.021848\n",
              "free sulfur dioxide     17.007137\n",
              "total sulfur dioxide    42.498065\n",
              "density                  0.002991\n",
              "pH                       0.151001\n",
              "sulphates                0.114126\n",
              "alcohol                  1.230621\n",
              "quality                  0.885639\n",
              "dtype: float64"
            ]
          },
          "metadata": {
            "tags": []
          },
          "execution_count": 12
        }
      ]
    },
    {
      "cell_type": "markdown",
      "metadata": {
        "id": "-zvVDlnbVu1o",
        "colab_type": "text"
      },
      "source": [
        "#### Absolute Deviation or Mean Absolute Deviation"
      ]
    },
    {
      "cell_type": "code",
      "metadata": {
        "id": "xAVP07-rXhPe",
        "colab_type": "code",
        "colab": {
          "base_uri": "https://localhost:8080/",
          "height": 238
        },
        "outputId": "eb3c29ad-3934-4387-ff26-60f6508a7014"
      },
      "source": [
        "data.mad()"
      ],
      "execution_count": 13,
      "outputs": [
        {
          "output_type": "execute_result",
          "data": {
            "text/plain": [
              "fixed acidity            0.644923\n",
              "volatile acidity         0.073803\n",
              "citric acid              0.086411\n",
              "residual sugar           4.227788\n",
              "chlorides                0.011462\n",
              "free sulfur dioxide     13.149156\n",
              "total sulfur dioxide    34.282442\n",
              "density                  0.002447\n",
              "pH                       0.118204\n",
              "sulphates                0.087504\n",
              "alcohol                  1.034213\n",
              "quality                  0.670793\n",
              "dtype: float64"
            ]
          },
          "metadata": {
            "tags": []
          },
          "execution_count": 13
        }
      ]
    },
    {
      "cell_type": "markdown",
      "metadata": {
        "id": "oO_Bvy93Vu1p",
        "colab_type": "text"
      },
      "source": [
        "## 5. Covariance and Correlation"
      ]
    },
    {
      "cell_type": "markdown",
      "metadata": {
        "id": "HDiGbYa0Vu1r",
        "colab_type": "text"
      },
      "source": [
        "1. Covariance is a numerical measure that indicates the inter-dependency between two variables. \n",
        "2. Covariance indicates how two variables behave together in relation to their averages. \n",
        "3. A covariance of 0 indicates that the variables are totally independant, while a high and positive covariance value means that a variable is big when the other is big. Analogously, a negative covariance with a high absolute value means that one variable is big when the other is small.\n",
        "4. Covariance can be calculated through the cov() function. "
      ]
    },
    {
      "cell_type": "markdown",
      "metadata": {
        "id": "04-a7DzXVu1t",
        "colab_type": "text"
      },
      "source": [
        "### 5.1 Check the Covariance and Correlation scores . write your Observations?"
      ]
    },
    {
      "cell_type": "markdown",
      "metadata": {
        "id": "EpLwjCT_Vu1u",
        "colab_type": "text"
      },
      "source": [
        "#### Covariance"
      ]
    },
    {
      "cell_type": "code",
      "metadata": {
        "id": "DlUncDKNXoTg",
        "colab_type": "code",
        "colab": {
          "base_uri": "https://localhost:8080/",
          "height": 594
        },
        "outputId": "ca2d16ca-9ce7-4a52-9242-5a40704fb9b6"
      },
      "source": [
        "data.cov()"
      ],
      "execution_count": 14,
      "outputs": [
        {
          "output_type": "execute_result",
          "data": {
            "text/html": [
              "<div>\n",
              "<style scoped>\n",
              "    .dataframe tbody tr th:only-of-type {\n",
              "        vertical-align: middle;\n",
              "    }\n",
              "\n",
              "    .dataframe tbody tr th {\n",
              "        vertical-align: top;\n",
              "    }\n",
              "\n",
              "    .dataframe thead th {\n",
              "        text-align: right;\n",
              "    }\n",
              "</style>\n",
              "<table border=\"1\" class=\"dataframe\">\n",
              "  <thead>\n",
              "    <tr style=\"text-align: right;\">\n",
              "      <th></th>\n",
              "      <th>fixed acidity</th>\n",
              "      <th>volatile acidity</th>\n",
              "      <th>citric acid</th>\n",
              "      <th>residual sugar</th>\n",
              "      <th>chlorides</th>\n",
              "      <th>free sulfur dioxide</th>\n",
              "      <th>total sulfur dioxide</th>\n",
              "      <th>density</th>\n",
              "      <th>pH</th>\n",
              "      <th>sulphates</th>\n",
              "      <th>alcohol</th>\n",
              "      <th>quality</th>\n",
              "    </tr>\n",
              "  </thead>\n",
              "  <tbody>\n",
              "    <tr>\n",
              "      <th>fixed acidity</th>\n",
              "      <td>0.712114</td>\n",
              "      <td>-0.001931</td>\n",
              "      <td>0.029533</td>\n",
              "      <td>0.381022</td>\n",
              "      <td>0.000426</td>\n",
              "      <td>-0.708919</td>\n",
              "      <td>3.266013</td>\n",
              "      <td>0.000670</td>\n",
              "      <td>-0.054265</td>\n",
              "      <td>-0.001651</td>\n",
              "      <td>-0.125533</td>\n",
              "      <td>-0.084947</td>\n",
              "    </tr>\n",
              "    <tr>\n",
              "      <th>volatile acidity</th>\n",
              "      <td>-0.001931</td>\n",
              "      <td>0.010160</td>\n",
              "      <td>-0.001823</td>\n",
              "      <td>0.032865</td>\n",
              "      <td>0.000155</td>\n",
              "      <td>-0.166300</td>\n",
              "      <td>0.382354</td>\n",
              "      <td>0.000008</td>\n",
              "      <td>-0.000486</td>\n",
              "      <td>-0.000411</td>\n",
              "      <td>0.008400</td>\n",
              "      <td>-0.017382</td>\n",
              "    </tr>\n",
              "    <tr>\n",
              "      <th>citric acid</th>\n",
              "      <td>0.029533</td>\n",
              "      <td>-0.001823</td>\n",
              "      <td>0.014646</td>\n",
              "      <td>0.057829</td>\n",
              "      <td>0.000302</td>\n",
              "      <td>0.193630</td>\n",
              "      <td>0.622989</td>\n",
              "      <td>0.000054</td>\n",
              "      <td>-0.002992</td>\n",
              "      <td>0.000861</td>\n",
              "      <td>-0.011278</td>\n",
              "      <td>-0.000987</td>\n",
              "    </tr>\n",
              "    <tr>\n",
              "      <th>residual sugar</th>\n",
              "      <td>0.381022</td>\n",
              "      <td>0.032865</td>\n",
              "      <td>0.057829</td>\n",
              "      <td>25.725770</td>\n",
              "      <td>0.009828</td>\n",
              "      <td>25.800578</td>\n",
              "      <td>86.531303</td>\n",
              "      <td>0.012727</td>\n",
              "      <td>-0.148684</td>\n",
              "      <td>-0.015435</td>\n",
              "      <td>-2.812740</td>\n",
              "      <td>-0.438316</td>\n",
              "    </tr>\n",
              "    <tr>\n",
              "      <th>chlorides</th>\n",
              "      <td>0.000426</td>\n",
              "      <td>0.000155</td>\n",
              "      <td>0.000302</td>\n",
              "      <td>0.009828</td>\n",
              "      <td>0.000477</td>\n",
              "      <td>0.037674</td>\n",
              "      <td>0.184687</td>\n",
              "      <td>0.000017</td>\n",
              "      <td>-0.000298</td>\n",
              "      <td>0.000042</td>\n",
              "      <td>-0.009684</td>\n",
              "      <td>-0.004062</td>\n",
              "    </tr>\n",
              "    <tr>\n",
              "      <th>free sulfur dioxide</th>\n",
              "      <td>-0.708919</td>\n",
              "      <td>-0.166300</td>\n",
              "      <td>0.193630</td>\n",
              "      <td>25.800578</td>\n",
              "      <td>0.037674</td>\n",
              "      <td>289.242720</td>\n",
              "      <td>444.865891</td>\n",
              "      <td>0.014966</td>\n",
              "      <td>-0.001587</td>\n",
              "      <td>0.114938</td>\n",
              "      <td>-5.234509</td>\n",
              "      <td>0.122878</td>\n",
              "    </tr>\n",
              "    <tr>\n",
              "      <th>total sulfur dioxide</th>\n",
              "      <td>3.266013</td>\n",
              "      <td>0.382354</td>\n",
              "      <td>0.622989</td>\n",
              "      <td>86.531303</td>\n",
              "      <td>0.184687</td>\n",
              "      <td>444.865891</td>\n",
              "      <td>1806.085491</td>\n",
              "      <td>0.067352</td>\n",
              "      <td>0.014894</td>\n",
              "      <td>0.652645</td>\n",
              "      <td>-23.476605</td>\n",
              "      <td>-6.576746</td>\n",
              "    </tr>\n",
              "    <tr>\n",
              "      <th>density</th>\n",
              "      <td>0.000670</td>\n",
              "      <td>0.000008</td>\n",
              "      <td>0.000054</td>\n",
              "      <td>0.012727</td>\n",
              "      <td>0.000017</td>\n",
              "      <td>0.014966</td>\n",
              "      <td>0.067352</td>\n",
              "      <td>0.000009</td>\n",
              "      <td>-0.000042</td>\n",
              "      <td>0.000025</td>\n",
              "      <td>-0.002871</td>\n",
              "      <td>-0.000814</td>\n",
              "    </tr>\n",
              "    <tr>\n",
              "      <th>pH</th>\n",
              "      <td>-0.054265</td>\n",
              "      <td>-0.000486</td>\n",
              "      <td>-0.002992</td>\n",
              "      <td>-0.148684</td>\n",
              "      <td>-0.000298</td>\n",
              "      <td>-0.001587</td>\n",
              "      <td>0.014894</td>\n",
              "      <td>-0.000042</td>\n",
              "      <td>0.022801</td>\n",
              "      <td>0.002688</td>\n",
              "      <td>0.022565</td>\n",
              "      <td>0.013297</td>\n",
              "    </tr>\n",
              "    <tr>\n",
              "      <th>sulphates</th>\n",
              "      <td>-0.001651</td>\n",
              "      <td>-0.000411</td>\n",
              "      <td>0.000861</td>\n",
              "      <td>-0.015435</td>\n",
              "      <td>0.000042</td>\n",
              "      <td>0.114938</td>\n",
              "      <td>0.652645</td>\n",
              "      <td>0.000025</td>\n",
              "      <td>0.002688</td>\n",
              "      <td>0.013025</td>\n",
              "      <td>-0.002448</td>\n",
              "      <td>0.005425</td>\n",
              "    </tr>\n",
              "    <tr>\n",
              "      <th>alcohol</th>\n",
              "      <td>-0.125533</td>\n",
              "      <td>0.008400</td>\n",
              "      <td>-0.011278</td>\n",
              "      <td>-2.812740</td>\n",
              "      <td>-0.009684</td>\n",
              "      <td>-5.234509</td>\n",
              "      <td>-23.476605</td>\n",
              "      <td>-0.002871</td>\n",
              "      <td>0.022565</td>\n",
              "      <td>-0.002448</td>\n",
              "      <td>1.514427</td>\n",
              "      <td>0.474726</td>\n",
              "    </tr>\n",
              "    <tr>\n",
              "      <th>quality</th>\n",
              "      <td>-0.084947</td>\n",
              "      <td>-0.017382</td>\n",
              "      <td>-0.000987</td>\n",
              "      <td>-0.438316</td>\n",
              "      <td>-0.004062</td>\n",
              "      <td>0.122878</td>\n",
              "      <td>-6.576746</td>\n",
              "      <td>-0.000814</td>\n",
              "      <td>0.013297</td>\n",
              "      <td>0.005425</td>\n",
              "      <td>0.474726</td>\n",
              "      <td>0.784356</td>\n",
              "    </tr>\n",
              "  </tbody>\n",
              "</table>\n",
              "</div>"
            ],
            "text/plain": [
              "                      fixed acidity  volatile acidity  ...    alcohol   quality\n",
              "fixed acidity              0.712114         -0.001931  ...  -0.125533 -0.084947\n",
              "volatile acidity          -0.001931          0.010160  ...   0.008400 -0.017382\n",
              "citric acid                0.029533         -0.001823  ...  -0.011278 -0.000987\n",
              "residual sugar             0.381022          0.032865  ...  -2.812740 -0.438316\n",
              "chlorides                  0.000426          0.000155  ...  -0.009684 -0.004062\n",
              "free sulfur dioxide       -0.708919         -0.166300  ...  -5.234509  0.122878\n",
              "total sulfur dioxide       3.266013          0.382354  ... -23.476605 -6.576746\n",
              "density                    0.000670          0.000008  ...  -0.002871 -0.000814\n",
              "pH                        -0.054265         -0.000486  ...   0.022565  0.013297\n",
              "sulphates                 -0.001651         -0.000411  ...  -0.002448  0.005425\n",
              "alcohol                   -0.125533          0.008400  ...   1.514427  0.474726\n",
              "quality                   -0.084947         -0.017382  ...   0.474726  0.784356\n",
              "\n",
              "[12 rows x 12 columns]"
            ]
          },
          "metadata": {
            "tags": []
          },
          "execution_count": 14
        }
      ]
    },
    {
      "cell_type": "markdown",
      "metadata": {
        "id": "OOLS5NIWVu1w",
        "colab_type": "text"
      },
      "source": [
        "#### Observation:\n",
        "  "
      ]
    },
    {
      "cell_type": "markdown",
      "metadata": {
        "id": "B7PXHULoVu1x",
        "colab_type": "text"
      },
      "source": [
        "#### Correlation"
      ]
    },
    {
      "cell_type": "code",
      "metadata": {
        "id": "6jQdb0mtX0gs",
        "colab_type": "code",
        "colab": {
          "base_uri": "https://localhost:8080/",
          "height": 407
        },
        "outputId": "3d916941-b9c0-4937-d28d-8592e732f94f"
      },
      "source": [
        "data.corr()\n",
        "plt.figure(figsize=(12,5))\n",
        "sns.heatmap(data.corr(),cmap='coolwarm',annot=True)\n",
        "plt.show()"
      ],
      "execution_count": 46,
      "outputs": [
        {
          "output_type": "display_data",
          "data": {
            "image/png": "[encoded data removed]",
            "text/plain": [
              "<Figure size 864x360 with 2 Axes>"
            ]
          },
          "metadata": {
            "tags": []
          }
        }
      ]
    },
    {
      "cell_type": "code",
      "metadata": {
        "id": "50SMcRcreTsl",
        "colab_type": "code",
        "colab": {
          "base_uri": "https://localhost:8080/",
          "height": 458
        },
        "outputId": "2d2d0119-aa41-4b54-ca16-84e8f8cbbd3c"
      },
      "source": [
        "sns.jointplot(x='quality',y='alcohol',data=data,kind='kde')\n",
        "# plt.show()\n",
        "#data['quality'].value_counts()"
      ],
      "execution_count": 47,
      "outputs": [
        {
          "output_type": "execute_result",
          "data": {
            "text/plain": [
              "<seaborn.axisgrid.JointGrid at 0x7ff6215fa0f0>"
            ]
          },
          "metadata": {
            "tags": []
          },
          "execution_count": 47
        },
        {
          "output_type": "display_data",
          "data": {
            "image/png": "[encoded data removed]",
            "text/plain": [
              "<Figure size 432x432 with 3 Axes>"
            ]
          },
          "metadata": {
            "tags": []
          }
        }
      ]
    },
    {
      "cell_type": "markdown",
      "metadata": {
        "id": "EhdQwujEVu1z",
        "colab_type": "text"
      },
      "source": [
        "#### Observation:\n",
        "    \n"
      ]
    },
    {
      "cell_type": "markdown",
      "metadata": {
        "id": "GfTs0HWkaipC",
        "colab_type": "text"
      },
      "source": [
        "As per dataset:\n",
        "1. Wine Quality has positive correlation with alcohol content\n",
        "2. Wine Quality has negative correlation with residual sugar and density.\n",
        "3. Lower the chlorides content Higher will be the quality of wine"
      ]
    },
    {
      "cell_type": "markdown",
      "metadata": {
        "id": "vtOoMYI-Vu10",
        "colab_type": "text"
      },
      "source": [
        "# The End"
      ]
    }
  ]
}