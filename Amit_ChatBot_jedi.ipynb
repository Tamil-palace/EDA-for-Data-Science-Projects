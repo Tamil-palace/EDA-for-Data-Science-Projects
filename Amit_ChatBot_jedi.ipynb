{
 "cells": [
  {
   "cell_type": "code",
   "execution_count": 1,
   "metadata": {},
   "outputs": [],
   "source": [
    "# This is a generic bot carry out to perform Two operation:\n",
    "# Weather\n",
    "# Corona Virus updates."
   ]
  },
  {
   "cell_type": "code",
   "execution_count": 11,
   "metadata": {},
   "outputs": [
    {
     "name": "stderr",
     "output_type": "stream",
     "text": [
      "[nltk_data] Downloading package punkt to\n",
      "[nltk_data]     C:\\Users\\DELL\\AppData\\Roaming\\nltk_data...\n",
      "[nltk_data]   Package punkt is already up-to-date!\n"
     ]
    }
   ],
   "source": [
    "import random\n",
    "import string\n",
    "from sklearn.feature_extraction.text import TfidfVectorizer\n",
    "from sklearn.metrics.pairwise import cosine_similarity\n",
    "import nltk\n",
    "nltk.download('punkt')\n",
    "import numpy as np\n",
    "import warnings\n",
    "warnings.filterwarnings('ignore')"
   ]
  },
  {
   "cell_type": "code",
   "execution_count": 12,
   "metadata": {},
   "outputs": [],
   "source": [
    "def search_user_response(res):\n",
    "    try: \n",
    "        from googlesearch import search \n",
    "    except ImportError:  \n",
    "        print(\"No module named 'google' found\") \n",
    "    #query = ''.join(res.split(' '))  \n",
    "    for j in search(res, tld=\"co.in\", num=10, stop=1, pause=2): \n",
    "        return (j) \n"
   ]
  },
  {
   "cell_type": "code",
   "execution_count": 13,
   "metadata": {},
   "outputs": [],
   "source": [
    "import requests,re,random\n",
    "from bs4 import BeautifulSoup\n",
    "def get_weather_data(res):\n",
    "    weather_inputs = ['temperature','temp','rain','weather','sunny']\n",
    "    for inputs in res.split():\n",
    "        if inputs in weather_inputs:            \n",
    "            url = search_user_response(weather_inputs[3])\n",
    "            page = requests.get(url,verify=False)\n",
    "            weather=[]\n",
    "            if page.status_code==200:\n",
    "                soup = BeautifulSoup(page.content, 'html.parser')\n",
    "                for div in soup.find_all('div', attrs={'class': re.compile(\"^today_nowcard-phrase\")}):\n",
    "                    weather.append(div.text)\n",
    "                for div in soup.find_all('div', attrs={'class': re.compile(\"^today_nowcard-feels\")}):\n",
    "                    weather.append(div.text)\n",
    "                #weather.append('Weather is'+weather[0]+' '+weather[1])\n",
    "                try:\n",
    "                    return(random.choice(weather))\n",
    "                except IndexError:\n",
    "                    return('Please visit '+url+' for more info')\n",
    "\n",
    "\n",
    "\n"
   ]
  },
  {
   "cell_type": "code",
   "execution_count": 5,
   "metadata": {},
   "outputs": [],
   "source": [
    "def get_corona_data(res):\n",
    "    inputs = ['corona','virus','prevent','symptoms','disease']\n",
    "    corpus =[]\n",
    "    for inp in res.split():\n",
    "        if inp in inputs:\n",
    "            for i in range(1,4):\n",
    "                url = 'https://www.who.int/health-topics/coronavirus#tab=tab_'+str(i)\n",
    "                page = requests.get(url,verify=False)\n",
    "                if page.status_code==200:\n",
    "                    soup = BeautifulSoup(page.content, 'html.parser')\n",
    "                    for p in soup.find_all('p'):\n",
    "                        corpus.append(p.get_text())\n",
    "            url_myth = 'https://www.who.int/emergencies/diseases/novel-coronavirus-2019/advice-for-public/myth-busters'\n",
    "            page = requests.get(url,verify=False)\n",
    "            soup = BeautifulSoup(page.content, 'html.parser')\n",
    "            for p in soup.find_all('p'):\n",
    "                corpus.append(p.get_text())\n",
    "                    \n",
    "    text =''\n",
    "    #print(corpus)\n",
    "    for ele in corpus:\n",
    "        text+=ele\n",
    "    #print('text:',text)\n",
    "    sent_tokens = nltk.sent_tokenize(text) #Convert the text into a list of sentences\n",
    "\n",
    "#Print the list of sentences\n",
    "    #print(sent_tokens)\n",
    "    \n",
    "    return sent_tokens"
   ]
  },
  {
   "cell_type": "code",
   "execution_count": null,
   "metadata": {},
   "outputs": [],
   "source": []
  },
  {
   "cell_type": "code",
   "execution_count": 14,
   "metadata": {},
   "outputs": [
    {
     "name": "stdout",
     "output_type": "stream",
     "text": [
      "!\"#$%&'()*+,-./:;<=>?@[\\]^_`{|}~\n",
      "{33: None, 34: None, 35: None, 36: None, 37: None, 38: None, 39: None, 40: None, 41: None, 42: None, 43: None, 44: None, 45: None, 46: None, 47: None, 58: None, 59: None, 60: None, 61: None, 62: None, 63: None, 64: None, 91: None, 92: None, 93: None, 94: None, 95: None, 96: None, 123: None, 124: None, 125: None, 126: None}\n"
     ]
    }
   ],
   "source": [
    "#Tokenization\n",
    "\n",
    "#Create a dictionary (key:value) pair to remove punctuations\n",
    "remove_punct_dict = dict(  ( ord(punct),None) for punct in string.punctuation)\n",
    "\n",
    "#Print the punctuations\n",
    "print(string.punctuation)\n",
    "\n",
    "#Print the dictionary\n",
    "print(remove_punct_dict)"
   ]
  },
  {
   "cell_type": "code",
   "execution_count": null,
   "metadata": {},
   "outputs": [],
   "source": [
    "def LemNormalize(text):\n",
    "  return nltk.word_tokenize(text.lower().translate(remove_punct_dict))\n",
    "\n",
    "#Print the tokenization text\n",
    "print(LemNormalize(text))"
   ]
  },
  {
   "cell_type": "code",
   "execution_count": 8,
   "metadata": {},
   "outputs": [],
   "source": [
    "#Keyword Matching\n",
    "\n",
    "#Greeting Inputs\n",
    "GREETING_INPUTS = [\"hi\", \"hello\", \"hola\", \"greetings\", \"wassup\", \"hey\"]\n",
    "\n",
    "#Greeting responses back to the user\n",
    "GREETING_RESPONSES=[\"howdy\", \"hi\", \"hey\", \"what's good\", \"hello\", \"hey there\"]\n",
    "\n",
    "#Function to return a random greeting response to a users greeting\n",
    "def greeting(sentence):\n",
    "  #if the user's input is a greeting, then return a randomly chosen greeting response\n",
    "  for word in sentence.split():\n",
    "    if word.lower() in GREETING_INPUTS:\n",
    "        return random.choice(GREETING_RESPONSES)"
   ]
  },
  {
   "cell_type": "code",
   "execution_count": 15,
   "metadata": {},
   "outputs": [],
   "source": [
    "def response(user_response):\n",
    "  \n",
    "\n",
    "  #The users response / query\n",
    "                \n",
    "  user_response = user_response.lower() #Make the response lower case\n",
    "\n",
    "  ###Print the users query/ response\n",
    "  #print(user_response)\n",
    "\n",
    "  #Set the chatbot response to an empty string\n",
    "  robo_response = ''\n",
    "  sent_tokens = get_corona_data(user_response)\n",
    "\n",
    "  #Append the users response to the sentence list\n",
    "  sent_tokens.append(user_response)\n",
    "\n",
    "  ###Print the sentence list after appending the users response\n",
    "  #print(sent_tokens)\n",
    "\n",
    "  #Create a TfidfVectorizer Object\n",
    "  TfidfVec = TfidfVectorizer(tokenizer = LemNormalize, stop_words='english')\n",
    "\n",
    "  #Convert the text to a matrix of TF-IDF features\n",
    "  tfidf = TfidfVec.fit_transform(sent_tokens)\n",
    "\n",
    "  ###Print the TFIDF features\n",
    "  #print(tfidf)\n",
    "  #Get the measure of similarity (similarity scores)\n",
    "  vals = cosine_similarity(tfidf[-1], tfidf)\n",
    "\n",
    "  #Print the similarity scores\n",
    "  #print(vals)\n",
    "\n",
    "  #Get the index of the most similar text/sentence to the users response\n",
    "  try:\n",
    "        idx = vals.argsort()[0][-2]\n",
    "  except IndexError :\n",
    "        robo_response = robo_response+\"I apologize, I don't understand.\"\n",
    "        return robo_response\n",
    "\n",
    "  #Reduce the dimensionality of vals\n",
    "  flat = vals.flatten()\n",
    "\n",
    "  #sort the list in ascending order\n",
    "  flat.sort()\n",
    "\n",
    "  #Get the most similar score to the users response\n",
    "  score = flat[-2]\n",
    "\n",
    "  #Print the similarity score\n",
    "  #print(score)\n",
    "\n",
    "  #If the variable 'score' is 0 then their is no text similar to the users response\n",
    "  if(score == 0):\n",
    "    robo_response = robo_response+\"I apologize, I don't understand.\"\n",
    "  else:\n",
    "    robo_response = robo_response+sent_tokens[idx]\n",
    "  \n",
    "  #Print the chat bot response\n",
    "  #print(robo_response)\n",
    "  \n",
    "  #Remove the users response from the sentence tokens list\n",
    "  sent_tokens.remove(user_response)\n",
    "  \n",
    "  return robo_response\n"
   ]
  },
  {
   "cell_type": "code",
   "execution_count": 16,
   "metadata": {},
   "outputs": [
    {
     "name": "stdout",
     "output_type": "stream",
     "text": [
      "jedi: I will answer your queries about Weather and Corona Virus. If you want to exit, type Bye!\n",
      "Hi\n",
      "jedi: howdy\n",
      "Hello\n",
      "jedi: what's good\n",
      "whats weather like today\n",
      "jedi: Feels Like 24°\n",
      "what is corona virus symptoms\n",
      "jedi: People who have underlying medical conditions and those over 60 years old have a higher risk of developing severe disease and death.Common symptoms include:Other symptoms include:People with mild symptoms who are otherwise healthy should self-isolate and contact their medical provider or a COVID-19 information line for advice on testing and referral.People with fever, cough or difficulty breathing should call their doctor and seek medical attention.\n",
      "what is corona virus ?\n",
      "jedi: Coronavirus disease (COVID-19) is an infectious disease caused by a newly discovered coronavirus.Most people infected with the COVID-19 virus will experience mild to moderate respiratory illness and recover without requiring special treatment.\n",
      "prevention from corona virus ?\n",
      "jedi: Coronavirus disease (COVID-19) is an infectious disease caused by a newly discovered coronavirus.Most people infected with the COVID-19 virus will experience mild to moderate respiratory illness and recover without requiring special treatment.\n",
      "defafa\n",
      "jedi: I apologize, I don't understand.\n",
      "thanks\n",
      "jedi: You are welcome !\n"
     ]
    }
   ],
   "source": [
    "flag = True\n",
    "print(\"jedi: I will answer your queries about Weather and Corona Virus. If you want to exit, type Bye!\")\n",
    "while(flag == True):\n",
    "  user_response = input()\n",
    "  user_response = user_response.lower()\n",
    "  if(user_response != 'bye'):\n",
    "    if(user_response == 'thanks' or user_response =='thank you'):\n",
    "      flag=False\n",
    "      print(\"jedi: You are welcome !\")\n",
    "    else:\n",
    "      if(greeting(user_response) != None):\n",
    "        print(\"jedi: \"+greeting(user_response))\n",
    "      elif(get_weather_data(user_response)!= None):\n",
    "        print(\"jedi: \"+get_weather_data(user_response))\n",
    "#       elif(get_corona_data(user_response)!= None): \n",
    "#         print(\"jedi: \"+get_corona_data(user_response))\n",
    "      else:\n",
    "        print(\"jedi: \"+response(user_response))       \n",
    "  else:\n",
    "    flag = False\n",
    "    print(\"jedi: Chat with you later !\")"
   ]
  },
  {
   "cell_type": "code",
   "execution_count": null,
   "metadata": {},
   "outputs": [],
   "source": []
  },
  {
   "cell_type": "code",
   "execution_count": null,
   "metadata": {},
   "outputs": [],
   "source": []
  }
 ],
 "metadata": {
  "kernelspec": {
   "display_name": "Python 3",
   "language": "python",
   "name": "python3"
  },
  "language_info": {
   "codemirror_mode": {
    "name": "ipython",
    "version": 3
   },
   "file_extension": ".py",
   "mimetype": "text/x-python",
   "name": "python",
   "nbconvert_exporter": "python",
   "pygments_lexer": "ipython3",
   "version": "3.7.4"
  }
 },
 "nbformat": 4,
 "nbformat_minor": 2
}
