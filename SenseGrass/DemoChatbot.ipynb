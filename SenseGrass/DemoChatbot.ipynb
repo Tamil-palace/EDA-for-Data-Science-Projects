{
 "cells": [
  {
   "cell_type": "code",
   "execution_count": 1,
   "metadata": {},
   "outputs": [
    {
     "name": "stderr",
     "output_type": "stream",
     "text": [
      "[nltk_data] Downloading package punkt to\n",
      "[nltk_data]     C:\\Users\\DELL\\AppData\\Roaming\\nltk_data...\n",
      "[nltk_data]   Package punkt is already up-to-date!\n"
     ]
    }
   ],
   "source": [
    "import random\n",
    "import string\n",
    "from sklearn.feature_extraction.text import TfidfVectorizer\n",
    "from sklearn.metrics.pairwise import cosine_similarity\n",
    "import nltk\n",
    "nltk.download('punkt')\n",
    "import numpy as np\n",
    "import warnings\n",
    "warnings.filterwarnings('ignore')\n",
    "from PIL import Image \n",
    "import pytesseract \n",
    "import sys \n",
    "from pdf2image import convert_from_path \n",
    "import os "
   ]
  },
  {
   "cell_type": "code",
   "execution_count": 2,
   "metadata": {},
   "outputs": [],
   "source": [
    "def get_pdf_data(user_res):\n",
    "    \n",
    "    PDF_file = \"C:/Users/DELL/effectofsalinitandsodicityonplantgrowth.pdf\"\n",
    "    pages = convert_from_path(PDF_file, 500) \n",
    "    image_counter = 1\n",
    "    for page in pages: \n",
    "        filename = \"page_\"+str(image_counter)+\".jpg\"\n",
    "        page.save(filename, 'JPEG') \n",
    "        image_counter = image_counter + 1\n",
    "\n",
    "    filelimit = image_counter-1\n",
    "    outfile = \"out_text.txt\"\n",
    "    #f = open(outfile, \"a\") \n",
    "    pytesseract.pytesseract.tesseract_cmd = r\"C:\\Program Files\\Tesseract-OCR\\tesseract.exe\"\n",
    "    corpus =''\n",
    "    for i in range(1, filelimit + 1): \n",
    "        filename = \"page_\"+str(i)+\".jpg\"\n",
    "        text = str(((pytesseract.image_to_string(Image.open(filename))))) \n",
    "        text = text.replace('-\\n', '')     \n",
    "        corpus+= text\n",
    "    \n",
    "    sent_tokens = nltk.sent_tokenize(corpus)\n",
    "    return sent_tokens"
   ]
  },
  {
   "cell_type": "code",
   "execution_count": 3,
   "metadata": {},
   "outputs": [],
   "source": [
    "\n",
    "## Method for getting the query from user and search in web.\n",
    "def search_user_response(res):\n",
    "    try: \n",
    "        from googlesearch import search \n",
    "    except ImportError:  \n",
    "        print(\"No module named 'google' found\") \n",
    "    #query = ''.join(res.split(' '))  \n",
    "    for j in search(res, tld=\"co.in\", num=10, stop=1, pause=2): \n",
    "        return (j) \n"
   ]
  },
  {
   "cell_type": "code",
   "execution_count": 8,
   "metadata": {},
   "outputs": [],
   "source": [
    "\n",
    "# Method for getting text from url when query is asked from user.\n",
    "def get_web_data(res):\n",
    "    inputs = []\n",
    "    corpus =[]\n",
    "    for inp in res.split():\n",
    "        if inp in inputs:\n",
    "            for i in range(1,4):\n",
    "                url = search_user_response(res)\n",
    "                page = requests.get(url,verify=False)\n",
    "                if page.status_code==200:\n",
    "                    soup = BeautifulSoup(page.content, 'html.parser')\n",
    "                    for p in soup.find_all('p'):\n",
    "                        corpus.append(p.get_text())\n",
    "            page = requests.get(url,verify=False)\n",
    "            soup = BeautifulSoup(page.content, 'html.parser')\n",
    "            for p in soup.find_all('p'):\n",
    "                corpus.append(p.get_text())\n",
    "                    \n",
    "    text =''\n",
    "    #print(corpus)\n",
    "    for ele in corpus:\n",
    "        text+=ele\n",
    "    #print('text:',text)\n",
    "    sent_tokens = nltk.sent_tokenize(text) #Convert the text into a list of sentences\n",
    "\n",
    "#Print the list of sentences\n",
    "    #print(sent_tokens)\n",
    "    \n",
    "    return sent_tokens"
   ]
  },
  {
   "cell_type": "code",
   "execution_count": 9,
   "metadata": {},
   "outputs": [
    {
     "name": "stdout",
     "output_type": "stream",
     "text": [
      "!\"#$%&'()*+,-./:;<=>?@[\\]^_`{|}~\n",
      "{33: None, 34: None, 35: None, 36: None, 37: None, 38: None, 39: None, 40: None, 41: None, 42: None, 43: None, 44: None, 45: None, 46: None, 47: None, 58: None, 59: None, 60: None, 61: None, 62: None, 63: None, 64: None, 91: None, 92: None, 93: None, 94: None, 95: None, 96: None, 123: None, 124: None, 125: None, 126: None}\n"
     ]
    }
   ],
   "source": [
    "#Tokenization\n",
    "\n",
    "#Create a dictionary (key:value) pair to remove punctuations\n",
    "remove_punct_dict = dict(  ( ord(punct),None) for punct in string.punctuation)\n",
    "\n",
    "#Print the punctuations\n",
    "print(string.punctuation)\n",
    "\n",
    "#Print the dictionary\n",
    "print(remove_punct_dict)"
   ]
  },
  {
   "cell_type": "code",
   "execution_count": 10,
   "metadata": {},
   "outputs": [
    {
     "ename": "NameError",
     "evalue": "name 'corpus' is not defined",
     "output_type": "error",
     "traceback": [
      "\u001b[1;31m---------------------------------------------------------------------------\u001b[0m",
      "\u001b[1;31mNameError\u001b[0m                                 Traceback (most recent call last)",
      "\u001b[1;32m<ipython-input-10-bc3baef1b044>\u001b[0m in \u001b[0;36m<module>\u001b[1;34m\u001b[0m\n\u001b[0;32m      3\u001b[0m \u001b[1;33m\u001b[0m\u001b[0m\n\u001b[0;32m      4\u001b[0m \u001b[1;31m#Print the tokenization text\u001b[0m\u001b[1;33m\u001b[0m\u001b[1;33m\u001b[0m\u001b[1;33m\u001b[0m\u001b[0m\n\u001b[1;32m----> 5\u001b[1;33m \u001b[0mprint\u001b[0m\u001b[1;33m(\u001b[0m\u001b[0mLemNormalize\u001b[0m\u001b[1;33m(\u001b[0m\u001b[0mcorpus\u001b[0m\u001b[1;33m)\u001b[0m\u001b[1;33m)\u001b[0m\u001b[1;33m\u001b[0m\u001b[1;33m\u001b[0m\u001b[0m\n\u001b[0m",
      "\u001b[1;31mNameError\u001b[0m: name 'corpus' is not defined"
     ]
    }
   ],
   "source": [
    "def LemNormalize(corpus):\n",
    "  return nltk.word_tokenize(corpus.lower().translate(remove_punct_dict))\n",
    "\n",
    "#Print the tokenization text\n",
    "print(LemNormalize(corpus))"
   ]
  },
  {
   "cell_type": "code",
   "execution_count": 11,
   "metadata": {},
   "outputs": [],
   "source": [
    "#Keyword Matching\n",
    "\n",
    "#Greeting Inputs\n",
    "GREETING_INPUTS = [\"hi\", \"hello\", \"hola\", \"greetings\", \"wassup\", \"hey\"]\n",
    "\n",
    "#Greeting responses back to the user\n",
    "GREETING_RESPONSES=[\"howdy\", \"hi\", \"hey\", \"what's good\", \"hello\", \"hey there\"]\n",
    "\n",
    "#Function to return a random greeting response to a users greeting\n",
    "def greeting(sentence):\n",
    "  #if the user's input is a greeting, then return a randomly chosen greeting response\n",
    "  for word in sentence.split():\n",
    "    if word.lower() in GREETING_INPUTS:\n",
    "        return random.choice(GREETING_RESPONSES)"
   ]
  },
  {
   "cell_type": "code",
   "execution_count": 12,
   "metadata": {},
   "outputs": [],
   "source": [
    "def response(user_response):\n",
    "  \n",
    "\n",
    "  #The users response / query\n",
    "                \n",
    "  user_response = user_response.lower() #Make the response lower case\n",
    "\n",
    "  ###Print the users query/ response\n",
    "  #print(user_response)\n",
    "\n",
    "  #Set the chatbot response to an empty string\n",
    "  robo_response = ''\n",
    "  sent_tokens = get_pdf_data(user_response)\n",
    "\n",
    "  #Append the users response to the sentence list\n",
    "  sent_tokens.append(user_response)\n",
    "\n",
    "  ###Print the sentence list after appending the users response\n",
    "  #print(sent_tokens)\n",
    "\n",
    "  #Create a TfidfVectorizer Object\n",
    "  TfidfVec = TfidfVectorizer(tokenizer = LemNormalize, stop_words='english')\n",
    "\n",
    "  #Convert the text to a matrix of TF-IDF features\n",
    "  tfidf = TfidfVec.fit_transform(sent_tokens)\n",
    "\n",
    "  ###Print the TFIDF features\n",
    "  #print(tfidf)\n",
    "  #Get the measure of similarity (similarity scores)\n",
    "  vals = cosine_similarity(tfidf[-1], tfidf)\n",
    "\n",
    "  #Print the similarity scores\n",
    "  #print(vals)\n",
    "\n",
    "  #Get the index of the most similar text/sentence to the users response\n",
    "  try:\n",
    "        idx = vals.argsort()[0][-2]\n",
    "  except IndexError :\n",
    "        robo_response = robo_response+\"I apologize, I don't understand.\"\n",
    "        return robo_response\n",
    "\n",
    "  #Reduce the dimensionality of vals\n",
    "  flat = vals.flatten()\n",
    "\n",
    "  #sort the list in ascending order\n",
    "  flat.sort()\n",
    "\n",
    "  #Get the most similar score to the users response\n",
    "  score = flat[-2]\n",
    "\n",
    "  #Print the similarity score\n",
    "  #print(score)\n",
    "\n",
    "  #If the variable 'score' is 0 then their is no text similar to the users response\n",
    "  if(score == 0):\n",
    "    robo_response = robo_response+\"I apologize, I don't understand.\"\n",
    "  else:\n",
    "    robo_response = robo_response+sent_tokens[idx]\n",
    "  \n",
    "  #Print the chat bot response\n",
    "  #print(robo_response)\n",
    "  \n",
    "  #Remove the users response from the sentence tokens list\n",
    "  sent_tokens.remove(user_response)\n",
    "  \n",
    "  return robo_response\n"
   ]
  },
  {
   "cell_type": "code",
   "execution_count": 13,
   "metadata": {},
   "outputs": [
    {
     "name": "stdout",
     "output_type": "stream",
     "text": [
      "SenseGrass: Hi! I will answer your queries.Please Ask. If you want to exit, type Bye!\n",
      "Hi\n",
      "SenseGrass: howdy\n",
      "what are the Ions that contribute to soil salinity ?\n",
      "SenseGrass: Ions that contribute to soil salinity include Cl-, SO,?-, HCO,-, Nat, Ca2+, Mg?t,\n",
      "and, rarely, NO; or Kt.\n",
      "what are nutritional effects of salinity ?\n",
      "SenseGrass: Nutritional Effects\n",
      "\n",
      "SALINITY ANDCATIONNUTRITION The major nutritional effects of salinity are\n",
      "those associated with cation nutrition.\n",
      "thanks\n",
      "SenseGrass: You are welcome !\n"
     ]
    }
   ],
   "source": [
    "flag = True\n",
    "print(\"SenseGrass: Hi! I will answer your queries.Please Ask. If you want to exit, type Bye!\")\n",
    "while(flag == True):\n",
    "  user_response = input()\n",
    "  user_response = user_response.lower()\n",
    "  if(user_response != 'bye'):\n",
    "    if(user_response == 'thanks' or user_response =='thank you'):\n",
    "      flag=False\n",
    "      print(\"SenseGrass: You are welcome !\")\n",
    "    else:\n",
    "      if(greeting(user_response) != None):\n",
    "        print(\"SenseGrass: \"+greeting(user_response))\n",
    "      else:\n",
    "        print(\"SenseGrass: \"+response(user_response))       \n",
    "  else:\n",
    "    flag = False\n",
    "    print(\"SenseGrass: Chat with you later !\")"
   ]
  },
  {
   "cell_type": "code",
   "execution_count": null,
   "metadata": {},
   "outputs": [],
   "source": []
  },
  {
   "cell_type": "code",
   "execution_count": null,
   "metadata": {},
   "outputs": [],
   "source": []
  },
  {
   "cell_type": "code",
   "execution_count": null,
   "metadata": {},
   "outputs": [],
   "source": []
  },
  {
   "cell_type": "code",
   "execution_count": null,
   "metadata": {},
   "outputs": [],
   "source": []
  }
 ],
 "metadata": {
  "kernelspec": {
   "display_name": "Python 3",
   "language": "python",
   "name": "python3"
  },
  "language_info": {
   "codemirror_mode": {
    "name": "ipython",
    "version": 3
   },
   "file_extension": ".py",
   "mimetype": "text/x-python",
   "name": "python",
   "nbconvert_exporter": "python",
   "pygments_lexer": "ipython3",
   "version": "3.7.4"
  }
 },
 "nbformat": 4,
 "nbformat_minor": 2
}
